{
 "cells": [
  {
   "cell_type": "markdown",
   "metadata": {},
   "source": [
    "### Check Questions (0.5 балла)\n",
    "Вопрос 1: Объясните, чем отличается k-nearrest Neighbours от k-weighted nearest neighbours."
   ]
  },
  {
   "cell_type": "markdown",
   "metadata": {},
   "source": [
    "Вопрос 2: Как изменяется абсолютное расстояние между объектами выборки при изменении метрики минковского с $p=1$ до  $p=\\infty$?"
   ]
  },
  {
   "cell_type": "markdown",
   "metadata": {},
   "source": [
    "Вопрос 3: Поясните, в чем суть проклятия размерности?"
   ]
  },
  {
   "cell_type": "markdown",
   "metadata": {},
   "source": [
    "Вопрос 4: Что такое метрический отступ?"
   ]
  },
  {
   "cell_type": "markdown",
   "metadata": {},
   "source": [
    "Вопрос 5: На какие типы можно разделить объекты обучающей выборки с точки значения значения метрического отступа? Какие объекты стоит исключить из выборки?"
   ]
  },
  {
   "cell_type": "markdown",
   "metadata": {},
   "source": [
    "##### Вопрос 6: Что такое функционал эмпирического риска? Приведите примеры."
   ]
  },
  {
   "cell_type": "markdown",
   "metadata": {},
   "source": [
    "Ответ: Для того чтобы определить, насколько хорошо работает наш алгоритм, введём понятие $L(a, x) - $ функция потерь (насколько алгоритм $a$ ошибается на $x \\in X$).\n",
    "\n",
    "Она может быть разной в зависимости от задачи:\n",
    "\n",
    "$L(a, x) = I(x) $ - индикаторная функция, подходит для задач классификации.\n",
    "\n",
    "$L(a, x) = |a(x) - y(x)| $ - показывает, на сколько ответ алгоритма отличается от настоящего. Для задачи регрессии.\n",
    "\n",
    "А теперь усредним потери, получится эмпирическая функция риска:\n",
    "\n",
    "$Q(a, X^{l}) = \\frac{1}{l}\\sum\\limits_{i=1}^l L(a, x_{i})$ - таким образом, этот функционал показывает, насколько хорошо работает алгоритм на всей обучающей выборке. Нужно подобрать такой алгоритм $a$, чтобы значение функционала было как можно меньше \n"
   ]
  },
  {
   "cell_type": "markdown",
   "metadata": {},
   "source": [
    "Вопрос 7: В чём суть явления переобучения?"
   ]
  },
  {
   "cell_type": "markdown",
   "metadata": {},
   "source": [
    "Вопрос 8: Напишите формулу для complete cross-validation."
   ]
  },
  {
   "cell_type": "code",
   "execution_count": null,
   "metadata": {
    "collapsed": true
   },
   "outputs": [],
   "source": []
  }
 ],
 "metadata": {
  "kernelspec": {
   "display_name": "Python 3",
   "language": "python",
   "name": "python3"
  },
  "language_info": {
   "codemirror_mode": {
    "name": "ipython",
    "version": 3
   },
   "file_extension": ".py",
   "mimetype": "text/x-python",
   "name": "python",
   "nbconvert_exporter": "python",
   "pygments_lexer": "ipython3",
   "version": "3.5.1"
  }
 },
 "nbformat": 4,
 "nbformat_minor": 0
}
