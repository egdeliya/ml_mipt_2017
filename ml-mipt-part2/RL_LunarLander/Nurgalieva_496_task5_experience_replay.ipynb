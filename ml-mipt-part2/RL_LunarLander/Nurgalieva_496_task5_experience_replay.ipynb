{
 "cells": [
  {
   "cell_type": "markdown",
   "metadata": {},
   "source": [
    "# Simple q-learning agent with experience replay\n",
    "\n",
    "We re-write q-learning algorithm using _agentnet_ - a helper for lasagne that implements some RL techniques."
   ]
  },
  {
   "cell_type": "code",
   "execution_count": 1,
   "metadata": {
    "collapsed": false
   },
   "outputs": [
    {
     "name": "stdout",
     "output_type": "stream",
     "text": [
      "Collecting https://github.com/yandexdataschool/AgentNet/archive/master.zip\n",
      "  Downloading https://github.com/yandexdataschool/AgentNet/archive/master.zip\n",
      "\u001b[K     - 11.7MB 73.4MB/s\n",
      "Requirement already up-to-date: six in ./anaconda3/envs/py34/lib/python3.4/site-packages (from agentnet==0.10.6)\n",
      "Requirement already up-to-date: lasagne in ./AgentNet/src/lasagne (from agentnet==0.10.6)\n",
      "Requirement already up-to-date: theano>=0.8.2 in ./anaconda3/envs/py34/lib/python3.4/site-packages (from agentnet==0.10.6)\n",
      "Requirement already up-to-date: numpy>=1.9 in ./anaconda3/envs/py34/lib/python3.4/site-packages (from agentnet==0.10.6)\n",
      "Requirement already up-to-date: scipy>=0.14 in ./anaconda3/envs/py34/lib/python3.4/site-packages (from theano>=0.8.2->agentnet==0.10.6)\n",
      "Installing collected packages: agentnet\n",
      "  Found existing installation: agentnet 0.10.6\n",
      "    Uninstalling agentnet-0.10.6:\n",
      "      Successfully uninstalled agentnet-0.10.6\n",
      "  Running setup.py install for agentnet ... \u001b[?25l-\b \b\\\b \b|\b \bdone\n",
      "\u001b[?25hSuccessfully installed agentnet-0.10.6\n"
     ]
    }
   ],
   "source": [
    "! pip install --upgrade https://github.com/yandexdataschool/AgentNet/archive/master.zip"
   ]
  },
  {
   "cell_type": "code",
   "execution_count": 20,
   "metadata": {
    "collapsed": false
   },
   "outputs": [
    {
     "name": "stdout",
     "output_type": "stream",
     "text": [
      "env: THEANO_FLAGS='floatX=float32'\n"
     ]
    }
   ],
   "source": [
    "import matplotlib.pyplot as plt\n",
    "%matplotlib inline\n",
    "import numpy as np\n",
    "%env THEANO_FLAGS='floatX=float32'\n",
    "\n",
    "#XVFB will be launched if you run on a server\n",
    "import os\n",
    "if type(os.environ.get(\"DISPLAY\")) is not str or len(os.environ.get(\"DISPLAY\"))==0:\n",
    "    !bash ../xvfb start\n",
    "    %env DISPLAY=:1"
   ]
  },
  {
   "cell_type": "markdown",
   "metadata": {},
   "source": [
    "### Experiment setup\n",
    "* Here we simply load the game and check that it works"
   ]
  },
  {
   "cell_type": "code",
   "execution_count": 21,
   "metadata": {
    "collapsed": false
   },
   "outputs": [],
   "source": [
    "import gym\n",
    "make_env = lambda: gym.make(\"LunarLander-v2\")\n",
    "\n",
    "env = gym.make(\"LunarLander-v2\")\n",
    "env.reset()\n",
    "\n",
    "state_shape = env.observation_space.shape\n",
    "n_actions = env.action_space.n"
   ]
  },
  {
   "cell_type": "code",
   "execution_count": 22,
   "metadata": {
    "collapsed": false
   },
   "outputs": [
    {
     "name": "stdout",
     "output_type": "stream",
     "text": [
      "(8,)\n"
     ]
    }
   ],
   "source": [
    "print(state_shape)"
   ]
  },
  {
   "cell_type": "code",
   "execution_count": 23,
   "metadata": {
    "collapsed": false
   },
   "outputs": [],
   "source": [
    "# plt.imshow(env.render(\"rgb_array\"))\n",
    "# del env"
   ]
  },
  {
   "cell_type": "markdown",
   "metadata": {},
   "source": [
    "# Neural Network body"
   ]
  },
  {
   "cell_type": "code",
   "execution_count": 25,
   "metadata": {
    "collapsed": false
   },
   "outputs": [],
   "source": [
    "import lasagne\n",
    "from lasagne.layers import *\n",
    "from lasagne.nonlinearities import *\n",
    "# from lasagne.nonlinearities import relu\n",
    "\n",
    "\n",
    "#image observation at current tick goes here, shape = (sample_i,x,y,color)\n",
    "# inp_layer = InputLayer((None, 3, 8, 8))\n",
    "observation_layer = InputLayer((None, ) + state_shape)\n",
    "\n",
    "net = DenseLayer(observation_layer, 200, nonlinearity=elu)\n",
    "net = DenseLayer(net, 200, nonlinearity=elu)\n",
    "# nn = DenseLayer(nn, 200)\n",
    "\n",
    "#a layer that predicts Qvalues\n",
    "qvalues_layer = DenseLayer(net, num_units=n_actions,\n",
    "                           nonlinearity=None,name=\"q-values\")"
   ]
  },
  {
   "cell_type": "markdown",
   "metadata": {},
   "source": [
    "Picking actions is done by yet another layer, that implements $ \\epsilon$ -greedy policy"
   ]
  },
  {
   "cell_type": "code",
   "execution_count": 26,
   "metadata": {
    "collapsed": false
   },
   "outputs": [],
   "source": [
    "from agentnet.resolver import EpsilonGreedyResolver"
   ]
  },
  {
   "cell_type": "code",
   "execution_count": 27,
   "metadata": {
    "collapsed": false
   },
   "outputs": [],
   "source": [
    "action_layer = EpsilonGreedyResolver(qvalues_layer)\n",
    "\n",
    "#set starting epsilon\n",
    "action_layer.epsilon.set_value(np.float32(0.05))"
   ]
  },
  {
   "cell_type": "markdown",
   "metadata": {},
   "source": [
    "### Agent\n",
    "\n",
    "We define an agent entirely composed of a lasagne network:\n",
    "* Observations as InputLayer(s)\n",
    "* Actions as intermediate Layer(s)\n",
    "* `policy_estimators` is \"whatever else you want to keep track of\"\n",
    "\n",
    "Each parameter can be either one layer or a list of layers"
   ]
  },
  {
   "cell_type": "code",
   "execution_count": 28,
   "metadata": {
    "collapsed": false
   },
   "outputs": [],
   "source": [
    "from agentnet.agent import Agent\n",
    "agent = Agent(observation_layers=observation_layer,\n",
    "              action_layers=action_layer,\n",
    "              policy_estimators=qvalues_layer,)"
   ]
  },
  {
   "cell_type": "code",
   "execution_count": 29,
   "metadata": {
    "collapsed": false
   },
   "outputs": [
    {
     "data": {
      "text/plain": [
       "[W, b, W, b, q-values.W, q-values.b]"
      ]
     },
     "execution_count": 29,
     "metadata": {},
     "output_type": "execute_result"
    }
   ],
   "source": [
    "#Since it's a single lasagne network, one can get it's weights, output, etc\n",
    "weights = lasagne.layers.get_all_params(action_layer,trainable=True)\n",
    "weights"
   ]
  },
  {
   "cell_type": "markdown",
   "metadata": {},
   "source": [
    "# Create and manage a pool of atari sessions to play with\n",
    "\n",
    "* To make training more stable, we shall have an entire batch of game sessions each happening independent of others\n",
    "* Why several parallel agents help training: http://arxiv.org/pdf/1602.01783v1.pdf\n",
    "* Alternative approach: store more sessions: https://www.cs.toronto.edu/~vmnih/docs/dqn.pdf"
   ]
  },
  {
   "cell_type": "code",
   "execution_count": 30,
   "metadata": {
    "collapsed": false
   },
   "outputs": [],
   "source": [
    "from agentnet.experiments.openai_gym.pool import EnvPool\n",
    "pool = EnvPool(agent,make_env,n_games=1,max_size=10000)"
   ]
  },
  {
   "cell_type": "code",
   "execution_count": 31,
   "metadata": {
    "collapsed": false
   },
   "outputs": [
    {
     "name": "stdout",
     "output_type": "stream",
     "text": [
      "actions: [[3 3 3 3 3]]\n",
      "rewards: [[ 0.37330229  0.70081269  0.80600002  0.5066763   0.        ]]\n",
      "CPU times: user 28 ms, sys: 0 ns, total: 28 ms\n",
      "Wall time: 9.39 ms\n"
     ]
    }
   ],
   "source": [
    "%%time\n",
    "#interact for 7 ticks\n",
    "obs_log,action_log,reward_log,_,_,_  = pool.interact(5)\n",
    "\n",
    "\n",
    "print('actions:',action_log)\n",
    "print('rewards:',reward_log)"
   ]
  },
  {
   "cell_type": "code",
   "execution_count": 32,
   "metadata": {
    "collapsed": true
   },
   "outputs": [],
   "source": [
    "#we'll train on rollouts of 10 steps (required by n-step algorithms and rnns later)\n",
    "SEQ_LENGTH=10\n",
    "\n",
    "#load first sessions (this function calls interact and stores sessions in the pool)\n",
    "\n",
    "for _ in range(100):\n",
    "    pool.update(SEQ_LENGTH)"
   ]
  },
  {
   "cell_type": "markdown",
   "metadata": {},
   "source": [
    "# q-learning\n",
    "\n",
    "We shall now define a function that replays recent game sessions and updates network weights"
   ]
  },
  {
   "cell_type": "code",
   "execution_count": 39,
   "metadata": {
    "collapsed": true
   },
   "outputs": [],
   "source": [
    "#get agent's Qvalues obtained via experience replay\n",
    "replay = pool.experience_replay.sample_session_batch(100)\n",
    "qvalues_seq = agent.get_sessions(\n",
    "    replay,\n",
    "    session_length=SEQ_LENGTH,\n",
    "    experience_replay=True,\n",
    ")[-1]\n",
    "\n"
   ]
  },
  {
   "cell_type": "code",
   "execution_count": 40,
   "metadata": {
    "collapsed": true
   },
   "outputs": [],
   "source": [
    "from lasagne.regularization import regularize_network_params, l2\n",
    "l2_penalty = regularize_network_params(qvalues_layer, l2)"
   ]
  },
  {
   "cell_type": "code",
   "execution_count": 74,
   "metadata": {
    "collapsed": true
   },
   "outputs": [],
   "source": [
    "#loss for Qlearning = (Q(s,a) - (r+gamma*Q(s',a_max)))^2, like you implemented before in lasagne.\n",
    "\n",
    "from agentnet.learning import qlearning\n",
    "elwise_mse_loss = qlearning.get_elementwise_objective(qvalues_seq,\n",
    "                                                      replay.actions[0],\n",
    "                                                      replay.rewards,\n",
    "                                                      replay.is_alive,\n",
    "                                                      gamma_or_gammas=0.99,\n",
    "                                                      n_steps=1,)\n",
    "\n",
    "#compute mean loss over \"alive\" fragments\n",
    "loss = elwise_mse_loss.sum() / replay.is_alive.sum() + 0.2 * l2_penalty"
   ]
  },
  {
   "cell_type": "code",
   "execution_count": 75,
   "metadata": {
    "collapsed": false
   },
   "outputs": [],
   "source": [
    "#get weight updates\n",
    "updates = lasagne.updates.adam(loss,weights,learning_rate=1e-4)\n",
    "\n",
    "#compile train function\n",
    "import theano\n",
    "train_step = theano.function([],loss,updates=updates)"
   ]
  },
  {
   "cell_type": "markdown",
   "metadata": {},
   "source": [
    "# Training loop"
   ]
  },
  {
   "cell_type": "code",
   "execution_count": 76,
   "metadata": {
    "collapsed": true
   },
   "outputs": [],
   "source": [
    "epoch_counter = 1 #starting epoch\n",
    "rewards = {} #full game rewards\n",
    "target_score = 0"
   ]
  },
  {
   "cell_type": "code",
   "execution_count": 77,
   "metadata": {
    "collapsed": false,
    "scrolled": false
   },
   "outputs": [
    {
     "name": "stderr",
     "output_type": "stream",
     "text": [
      "  1%|          | 100/10000 [00:12<19:55,  8.28it/s]"
     ]
    },
    {
     "name": "stdout",
     "output_type": "stream",
     "text": [
      "Episode finished after 84 timesteps with reward=-132.38785627380872\n",
      "Episode finished after 73 timesteps with reward=-169.91303183272197\n",
      "Episode finished after 95 timesteps with reward=-370.8285878747901\n",
      "iter=100\tepsilon=0.995\n",
      "Current score(mean over 3) = -224.376\n"
     ]
    },
    {
     "name": "stderr",
     "output_type": "stream",
     "text": [
      "  2%|▏         | 200/10000 [00:22<18:29,  8.83it/s]"
     ]
    },
    {
     "name": "stdout",
     "output_type": "stream",
     "text": [
      "Episode finished after 133 timesteps with reward=-514.1016374544689\n",
      "Episode finished after 76 timesteps with reward=-280.3729726319405\n",
      "Episode finished after 73 timesteps with reward=-137.11482781921444\n",
      "iter=200\tepsilon=0.990\n",
      "Current score(mean over 3) = -310.530\n"
     ]
    },
    {
     "name": "stderr",
     "output_type": "stream",
     "text": [
      "  3%|▎         | 300/10000 [00:33<17:59,  8.98it/s]"
     ]
    },
    {
     "name": "stdout",
     "output_type": "stream",
     "text": [
      "Episode finished after 76 timesteps with reward=-131.61429869719845\n",
      "Episode finished after 78 timesteps with reward=-133.06684597464695\n",
      "Episode finished after 65 timesteps with reward=-128.0439063003337\n",
      "iter=300\tepsilon=0.986\n",
      "Current score(mean over 3) = -130.908\n"
     ]
    },
    {
     "name": "stderr",
     "output_type": "stream",
     "text": [
      "  4%|▍         | 400/10000 [00:45<18:13,  8.78it/s]"
     ]
    },
    {
     "name": "stdout",
     "output_type": "stream",
     "text": [
      "Episode finished after 87 timesteps with reward=-427.3369777821142\n",
      "Episode finished after 67 timesteps with reward=-119.51058996305179\n",
      "Episode finished after 71 timesteps with reward=-144.69449455767966\n",
      "iter=400\tepsilon=0.981\n",
      "Current score(mean over 3) = -230.514\n"
     ]
    },
    {
     "name": "stderr",
     "output_type": "stream",
     "text": [
      "  5%|▌         | 500/10000 [00:56<17:54,  8.85it/s]"
     ]
    },
    {
     "name": "stdout",
     "output_type": "stream",
     "text": [
      "Episode finished after 95 timesteps with reward=-204.77381604417823\n",
      "Episode finished after 64 timesteps with reward=-183.42444736988622\n",
      "Episode finished after 118 timesteps with reward=-144.06133659370644\n",
      "iter=500\tepsilon=0.976\n",
      "Current score(mean over 3) = -177.420\n"
     ]
    },
    {
     "name": "stderr",
     "output_type": "stream",
     "text": [
      "  6%|▌         | 599/10000 [01:07<17:32,  8.93it/s]"
     ]
    },
    {
     "name": "stdout",
     "output_type": "stream",
     "text": [
      "Episode finished after 78 timesteps with reward=-128.51097545940192\n",
      "Episode finished after 121 timesteps with reward=-234.5135758757648\n",
      "Episode finished after 128 timesteps with reward=-55.691605691393995\n",
      "iter=600\tepsilon=0.972\n",
      "Current score(mean over 3) = -139.572\n"
     ]
    },
    {
     "name": "stderr",
     "output_type": "stream",
     "text": [
      "  7%|▋         | 700/10000 [01:18<17:16,  8.97it/s]"
     ]
    },
    {
     "name": "stdout",
     "output_type": "stream",
     "text": [
      "Episode finished after 71 timesteps with reward=-179.8922471655298\n",
      "Episode finished after 104 timesteps with reward=-341.4816993956381\n",
      "Episode finished after 83 timesteps with reward=-197.31482253973388\n",
      "iter=700\tepsilon=0.967\n",
      "Current score(mean over 3) = -239.563\n"
     ]
    },
    {
     "name": "stderr",
     "output_type": "stream",
     "text": [
      "  8%|▊         | 800/10000 [01:29<17:04,  8.98it/s]"
     ]
    },
    {
     "name": "stdout",
     "output_type": "stream",
     "text": [
      "Episode finished after 93 timesteps with reward=-156.59985112238178\n",
      "Episode finished after 112 timesteps with reward=-171.25974348541743\n",
      "Episode finished after 103 timesteps with reward=-457.12020079844405\n",
      "iter=800\tepsilon=0.962\n",
      "Current score(mean over 3) = -261.660\n"
     ]
    },
    {
     "name": "stderr",
     "output_type": "stream",
     "text": [
      "  9%|▉         | 899/10000 [01:39<16:49,  9.01it/s]"
     ]
    },
    {
     "name": "stdout",
     "output_type": "stream",
     "text": [
      "Episode finished after 67 timesteps with reward=-106.60062648397178\n",
      "Episode finished after 127 timesteps with reward=-231.4524888704306\n"
     ]
    },
    {
     "name": "stderr",
     "output_type": "stream",
     "text": [
      "  9%|▉         | 901/10000 [01:40<16:52,  8.99it/s]"
     ]
    },
    {
     "name": "stdout",
     "output_type": "stream",
     "text": [
      "Episode finished after 137 timesteps with reward=-159.17978061983\n",
      "iter=900\tepsilon=0.958\n",
      "Current score(mean over 3) = -165.744\n"
     ]
    },
    {
     "name": "stderr",
     "output_type": "stream",
     "text": [
      " 10%|█         | 1000/10000 [01:50<16:36,  9.03it/s]"
     ]
    },
    {
     "name": "stdout",
     "output_type": "stream",
     "text": [
      "Episode finished after 105 timesteps with reward=-147.32855694868113\n",
      "Episode finished after 78 timesteps with reward=-291.77402884559655\n",
      "Episode finished after 72 timesteps with reward=-125.39061724266853\n",
      "iter=1000\tepsilon=0.953\n",
      "Current score(mean over 3) = -188.164\n"
     ]
    },
    {
     "name": "stderr",
     "output_type": "stream",
     "text": [
      " 11%|█         | 1100/10000 [02:01<16:22,  9.06it/s]"
     ]
    },
    {
     "name": "stdout",
     "output_type": "stream",
     "text": [
      "Episode finished after 64 timesteps with reward=-139.34644404105933\n",
      "Episode finished after 101 timesteps with reward=-145.83751229803443\n",
      "Episode finished after 114 timesteps with reward=-323.29092976326206\n",
      "iter=1100\tepsilon=0.949\n",
      "Current score(mean over 3) = -202.825\n"
     ]
    },
    {
     "name": "stderr",
     "output_type": "stream",
     "text": [
      " 12%|█▏        | 1200/10000 [02:12<16:09,  9.07it/s]"
     ]
    },
    {
     "name": "stdout",
     "output_type": "stream",
     "text": [
      "Episode finished after 130 timesteps with reward=-261.8722471436246\n",
      "Episode finished after 128 timesteps with reward=-381.59797255534806\n",
      "Episode finished after 119 timesteps with reward=-136.73529095347828\n",
      "iter=1200\tepsilon=0.944\n",
      "Current score(mean over 3) = -260.069\n"
     ]
    },
    {
     "name": "stderr",
     "output_type": "stream",
     "text": [
      " 13%|█▎        | 1300/10000 [02:23<15:57,  9.09it/s]"
     ]
    },
    {
     "name": "stdout",
     "output_type": "stream",
     "text": [
      "Episode finished after 82 timesteps with reward=-136.43880733285576\n",
      "Episode finished after 95 timesteps with reward=-140.53034537081768\n",
      "Episode finished after 121 timesteps with reward=-357.119218407166\n",
      "iter=1300\tepsilon=0.940\n",
      "Current score(mean over 3) = -211.363\n"
     ]
    },
    {
     "name": "stderr",
     "output_type": "stream",
     "text": [
      " 14%|█▍        | 1400/10000 [02:33<15:45,  9.10it/s]"
     ]
    },
    {
     "name": "stdout",
     "output_type": "stream",
     "text": [
      "Episode finished after 79 timesteps with reward=-187.84312114460798\n",
      "Episode finished after 77 timesteps with reward=-150.10672557972507\n",
      "Episode finished after 109 timesteps with reward=-301.81964286102095\n",
      "iter=1400\tepsilon=0.935\n",
      "Current score(mean over 3) = -213.256\n"
     ]
    },
    {
     "name": "stderr",
     "output_type": "stream",
     "text": [
      " 15%|█▌        | 1500/10000 [02:44<15:33,  9.11it/s]"
     ]
    },
    {
     "name": "stdout",
     "output_type": "stream",
     "text": [
      "Episode finished after 76 timesteps with reward=-375.8945589560726\n",
      "Episode finished after 67 timesteps with reward=-109.28124811741348\n",
      "Episode finished after 93 timesteps with reward=-309.66665261293304\n",
      "iter=1500\tepsilon=0.931\n",
      "Current score(mean over 3) = -264.947\n"
     ]
    },
    {
     "name": "stderr",
     "output_type": "stream",
     "text": [
      " 16%|█▌        | 1600/10000 [02:55<15:22,  9.11it/s]"
     ]
    },
    {
     "name": "stdout",
     "output_type": "stream",
     "text": [
      "Episode finished after 94 timesteps with reward=-262.9064098024853\n",
      "Episode finished after 98 timesteps with reward=-303.1032853994915\n",
      "Episode finished after 60 timesteps with reward=-99.60629124076021\n",
      "iter=1600\tepsilon=0.926\n",
      "Current score(mean over 3) = -221.872\n"
     ]
    },
    {
     "name": "stderr",
     "output_type": "stream",
     "text": [
      " 17%|█▋        | 1700/10000 [03:06<15:11,  9.11it/s]"
     ]
    },
    {
     "name": "stdout",
     "output_type": "stream",
     "text": [
      "Episode finished after 113 timesteps with reward=-192.79398118308248\n",
      "Episode finished after 80 timesteps with reward=-304.99039879361624\n",
      "Episode finished after 80 timesteps with reward=-141.62801184299957\n",
      "iter=1700\tepsilon=0.922\n",
      "Current score(mean over 3) = -213.137\n"
     ]
    },
    {
     "name": "stderr",
     "output_type": "stream",
     "text": [
      " 18%|█▊        | 1799/10000 [03:18<15:04,  9.06it/s]"
     ]
    },
    {
     "name": "stdout",
     "output_type": "stream",
     "text": [
      "Episode finished after 101 timesteps with reward=-204.3674160799792\n",
      "Episode finished after 126 timesteps with reward=-380.64531168045335\n",
      "Episode finished after 132 timesteps with reward=-323.2011959206933\n"
     ]
    },
    {
     "name": "stderr",
     "output_type": "stream",
     "text": [
      " 18%|█▊        | 1801/10000 [03:18<15:05,  9.05it/s]"
     ]
    },
    {
     "name": "stdout",
     "output_type": "stream",
     "text": [
      "iter=1800\tepsilon=0.917\n",
      "Current score(mean over 3) = -302.738\n"
     ]
    },
    {
     "name": "stderr",
     "output_type": "stream",
     "text": [
      " 19%|█▉        | 1900/10000 [03:29<14:53,  9.06it/s]"
     ]
    },
    {
     "name": "stdout",
     "output_type": "stream",
     "text": [
      "Episode finished after 110 timesteps with reward=-236.10507899562757\n",
      "Episode finished after 83 timesteps with reward=-345.4823505090752\n",
      "Episode finished after 110 timesteps with reward=-160.214189940164\n",
      "iter=1900\tepsilon=0.913\n",
      "Current score(mean over 3) = -247.267\n"
     ]
    },
    {
     "name": "stderr",
     "output_type": "stream",
     "text": [
      " 20%|██        | 2000/10000 [03:40<14:41,  9.07it/s]"
     ]
    },
    {
     "name": "stdout",
     "output_type": "stream",
     "text": [
      "Episode finished after 67 timesteps with reward=-123.92074241196528\n",
      "Episode finished after 63 timesteps with reward=-93.83297601396183\n",
      "Episode finished after 87 timesteps with reward=-232.19756064450067\n",
      "iter=2000\tepsilon=0.909\n",
      "Current score(mean over 3) = -149.984\n"
     ]
    },
    {
     "name": "stderr",
     "output_type": "stream",
     "text": [
      " 21%|██        | 2100/10000 [03:52<14:35,  9.02it/s]"
     ]
    },
    {
     "name": "stdout",
     "output_type": "stream",
     "text": [
      "Episode finished after 109 timesteps with reward=-283.20031318024394\n",
      "Episode finished after 103 timesteps with reward=-125.61873043674122\n",
      "Episode finished after 105 timesteps with reward=-243.3223503892229\n",
      "iter=2100\tepsilon=0.904\n",
      "Current score(mean over 3) = -217.380\n"
     ]
    },
    {
     "name": "stderr",
     "output_type": "stream",
     "text": [
      " 22%|██▏       | 2200/10000 [04:03<14:24,  9.03it/s]"
     ]
    },
    {
     "name": "stdout",
     "output_type": "stream",
     "text": [
      "Episode finished after 81 timesteps with reward=-173.82632615912837\n",
      "Episode finished after 67 timesteps with reward=-91.48096461431564\n",
      "Episode finished after 112 timesteps with reward=-123.9993093862093\n",
      "iter=2200\tepsilon=0.900\n",
      "Current score(mean over 3) = -129.769\n"
     ]
    },
    {
     "name": "stderr",
     "output_type": "stream",
     "text": [
      " 23%|██▎       | 2300/10000 [04:16<14:19,  8.96it/s]"
     ]
    },
    {
     "name": "stdout",
     "output_type": "stream",
     "text": [
      "Episode finished after 108 timesteps with reward=-390.7900458238953\n",
      "Episode finished after 117 timesteps with reward=-302.45532178468125\n",
      "Episode finished after 70 timesteps with reward=-143.75427166009018\n",
      "iter=2300\tepsilon=0.896\n",
      "Current score(mean over 3) = -279.000\n"
     ]
    },
    {
     "name": "stderr",
     "output_type": "stream",
     "text": [
      " 24%|██▍       | 2400/10000 [04:27<14:08,  8.96it/s]"
     ]
    },
    {
     "name": "stdout",
     "output_type": "stream",
     "text": [
      "Episode finished after 69 timesteps with reward=-210.06967655232734\n",
      "Episode finished after 70 timesteps with reward=-242.1126598608518\n",
      "Episode finished after 77 timesteps with reward=-108.21537985014898\n",
      "iter=2400\tepsilon=0.891\n",
      "Current score(mean over 3) = -186.799\n"
     ]
    },
    {
     "name": "stderr",
     "output_type": "stream",
     "text": [
      " 25%|██▌       | 2500/10000 [04:38<13:56,  8.97it/s]"
     ]
    },
    {
     "name": "stdout",
     "output_type": "stream",
     "text": [
      "Episode finished after 112 timesteps with reward=-218.67914591651245\n",
      "Episode finished after 73 timesteps with reward=-171.66085158324555\n",
      "Episode finished after 109 timesteps with reward=-325.3523905035852\n",
      "iter=2500\tepsilon=0.887\n",
      "Current score(mean over 3) = -238.564\n"
     ]
    },
    {
     "name": "stderr",
     "output_type": "stream",
     "text": [
      " 26%|██▌       | 2600/10000 [04:49<13:45,  8.97it/s]"
     ]
    },
    {
     "name": "stdout",
     "output_type": "stream",
     "text": [
      "Episode finished after 108 timesteps with reward=-202.0445173597688\n",
      "Episode finished after 79 timesteps with reward=-224.18329563240644\n",
      "Episode finished after 116 timesteps with reward=-307.2909415577905\n",
      "iter=2600\tepsilon=0.883\n",
      "Current score(mean over 3) = -244.506\n"
     ]
    },
    {
     "name": "stderr",
     "output_type": "stream",
     "text": [
      " 27%|██▋       | 2700/10000 [05:00<13:33,  8.98it/s]"
     ]
    },
    {
     "name": "stdout",
     "output_type": "stream",
     "text": [
      "Episode finished after 84 timesteps with reward=-193.49590927722795\n",
      "Episode finished after 67 timesteps with reward=-103.2536901796773\n",
      "Episode finished after 76 timesteps with reward=-258.0517149524386\n",
      "iter=2700\tepsilon=0.879\n",
      "Current score(mean over 3) = -184.934\n"
     ]
    },
    {
     "name": "stderr",
     "output_type": "stream",
     "text": [
      " 28%|██▊       | 2800/10000 [05:11<13:21,  8.99it/s]"
     ]
    },
    {
     "name": "stdout",
     "output_type": "stream",
     "text": [
      "Episode finished after 105 timesteps with reward=-203.81052669941585\n",
      "Episode finished after 86 timesteps with reward=-342.89247146676604\n",
      "Episode finished after 82 timesteps with reward=-142.4565228837247\n",
      "iter=2800\tepsilon=0.875\n",
      "Current score(mean over 3) = -229.720\n"
     ]
    },
    {
     "name": "stderr",
     "output_type": "stream",
     "text": [
      " 29%|██▉       | 2900/10000 [05:22<13:09,  9.00it/s]"
     ]
    },
    {
     "name": "stdout",
     "output_type": "stream",
     "text": [
      "Episode finished after 148 timesteps with reward=-137.27730935561485\n",
      "Episode finished after 102 timesteps with reward=-233.33328638502627\n",
      "Episode finished after 114 timesteps with reward=-334.91907422322276\n",
      "iter=2900\tepsilon=0.870\n",
      "Current score(mean over 3) = -235.177\n"
     ]
    },
    {
     "name": "stderr",
     "output_type": "stream",
     "text": [
      " 30%|██▉       | 2999/10000 [05:33<12:57,  9.00it/s]"
     ]
    },
    {
     "name": "stdout",
     "output_type": "stream",
     "text": [
      "Episode finished after 133 timesteps with reward=-217.0176753096926\n",
      "Episode finished after 133 timesteps with reward=-522.4587894419508\n"
     ]
    },
    {
     "name": "stderr",
     "output_type": "stream",
     "text": [
      " 30%|███       | 3001/10000 [05:33<12:58,  8.99it/s]"
     ]
    },
    {
     "name": "stdout",
     "output_type": "stream",
     "text": [
      "Episode finished after 150 timesteps with reward=-199.81201754743117\n",
      "iter=3000\tepsilon=0.866\n",
      "Current score(mean over 3) = -313.096\n"
     ]
    },
    {
     "name": "stderr",
     "output_type": "stream",
     "text": [
      " 31%|███       | 3100/10000 [05:44<12:46,  9.00it/s]"
     ]
    },
    {
     "name": "stdout",
     "output_type": "stream",
     "text": [
      "Episode finished after 74 timesteps with reward=-160.12697696949402\n",
      "Episode finished after 101 timesteps with reward=-262.5663367953385\n",
      "Episode finished after 116 timesteps with reward=-304.7021280185179\n",
      "iter=3100\tepsilon=0.862\n",
      "Current score(mean over 3) = -242.465\n"
     ]
    },
    {
     "name": "stderr",
     "output_type": "stream",
     "text": [
      " 32%|███▏      | 3199/10000 [05:54<12:34,  9.02it/s]"
     ]
    },
    {
     "name": "stdout",
     "output_type": "stream",
     "text": [
      "Episode finished after 122 timesteps with reward=-159.7902303861862\n",
      "Episode finished after 129 timesteps with reward=-131.91086543929904\n"
     ]
    },
    {
     "name": "stderr",
     "output_type": "stream",
     "text": [
      " 32%|███▏      | 3201/10000 [05:55<12:34,  9.01it/s]"
     ]
    },
    {
     "name": "stdout",
     "output_type": "stream",
     "text": [
      "Episode finished after 127 timesteps with reward=-141.8162128937493\n",
      "iter=3200\tepsilon=0.858\n",
      "Current score(mean over 3) = -144.506\n"
     ]
    },
    {
     "name": "stderr",
     "output_type": "stream",
     "text": [
      " 33%|███▎      | 3300/10000 [06:05<12:22,  9.02it/s]"
     ]
    },
    {
     "name": "stdout",
     "output_type": "stream",
     "text": [
      "Episode finished after 79 timesteps with reward=-175.58780943527924\n",
      "Episode finished after 101 timesteps with reward=-216.8973997886443\n",
      "Episode finished after 101 timesteps with reward=-200.39218982851088\n",
      "iter=3300\tepsilon=0.854\n",
      "Current score(mean over 3) = -197.626\n"
     ]
    },
    {
     "name": "stderr",
     "output_type": "stream",
     "text": [
      " 34%|███▍      | 3400/10000 [06:16<12:11,  9.02it/s]"
     ]
    },
    {
     "name": "stdout",
     "output_type": "stream",
     "text": [
      "Episode finished after 121 timesteps with reward=-377.84229772511236\n",
      "Episode finished after 101 timesteps with reward=-244.43594697946128\n",
      "Episode finished after 114 timesteps with reward=-172.81944094505704\n",
      "iter=3400\tepsilon=0.850\n",
      "Current score(mean over 3) = -265.033\n"
     ]
    },
    {
     "name": "stderr",
     "output_type": "stream",
     "text": [
      " 35%|███▌      | 3500/10000 [06:28<12:00,  9.02it/s]"
     ]
    },
    {
     "name": "stdout",
     "output_type": "stream",
     "text": [
      "Episode finished after 189 timesteps with reward=-427.1761369109022\n",
      "Episode finished after 70 timesteps with reward=-195.22034177888688\n",
      "Episode finished after 114 timesteps with reward=-198.29017129234168\n",
      "iter=3500\tepsilon=0.846\n",
      "Current score(mean over 3) = -273.562\n"
     ]
    },
    {
     "name": "stderr",
     "output_type": "stream",
     "text": [
      " 36%|███▌      | 3599/10000 [06:38<11:49,  9.02it/s]"
     ]
    },
    {
     "name": "stdout",
     "output_type": "stream",
     "text": [
      "Episode finished after 88 timesteps with reward=-55.49248927725077\n",
      "Episode finished after 131 timesteps with reward=-343.4237442020892\n"
     ]
    },
    {
     "name": "stderr",
     "output_type": "stream",
     "text": [
      "\r",
      " 36%|███▌      | 3600/10000 [06:39<11:50,  9.01it/s]"
     ]
    },
    {
     "name": "stdout",
     "output_type": "stream",
     "text": [
      "Episode finished after 174 timesteps with reward=-288.0133371445169\n",
      "iter=3600\tepsilon=0.842\n",
      "Current score(mean over 3) = -228.977\n"
     ]
    },
    {
     "name": "stderr",
     "output_type": "stream",
     "text": [
      " 37%|███▋      | 3700/10000 [06:51<11:40,  9.00it/s]"
     ]
    },
    {
     "name": "stdout",
     "output_type": "stream",
     "text": [
      "Episode finished after 112 timesteps with reward=-235.0946356298176\n",
      "Episode finished after 86 timesteps with reward=-172.02143200465227\n",
      "Episode finished after 73 timesteps with reward=-137.94523192274553\n",
      "iter=3700\tepsilon=0.838\n",
      "Current score(mean over 3) = -181.687\n"
     ]
    },
    {
     "name": "stderr",
     "output_type": "stream",
     "text": [
      " 38%|███▊      | 3799/10000 [07:01<11:28,  9.01it/s]"
     ]
    },
    {
     "name": "stdout",
     "output_type": "stream",
     "text": [
      "Episode finished after 79 timesteps with reward=-208.1490237196531\n",
      "Episode finished after 174 timesteps with reward=-274.0526794875965\n"
     ]
    },
    {
     "name": "stderr",
     "output_type": "stream",
     "text": [
      " 38%|███▊      | 3801/10000 [07:02<11:28,  9.00it/s]"
     ]
    },
    {
     "name": "stdout",
     "output_type": "stream",
     "text": [
      "Episode finished after 121 timesteps with reward=-166.394274465757\n",
      "iter=3800\tepsilon=0.834\n",
      "Current score(mean over 3) = -216.199\n"
     ]
    },
    {
     "name": "stderr",
     "output_type": "stream",
     "text": [
      " 39%|███▉      | 3899/10000 [07:14<11:19,  8.98it/s]"
     ]
    },
    {
     "name": "stdout",
     "output_type": "stream",
     "text": [
      "Episode finished after 167 timesteps with reward=-247.95330438355384\n",
      "Episode finished after 85 timesteps with reward=-105.21835572951886\n"
     ]
    },
    {
     "name": "stderr",
     "output_type": "stream",
     "text": [
      " 39%|███▉      | 3901/10000 [07:14<11:20,  8.97it/s]"
     ]
    },
    {
     "name": "stdout",
     "output_type": "stream",
     "text": [
      "Episode finished after 181 timesteps with reward=-368.7969831469911\n",
      "iter=3900\tepsilon=0.830\n",
      "Current score(mean over 3) = -240.656\n"
     ]
    },
    {
     "name": "stderr",
     "output_type": "stream",
     "text": [
      " 40%|████      | 4000/10000 [07:25<11:08,  8.98it/s]"
     ]
    },
    {
     "name": "stdout",
     "output_type": "stream",
     "text": [
      "Episode finished after 116 timesteps with reward=-284.100236531312\n",
      "Episode finished after 97 timesteps with reward=-94.6800640484672\n",
      "Episode finished after 118 timesteps with reward=-250.00827470768394\n",
      "iter=4000\tepsilon=0.826\n",
      "Current score(mean over 3) = -209.596\n"
     ]
    },
    {
     "name": "stderr",
     "output_type": "stream",
     "text": [
      " 41%|████      | 4100/10000 [07:36<10:56,  8.98it/s]"
     ]
    },
    {
     "name": "stdout",
     "output_type": "stream",
     "text": [
      "Episode finished after 139 timesteps with reward=-364.52255569238577\n",
      "Episode finished after 103 timesteps with reward=-104.42479145636288\n",
      "Episode finished after 116 timesteps with reward=-108.27160273044814\n",
      "iter=4100\tepsilon=0.822\n",
      "Current score(mean over 3) = -192.406\n"
     ]
    },
    {
     "name": "stderr",
     "output_type": "stream",
     "text": [
      " 42%|████▏     | 4200/10000 [07:48<10:47,  8.96it/s]"
     ]
    },
    {
     "name": "stdout",
     "output_type": "stream",
     "text": [
      "Episode finished after 122 timesteps with reward=-253.72494916431143\n",
      "Episode finished after 82 timesteps with reward=-120.91558480621163\n",
      "Episode finished after 76 timesteps with reward=-222.3604678221103\n",
      "iter=4200\tepsilon=0.818\n",
      "Current score(mean over 3) = -199.000\n"
     ]
    },
    {
     "name": "stderr",
     "output_type": "stream",
     "text": [
      " 43%|████▎     | 4300/10000 [08:01<10:38,  8.93it/s]"
     ]
    },
    {
     "name": "stdout",
     "output_type": "stream",
     "text": [
      "Episode finished after 105 timesteps with reward=-180.21006247901045\n",
      "Episode finished after 128 timesteps with reward=-110.4270633559841\n",
      "Episode finished after 82 timesteps with reward=-150.7408685249651\n",
      "iter=4300\tepsilon=0.814\n",
      "Current score(mean over 3) = -147.126\n"
     ]
    },
    {
     "name": "stderr",
     "output_type": "stream",
     "text": [
      " 44%|████▍     | 4399/10000 [08:11<10:26,  8.94it/s]"
     ]
    },
    {
     "name": "stdout",
     "output_type": "stream",
     "text": [
      "Episode finished after 137 timesteps with reward=-186.405163023481\n",
      "Episode finished after 165 timesteps with reward=-292.5763845965145\n"
     ]
    },
    {
     "name": "stderr",
     "output_type": "stream",
     "text": [
      " 44%|████▍     | 4401/10000 [08:12<10:26,  8.94it/s]"
     ]
    },
    {
     "name": "stdout",
     "output_type": "stream",
     "text": [
      "Episode finished after 122 timesteps with reward=-164.9546615160342\n",
      "iter=4400\tepsilon=0.810\n",
      "Current score(mean over 3) = -214.645\n"
     ]
    },
    {
     "name": "stderr",
     "output_type": "stream",
     "text": [
      " 45%|████▌     | 4500/10000 [08:23<10:15,  8.93it/s]"
     ]
    },
    {
     "name": "stdout",
     "output_type": "stream",
     "text": [
      "Episode finished after 125 timesteps with reward=-228.47852370444525\n",
      "Episode finished after 103 timesteps with reward=-236.54597441139865\n",
      "Episode finished after 107 timesteps with reward=-443.0730168605126\n",
      "iter=4500\tepsilon=0.807\n",
      "Current score(mean over 3) = -302.699\n"
     ]
    },
    {
     "name": "stderr",
     "output_type": "stream",
     "text": [
      " 46%|████▌     | 4600/10000 [08:35<10:05,  8.92it/s]"
     ]
    },
    {
     "name": "stdout",
     "output_type": "stream",
     "text": [
      "Episode finished after 112 timesteps with reward=-200.47658428925158\n",
      "Episode finished after 96 timesteps with reward=-167.70135821867365\n",
      "Episode finished after 118 timesteps with reward=-207.33748791714686\n",
      "iter=4600\tepsilon=0.803\n",
      "Current score(mean over 3) = -191.838\n"
     ]
    },
    {
     "name": "stderr",
     "output_type": "stream",
     "text": [
      " 47%|████▋     | 4700/10000 [08:48<09:55,  8.89it/s]"
     ]
    },
    {
     "name": "stdout",
     "output_type": "stream",
     "text": [
      "Episode finished after 105 timesteps with reward=-248.23252722101785\n",
      "Episode finished after 93 timesteps with reward=-119.76001290786552\n",
      "Episode finished after 116 timesteps with reward=-181.98737987031427\n",
      "iter=4700\tepsilon=0.799\n",
      "Current score(mean over 3) = -183.327\n"
     ]
    },
    {
     "name": "stderr",
     "output_type": "stream",
     "text": [
      " 48%|████▊     | 4800/10000 [08:59<09:44,  8.89it/s]"
     ]
    },
    {
     "name": "stdout",
     "output_type": "stream",
     "text": [
      "Episode finished after 86 timesteps with reward=-167.41346291035342\n",
      "Episode finished after 103 timesteps with reward=-218.99831837951115\n",
      "Episode finished after 145 timesteps with reward=-261.80234268539004\n",
      "iter=4800\tepsilon=0.795\n",
      "Current score(mean over 3) = -216.071\n"
     ]
    },
    {
     "name": "stderr",
     "output_type": "stream",
     "text": [
      " 49%|████▉     | 4900/10000 [09:13<09:36,  8.85it/s]"
     ]
    },
    {
     "name": "stdout",
     "output_type": "stream",
     "text": [
      "Episode finished after 165 timesteps with reward=-393.85938728163364\n",
      "Episode finished after 104 timesteps with reward=-184.97920042313058\n",
      "Episode finished after 129 timesteps with reward=-244.2247150403649\n",
      "iter=4900\tepsilon=0.791\n",
      "Current score(mean over 3) = -274.354\n"
     ]
    },
    {
     "name": "stderr",
     "output_type": "stream",
     "text": [
      " 50%|█████     | 5000/10000 [09:24<09:24,  8.85it/s]"
     ]
    },
    {
     "name": "stdout",
     "output_type": "stream",
     "text": [
      "Episode finished after 118 timesteps with reward=-274.7019505395732\n",
      "Episode finished after 135 timesteps with reward=-245.06015619727805\n",
      "Episode finished after 114 timesteps with reward=-254.2898472229085\n",
      "iter=5000\tepsilon=0.788\n",
      "Current score(mean over 3) = -258.017\n"
     ]
    },
    {
     "name": "stderr",
     "output_type": "stream",
     "text": [
      " 51%|█████     | 5100/10000 [09:36<09:13,  8.85it/s]"
     ]
    },
    {
     "name": "stdout",
     "output_type": "stream",
     "text": [
      "Episode finished after 87 timesteps with reward=-175.79128298999666\n",
      "Episode finished after 119 timesteps with reward=-163.48008616025248\n",
      "Episode finished after 95 timesteps with reward=-316.7609085754467\n",
      "iter=5100\tepsilon=0.784\n",
      "Current score(mean over 3) = -218.677\n"
     ]
    },
    {
     "name": "stderr",
     "output_type": "stream",
     "text": [
      " 52%|█████▏    | 5200/10000 [09:49<09:04,  8.82it/s]"
     ]
    },
    {
     "name": "stdout",
     "output_type": "stream",
     "text": [
      "Episode finished after 105 timesteps with reward=-227.20306825043087\n",
      "Episode finished after 84 timesteps with reward=-215.42977058888133\n",
      "Episode finished after 143 timesteps with reward=-232.3525875392148\n",
      "iter=5200\tepsilon=0.780\n",
      "Current score(mean over 3) = -224.995\n"
     ]
    },
    {
     "name": "stderr",
     "output_type": "stream",
     "text": [
      " 53%|█████▎    | 5298/10000 [10:00<08:52,  8.82it/s]"
     ]
    },
    {
     "name": "stdout",
     "output_type": "stream",
     "text": [
      "Episode finished after 93 timesteps with reward=-176.139838067342\n",
      "Episode finished after 170 timesteps with reward=-278.5424140409531\n"
     ]
    },
    {
     "name": "stderr",
     "output_type": "stream",
     "text": [
      " 53%|█████▎    | 5301/10000 [10:01<08:52,  8.82it/s]"
     ]
    },
    {
     "name": "stdout",
     "output_type": "stream",
     "text": [
      "Episode finished after 174 timesteps with reward=-482.021584169146\n",
      "iter=5300\tepsilon=0.777\n",
      "Current score(mean over 3) = -312.235\n"
     ]
    },
    {
     "name": "stderr",
     "output_type": "stream",
     "text": [
      " 54%|█████▍    | 5399/10000 [10:11<08:41,  8.83it/s]"
     ]
    },
    {
     "name": "stdout",
     "output_type": "stream",
     "text": [
      "Episode finished after 98 timesteps with reward=-123.83613597672048\n",
      "Episode finished after 155 timesteps with reward=-232.68395267288722\n"
     ]
    },
    {
     "name": "stderr",
     "output_type": "stream",
     "text": [
      " 54%|█████▍    | 5401/10000 [10:12<08:41,  8.82it/s]"
     ]
    },
    {
     "name": "stdout",
     "output_type": "stream",
     "text": [
      "Episode finished after 124 timesteps with reward=-275.3583836332613\n",
      "iter=5400\tepsilon=0.773\n",
      "Current score(mean over 3) = -210.626\n"
     ]
    },
    {
     "name": "stderr",
     "output_type": "stream",
     "text": [
      " 55%|█████▌    | 5500/10000 [10:25<08:31,  8.80it/s]"
     ]
    },
    {
     "name": "stdout",
     "output_type": "stream",
     "text": [
      "Episode finished after 103 timesteps with reward=-14.925237787288793\n",
      "Episode finished after 93 timesteps with reward=-118.68422675401663\n",
      "Episode finished after 106 timesteps with reward=-295.46581518321466\n",
      "iter=5500\tepsilon=0.769\n",
      "Current score(mean over 3) = -143.025\n"
     ]
    },
    {
     "name": "stderr",
     "output_type": "stream",
     "text": [
      " 56%|█████▌    | 5599/10000 [10:35<08:19,  8.81it/s]"
     ]
    },
    {
     "name": "stdout",
     "output_type": "stream",
     "text": [
      "Episode finished after 87 timesteps with reward=-110.87447097621865\n",
      "Episode finished after 149 timesteps with reward=-285.7493060105061\n"
     ]
    },
    {
     "name": "stderr",
     "output_type": "stream",
     "text": [
      " 56%|█████▌    | 5601/10000 [10:36<08:19,  8.80it/s]"
     ]
    },
    {
     "name": "stdout",
     "output_type": "stream",
     "text": [
      "Episode finished after 143 timesteps with reward=-234.1835621689212\n",
      "iter=5600\tepsilon=0.766\n",
      "Current score(mean over 3) = -210.269\n"
     ]
    },
    {
     "name": "stderr",
     "output_type": "stream",
     "text": [
      " 57%|█████▋    | 5700/10000 [10:46<08:07,  8.81it/s]"
     ]
    },
    {
     "name": "stdout",
     "output_type": "stream",
     "text": [
      "Episode finished after 119 timesteps with reward=-258.9946858396794\n",
      "Episode finished after 84 timesteps with reward=-151.6029077480735\n",
      "Episode finished after 148 timesteps with reward=-201.5663274499695\n",
      "iter=5700\tepsilon=0.762\n",
      "Current score(mean over 3) = -204.055\n"
     ]
    },
    {
     "name": "stderr",
     "output_type": "stream",
     "text": [
      " 58%|█████▊    | 5799/10000 [10:57<07:56,  8.82it/s]"
     ]
    },
    {
     "name": "stdout",
     "output_type": "stream",
     "text": [
      "Episode finished after 118 timesteps with reward=-221.68765851060323\n",
      "Episode finished after 130 timesteps with reward=-257.5041896144012\n"
     ]
    },
    {
     "name": "stderr",
     "output_type": "stream",
     "text": [
      " 58%|█████▊    | 5801/10000 [10:58<07:56,  8.81it/s]"
     ]
    },
    {
     "name": "stdout",
     "output_type": "stream",
     "text": [
      "Episode finished after 203 timesteps with reward=-272.14244769338734\n",
      "iter=5800\tepsilon=0.758\n",
      "Current score(mean over 3) = -250.445\n"
     ]
    },
    {
     "name": "stderr",
     "output_type": "stream",
     "text": [
      " 59%|█████▉    | 5899/10000 [11:09<07:45,  8.82it/s]"
     ]
    },
    {
     "name": "stdout",
     "output_type": "stream",
     "text": [
      "Episode finished after 213 timesteps with reward=-145.67927907796926\n"
     ]
    },
    {
     "name": "stderr",
     "output_type": "stream",
     "text": [
      "\r",
      " 59%|█████▉    | 5900/10000 [11:09<07:45,  8.81it/s]"
     ]
    },
    {
     "name": "stdout",
     "output_type": "stream",
     "text": [
      "Episode finished after 230 timesteps with reward=-306.74144046013214\n",
      "Episode finished after 128 timesteps with reward=-107.36104540460961\n",
      "iter=5900\tepsilon=0.755\n",
      "Current score(mean over 3) = -186.594\n"
     ]
    },
    {
     "name": "stderr",
     "output_type": "stream",
     "text": [
      " 60%|█████▉    | 5999/10000 [11:20<07:33,  8.81it/s]"
     ]
    },
    {
     "name": "stdout",
     "output_type": "stream",
     "text": [
      "Episode finished after 155 timesteps with reward=-170.81511658011013\n",
      "Episode finished after 127 timesteps with reward=-263.9555263042402\n",
      "Episode finished after 128 timesteps with reward=-278.53576308084484\n",
      "iter=6000\tepsilon=0.751"
     ]
    },
    {
     "name": "stderr",
     "output_type": "stream",
     "text": [
      " 60%|██████    | 6001/10000 [11:21<07:33,  8.81it/s]"
     ]
    },
    {
     "name": "stdout",
     "output_type": "stream",
     "text": [
      "\n",
      "Current score(mean over 3) = -237.769\n"
     ]
    },
    {
     "name": "stderr",
     "output_type": "stream",
     "text": [
      " 61%|██████    | 6100/10000 [11:32<07:22,  8.81it/s]"
     ]
    },
    {
     "name": "stdout",
     "output_type": "stream",
     "text": [
      "Episode finished after 82 timesteps with reward=-82.2905613207422\n",
      "Episode finished after 81 timesteps with reward=-114.9305788097924\n",
      "Episode finished after 69 timesteps with reward=-214.09475806681886\n",
      "iter=6100\tepsilon=0.748\n",
      "Current score(mean over 3) = -137.105\n"
     ]
    },
    {
     "name": "stderr",
     "output_type": "stream",
     "text": [
      " 62%|██████▏   | 6200/10000 [11:43<07:11,  8.81it/s]"
     ]
    },
    {
     "name": "stdout",
     "output_type": "stream",
     "text": [
      "Episode finished after 74 timesteps with reward=-167.28964163993936\n",
      "Episode finished after 116 timesteps with reward=-218.21669395812575\n",
      "Episode finished after 81 timesteps with reward=-149.19866070416305\n",
      "iter=6200\tepsilon=0.744\n",
      "Current score(mean over 3) = -178.235\n"
     ]
    },
    {
     "name": "stderr",
     "output_type": "stream",
     "text": [
      " 63%|██████▎   | 6300/10000 [11:56<07:00,  8.79it/s]"
     ]
    },
    {
     "name": "stdout",
     "output_type": "stream",
     "text": [
      "Episode finished after 120 timesteps with reward=-224.9993303966867\n",
      "Episode finished after 98 timesteps with reward=-165.7237201244182\n",
      "Episode finished after 90 timesteps with reward=-130.87860686892526\n",
      "iter=6300\tepsilon=0.741\n",
      "Current score(mean over 3) = -173.867\n"
     ]
    },
    {
     "name": "stderr",
     "output_type": "stream",
     "text": [
      " 64%|██████▍   | 6400/10000 [12:08<06:49,  8.79it/s]"
     ]
    },
    {
     "name": "stdout",
     "output_type": "stream",
     "text": [
      "Episode finished after 96 timesteps with reward=-212.36230503807673\n",
      "Episode finished after 83 timesteps with reward=-79.25544058064256\n",
      "Episode finished after 126 timesteps with reward=-210.77761905554647\n",
      "iter=6400\tepsilon=0.737\n",
      "Current score(mean over 3) = -167.465\n"
     ]
    },
    {
     "name": "stderr",
     "output_type": "stream",
     "text": [
      " 65%|██████▍   | 6499/10000 [12:20<06:38,  8.78it/s]"
     ]
    },
    {
     "name": "stdout",
     "output_type": "stream",
     "text": [
      "Episode finished after 136 timesteps with reward=-123.35498205937796\n",
      "Episode finished after 113 timesteps with reward=-214.390504719134\n"
     ]
    },
    {
     "name": "stderr",
     "output_type": "stream",
     "text": [
      " 65%|██████▌   | 6501/10000 [12:20<06:38,  8.78it/s]"
     ]
    },
    {
     "name": "stdout",
     "output_type": "stream",
     "text": [
      "Episode finished after 142 timesteps with reward=-278.3672908075284\n",
      "iter=6500\tepsilon=0.734\n",
      "Current score(mean over 3) = -205.371\n"
     ]
    },
    {
     "name": "stderr",
     "output_type": "stream",
     "text": [
      " 66%|██████▌   | 6599/10000 [12:31<06:27,  8.78it/s]"
     ]
    },
    {
     "name": "stdout",
     "output_type": "stream",
     "text": [
      "Episode finished after 225 timesteps with reward=-125.6832243124395\n",
      "Episode finished after 102 timesteps with reward=-139.48002662224508\n"
     ]
    },
    {
     "name": "stderr",
     "output_type": "stream",
     "text": [
      " 66%|██████▌   | 6601/10000 [12:31<06:27,  8.78it/s]"
     ]
    },
    {
     "name": "stdout",
     "output_type": "stream",
     "text": [
      "Episode finished after 246 timesteps with reward=-149.64926824619732\n",
      "iter=6600\tepsilon=0.730\n",
      "Current score(mean over 3) = -138.271\n"
     ]
    },
    {
     "name": "stderr",
     "output_type": "stream",
     "text": [
      " 67%|██████▋   | 6700/10000 [12:43<06:15,  8.78it/s]"
     ]
    },
    {
     "name": "stdout",
     "output_type": "stream",
     "text": [
      "Episode finished after 85 timesteps with reward=-200.91405342904807\n",
      "Episode finished after 116 timesteps with reward=-175.5181465905095\n",
      "Episode finished after 107 timesteps with reward=-256.38292295536723\n",
      "iter=6700\tepsilon=0.727\n",
      "Current score(mean over 3) = -210.938\n"
     ]
    },
    {
     "name": "stderr",
     "output_type": "stream",
     "text": [
      " 68%|██████▊   | 6800/10000 [12:55<06:04,  8.77it/s]"
     ]
    },
    {
     "name": "stdout",
     "output_type": "stream",
     "text": [
      "Episode finished after 98 timesteps with reward=-186.72033177349533\n",
      "Episode finished after 109 timesteps with reward=-215.68142823980668\n",
      "Episode finished after 126 timesteps with reward=-249.50655933909883\n",
      "iter=6800\tepsilon=0.723\n",
      "Current score(mean over 3) = -217.303\n"
     ]
    },
    {
     "name": "stderr",
     "output_type": "stream",
     "text": [
      " 69%|██████▉   | 6900/10000 [13:06<05:53,  8.77it/s]"
     ]
    },
    {
     "name": "stdout",
     "output_type": "stream",
     "text": [
      "Episode finished after 92 timesteps with reward=-222.36013330311016\n",
      "Episode finished after 65 timesteps with reward=-135.38572384892456\n",
      "Episode finished after 129 timesteps with reward=-200.4587525816698\n",
      "iter=6900\tepsilon=0.720\n",
      "Current score(mean over 3) = -186.068\n"
     ]
    },
    {
     "name": "stderr",
     "output_type": "stream",
     "text": [
      " 70%|██████▉   | 6999/10000 [13:17<05:41,  8.78it/s]"
     ]
    },
    {
     "name": "stdout",
     "output_type": "stream",
     "text": [
      "Episode finished after 121 timesteps with reward=-196.1675550017507\n",
      "Episode finished after 149 timesteps with reward=-190.97463736189795\n"
     ]
    },
    {
     "name": "stderr",
     "output_type": "stream",
     "text": [
      " 70%|███████   | 7001/10000 [13:18<05:41,  8.77it/s]"
     ]
    },
    {
     "name": "stdout",
     "output_type": "stream",
     "text": [
      "Episode finished after 171 timesteps with reward=-225.0147895434087\n",
      "iter=7000\tepsilon=0.717\n",
      "Current score(mean over 3) = -204.052\n"
     ]
    },
    {
     "name": "stderr",
     "output_type": "stream",
     "text": [
      " 71%|███████   | 7100/10000 [13:29<05:30,  8.77it/s]"
     ]
    },
    {
     "name": "stdout",
     "output_type": "stream",
     "text": [
      "Episode finished after 98 timesteps with reward=-137.38985211080893\n",
      "Episode finished after 119 timesteps with reward=-177.11942979252183\n",
      "Episode finished after 112 timesteps with reward=-222.07509331680683\n",
      "iter=7100\tepsilon=0.713\n",
      "Current score(mean over 3) = -178.861\n"
     ]
    },
    {
     "name": "stderr",
     "output_type": "stream",
     "text": [
      " 72%|███████▏  | 7200/10000 [13:40<05:19,  8.77it/s]"
     ]
    },
    {
     "name": "stdout",
     "output_type": "stream",
     "text": [
      "Episode finished after 222 timesteps with reward=-256.8505251848816\n",
      "Episode finished after 142 timesteps with reward=-133.2807728128097\n",
      "Episode finished after 95 timesteps with reward=-219.81382788927485\n",
      "iter=7200\tepsilon=0.710\n",
      "Current score(mean over 3) = -203.315\n"
     ]
    },
    {
     "name": "stderr",
     "output_type": "stream",
     "text": [
      " 73%|███████▎  | 7299/10000 [13:52<05:07,  8.77it/s]"
     ]
    },
    {
     "name": "stdout",
     "output_type": "stream",
     "text": [
      "Episode finished after 172 timesteps with reward=-263.9651998750638\n",
      "Episode finished after 132 timesteps with reward=-180.82360091264493\n"
     ]
    },
    {
     "name": "stderr",
     "output_type": "stream",
     "text": [
      " 73%|███████▎  | 7301/10000 [13:52<05:07,  8.77it/s]"
     ]
    },
    {
     "name": "stdout",
     "output_type": "stream",
     "text": [
      "Episode finished after 161 timesteps with reward=-257.97957500802653\n",
      "iter=7300\tepsilon=0.706\n",
      "Current score(mean over 3) = -234.256\n"
     ]
    },
    {
     "name": "stderr",
     "output_type": "stream",
     "text": [
      " 74%|███████▍  | 7399/10000 [14:03<04:56,  8.77it/s]"
     ]
    },
    {
     "name": "stdout",
     "output_type": "stream",
     "text": [
      "Episode finished after 325 timesteps with reward=-123.68560362027438\n",
      "Episode finished after 188 timesteps with reward=-270.39831614680395\n"
     ]
    },
    {
     "name": "stderr",
     "output_type": "stream",
     "text": [
      " 74%|███████▍  | 7401/10000 [14:04<04:56,  8.76it/s]"
     ]
    },
    {
     "name": "stdout",
     "output_type": "stream",
     "text": [
      "Episode finished after 120 timesteps with reward=-245.81598072789052\n",
      "iter=7400\tepsilon=0.703\n",
      "Current score(mean over 3) = -213.300\n"
     ]
    },
    {
     "name": "stderr",
     "output_type": "stream",
     "text": [
      " 75%|███████▍  | 7499/10000 [14:15<04:45,  8.77it/s]"
     ]
    },
    {
     "name": "stdout",
     "output_type": "stream",
     "text": [
      "Episode finished after 98 timesteps with reward=-136.88822143013124\n",
      "Episode finished after 155 timesteps with reward=-277.21016137659024\n"
     ]
    },
    {
     "name": "stderr",
     "output_type": "stream",
     "text": [
      " 75%|███████▌  | 7501/10000 [14:15<04:45,  8.76it/s]"
     ]
    },
    {
     "name": "stdout",
     "output_type": "stream",
     "text": [
      "Episode finished after 110 timesteps with reward=-224.94442210634838\n",
      "iter=7500\tepsilon=0.700\n",
      "Current score(mean over 3) = -213.014\n"
     ]
    },
    {
     "name": "stderr",
     "output_type": "stream",
     "text": [
      " 76%|███████▌  | 7599/10000 [14:26<04:33,  8.77it/s]"
     ]
    },
    {
     "name": "stdout",
     "output_type": "stream",
     "text": [
      "Episode finished after 94 timesteps with reward=-318.5025516900015\n",
      "Episode finished after 126 timesteps with reward=-190.39183815009767\n"
     ]
    },
    {
     "name": "stderr",
     "output_type": "stream",
     "text": [
      " 76%|███████▌  | 7601/10000 [14:27<04:33,  8.76it/s]"
     ]
    },
    {
     "name": "stdout",
     "output_type": "stream",
     "text": [
      "Episode finished after 215 timesteps with reward=-237.12120696530522\n",
      "iter=7600\tepsilon=0.697\n",
      "Current score(mean over 3) = -248.672\n"
     ]
    },
    {
     "name": "stderr",
     "output_type": "stream",
     "text": [
      " 77%|███████▋  | 7700/10000 [14:38<04:22,  8.76it/s]"
     ]
    },
    {
     "name": "stdout",
     "output_type": "stream",
     "text": [
      "Episode finished after 74 timesteps with reward=-131.54335879860625\n",
      "Episode finished after 99 timesteps with reward=-99.3734692173309\n",
      "Episode finished after 105 timesteps with reward=-204.29909864944102\n",
      "iter=7700\tepsilon=0.693\n",
      "Current score(mean over 3) = -145.072\n"
     ]
    },
    {
     "name": "stderr",
     "output_type": "stream",
     "text": [
      " 78%|███████▊  | 7799/10000 [14:49<04:11,  8.77it/s]"
     ]
    },
    {
     "name": "stdout",
     "output_type": "stream",
     "text": [
      "Episode finished after 160 timesteps with reward=-226.65202888217584\n",
      "Episode finished after 196 timesteps with reward=-378.05458663409695\n"
     ]
    },
    {
     "name": "stderr",
     "output_type": "stream",
     "text": [
      " 78%|███████▊  | 7801/10000 [14:50<04:11,  8.76it/s]"
     ]
    },
    {
     "name": "stdout",
     "output_type": "stream",
     "text": [
      "Episode finished after 186 timesteps with reward=-286.7210760537755\n",
      "iter=7800\tepsilon=0.690\n",
      "Current score(mean over 3) = -297.143\n"
     ]
    },
    {
     "name": "stderr",
     "output_type": "stream",
     "text": [
      " 79%|███████▉  | 7899/10000 [15:01<03:59,  8.76it/s]"
     ]
    },
    {
     "name": "stdout",
     "output_type": "stream",
     "text": [
      "Episode finished after 169 timesteps with reward=-251.61323600823064\n",
      "Episode finished after 146 timesteps with reward=-152.855347205859\n"
     ]
    },
    {
     "name": "stderr",
     "output_type": "stream",
     "text": [
      " 79%|███████▉  | 7901/10000 [15:02<03:59,  8.76it/s]"
     ]
    },
    {
     "name": "stdout",
     "output_type": "stream",
     "text": [
      "Episode finished after 197 timesteps with reward=-179.39005588626173\n",
      "iter=7900\tepsilon=0.687\n",
      "Current score(mean over 3) = -194.620\n"
     ]
    },
    {
     "name": "stderr",
     "output_type": "stream",
     "text": [
      " 80%|███████▉  | 7999/10000 [15:13<03:48,  8.76it/s]"
     ]
    },
    {
     "name": "stdout",
     "output_type": "stream",
     "text": [
      "Episode finished after 112 timesteps with reward=-193.674089150246\n",
      "Episode finished after 102 timesteps with reward=-183.7925418042684\n"
     ]
    },
    {
     "name": "stderr",
     "output_type": "stream",
     "text": [
      " 80%|████████  | 8001/10000 [15:13<03:48,  8.75it/s]"
     ]
    },
    {
     "name": "stdout",
     "output_type": "stream",
     "text": [
      "Episode finished after 190 timesteps with reward=-236.33334587123974\n",
      "iter=8000\tepsilon=0.684\n",
      "Current score(mean over 3) = -204.600\n"
     ]
    },
    {
     "name": "stderr",
     "output_type": "stream",
     "text": [
      " 81%|████████  | 8099/10000 [15:24<03:37,  8.76it/s]"
     ]
    },
    {
     "name": "stdout",
     "output_type": "stream",
     "text": [
      "Episode finished after 178 timesteps with reward=-213.49979700430617\n",
      "Episode finished after 89 timesteps with reward=-31.324870809353186\n"
     ]
    },
    {
     "name": "stderr",
     "output_type": "stream",
     "text": [
      " 81%|████████  | 8101/10000 [15:25<03:36,  8.75it/s]"
     ]
    },
    {
     "name": "stdout",
     "output_type": "stream",
     "text": [
      "Episode finished after 191 timesteps with reward=-215.15372690194403\n",
      "iter=8100\tepsilon=0.680\n",
      "Current score(mean over 3) = -153.326\n"
     ]
    },
    {
     "name": "stderr",
     "output_type": "stream",
     "text": [
      " 82%|████████▏ | 8199/10000 [15:37<03:25,  8.75it/s]"
     ]
    },
    {
     "name": "stdout",
     "output_type": "stream",
     "text": [
      "Episode finished after 87 timesteps with reward=-195.03191425914804\n",
      "Episode finished after 171 timesteps with reward=-185.9581361271228\n"
     ]
    },
    {
     "name": "stderr",
     "output_type": "stream",
     "text": [
      " 82%|████████▏ | 8201/10000 [15:37<03:25,  8.75it/s]"
     ]
    },
    {
     "name": "stdout",
     "output_type": "stream",
     "text": [
      "Episode finished after 113 timesteps with reward=-183.46857840539923\n",
      "iter=8200\tepsilon=0.677\n",
      "Current score(mean over 3) = -188.153\n"
     ]
    },
    {
     "name": "stderr",
     "output_type": "stream",
     "text": [
      " 83%|████████▎ | 8299/10000 [15:48<03:14,  8.75it/s]"
     ]
    },
    {
     "name": "stdout",
     "output_type": "stream",
     "text": [
      "Episode finished after 118 timesteps with reward=-213.79873518012317\n",
      "Episode finished after 145 timesteps with reward=-337.548943927257\n"
     ]
    },
    {
     "name": "stderr",
     "output_type": "stream",
     "text": [
      " 83%|████████▎ | 8301/10000 [15:49<03:14,  8.74it/s]"
     ]
    },
    {
     "name": "stdout",
     "output_type": "stream",
     "text": [
      "Episode finished after 177 timesteps with reward=-199.68897155512832\n",
      "iter=8300\tepsilon=0.674\n",
      "Current score(mean over 3) = -250.346\n"
     ]
    },
    {
     "name": "stderr",
     "output_type": "stream",
     "text": [
      " 84%|████████▍ | 8399/10000 [16:00<03:03,  8.74it/s]"
     ]
    },
    {
     "name": "stdout",
     "output_type": "stream",
     "text": [
      "Episode finished after 135 timesteps with reward=-49.069360349804626\n",
      "Episode finished after 137 timesteps with reward=-191.95792867087334\n"
     ]
    },
    {
     "name": "stderr",
     "output_type": "stream",
     "text": [
      " 84%|████████▍ | 8401/10000 [16:01<03:03,  8.74it/s]"
     ]
    },
    {
     "name": "stdout",
     "output_type": "stream",
     "text": [
      "Episode finished after 189 timesteps with reward=-347.0116083379737\n",
      "iter=8400\tepsilon=0.671\n",
      "Current score(mean over 3) = -196.013\n"
     ]
    },
    {
     "name": "stderr",
     "output_type": "stream",
     "text": [
      " 85%|████████▍ | 8499/10000 [16:12<02:51,  8.74it/s]"
     ]
    },
    {
     "name": "stdout",
     "output_type": "stream",
     "text": [
      "Episode finished after 129 timesteps with reward=-180.20977464500663\n",
      "Episode finished after 121 timesteps with reward=-80.9195311321897\n"
     ]
    },
    {
     "name": "stderr",
     "output_type": "stream",
     "text": [
      " 85%|████████▌ | 8501/10000 [16:13<02:51,  8.73it/s]"
     ]
    },
    {
     "name": "stdout",
     "output_type": "stream",
     "text": [
      "Episode finished after 180 timesteps with reward=-214.51948959962442\n",
      "iter=8500\tepsilon=0.668\n",
      "Current score(mean over 3) = -158.550\n"
     ]
    },
    {
     "name": "stderr",
     "output_type": "stream",
     "text": [
      " 86%|████████▌ | 8599/10000 [16:25<02:40,  8.73it/s]"
     ]
    },
    {
     "name": "stdout",
     "output_type": "stream",
     "text": [
      "Episode finished after 306 timesteps with reward=-286.21574865540776\n"
     ]
    },
    {
     "name": "stderr",
     "output_type": "stream",
     "text": [
      "\r",
      " 86%|████████▌ | 8600/10000 [16:25<02:40,  8.72it/s]"
     ]
    },
    {
     "name": "stdout",
     "output_type": "stream",
     "text": [
      "Episode finished after 241 timesteps with reward=-131.9959547338987\n",
      "Episode finished after 139 timesteps with reward=-214.46135243721537\n",
      "iter=8600\tepsilon=0.664\n",
      "Current score(mean over 3) = -210.891\n"
     ]
    },
    {
     "name": "stderr",
     "output_type": "stream",
     "text": [
      " 87%|████████▋ | 8700/10000 [16:37<02:29,  8.72it/s]"
     ]
    },
    {
     "name": "stdout",
     "output_type": "stream",
     "text": [
      "Episode finished after 194 timesteps with reward=-371.8060788957084\n",
      "Episode finished after 99 timesteps with reward=-266.2843881502215\n",
      "Episode finished after 99 timesteps with reward=-258.6377558963018\n",
      "iter=8700\tepsilon=0.661\n",
      "Current score(mean over 3) = -298.909\n"
     ]
    },
    {
     "name": "stderr",
     "output_type": "stream",
     "text": [
      " 88%|████████▊ | 8799/10000 [16:48<02:17,  8.72it/s]"
     ]
    },
    {
     "name": "stdout",
     "output_type": "stream",
     "text": [
      "Episode finished after 329 timesteps with reward=-267.1052972688459\n",
      "Episode finished after 188 timesteps with reward=-82.98139237339228\n"
     ]
    },
    {
     "name": "stderr",
     "output_type": "stream",
     "text": [
      "\r",
      " 88%|████████▊ | 8800/10000 [16:49<02:17,  8.72it/s]"
     ]
    },
    {
     "name": "stdout",
     "output_type": "stream",
     "text": [
      "Episode finished after 151 timesteps with reward=-286.8411477426269\n",
      "iter=8800\tepsilon=0.658\n",
      "Current score(mean over 3) = -212.309\n"
     ]
    },
    {
     "name": "stderr",
     "output_type": "stream",
     "text": [
      " 89%|████████▉ | 8898/10000 [17:00<02:06,  8.72it/s]"
     ]
    },
    {
     "name": "stdout",
     "output_type": "stream",
     "text": [
      "Episode finished after 112 timesteps with reward=-179.47493775474393\n",
      "Episode finished after 126 timesteps with reward=-97.74977358726201\n"
     ]
    },
    {
     "name": "stderr",
     "output_type": "stream",
     "text": [
      " 89%|████████▉ | 8901/10000 [17:01<02:06,  8.72it/s]"
     ]
    },
    {
     "name": "stdout",
     "output_type": "stream",
     "text": [
      "Episode finished after 183 timesteps with reward=-183.55572101073494\n",
      "iter=8900\tepsilon=0.655\n",
      "Current score(mean over 3) = -153.593\n"
     ]
    },
    {
     "name": "stderr",
     "output_type": "stream",
     "text": [
      " 90%|████████▉ | 8999/10000 [17:11<01:54,  8.72it/s]"
     ]
    },
    {
     "name": "stdout",
     "output_type": "stream",
     "text": [
      "Episode finished after 172 timesteps with reward=-194.2944710402063\n",
      "Episode finished after 150 timesteps with reward=-205.54032360128883\n"
     ]
    },
    {
     "name": "stderr",
     "output_type": "stream",
     "text": [
      " 90%|█████████ | 9001/10000 [17:12<01:54,  8.72it/s]"
     ]
    },
    {
     "name": "stdout",
     "output_type": "stream",
     "text": [
      "Episode finished after 196 timesteps with reward=-256.8043691152951\n",
      "iter=9000\tepsilon=0.652\n",
      "Current score(mean over 3) = -218.880\n"
     ]
    },
    {
     "name": "stderr",
     "output_type": "stream",
     "text": [
      " 91%|█████████ | 9100/10000 [17:24<01:43,  8.71it/s]"
     ]
    },
    {
     "name": "stdout",
     "output_type": "stream",
     "text": [
      "Episode finished after 172 timesteps with reward=-193.09866125861606\n",
      "Episode finished after 165 timesteps with reward=-207.85744253612123\n",
      "Episode finished after 83 timesteps with reward=-159.0027456046942\n",
      "iter=9100\tepsilon=0.649\n",
      "Current score(mean over 3) = -186.653\n"
     ]
    },
    {
     "name": "stderr",
     "output_type": "stream",
     "text": [
      " 92%|█████████▏| 9199/10000 [17:35<01:31,  8.72it/s]"
     ]
    },
    {
     "name": "stdout",
     "output_type": "stream",
     "text": [
      "Episode finished after 100 timesteps with reward=-230.30945831305087\n",
      "Episode finished after 215 timesteps with reward=-247.98699465554722\n"
     ]
    },
    {
     "name": "stderr",
     "output_type": "stream",
     "text": [
      " 92%|█████████▏| 9201/10000 [17:36<01:31,  8.71it/s]"
     ]
    },
    {
     "name": "stdout",
     "output_type": "stream",
     "text": [
      "Episode finished after 205 timesteps with reward=-223.24520967357125\n",
      "iter=9200\tepsilon=0.646\n",
      "Current score(mean over 3) = -233.847\n"
     ]
    },
    {
     "name": "stderr",
     "output_type": "stream",
     "text": [
      " 93%|█████████▎| 9299/10000 [17:47<01:20,  8.71it/s]"
     ]
    },
    {
     "name": "stdout",
     "output_type": "stream",
     "text": [
      "Episode finished after 114 timesteps with reward=-257.6932207330891\n",
      "Episode finished after 135 timesteps with reward=-195.19621941705356\n"
     ]
    },
    {
     "name": "stderr",
     "output_type": "stream",
     "text": [
      " 93%|█████████▎| 9301/10000 [17:48<01:20,  8.71it/s]"
     ]
    },
    {
     "name": "stdout",
     "output_type": "stream",
     "text": [
      "Episode finished after 259 timesteps with reward=-332.00544157334764\n",
      "iter=9300\tepsilon=0.643\n",
      "Current score(mean over 3) = -261.632\n"
     ]
    },
    {
     "name": "stderr",
     "output_type": "stream",
     "text": [
      " 94%|█████████▍| 9399/10000 [17:59<01:09,  8.70it/s]"
     ]
    },
    {
     "name": "stdout",
     "output_type": "stream",
     "text": [
      "Episode finished after 238 timesteps with reward=-342.20692366853643\n"
     ]
    },
    {
     "name": "stderr",
     "output_type": "stream",
     "text": [
      "\r",
      " 94%|█████████▍| 9400/10000 [18:00<01:08,  8.70it/s]"
     ]
    },
    {
     "name": "stdout",
     "output_type": "stream",
     "text": [
      "Episode finished after 348 timesteps with reward=-61.999362241630564\n",
      "Episode finished after 184 timesteps with reward=-364.28599629025\n",
      "iter=9400\tepsilon=0.640\n",
      "Current score(mean over 3) = -256.164\n"
     ]
    },
    {
     "name": "stderr",
     "output_type": "stream",
     "text": [
      " 95%|█████████▍| 9499/10000 [18:12<00:57,  8.69it/s]"
     ]
    },
    {
     "name": "stdout",
     "output_type": "stream",
     "text": [
      "Episode finished after 111 timesteps with reward=-217.3198475147098\n",
      "Episode finished after 165 timesteps with reward=-153.07864670996855\n"
     ]
    },
    {
     "name": "stderr",
     "output_type": "stream",
     "text": [
      " 95%|█████████▌| 9501/10000 [18:13<00:57,  8.69it/s]"
     ]
    },
    {
     "name": "stdout",
     "output_type": "stream",
     "text": [
      "Episode finished after 119 timesteps with reward=-220.1955799358497\n",
      "iter=9500\tepsilon=0.637\n",
      "Current score(mean over 3) = -196.865\n"
     ]
    },
    {
     "name": "stderr",
     "output_type": "stream",
     "text": [
      " 96%|█████████▌| 9600/10000 [18:25<00:46,  8.69it/s]"
     ]
    },
    {
     "name": "stdout",
     "output_type": "stream",
     "text": [
      "Episode finished after 138 timesteps with reward=-245.5685752062994\n",
      "Episode finished after 92 timesteps with reward=-215.3845845655842\n",
      "Episode finished after 106 timesteps with reward=-166.78861703206073\n",
      "iter=9600\tepsilon=0.634\n",
      "Current score(mean over 3) = -209.247\n"
     ]
    },
    {
     "name": "stderr",
     "output_type": "stream",
     "text": [
      " 97%|█████████▋| 9699/10000 [18:37<00:34,  8.68it/s]"
     ]
    },
    {
     "name": "stdout",
     "output_type": "stream",
     "text": [
      "Episode finished after 247 timesteps with reward=-318.48000840434406\n"
     ]
    },
    {
     "name": "stderr",
     "output_type": "stream",
     "text": [
      " 97%|█████████▋| 9701/10000 [18:38<00:34,  8.67it/s]"
     ]
    },
    {
     "name": "stdout",
     "output_type": "stream",
     "text": [
      "Episode finished after 265 timesteps with reward=-171.151564965106\n",
      "Episode finished after 89 timesteps with reward=-107.3901379571015\n",
      "iter=9700\tepsilon=0.631\n",
      "Current score(mean over 3) = -199.007\n"
     ]
    },
    {
     "name": "stderr",
     "output_type": "stream",
     "text": [
      " 98%|█████████▊| 9800/10000 [18:51<00:23,  8.66it/s]"
     ]
    },
    {
     "name": "stdout",
     "output_type": "stream",
     "text": [
      "Episode finished after 93 timesteps with reward=-56.63678213881107\n",
      "Episode finished after 130 timesteps with reward=-205.25188580569775\n",
      "Episode finished after 101 timesteps with reward=-148.43102366991582\n",
      "iter=9800\tepsilon=0.628\n",
      "Current score(mean over 3) = -136.773\n"
     ]
    },
    {
     "name": "stderr",
     "output_type": "stream",
     "text": [
      " 99%|█████████▉| 9899/10000 [19:02<00:11,  8.66it/s]"
     ]
    },
    {
     "name": "stdout",
     "output_type": "stream",
     "text": [
      "Episode finished after 159 timesteps with reward=-173.74750094079715\n",
      "Episode finished after 201 timesteps with reward=-198.80990166850677\n"
     ]
    },
    {
     "name": "stderr",
     "output_type": "stream",
     "text": [
      " 99%|█████████▉| 9901/10000 [19:03<00:11,  8.66it/s]"
     ]
    },
    {
     "name": "stdout",
     "output_type": "stream",
     "text": [
      "Episode finished after 124 timesteps with reward=-353.1846786441365\n",
      "iter=9900\tepsilon=0.625\n",
      "Current score(mean over 3) = -241.914\n"
     ]
    },
    {
     "name": "stderr",
     "output_type": "stream",
     "text": [
      "100%|█████████▉| 9999/10000 [19:14<00:00,  8.66it/s]"
     ]
    },
    {
     "name": "stdout",
     "output_type": "stream",
     "text": [
      "Episode finished after 179 timesteps with reward=-277.36350183396576\n",
      "Episode finished after 190 timesteps with reward=-258.1375849074832\n"
     ]
    },
    {
     "name": "stderr",
     "output_type": "stream",
     "text": [
      "\r",
      "100%|██████████| 10000/10000 [19:15<00:00,  8.66it/s]"
     ]
    },
    {
     "name": "stdout",
     "output_type": "stream",
     "text": [
      "Episode finished after 163 timesteps with reward=-338.718597547868\n",
      "iter=10000\tepsilon=0.622\n",
      "Current score(mean over 3) = -291.407\n"
     ]
    },
    {
     "name": "stderr",
     "output_type": "stream",
     "text": [
      "\n"
     ]
    }
   ],
   "source": [
    "from tqdm import trange\n",
    "\n",
    "for i in trange(10000):    \n",
    "    \n",
    "    #play\n",
    "    for _ in range(7):\n",
    "        pool.update(SEQ_LENGTH,append=True)\n",
    "    \n",
    "    #train\n",
    "    train_step()\n",
    "    \n",
    "    #update epsilon\n",
    "    epsilon = 0.04 + 0.96*np.exp(-epoch_counter/15000.)\n",
    "    action_layer.epsilon.set_value(np.float32(epsilon))\n",
    "    \n",
    "    #play a few games for evaluation\n",
    "    if epoch_counter%100==0:\n",
    "        rewards[epoch_counter] = np.mean(pool.evaluate(n_games=3,record_video=False))\n",
    "        print(\"iter=%i\\tepsilon=%.3f\"%(epoch_counter,action_layer.epsilon.get_value(),))\n",
    "        print(\"Current score(mean over %i) = %.3f\"%(3,np.mean(rewards[epoch_counter])))\n",
    "    \n",
    "        if rewards[epoch_counter] >= target_score:\n",
    "            print(\"You win! \", rewards[epoch_counter])\n",
    "            break\n",
    "\n",
    "    \n",
    "    epoch_counter  +=1\n",
    "\n",
    "    \n",
    "# Time to drink some coffee!"
   ]
  },
  {
   "cell_type": "code",
   "execution_count": 78,
   "metadata": {
    "collapsed": false
   },
   "outputs": [],
   "source": [
    "def first_arg(pair):\n",
    "    return pair[0]"
   ]
  },
  {
   "cell_type": "code",
   "execution_count": 79,
   "metadata": {
    "collapsed": false
   },
   "outputs": [
    {
     "data": {
      "text/plain": [
       "[<matplotlib.lines.Line2D at 0x7fdb50d8f4e0>]"
      ]
     },
     "execution_count": 79,
     "metadata": {},
     "output_type": "execute_result"
    },
    {
     "data": {
      "image/png": "[encoded data removed]",
      "text/plain": [
       "<matplotlib.figure.Figure at 0x7fdb5ad1d470>"
      ]
     },
     "metadata": {},
     "output_type": "display_data"
    }
   ],
   "source": [
    "# from pandas import ewma\n",
    "iters,session_rewards=zip(*sorted(rewards.items(), key=first_arg))\n",
    "plt.plot(iters, np.array(session_rewards))"
   ]
  },
  {
   "cell_type": "code",
   "execution_count": null,
   "metadata": {
    "collapsed": true
   },
   "outputs": [],
   "source": []
  },
  {
   "cell_type": "code",
   "execution_count": null,
   "metadata": {
    "collapsed": true
   },
   "outputs": [],
   "source": []
  },
  {
   "cell_type": "code",
   "execution_count": null,
   "metadata": {
    "collapsed": true
   },
   "outputs": [],
   "source": []
  }
 ],
 "metadata": {
  "kernelspec": {
   "display_name": "Python 3",
   "language": "python",
   "name": "python3"
  },
  "language_info": {
   "codemirror_mode": {
    "name": "ipython",
    "version": 3
   },
   "file_extension": ".py",
   "mimetype": "text/x-python",
   "name": "python",
   "nbconvert_exporter": "python",
   "pygments_lexer": "ipython3",
   "version": "3.4.5"
  }
 },
 "nbformat": 4,
 "nbformat_minor": 1
}
