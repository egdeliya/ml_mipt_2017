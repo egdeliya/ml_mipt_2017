{
 "cells": [
  {
   "cell_type": "markdown",
   "metadata": {},
   "source": [
    "# Simple q-learning agent with experience replay\n",
    "\n",
    "We re-write q-learning algorithm using _agentnet_ - a helper for lasagne that implements some RL techniques."
   ]
  },
  {
   "cell_type": "code",
   "execution_count": 1,
   "metadata": {
    "collapsed": false
   },
   "outputs": [
    {
     "name": "stdout",
     "output_type": "stream",
     "text": [
      "Collecting https://github.com/yandexdataschool/AgentNet/archive/master.zip\n",
      "  Downloading https://github.com/yandexdataschool/AgentNet/archive/master.zip\n",
      "\u001b[K     - 11.7MB 73.4MB/s\n",
      "Requirement already up-to-date: six in ./anaconda3/envs/py34/lib/python3.4/site-packages (from agentnet==0.10.6)\n",
      "Requirement already up-to-date: lasagne in ./AgentNet/src/lasagne (from agentnet==0.10.6)\n",
      "Requirement already up-to-date: theano>=0.8.2 in ./anaconda3/envs/py34/lib/python3.4/site-packages (from agentnet==0.10.6)\n",
      "Requirement already up-to-date: numpy>=1.9 in ./anaconda3/envs/py34/lib/python3.4/site-packages (from agentnet==0.10.6)\n",
      "Requirement already up-to-date: scipy>=0.14 in ./anaconda3/envs/py34/lib/python3.4/site-packages (from theano>=0.8.2->agentnet==0.10.6)\n",
      "Installing collected packages: agentnet\n",
      "  Found existing installation: agentnet 0.10.6\n",
      "    Uninstalling agentnet-0.10.6:\n",
      "      Successfully uninstalled agentnet-0.10.6\n",
      "  Running setup.py install for agentnet ... \u001b[?25l-\b \b\\\b \b|\b \bdone\n",
      "\u001b[?25hSuccessfully installed agentnet-0.10.6\n"
     ]
    }
   ],
   "source": [
    "! pip install --upgrade https://github.com/yandexdataschool/AgentNet/archive/master.zip"
   ]
  },
  {
   "cell_type": "code",
   "execution_count": 2,
   "metadata": {
    "collapsed": false
   },
   "outputs": [
    {
     "name": "stdout",
     "output_type": "stream",
     "text": [
      "env: THEANO_FLAGS='floatX=float32'\n",
      "bash: ../xvfb: No such file or directory\n",
      "env: DISPLAY=:1\n"
     ]
    }
   ],
   "source": [
    "import matplotlib.pyplot as plt\n",
    "%matplotlib inline\n",
    "import numpy as np\n",
    "%env THEANO_FLAGS='floatX=float32'\n",
    "\n",
    "#XVFB will be launched if you run on a server\n",
    "import os\n",
    "if type(os.environ.get(\"DISPLAY\")) is not str or len(os.environ.get(\"DISPLAY\"))==0:\n",
    "    !bash ../xvfb start\n",
    "    %env DISPLAY=:1"
   ]
  },
  {
   "cell_type": "markdown",
   "metadata": {},
   "source": [
    "### Experiment setup\n",
    "* Here we simply load the game and check that it works"
   ]
  },
  {
   "cell_type": "code",
   "execution_count": 3,
   "metadata": {
    "collapsed": false
   },
   "outputs": [],
   "source": [
    "import gym\n",
    "make_env = lambda: gym.make(\"LunarLander-v2\")\n",
    "\n",
    "env = gym.make(\"LunarLander-v2\")\n",
    "env.reset()\n",
    "\n",
    "state_shape = env.observation_space.shape\n",
    "n_actions = env.action_space.n"
   ]
  },
  {
   "cell_type": "code",
   "execution_count": 4,
   "metadata": {
    "collapsed": false
   },
   "outputs": [
    {
     "name": "stdout",
     "output_type": "stream",
     "text": [
      "(8,)\n"
     ]
    }
   ],
   "source": [
    "print(state_shape)"
   ]
  },
  {
   "cell_type": "code",
   "execution_count": 5,
   "metadata": {
    "collapsed": false
   },
   "outputs": [],
   "source": [
    "# plt.imshow(env.render(\"rgb_array\"))\n",
    "# del env"
   ]
  },
  {
   "cell_type": "code",
   "execution_count": null,
   "metadata": {
    "collapsed": true
   },
   "outputs": [],
   "source": [
    "net = lasagne.layers.InputLayer(shape=(None, 3, 32, 32), input_var=input_X)"
   ]
  },
  {
   "cell_type": "markdown",
   "metadata": {},
   "source": [
    "# Neural Network body"
   ]
  },
  {
   "cell_type": "code",
   "execution_count": 6,
   "metadata": {
    "collapsed": false
   },
   "outputs": [],
   "source": [
    "import lasagne\n",
    "from lasagne.layers import *\n",
    "from lasagne.nonlinearities import *\n",
    "# from lasagne.nonlinearities import relu\n",
    "\n",
    "\n",
    "#image observation at current tick goes here, shape = (sample_i,x,y,color)\n",
    "# inp_layer = InputLayer((None, 3, 8, 8))\n",
    "observation_layer = InputLayer((None, ) + state_shape)\n",
    "\n",
    "net = DenseLayer(observation_layer, 200, nonlinearity=elu)\n",
    "net = DenseLayer(net, 200, nonlinearity=elu)\n",
    "# nn = DenseLayer(nn, 200)\n",
    "\n",
    "#a layer that predicts Qvalues\n",
    "qvalues_layer = DenseLayer(net, num_units=n_actions,\n",
    "                           nonlinearity=None,name=\"q-values\")"
   ]
  },
  {
   "cell_type": "markdown",
   "metadata": {},
   "source": [
    "Picking actions is done by yet another layer, that implements $ \\epsilon$ -greedy policy"
   ]
  },
  {
   "cell_type": "code",
   "execution_count": 7,
   "metadata": {
    "collapsed": false
   },
   "outputs": [],
   "source": [
    "from agentnet.resolver import EpsilonGreedyResolver"
   ]
  },
  {
   "cell_type": "code",
   "execution_count": 8,
   "metadata": {
    "collapsed": false
   },
   "outputs": [],
   "source": [
    "action_layer = EpsilonGreedyResolver(qvalues_layer)\n",
    "\n",
    "#set starting epsilon\n",
    "action_layer.epsilon.set_value(np.float32(0.05))"
   ]
  },
  {
   "cell_type": "markdown",
   "metadata": {},
   "source": [
    "### Agent\n",
    "\n",
    "We define an agent entirely composed of a lasagne network:\n",
    "* Observations as InputLayer(s)\n",
    "* Actions as intermediate Layer(s)\n",
    "* `policy_estimators` is \"whatever else you want to keep track of\"\n",
    "\n",
    "Each parameter can be either one layer or a list of layers"
   ]
  },
  {
   "cell_type": "code",
   "execution_count": 9,
   "metadata": {
    "collapsed": false
   },
   "outputs": [],
   "source": [
    "from agentnet.agent import Agent\n",
    "agent = Agent(observation_layers=observation_layer,\n",
    "              action_layers=action_layer,\n",
    "              policy_estimators=qvalues_layer,)"
   ]
  },
  {
   "cell_type": "code",
   "execution_count": 10,
   "metadata": {
    "collapsed": false
   },
   "outputs": [
    {
     "data": {
      "text/plain": [
       "[W, b, W, b, q-values.W, q-values.b]"
      ]
     },
     "execution_count": 10,
     "metadata": {},
     "output_type": "execute_result"
    }
   ],
   "source": [
    "#Since it's a single lasagne network, one can get it's weights, output, etc\n",
    "weights = lasagne.layers.get_all_params(action_layer,trainable=True)\n",
    "weights"
   ]
  },
  {
   "cell_type": "markdown",
   "metadata": {},
   "source": [
    "# Create and manage a pool of atari sessions to play with\n",
    "\n",
    "* To make training more stable, we shall have an entire batch of game sessions each happening independent of others\n",
    "* Why several parallel agents help training: http://arxiv.org/pdf/1602.01783v1.pdf\n",
    "* Alternative approach: store more sessions: https://www.cs.toronto.edu/~vmnih/docs/dqn.pdf"
   ]
  },
  {
   "cell_type": "code",
   "execution_count": 11,
   "metadata": {
    "collapsed": false
   },
   "outputs": [],
   "source": [
    "from agentnet.experiments.openai_gym.pool import EnvPool\n",
    "pool = EnvPool(agent,make_env,n_games=1,max_size=10000)"
   ]
  },
  {
   "cell_type": "code",
   "execution_count": 12,
   "metadata": {
    "collapsed": false
   },
   "outputs": [
    {
     "name": "stdout",
     "output_type": "stream",
     "text": [
      "actions: [[1 1 3 1 0]]\n",
      "rewards: [[-1.81280494 -2.10888041 -1.92483021 -2.06786121  0.        ]]\n",
      "CPU times: user 28 ms, sys: 4 ms, total: 32 ms\n",
      "Wall time: 23.7 ms\n"
     ]
    }
   ],
   "source": [
    "%%time\n",
    "#interact for 7 ticks\n",
    "obs_log,action_log,reward_log,_,_,_  = pool.interact(5)\n",
    "\n",
    "\n",
    "print('actions:',action_log)\n",
    "print('rewards:',reward_log)"
   ]
  },
  {
   "cell_type": "code",
   "execution_count": 13,
   "metadata": {
    "collapsed": true
   },
   "outputs": [],
   "source": [
    "#we'll train on rollouts of 10 steps (required by n-step algorithms and rnns later)\n",
    "SEQ_LENGTH=10\n",
    "\n",
    "#load first sessions (this function calls interact and stores sessions in the pool)\n",
    "\n",
    "for _ in range(100):\n",
    "    pool.update(SEQ_LENGTH)"
   ]
  },
  {
   "cell_type": "markdown",
   "metadata": {},
   "source": [
    "# q-learning\n",
    "\n",
    "We shall now define a function that replays recent game sessions and updates network weights"
   ]
  },
  {
   "cell_type": "code",
   "execution_count": 14,
   "metadata": {
    "collapsed": true
   },
   "outputs": [],
   "source": [
    "#get agent's Qvalues obtained via experience replay\n",
    "replay = pool.experience_replay.sample_session_batch(100)\n",
    "qvalues_seq = agent.get_sessions(\n",
    "    replay,\n",
    "    session_length=SEQ_LENGTH,\n",
    "    experience_replay=True,\n",
    ")[-1]\n",
    "\n"
   ]
  },
  {
   "cell_type": "code",
   "execution_count": 15,
   "metadata": {
    "collapsed": true
   },
   "outputs": [],
   "source": [
    "#loss for Qlearning = (Q(s,a) - (r+gamma*Q(s',a_max)))^2, like you implemented before in lasagne.\n",
    "\n",
    "from agentnet.learning import qlearning\n",
    "elwise_mse_loss = qlearning.get_elementwise_objective(qvalues_seq,\n",
    "                                                      replay.actions[0],\n",
    "                                                      replay.rewards,\n",
    "                                                      replay.is_alive,\n",
    "                                                      gamma_or_gammas=0.99,\n",
    "                                                      n_steps=1,)\n",
    "\n",
    "#compute mean loss over \"alive\" fragments\n",
    "loss = elwise_mse_loss.sum() / replay.is_alive.sum()"
   ]
  },
  {
   "cell_type": "code",
   "execution_count": 16,
   "metadata": {
    "collapsed": true
   },
   "outputs": [],
   "source": [
    "#get weight updates\n",
    "updates = lasagne.updates.adam(loss,weights,learning_rate=1e-4)\n",
    "\n",
    "#compile train function\n",
    "import theano\n",
    "train_step = theano.function([],loss,updates=updates)"
   ]
  },
  {
   "cell_type": "markdown",
   "metadata": {},
   "source": [
    "# Training loop"
   ]
  },
  {
   "cell_type": "code",
   "execution_count": 17,
   "metadata": {
    "collapsed": true
   },
   "outputs": [],
   "source": [
    "epoch_counter = 1 #starting epoch\n",
    "rewards = {} #full game rewards\n",
    "target_score = 0"
   ]
  },
  {
   "cell_type": "code",
   "execution_count": 18,
   "metadata": {
    "collapsed": false,
    "scrolled": true
   },
   "outputs": [
    {
     "name": "stderr",
     "output_type": "stream",
     "text": [
      "  0%|          | 51/10500 [00:03<11:20, 15.34it/s]"
     ]
    },
    {
     "name": "stdout",
     "output_type": "stream",
     "text": [
      "Episode finished after 102 timesteps with reward=-130.88768128867397\n",
      "Episode finished after 67 timesteps with reward=-116.56477484809187\n",
      "Episode finished after 71 timesteps with reward=-213.61946112192328\n",
      "iter=50\tepsilon=0.954\n",
      "Current score(mean over 3) = -153.691\n"
     ]
    },
    {
     "name": "stderr",
     "output_type": "stream",
     "text": [
      "  1%|          | 99/10500 [00:06<11:32, 15.02it/s]"
     ]
    },
    {
     "name": "stdout",
     "output_type": "stream",
     "text": [
      "Episode finished after 104 timesteps with reward=-137.68896482463805\n",
      "Episode finished after 90 timesteps with reward=-183.00277077741316\n",
      "Episode finished after 95 timesteps with reward=-153.6674467105105\n",
      "iter=100\tepsilon=0.910\n",
      "Current score(mean over 3) = -158.120\n"
     ]
    },
    {
     "name": "stderr",
     "output_type": "stream",
     "text": [
      "  1%|▏         | 149/10500 [00:10<11:53, 14.50it/s]"
     ]
    },
    {
     "name": "stdout",
     "output_type": "stream",
     "text": [
      "Episode finished after 95 timesteps with reward=-114.20588988174838\n",
      "Episode finished after 71 timesteps with reward=-90.41802863748242\n",
      "Episode finished after 155 timesteps with reward=-165.10304188059453\n",
      "iter=150\tepsilon=0.868\n",
      "Current score(mean over 3) = -123.242\n"
     ]
    },
    {
     "name": "stderr",
     "output_type": "stream",
     "text": [
      "  2%|▏         | 199/10500 [00:13<12:04, 14.22it/s]"
     ]
    },
    {
     "name": "stdout",
     "output_type": "stream",
     "text": [
      "Episode finished after 114 timesteps with reward=-269.37410033680396\n",
      "Episode finished after 135 timesteps with reward=-381.17985578482694\n",
      "Episode finished after 111 timesteps with reward=-443.375005226774\n",
      "iter=200\tepsilon=0.828\n",
      "Current score(mean over 3) = -364.643\n"
     ]
    },
    {
     "name": "stderr",
     "output_type": "stream",
     "text": [
      "  2%|▏         | 251/10500 [00:18<12:17, 13.90it/s]"
     ]
    },
    {
     "name": "stdout",
     "output_type": "stream",
     "text": [
      "Episode finished after 109 timesteps with reward=-276.6580313958543\n",
      "Episode finished after 86 timesteps with reward=-101.61188317915395\n",
      "Episode finished after 88 timesteps with reward=-148.88936648249114\n",
      "iter=250\tepsilon=0.790\n",
      "Current score(mean over 3) = -175.720\n"
     ]
    },
    {
     "name": "stderr",
     "output_type": "stream",
     "text": [
      "  3%|▎         | 299/10500 [00:21<12:10, 13.97it/s]"
     ]
    },
    {
     "name": "stdout",
     "output_type": "stream",
     "text": [
      "Episode finished after 108 timesteps with reward=-449.91712988712266\n",
      "Episode finished after 137 timesteps with reward=-159.22290695690546\n",
      "Episode finished after 68 timesteps with reward=-338.7122813185746\n",
      "iter=300\tepsilon=0.754\n",
      "Current score(mean over 3) = -315.951\n"
     ]
    },
    {
     "name": "stderr",
     "output_type": "stream",
     "text": [
      "  3%|▎         | 349/10500 [00:25<12:12, 13.87it/s]"
     ]
    },
    {
     "name": "stdout",
     "output_type": "stream",
     "text": [
      "Episode finished after 101 timesteps with reward=-608.6480126051329\n",
      "Episode finished after 111 timesteps with reward=-127.00555173939404\n",
      "Episode finished after 138 timesteps with reward=-328.6144751731985\n",
      "iter=350\tepsilon=0.719\n",
      "Current score(mean over 3) = -354.756\n"
     ]
    },
    {
     "name": "stderr",
     "output_type": "stream",
     "text": [
      "  4%|▍         | 399/10500 [00:28<12:13, 13.78it/s]"
     ]
    },
    {
     "name": "stdout",
     "output_type": "stream",
     "text": [
      "Episode finished after 101 timesteps with reward=-645.523081112053\n",
      "Episode finished after 99 timesteps with reward=-527.6510064734589\n",
      "Episode finished after 117 timesteps with reward=-524.444664308598\n",
      "iter=400\tepsilon=0.687\n",
      "Current score(mean over 3) = -565.873\n"
     ]
    },
    {
     "name": "stderr",
     "output_type": "stream",
     "text": [
      "  4%|▍         | 449/10500 [00:32<12:15, 13.67it/s]"
     ]
    },
    {
     "name": "stdout",
     "output_type": "stream",
     "text": [
      "Episode finished after 84 timesteps with reward=-186.07252856796475\n",
      "Episode finished after 81 timesteps with reward=-269.656439530188\n",
      "Episode finished after 113 timesteps with reward=-161.34731834103417\n",
      "iter=450\tepsilon=0.656\n",
      "Current score(mean over 3) = -205.692\n"
     ]
    },
    {
     "name": "stderr",
     "output_type": "stream",
     "text": [
      "  5%|▍         | 499/10500 [00:36<12:15, 13.59it/s]"
     ]
    },
    {
     "name": "stdout",
     "output_type": "stream",
     "text": [
      "Episode finished after 108 timesteps with reward=-221.18461981132077\n",
      "Episode finished after 97 timesteps with reward=-291.4748208215174\n",
      "Episode finished after 91 timesteps with reward=-326.86549655463375\n",
      "iter=500\tepsilon=0.626\n",
      "Current score(mean over 3) = -279.842\n"
     ]
    },
    {
     "name": "stderr",
     "output_type": "stream",
     "text": [
      "  5%|▌         | 549/10500 [00:40<12:18, 13.47it/s]"
     ]
    },
    {
     "name": "stdout",
     "output_type": "stream",
     "text": [
      "Episode finished after 115 timesteps with reward=-386.2570126080831\n",
      "Episode finished after 127 timesteps with reward=-297.50012005392415\n"
     ]
    },
    {
     "name": "stderr",
     "output_type": "stream",
     "text": [
      "\r",
      "  5%|▌         | 551/10500 [00:41<12:24, 13.37it/s]"
     ]
    },
    {
     "name": "stdout",
     "output_type": "stream",
     "text": [
      "Episode finished after 150 timesteps with reward=-212.84650422747748\n",
      "iter=550\tepsilon=0.598\n",
      "Current score(mean over 3) = -298.868\n"
     ]
    },
    {
     "name": "stderr",
     "output_type": "stream",
     "text": [
      "  6%|▌         | 599/10500 [00:45<12:24, 13.29it/s]"
     ]
    },
    {
     "name": "stdout",
     "output_type": "stream",
     "text": [
      "Episode finished after 99 timesteps with reward=-255.50183097432352\n",
      "Episode finished after 93 timesteps with reward=-215.31262414609068\n",
      "Episode finished after 85 timesteps with reward=-287.7910123644183\n",
      "iter=600\tepsilon=0.571\n",
      "Current score(mean over 3) = -252.868\n"
     ]
    },
    {
     "name": "stderr",
     "output_type": "stream",
     "text": [
      "  6%|▌         | 649/10500 [00:49<12:29, 13.14it/s]"
     ]
    },
    {
     "name": "stdout",
     "output_type": "stream",
     "text": [
      "Episode finished after 84 timesteps with reward=-334.2680047138192\n",
      "Episode finished after 106 timesteps with reward=-587.3772631308314\n",
      "Episode finished after 111 timesteps with reward=-403.8352679398143\n",
      "iter=650\tepsilon=0.546\n",
      "Current score(mean over 3) = -441.827\n"
     ]
    },
    {
     "name": "stderr",
     "output_type": "stream",
     "text": [
      "  7%|▋         | 699/10500 [00:53<12:29, 13.07it/s]"
     ]
    },
    {
     "name": "stdout",
     "output_type": "stream",
     "text": [
      "Episode finished after 126 timesteps with reward=-678.9667645941489\n",
      "Episode finished after 90 timesteps with reward=-234.48861655020661\n",
      "Episode finished after 93 timesteps with reward=-266.99125616718675\n",
      "iter=700\tepsilon=0.522\n",
      "Current score(mean over 3) = -393.482\n"
     ]
    },
    {
     "name": "stderr",
     "output_type": "stream",
     "text": [
      "  7%|▋         | 749/10500 [00:57<12:33, 12.94it/s]"
     ]
    },
    {
     "name": "stdout",
     "output_type": "stream",
     "text": [
      "Episode finished after 120 timesteps with reward=-239.88172734200168\n",
      "Episode finished after 97 timesteps with reward=-328.76401959096745\n",
      "Episode finished after 111 timesteps with reward=-489.68651016881245\n",
      "iter=750\tepsilon=0.499\n",
      "Current score(mean over 3) = -352.777\n"
     ]
    },
    {
     "name": "stderr",
     "output_type": "stream",
     "text": [
      "  8%|▊         | 799/10500 [01:02<12:38, 12.78it/s]"
     ]
    },
    {
     "name": "stdout",
     "output_type": "stream",
     "text": [
      "Episode finished after 206 timesteps with reward=-477.7697455177769\n",
      "Episode finished after 232 timesteps with reward=-340.68288568666327\n",
      "Episode finished after 147 timesteps with reward=-322.16033178049327\n",
      "iter=800\tepsilon=0.477\n",
      "Current score(mean over 3) = -380.204\n"
     ]
    },
    {
     "name": "stderr",
     "output_type": "stream",
     "text": [
      "  8%|▊         | 849/10500 [01:07<12:44, 12.63it/s]"
     ]
    },
    {
     "name": "stdout",
     "output_type": "stream",
     "text": [
      "Episode finished after 293 timesteps with reward=-533.1118296206812\n",
      "Episode finished after 197 timesteps with reward=-315.1486964746071\n"
     ]
    },
    {
     "name": "stderr",
     "output_type": "stream",
     "text": [
      "\r",
      "  8%|▊         | 851/10500 [01:08<12:52, 12.50it/s]"
     ]
    },
    {
     "name": "stdout",
     "output_type": "stream",
     "text": [
      "Episode finished after 179 timesteps with reward=-485.9334193559152\n",
      "iter=850\tepsilon=0.456\n",
      "Current score(mean over 3) = -444.731\n"
     ]
    },
    {
     "name": "stderr",
     "output_type": "stream",
     "text": [
      "  9%|▊         | 899/10500 [01:12<12:50, 12.46it/s]"
     ]
    },
    {
     "name": "stdout",
     "output_type": "stream",
     "text": [
      "Episode finished after 168 timesteps with reward=-536.1583719664573\n",
      "Episode finished after 139 timesteps with reward=-365.06422236013043\n",
      "Episode finished after 95 timesteps with reward=-342.6036061509101\n",
      "iter=900\tepsilon=0.436\n",
      "Current score(mean over 3) = -414.609\n"
     ]
    },
    {
     "name": "stderr",
     "output_type": "stream",
     "text": [
      "  9%|▉         | 949/10500 [01:16<12:52, 12.37it/s]"
     ]
    },
    {
     "name": "stdout",
     "output_type": "stream",
     "text": [
      "Episode finished after 89 timesteps with reward=-272.80458868916867\n",
      "Episode finished after 221 timesteps with reward=-405.1287970430761\n"
     ]
    },
    {
     "name": "stderr",
     "output_type": "stream",
     "text": [
      "\r",
      "  9%|▉         | 951/10500 [01:17<12:57, 12.28it/s]"
     ]
    },
    {
     "name": "stdout",
     "output_type": "stream",
     "text": [
      "Episode finished after 227 timesteps with reward=-369.0666134471166\n",
      "iter=950\tepsilon=0.417\n",
      "Current score(mean over 3) = -349.000\n"
     ]
    },
    {
     "name": "stderr",
     "output_type": "stream",
     "text": [
      " 10%|▉         | 999/10500 [01:21<12:57, 12.22it/s]"
     ]
    },
    {
     "name": "stdout",
     "output_type": "stream",
     "text": [
      "Episode finished after 275 timesteps with reward=-447.19992792504263\n",
      "Episode finished after 219 timesteps with reward=-623.5317448863908\n",
      "Episode finished after 145 timesteps with reward=-419.4153833594113\n",
      "iter=1000\tepsilon=0.399\n",
      "Current score(mean over 3) = -496.716\n"
     ]
    },
    {
     "name": "stderr",
     "output_type": "stream",
     "text": [
      " 10%|▉         | 1049/10500 [01:26<13:02, 12.08it/s]"
     ]
    },
    {
     "name": "stdout",
     "output_type": "stream",
     "text": [
      "Episode finished after 260 timesteps with reward=-683.6136332145094\n",
      "Episode finished after 100 timesteps with reward=-658.6536140815915\n",
      "Episode finished after 121 timesteps with reward=-342.4824484617713\n",
      "iter=1050\tepsilon=0.382\n",
      "Current score(mean over 3) = -561.583\n"
     ]
    },
    {
     "name": "stderr",
     "output_type": "stream",
     "text": [
      " 10%|█         | 1099/10500 [01:31<13:03, 11.99it/s]"
     ]
    },
    {
     "name": "stdout",
     "output_type": "stream",
     "text": [
      "Episode finished after 231 timesteps with reward=-473.05394936033633\n",
      "Episode finished after 173 timesteps with reward=-409.7419079935207\n"
     ]
    },
    {
     "name": "stderr",
     "output_type": "stream",
     "text": [
      "\r",
      " 10%|█         | 1101/10500 [01:32<13:09, 11.90it/s]"
     ]
    },
    {
     "name": "stdout",
     "output_type": "stream",
     "text": [
      "Episode finished after 224 timesteps with reward=-305.1599352300258\n",
      "iter=1100\tepsilon=0.366\n",
      "Current score(mean over 3) = -395.985\n"
     ]
    },
    {
     "name": "stderr",
     "output_type": "stream",
     "text": [
      " 11%|█         | 1149/10500 [01:36<13:07, 11.87it/s]"
     ]
    },
    {
     "name": "stdout",
     "output_type": "stream",
     "text": [
      "Episode finished after 105 timesteps with reward=-383.12003351334516\n",
      "Episode finished after 91 timesteps with reward=-463.591829384786\n"
     ]
    },
    {
     "name": "stderr",
     "output_type": "stream",
     "text": [
      "\r",
      " 11%|█         | 1151/10500 [01:37<13:10, 11.83it/s]"
     ]
    },
    {
     "name": "stdout",
     "output_type": "stream",
     "text": [
      "Episode finished after 132 timesteps with reward=-166.34168614179674\n",
      "iter=1150\tepsilon=0.351\n",
      "Current score(mean over 3) = -337.685\n"
     ]
    },
    {
     "name": "stderr",
     "output_type": "stream",
     "text": [
      " 11%|█▏        | 1199/10500 [01:41<13:10, 11.77it/s]"
     ]
    },
    {
     "name": "stdout",
     "output_type": "stream",
     "text": [
      "Episode finished after 205 timesteps with reward=-71.58695406077909\n",
      "Episode finished after 189 timesteps with reward=-355.57082550071016\n"
     ]
    },
    {
     "name": "stderr",
     "output_type": "stream",
     "text": [
      "\r",
      " 11%|█▏        | 1201/10500 [01:42<13:14, 11.71it/s]"
     ]
    },
    {
     "name": "stdout",
     "output_type": "stream",
     "text": [
      "Episode finished after 163 timesteps with reward=-558.9762539077758\n",
      "iter=1200\tepsilon=0.336\n",
      "Current score(mean over 3) = -328.711\n"
     ]
    },
    {
     "name": "stderr",
     "output_type": "stream",
     "text": [
      " 12%|█▏        | 1248/10500 [01:47<13:13, 11.65it/s]"
     ]
    },
    {
     "name": "stdout",
     "output_type": "stream",
     "text": [
      "Episode finished after 398 timesteps with reward=-862.7053222008567\n",
      "Episode finished after 166 timesteps with reward=-356.6397010064491\n"
     ]
    },
    {
     "name": "stderr",
     "output_type": "stream",
     "text": [
      " 12%|█▏        | 1251/10500 [01:48<13:21, 11.55it/s]"
     ]
    },
    {
     "name": "stdout",
     "output_type": "stream",
     "text": [
      "Episode finished after 278 timesteps with reward=-719.9280568763156\n",
      "iter=1250\tepsilon=0.322\n",
      "Current score(mean over 3) = -646.424\n"
     ]
    },
    {
     "name": "stderr",
     "output_type": "stream",
     "text": [
      " 12%|█▏        | 1299/10500 [01:52<13:19, 11.51it/s]"
     ]
    },
    {
     "name": "stdout",
     "output_type": "stream",
     "text": [
      "Episode finished after 259 timesteps with reward=-709.632967381235\n",
      "Episode finished after 310 timesteps with reward=-829.2331869323477\n",
      "Episode finished after 213 timesteps with reward=-305.80641023645666\n",
      "iter=1300\tepsilon=0.309\n",
      "Current score(mean over 3) = -614.891\n"
     ]
    },
    {
     "name": "stderr",
     "output_type": "stream",
     "text": [
      " 13%|█▎        | 1349/10500 [01:58<13:22, 11.41it/s]"
     ]
    },
    {
     "name": "stdout",
     "output_type": "stream",
     "text": [
      "Episode finished after 151 timesteps with reward=-268.9833130241776\n",
      "Episode finished after 83 timesteps with reward=-533.4650202080487\n",
      "Episode finished after 86 timesteps with reward=-347.0390088884277\n",
      "iter=1350\tepsilon=0.296\n",
      "Current score(mean over 3) = -383.162\n"
     ]
    },
    {
     "name": "stderr",
     "output_type": "stream",
     "text": [
      " 13%|█▎        | 1399/10500 [02:02<13:19, 11.38it/s]"
     ]
    },
    {
     "name": "stdout",
     "output_type": "stream",
     "text": [
      "Episode finished after 178 timesteps with reward=-259.63649486613315\n",
      "Episode finished after 202 timesteps with reward=-346.33343941390785\n"
     ]
    },
    {
     "name": "stderr",
     "output_type": "stream",
     "text": [
      "\r",
      " 13%|█▎        | 1401/10500 [02:03<13:22, 11.34it/s]"
     ]
    },
    {
     "name": "stdout",
     "output_type": "stream",
     "text": [
      "Episode finished after 136 timesteps with reward=-175.13945942508929\n",
      "iter=1400\tepsilon=0.284\n",
      "Current score(mean over 3) = -260.370\n"
     ]
    },
    {
     "name": "stderr",
     "output_type": "stream",
     "text": [
      " 14%|█▍        | 1448/10500 [02:07<13:19, 11.32it/s]"
     ]
    },
    {
     "name": "stdout",
     "output_type": "stream",
     "text": [
      "Episode finished after 97 timesteps with reward=-268.5544710001011\n"
     ]
    },
    {
     "name": "stderr",
     "output_type": "stream",
     "text": [
      "\r",
      " 14%|█▍        | 1450/10500 [02:09<13:25, 11.24it/s]"
     ]
    },
    {
     "name": "stdout",
     "output_type": "stream",
     "text": [
      "Episode finished after 446 timesteps with reward=-717.9591537127667\n",
      "Episode finished after 168 timesteps with reward=-253.9655413636565\n",
      "iter=1450\tepsilon=0.273\n",
      "Current score(mean over 3) = -413.493\n"
     ]
    },
    {
     "name": "stderr",
     "output_type": "stream",
     "text": [
      " 14%|█▍        | 1499/10500 [02:13<13:21, 11.23it/s]"
     ]
    },
    {
     "name": "stdout",
     "output_type": "stream",
     "text": [
      "Episode finished after 220 timesteps with reward=-403.87891967625677\n",
      "Episode finished after 384 timesteps with reward=-603.3233467359768\n",
      "Episode finished after 142 timesteps with reward=-347.9840386537762\n",
      "iter=1500\tepsilon=0.262\n",
      "Current score(mean over 3) = -451.729\n"
     ]
    },
    {
     "name": "stderr",
     "output_type": "stream",
     "text": [
      " 15%|█▍        | 1548/10500 [02:19<13:24, 11.12it/s]"
     ]
    },
    {
     "name": "stdout",
     "output_type": "stream",
     "text": [
      "Episode finished after 289 timesteps with reward=-416.04799121890466\n"
     ]
    },
    {
     "name": "stderr",
     "output_type": "stream",
     "text": [
      "\r",
      " 15%|█▍        | 1550/10500 [02:20<13:29, 11.06it/s]"
     ]
    },
    {
     "name": "stdout",
     "output_type": "stream",
     "text": [
      "Episode finished after 285 timesteps with reward=-653.4893350787759\n",
      "Episode finished after 148 timesteps with reward=-275.35738316491035\n",
      "iter=1550\tepsilon=0.252\n",
      "Current score(mean over 3) = -448.298\n"
     ]
    },
    {
     "name": "stderr",
     "output_type": "stream",
     "text": [
      " 15%|█▌        | 1598/10500 [02:24<13:25, 11.06it/s]"
     ]
    },
    {
     "name": "stdout",
     "output_type": "stream",
     "text": [
      "Episode finished after 224 timesteps with reward=-468.21889336068483\n",
      "Episode finished after 105 timesteps with reward=-317.87706106169077\n"
     ]
    },
    {
     "name": "stderr",
     "output_type": "stream",
     "text": [
      " 15%|█▌        | 1602/10500 [02:25<13:29, 11.00it/s]"
     ]
    },
    {
     "name": "stdout",
     "output_type": "stream",
     "text": [
      "Episode finished after 353 timesteps with reward=-664.8312636253622\n",
      "iter=1600\tepsilon=0.242\n",
      "Current score(mean over 3) = -483.642\n"
     ]
    },
    {
     "name": "stderr",
     "output_type": "stream",
     "text": [
      " 16%|█▌        | 1649/10500 [02:30<13:25, 10.98it/s]"
     ]
    },
    {
     "name": "stdout",
     "output_type": "stream",
     "text": [
      "Episode finished after 274 timesteps with reward=-534.2374800418806\n",
      "Episode finished after 117 timesteps with reward=-221.9352691371992\n"
     ]
    },
    {
     "name": "stderr",
     "output_type": "stream",
     "text": [
      " 16%|█▌        | 1651/10500 [02:30<13:28, 10.94it/s]"
     ]
    },
    {
     "name": "stdout",
     "output_type": "stream",
     "text": [
      "Episode finished after 143 timesteps with reward=-594.1330741816514\n",
      "iter=1650\tepsilon=0.232\n",
      "Current score(mean over 3) = -450.102\n"
     ]
    },
    {
     "name": "stderr",
     "output_type": "stream",
     "text": [
      " 16%|█▌        | 1699/10500 [02:35<13:25, 10.93it/s]"
     ]
    },
    {
     "name": "stdout",
     "output_type": "stream",
     "text": [
      "Episode finished after 239 timesteps with reward=-477.2439698205049\n",
      "Episode finished after 308 timesteps with reward=-310.0748966115334\n",
      "Episode finished after 213 timesteps with reward=-232.17024756571567\n",
      "iter=1700\tepsilon=0.224\n",
      "Current score(mean over 3) = -339.830\n"
     ]
    },
    {
     "name": "stderr",
     "output_type": "stream",
     "text": [
      " 17%|█▋        | 1749/10500 [02:41<13:26, 10.85it/s]"
     ]
    },
    {
     "name": "stdout",
     "output_type": "stream",
     "text": [
      "Episode finished after 192 timesteps with reward=-440.0020336603283\n",
      "Episode finished after 320 timesteps with reward=-353.5485374657319\n"
     ]
    },
    {
     "name": "stderr",
     "output_type": "stream",
     "text": [
      "\r",
      " 17%|█▋        | 1751/10500 [02:42<13:33, 10.75it/s]"
     ]
    },
    {
     "name": "stdout",
     "output_type": "stream",
     "text": [
      "Episode finished after 529 timesteps with reward=-566.2430124358157\n",
      "iter=1750\tepsilon=0.215\n",
      "Current score(mean over 3) = -453.265\n"
     ]
    },
    {
     "name": "stderr",
     "output_type": "stream",
     "text": [
      " 17%|█▋        | 1799/10500 [02:48<13:32, 10.71it/s]"
     ]
    },
    {
     "name": "stdout",
     "output_type": "stream",
     "text": [
      "Episode finished after 345 timesteps with reward=-287.6494544429742\n"
     ]
    },
    {
     "name": "stderr",
     "output_type": "stream",
     "text": [
      " 17%|█▋        | 1801/10500 [02:49<13:37, 10.64it/s]"
     ]
    },
    {
     "name": "stdout",
     "output_type": "stream",
     "text": [
      "Episode finished after 316 timesteps with reward=-220.31792834680405\n",
      "Episode finished after 68 timesteps with reward=-415.8008965119201\n",
      "iter=1800\tepsilon=0.207\n",
      "Current score(mean over 3) = -307.923\n"
     ]
    },
    {
     "name": "stderr",
     "output_type": "stream",
     "text": [
      " 18%|█▊        | 1849/10500 [02:54<13:35, 10.60it/s]"
     ]
    },
    {
     "name": "stdout",
     "output_type": "stream",
     "text": [
      "Episode finished after 343 timesteps with reward=-637.0089858476547\n",
      "Episode finished after 271 timesteps with reward=-556.5330440804485\n",
      "Episode finished after 204 timesteps with reward=-537.3174006517855\n",
      "iter=1850\tepsilon=0.199\n",
      "Current score(mean over 3) = -576.953\n"
     ]
    },
    {
     "name": "stderr",
     "output_type": "stream",
     "text": [
      " 18%|█▊        | 1899/10500 [03:00<13:36, 10.53it/s]"
     ]
    },
    {
     "name": "stdout",
     "output_type": "stream",
     "text": [
      "Episode finished after 201 timesteps with reward=-297.01018695337723\n",
      "Episode finished after 265 timesteps with reward=-313.0712312821303\n"
     ]
    },
    {
     "name": "stderr",
     "output_type": "stream",
     "text": [
      "\r",
      " 18%|█▊        | 1901/10500 [03:01<13:40, 10.48it/s]"
     ]
    },
    {
     "name": "stdout",
     "output_type": "stream",
     "text": [
      "Episode finished after 290 timesteps with reward=-173.45445371281025\n",
      "iter=1900\tepsilon=0.192\n",
      "Current score(mean over 3) = -261.179\n"
     ]
    },
    {
     "name": "stderr",
     "output_type": "stream",
     "text": [
      " 19%|█▊        | 1949/10500 [03:06<13:39, 10.44it/s]"
     ]
    },
    {
     "name": "stdout",
     "output_type": "stream",
     "text": [
      "Episode finished after 204 timesteps with reward=-423.6022348105554\n",
      "Episode finished after 202 timesteps with reward=-239.56751004932244\n"
     ]
    },
    {
     "name": "stderr",
     "output_type": "stream",
     "text": [
      " 19%|█▊        | 1952/10500 [03:07<13:42, 10.39it/s]"
     ]
    },
    {
     "name": "stdout",
     "output_type": "stream",
     "text": [
      "Episode finished after 338 timesteps with reward=-476.77012150292023\n",
      "iter=1950\tepsilon=0.185\n",
      "Current score(mean over 3) = -379.980\n"
     ]
    },
    {
     "name": "stderr",
     "output_type": "stream",
     "text": [
      " 19%|█▉        | 1999/10500 [03:13<13:41, 10.34it/s]"
     ]
    },
    {
     "name": "stdout",
     "output_type": "stream",
     "text": [
      "Episode finished after 231 timesteps with reward=-270.817255380206\n",
      "Episode finished after 358 timesteps with reward=-211.4003651921288\n"
     ]
    },
    {
     "name": "stderr",
     "output_type": "stream",
     "text": [
      " 19%|█▉        | 2002/10500 [03:14<13:47, 10.27it/s]"
     ]
    },
    {
     "name": "stdout",
     "output_type": "stream",
     "text": [
      "Episode finished after 431 timesteps with reward=-235.52118210544307\n",
      "iter=2000\tepsilon=0.179\n",
      "Current score(mean over 3) = -239.246\n"
     ]
    },
    {
     "name": "stderr",
     "output_type": "stream",
     "text": [
      " 20%|█▉        | 2049/10500 [03:19<13:44, 10.25it/s]"
     ]
    },
    {
     "name": "stdout",
     "output_type": "stream",
     "text": [
      "Episode finished after 197 timesteps with reward=-599.3134259279743\n",
      "Episode finished after 81 timesteps with reward=-253.19744136438743\n",
      "Episode finished after 80 timesteps with reward=-464.1940547546929\n",
      "iter=2050\tepsilon=0.172\n",
      "Current score(mean over 3) = -438.902\n"
     ]
    },
    {
     "name": "stderr",
     "output_type": "stream",
     "text": [
      " 20%|█▉        | 2099/10500 [03:25<13:42, 10.21it/s]"
     ]
    },
    {
     "name": "stdout",
     "output_type": "stream",
     "text": [
      "Episode finished after 449 timesteps with reward=-325.04110499845353\n"
     ]
    },
    {
     "name": "stderr",
     "output_type": "stream",
     "text": [
      "\r",
      " 20%|██        | 2100/10500 [03:27<13:48, 10.14it/s]"
     ]
    },
    {
     "name": "stdout",
     "output_type": "stream",
     "text": [
      "Episode finished after 393 timesteps with reward=-186.53545297962108\n",
      "Episode finished after 94 timesteps with reward=-317.51462845955615\n",
      "iter=2100\tepsilon=0.166\n",
      "Current score(mean over 3) = -276.364\n"
     ]
    },
    {
     "name": "stderr",
     "output_type": "stream",
     "text": [
      " 20%|██        | 2149/10500 [03:33<13:48, 10.08it/s]"
     ]
    },
    {
     "name": "stdout",
     "output_type": "stream",
     "text": [
      "Episode finished after 164 timesteps with reward=-341.63222996988645\n"
     ]
    },
    {
     "name": "stderr",
     "output_type": "stream",
     "text": [
      "\r",
      " 20%|██        | 2150/10500 [03:34<13:54, 10.01it/s]"
     ]
    },
    {
     "name": "stdout",
     "output_type": "stream",
     "text": [
      "Episode finished after 730 timesteps with reward=-462.19761566925337\n",
      "Episode finished after 199 timesteps with reward=-283.0836939418042\n",
      "iter=2150\tepsilon=0.161\n",
      "Current score(mean over 3) = -362.305\n"
     ]
    },
    {
     "name": "stderr",
     "output_type": "stream",
     "text": [
      " 21%|██        | 2198/10500 [03:40<13:51,  9.98it/s]"
     ]
    },
    {
     "name": "stdout",
     "output_type": "stream",
     "text": [
      "Episode finished after 235 timesteps with reward=-297.2672422912757\n"
     ]
    },
    {
     "name": "stderr",
     "output_type": "stream",
     "text": [
      " 21%|██        | 2201/10500 [03:41<13:54,  9.94it/s]"
     ]
    },
    {
     "name": "stdout",
     "output_type": "stream",
     "text": [
      "Episode finished after 355 timesteps with reward=-782.4455954638083\n",
      "Episode finished after 94 timesteps with reward=-393.9047481239197\n",
      "iter=2200\tepsilon=0.155\n",
      "Current score(mean over 3) = -491.206\n"
     ]
    },
    {
     "name": "stderr",
     "output_type": "stream",
     "text": [
      " 21%|██▏       | 2249/10500 [03:46<13:52,  9.92it/s]"
     ]
    },
    {
     "name": "stdout",
     "output_type": "stream",
     "text": [
      "Episode finished after 424 timesteps with reward=-439.7629438924776\n"
     ]
    },
    {
     "name": "stderr",
     "output_type": "stream",
     "text": [
      "\r",
      " 21%|██▏       | 2250/10500 [03:47<13:55,  9.87it/s]"
     ]
    },
    {
     "name": "stdout",
     "output_type": "stream",
     "text": [
      "Episode finished after 257 timesteps with reward=-323.178451277078\n",
      "Episode finished after 104 timesteps with reward=-483.6325735558219\n",
      "iter=2250\tepsilon=0.150\n",
      "Current score(mean over 3) = -415.525\n"
     ]
    },
    {
     "name": "stderr",
     "output_type": "stream",
     "text": [
      " 22%|██▏       | 2298/10500 [03:53<13:53,  9.84it/s]"
     ]
    },
    {
     "name": "stdout",
     "output_type": "stream",
     "text": [
      "Episode finished after 216 timesteps with reward=-422.86616875361824\n",
      "Episode finished after 288 timesteps with reward=-513.4219955172928\n"
     ]
    },
    {
     "name": "stderr",
     "output_type": "stream",
     "text": [
      " 22%|██▏       | 2302/10500 [03:54<13:56,  9.80it/s]"
     ]
    },
    {
     "name": "stdout",
     "output_type": "stream",
     "text": [
      "Episode finished after 280 timesteps with reward=-475.14719771467554\n",
      "iter=2300\tepsilon=0.145\n",
      "Current score(mean over 3) = -470.478\n"
     ]
    },
    {
     "name": "stderr",
     "output_type": "stream",
     "text": [
      " 22%|██▏       | 2348/10500 [03:59<13:51,  9.81it/s]"
     ]
    },
    {
     "name": "stdout",
     "output_type": "stream",
     "text": [
      "Episode finished after 81 timesteps with reward=-479.3383559961085\n",
      "Episode finished after 229 timesteps with reward=-356.2151610201501\n"
     ]
    },
    {
     "name": "stderr",
     "output_type": "stream",
     "text": [
      " 22%|██▏       | 2351/10500 [04:00<13:53,  9.78it/s]"
     ]
    },
    {
     "name": "stdout",
     "output_type": "stream",
     "text": [
      "Episode finished after 291 timesteps with reward=-279.4728733033532\n",
      "iter=2350\tepsilon=0.141\n",
      "Current score(mean over 3) = -371.675\n"
     ]
    },
    {
     "name": "stderr",
     "output_type": "stream",
     "text": [
      " 23%|██▎       | 2399/10500 [04:05<13:49,  9.77it/s]"
     ]
    },
    {
     "name": "stdout",
     "output_type": "stream",
     "text": [
      "Episode finished after 328 timesteps with reward=-391.21791597652845\n",
      "Episode finished after 306 timesteps with reward=-268.113337145822\n"
     ]
    },
    {
     "name": "stderr",
     "output_type": "stream",
     "text": [
      " 23%|██▎       | 2401/10500 [04:07<13:53,  9.71it/s]"
     ]
    },
    {
     "name": "stdout",
     "output_type": "stream",
     "text": [
      "Episode finished after 388 timesteps with reward=-458.604569290555\n",
      "iter=2400\tepsilon=0.136\n",
      "Current score(mean over 3) = -372.645\n"
     ]
    },
    {
     "name": "stderr",
     "output_type": "stream",
     "text": [
      " 23%|██▎       | 2448/10500 [04:12<13:49,  9.70it/s]"
     ]
    },
    {
     "name": "stdout",
     "output_type": "stream",
     "text": [
      "Episode finished after 590 timesteps with reward=-512.2118286436648\n",
      "Episode finished after 227 timesteps with reward=-371.41023497272914\n"
     ]
    },
    {
     "name": "stderr",
     "output_type": "stream",
     "text": [
      " 23%|██▎       | 2452/10500 [04:14<13:55,  9.63it/s]"
     ]
    },
    {
     "name": "stdout",
     "output_type": "stream",
     "text": [
      "Episode finished after 335 timesteps with reward=-625.9451039568239\n",
      "iter=2450\tepsilon=0.132\n",
      "Current score(mean over 3) = -503.189\n"
     ]
    },
    {
     "name": "stderr",
     "output_type": "stream",
     "text": [
      " 24%|██▍       | 2499/10500 [04:19<13:51,  9.62it/s]"
     ]
    },
    {
     "name": "stdout",
     "output_type": "stream",
     "text": [
      "Episode finished after 104 timesteps with reward=-172.1326042421976\n",
      "Episode finished after 364 timesteps with reward=-389.424153602574\n"
     ]
    },
    {
     "name": "stderr",
     "output_type": "stream",
     "text": [
      " 24%|██▍       | 2502/10500 [04:20<13:53,  9.59it/s]"
     ]
    },
    {
     "name": "stdout",
     "output_type": "stream",
     "text": [
      "Episode finished after 226 timesteps with reward=-264.3372229472993\n",
      "iter=2500\tepsilon=0.128\n",
      "Current score(mean over 3) = -275.298\n"
     ]
    },
    {
     "name": "stderr",
     "output_type": "stream",
     "text": [
      " 24%|██▍       | 2548/10500 [04:25<13:49,  9.59it/s]"
     ]
    },
    {
     "name": "stdout",
     "output_type": "stream",
     "text": [
      "Episode finished after 84 timesteps with reward=-463.009571915876\n",
      "Episode finished after 150 timesteps with reward=-377.6064131662051\n"
     ]
    },
    {
     "name": "stderr",
     "output_type": "stream",
     "text": [
      " 24%|██▍       | 2551/10500 [04:26<13:49,  9.58it/s]"
     ]
    },
    {
     "name": "stdout",
     "output_type": "stream",
     "text": [
      "Episode finished after 118 timesteps with reward=-448.23010119156606\n",
      "iter=2550\tepsilon=0.124\n",
      "Current score(mean over 3) = -429.615\n"
     ]
    },
    {
     "name": "stderr",
     "output_type": "stream",
     "text": [
      " 25%|██▍       | 2599/10500 [04:31<13:45,  9.57it/s]"
     ]
    },
    {
     "name": "stdout",
     "output_type": "stream",
     "text": [
      "Episode finished after 219 timesteps with reward=-442.5987021833759\n"
     ]
    },
    {
     "name": "stderr",
     "output_type": "stream",
     "text": [
      "\r",
      " 25%|██▍       | 2600/10500 [04:32<13:47,  9.55it/s]"
     ]
    },
    {
     "name": "stdout",
     "output_type": "stream",
     "text": [
      "Episode finished after 247 timesteps with reward=-239.65142758049606\n",
      "Episode finished after 174 timesteps with reward=-240.79604142022228\n",
      "iter=2600\tepsilon=0.121\n",
      "Current score(mean over 3) = -307.682\n"
     ]
    },
    {
     "name": "stderr",
     "output_type": "stream",
     "text": [
      " 25%|██▌       | 2648/10500 [04:37<13:42,  9.55it/s]"
     ]
    },
    {
     "name": "stdout",
     "output_type": "stream",
     "text": [
      "Episode finished after 269 timesteps with reward=-518.9625302169213\n",
      "Episode finished after 335 timesteps with reward=-235.05299343807465\n"
     ]
    },
    {
     "name": "stderr",
     "output_type": "stream",
     "text": [
      " 25%|██▌       | 2651/10500 [04:38<13:44,  9.52it/s]"
     ]
    },
    {
     "name": "stdout",
     "output_type": "stream",
     "text": [
      "Episode finished after 205 timesteps with reward=-367.76037696952005\n",
      "iter=2650\tepsilon=0.117\n",
      "Current score(mean over 3) = -373.925\n"
     ]
    },
    {
     "name": "stderr",
     "output_type": "stream",
     "text": [
      " 26%|██▌       | 2699/10500 [04:43<13:40,  9.51it/s]"
     ]
    },
    {
     "name": "stdout",
     "output_type": "stream",
     "text": [
      "Episode finished after 97 timesteps with reward=-221.94972348694046\n",
      "Episode finished after 116 timesteps with reward=-81.28848599327937\n",
      "Episode finished after 81 timesteps with reward=-302.35500485686896\n",
      "iter=2700\tepsilon=0.114\n",
      "Current score(mean over 3) = -201.864\n"
     ]
    },
    {
     "name": "stderr",
     "output_type": "stream",
     "text": [
      " 26%|██▌       | 2748/10500 [04:48<13:34,  9.51it/s]"
     ]
    },
    {
     "name": "stdout",
     "output_type": "stream",
     "text": [
      "Episode finished after 285 timesteps with reward=-262.60371617155204\n",
      "Episode finished after 141 timesteps with reward=-305.2927547852837\n"
     ]
    },
    {
     "name": "stderr",
     "output_type": "stream",
     "text": [
      " 26%|██▌       | 2752/10500 [04:49<13:36,  9.49it/s]"
     ]
    },
    {
     "name": "stdout",
     "output_type": "stream",
     "text": [
      "Episode finished after 254 timesteps with reward=-365.1478852014667\n",
      "iter=2750\tepsilon=0.111\n",
      "Current score(mean over 3) = -311.015\n"
     ]
    },
    {
     "name": "stderr",
     "output_type": "stream",
     "text": [
      " 27%|██▋       | 2799/10500 [04:54<13:30,  9.50it/s]"
     ]
    },
    {
     "name": "stdout",
     "output_type": "stream",
     "text": [
      "Episode finished after 92 timesteps with reward=-136.53289291275354\n",
      "Episode finished after 81 timesteps with reward=-374.40071146009376\n"
     ]
    },
    {
     "name": "stderr",
     "output_type": "stream",
     "text": [
      " 27%|██▋       | 2801/10500 [04:55<13:30,  9.49it/s]"
     ]
    },
    {
     "name": "stdout",
     "output_type": "stream",
     "text": [
      "Episode finished after 174 timesteps with reward=-39.15248813987844\n",
      "iter=2800\tepsilon=0.108\n",
      "Current score(mean over 3) = -183.362\n"
     ]
    },
    {
     "name": "stderr",
     "output_type": "stream",
     "text": [
      " 27%|██▋       | 2848/10500 [04:59<13:25,  9.50it/s]"
     ]
    },
    {
     "name": "stdout",
     "output_type": "stream",
     "text": [
      "Episode finished after 212 timesteps with reward=-369.4758432052097\n",
      "Episode finished after 149 timesteps with reward=-424.02239806799525\n"
     ]
    },
    {
     "name": "stderr",
     "output_type": "stream",
     "text": [
      " 27%|██▋       | 2852/10500 [05:00<13:26,  9.49it/s]"
     ]
    },
    {
     "name": "stdout",
     "output_type": "stream",
     "text": [
      "Episode finished after 128 timesteps with reward=-268.2201897538333\n",
      "iter=2850\tepsilon=0.105\n",
      "Current score(mean over 3) = -353.906\n"
     ]
    },
    {
     "name": "stderr",
     "output_type": "stream",
     "text": [
      " 28%|██▊       | 2899/10500 [05:05<13:20,  9.50it/s]"
     ]
    },
    {
     "name": "stdout",
     "output_type": "stream",
     "text": [
      "Episode finished after 144 timesteps with reward=-345.731695581939\n",
      "Episode finished after 89 timesteps with reward=-354.5500330247613\n",
      "Episode finished after 92 timesteps with reward=-401.8651076779268\n",
      "iter=2900\tepsilon=0.102\n",
      "Current score(mean over 3) = -367.382\n"
     ]
    },
    {
     "name": "stderr",
     "output_type": "stream",
     "text": [
      " 28%|██▊       | 2951/10500 [05:10<13:15,  9.49it/s]"
     ]
    },
    {
     "name": "stdout",
     "output_type": "stream",
     "text": [
      "Episode finished after 181 timesteps with reward=-197.9616526418966\n",
      "Episode finished after 54 timesteps with reward=-318.6904126215985\n",
      "Episode finished after 55 timesteps with reward=-354.7410976361251\n",
      "iter=2950\tepsilon=0.100\n",
      "Current score(mean over 3) = -290.464\n"
     ]
    },
    {
     "name": "stderr",
     "output_type": "stream",
     "text": [
      " 29%|██▊       | 2999/10500 [05:15<13:09,  9.51it/s]"
     ]
    },
    {
     "name": "stdout",
     "output_type": "stream",
     "text": [
      "Episode finished after 238 timesteps with reward=-532.1217319775612\n",
      "Episode finished after 232 timesteps with reward=-602.307515950426\n"
     ]
    },
    {
     "name": "stderr",
     "output_type": "stream",
     "text": [
      " 29%|██▊       | 3002/10500 [05:16<13:10,  9.48it/s]"
     ]
    },
    {
     "name": "stdout",
     "output_type": "stream",
     "text": [
      "Episode finished after 295 timesteps with reward=-386.7700440435541\n",
      "iter=3000\tepsilon=0.097\n",
      "Current score(mean over 3) = -507.066\n"
     ]
    },
    {
     "name": "stderr",
     "output_type": "stream",
     "text": [
      " 29%|██▉       | 3049/10500 [05:21<13:06,  9.48it/s]"
     ]
    },
    {
     "name": "stdout",
     "output_type": "stream",
     "text": [
      "Episode finished after 309 timesteps with reward=-230.38099428564632\n",
      "Episode finished after 162 timesteps with reward=-405.71992827482177\n"
     ]
    },
    {
     "name": "stderr",
     "output_type": "stream",
     "text": [
      "\r",
      " 29%|██▉       | 3051/10500 [05:22<13:07,  9.45it/s]"
     ]
    },
    {
     "name": "stdout",
     "output_type": "stream",
     "text": [
      "Episode finished after 305 timesteps with reward=-270.13128935198506\n",
      "iter=3050\tepsilon=0.095\n",
      "Current score(mean over 3) = -302.077\n"
     ]
    },
    {
     "name": "stderr",
     "output_type": "stream",
     "text": [
      " 30%|██▉       | 3099/10500 [05:27<13:01,  9.47it/s]"
     ]
    },
    {
     "name": "stdout",
     "output_type": "stream",
     "text": [
      "Episode finished after 98 timesteps with reward=-391.87039144904935\n",
      "Episode finished after 273 timesteps with reward=-579.7996129765563\n",
      "Episode finished after 139 timesteps with reward=-395.16921016270953\n",
      "iter=3100\tepsilon=0.093\n",
      "Current score(mean over 3) = -455.613\n"
     ]
    },
    {
     "name": "stderr",
     "output_type": "stream",
     "text": [
      " 30%|██▉       | 3149/10500 [05:32<12:57,  9.46it/s]"
     ]
    },
    {
     "name": "stdout",
     "output_type": "stream",
     "text": [
      "Episode finished after 221 timesteps with reward=-285.3504076013411\n"
     ]
    },
    {
     "name": "stderr",
     "output_type": "stream",
     "text": [
      "\r",
      " 30%|███       | 3150/10500 [05:33<12:58,  9.44it/s]"
     ]
    },
    {
     "name": "stdout",
     "output_type": "stream",
     "text": [
      "Episode finished after 235 timesteps with reward=-396.7498066058906\n",
      "Episode finished after 138 timesteps with reward=-442.21284131285745\n",
      "iter=3150\tepsilon=0.091\n",
      "Current score(mean over 3) = -374.771\n"
     ]
    },
    {
     "name": "stderr",
     "output_type": "stream",
     "text": [
      " 30%|███       | 3199/10500 [05:38<12:52,  9.45it/s]"
     ]
    },
    {
     "name": "stdout",
     "output_type": "stream",
     "text": [
      "Episode finished after 173 timesteps with reward=-408.5942975802257\n",
      "Episode finished after 320 timesteps with reward=-305.41602278065204\n"
     ]
    },
    {
     "name": "stderr",
     "output_type": "stream",
     "text": [
      "\r",
      " 30%|███       | 3201/10500 [05:39<12:53,  9.43it/s]"
     ]
    },
    {
     "name": "stdout",
     "output_type": "stream",
     "text": [
      "Episode finished after 202 timesteps with reward=-469.7251396775598\n",
      "iter=3200\tepsilon=0.089\n",
      "Current score(mean over 3) = -394.578\n"
     ]
    },
    {
     "name": "stderr",
     "output_type": "stream",
     "text": [
      " 31%|███       | 3248/10500 [05:43<12:47,  9.45it/s]"
     ]
    },
    {
     "name": "stdout",
     "output_type": "stream",
     "text": [
      "Episode finished after 154 timesteps with reward=-483.0235277234428\n"
     ]
    },
    {
     "name": "stderr",
     "output_type": "stream",
     "text": [
      "\r",
      " 31%|███       | 3250/10500 [05:44<12:48,  9.43it/s]"
     ]
    },
    {
     "name": "stdout",
     "output_type": "stream",
     "text": [
      "Episode finished after 248 timesteps with reward=-467.34386903023835\n",
      "Episode finished after 193 timesteps with reward=-327.050021376785\n",
      "iter=3250\tepsilon=0.087\n",
      "Current score(mean over 3) = -425.806\n"
     ]
    },
    {
     "name": "stderr",
     "output_type": "stream",
     "text": [
      " 31%|███▏      | 3298/10500 [05:49<12:43,  9.44it/s]"
     ]
    },
    {
     "name": "stdout",
     "output_type": "stream",
     "text": [
      "Episode finished after 82 timesteps with reward=-476.3832686787316\n"
     ]
    },
    {
     "name": "stderr",
     "output_type": "stream",
     "text": [
      "\r",
      " 31%|███▏      | 3300/10500 [05:49<12:43,  9.43it/s]"
     ]
    },
    {
     "name": "stdout",
     "output_type": "stream",
     "text": [
      "Episode finished after 222 timesteps with reward=-434.7238493944217\n",
      "Episode finished after 91 timesteps with reward=-405.91075314908295\n",
      "iter=3300\tepsilon=0.085\n",
      "Current score(mean over 3) = -439.006\n"
     ]
    },
    {
     "name": "stderr",
     "output_type": "stream",
     "text": [
      " 32%|███▏      | 3348/10500 [05:54<12:37,  9.45it/s]"
     ]
    },
    {
     "name": "stdout",
     "output_type": "stream",
     "text": [
      "Episode finished after 139 timesteps with reward=-348.41851812352917\n",
      "Episode finished after 107 timesteps with reward=-85.9405506591921\n"
     ]
    },
    {
     "name": "stderr",
     "output_type": "stream",
     "text": [
      " 32%|███▏      | 3352/10500 [05:55<12:37,  9.44it/s]"
     ]
    },
    {
     "name": "stdout",
     "output_type": "stream",
     "text": [
      "Episode finished after 142 timesteps with reward=-205.6137500304668\n",
      "iter=3350\tepsilon=0.083\n",
      "Current score(mean over 3) = -213.324\n"
     ]
    },
    {
     "name": "stderr",
     "output_type": "stream",
     "text": [
      " 32%|███▏      | 3400/10500 [06:00<12:31,  9.44it/s]"
     ]
    },
    {
     "name": "stdout",
     "output_type": "stream",
     "text": [
      "Episode finished after 177 timesteps with reward=-236.3470386622874\n",
      "Episode finished after 96 timesteps with reward=-166.09542185415054\n",
      "Episode finished after 104 timesteps with reward=-156.62572218461798\n",
      "iter=3400\tepsilon=0.082\n",
      "Current score(mean over 3) = -186.356\n"
     ]
    },
    {
     "name": "stderr",
     "output_type": "stream",
     "text": [
      " 33%|███▎      | 3448/10500 [06:04<12:25,  9.46it/s]"
     ]
    },
    {
     "name": "stdout",
     "output_type": "stream",
     "text": [
      "Episode finished after 132 timesteps with reward=-393.08380659665823\n",
      "Episode finished after 195 timesteps with reward=-249.86974715898566\n"
     ]
    },
    {
     "name": "stderr",
     "output_type": "stream",
     "text": [
      " 33%|███▎      | 3452/10500 [06:05<12:25,  9.45it/s]"
     ]
    },
    {
     "name": "stdout",
     "output_type": "stream",
     "text": [
      "Episode finished after 135 timesteps with reward=-674.2087111613616\n",
      "iter=3450\tepsilon=0.080\n",
      "Current score(mean over 3) = -439.054\n"
     ]
    },
    {
     "name": "stderr",
     "output_type": "stream",
     "text": [
      " 33%|███▎      | 3499/10500 [06:09<12:19,  9.47it/s]"
     ]
    },
    {
     "name": "stdout",
     "output_type": "stream",
     "text": [
      "Episode finished after 236 timesteps with reward=-336.9070789816704\n",
      "Episode finished after 192 timesteps with reward=-155.12777056595803\n"
     ]
    },
    {
     "name": "stderr",
     "output_type": "stream",
     "text": [
      "\r",
      " 33%|███▎      | 3501/10500 [06:10<12:20,  9.45it/s]"
     ]
    },
    {
     "name": "stdout",
     "output_type": "stream",
     "text": [
      "Episode finished after 185 timesteps with reward=-479.6788181818821\n",
      "iter=3500\tepsilon=0.079\n",
      "Current score(mean over 3) = -323.905\n"
     ]
    },
    {
     "name": "stderr",
     "output_type": "stream",
     "text": [
      " 34%|███▍      | 3548/10500 [06:14<12:14,  9.47it/s]"
     ]
    },
    {
     "name": "stdout",
     "output_type": "stream",
     "text": [
      "Episode finished after 208 timesteps with reward=-218.79401098439493\n",
      "Episode finished after 137 timesteps with reward=-317.03900253008146\n"
     ]
    },
    {
     "name": "stderr",
     "output_type": "stream",
     "text": [
      " 34%|███▍      | 3551/10500 [06:15<12:15,  9.45it/s]"
     ]
    },
    {
     "name": "stdout",
     "output_type": "stream",
     "text": [
      "Episode finished after 169 timesteps with reward=-268.52848828252905\n",
      "iter=3550\tepsilon=0.077\n",
      "Current score(mean over 3) = -268.121\n"
     ]
    },
    {
     "name": "stderr",
     "output_type": "stream",
     "text": [
      " 34%|███▍      | 3598/10500 [06:19<12:08,  9.47it/s]"
     ]
    },
    {
     "name": "stdout",
     "output_type": "stream",
     "text": [
      "Episode finished after 113 timesteps with reward=-19.72315338492669\n",
      "Episode finished after 156 timesteps with reward=-35.15005996873131\n"
     ]
    },
    {
     "name": "stderr",
     "output_type": "stream",
     "text": [
      " 34%|███▍      | 3602/10500 [06:20<12:08,  9.46it/s]"
     ]
    },
    {
     "name": "stdout",
     "output_type": "stream",
     "text": [
      "Episode finished after 90 timesteps with reward=-416.14815243846147\n",
      "iter=3600\tepsilon=0.076\n",
      "Current score(mean over 3) = -157.007\n"
     ]
    },
    {
     "name": "stderr",
     "output_type": "stream",
     "text": [
      " 35%|███▍      | 3648/10500 [06:24<12:02,  9.48it/s]"
     ]
    },
    {
     "name": "stdout",
     "output_type": "stream",
     "text": [
      "Episode finished after 74 timesteps with reward=-496.2500319868068\n",
      "Episode finished after 152 timesteps with reward=-131.29467227296286\n"
     ]
    },
    {
     "name": "stderr",
     "output_type": "stream",
     "text": [
      " 35%|███▍      | 3652/10500 [06:25<12:03,  9.47it/s]"
     ]
    },
    {
     "name": "stdout",
     "output_type": "stream",
     "text": [
      "Episode finished after 136 timesteps with reward=-526.5057765473496\n",
      "iter=3650\tepsilon=0.075\n",
      "Current score(mean over 3) = -384.683\n"
     ]
    },
    {
     "name": "stderr",
     "output_type": "stream",
     "text": [
      " 35%|███▌      | 3698/10500 [06:29<11:57,  9.48it/s]"
     ]
    },
    {
     "name": "stdout",
     "output_type": "stream",
     "text": [
      "Episode finished after 86 timesteps with reward=-254.65640666544965\n",
      "Episode finished after 137 timesteps with reward=-358.5101789703584\n"
     ]
    },
    {
     "name": "stderr",
     "output_type": "stream",
     "text": [
      " 35%|███▌      | 3702/10500 [06:30<11:57,  9.48it/s]"
     ]
    },
    {
     "name": "stdout",
     "output_type": "stream",
     "text": [
      "Episode finished after 144 timesteps with reward=-380.55909946565254\n",
      "iter=3700\tepsilon=0.073\n",
      "Current score(mean over 3) = -331.242\n"
     ]
    },
    {
     "name": "stderr",
     "output_type": "stream",
     "text": [
      " 36%|███▌      | 3750/10500 [06:35<11:51,  9.48it/s]"
     ]
    },
    {
     "name": "stdout",
     "output_type": "stream",
     "text": [
      "Episode finished after 149 timesteps with reward=-389.63916256489074\n",
      "Episode finished after 65 timesteps with reward=-460.33588401047143\n",
      "Episode finished after 89 timesteps with reward=-407.3699983042478\n",
      "iter=3750\tepsilon=0.072\n",
      "Current score(mean over 3) = -419.115\n"
     ]
    },
    {
     "name": "stderr",
     "output_type": "stream",
     "text": [
      " 36%|███▌      | 3799/10500 [06:40<11:45,  9.49it/s]"
     ]
    },
    {
     "name": "stdout",
     "output_type": "stream",
     "text": [
      "Episode finished after 93 timesteps with reward=-81.50094883155829\n",
      "Episode finished after 135 timesteps with reward=-94.7137337908085\n"
     ]
    },
    {
     "name": "stderr",
     "output_type": "stream",
     "text": [
      " 36%|███▌      | 3802/10500 [06:40<11:46,  9.49it/s]"
     ]
    },
    {
     "name": "stdout",
     "output_type": "stream",
     "text": [
      "Episode finished after 198 timesteps with reward=-510.70494319604285\n",
      "iter=3800\tepsilon=0.071\n",
      "Current score(mean over 3) = -228.973\n"
     ]
    },
    {
     "name": "stderr",
     "output_type": "stream",
     "text": [
      " 37%|███▋      | 3850/10500 [06:45<11:40,  9.49it/s]"
     ]
    },
    {
     "name": "stdout",
     "output_type": "stream",
     "text": [
      "Episode finished after 77 timesteps with reward=-662.8992229311615\n",
      "Episode finished after 89 timesteps with reward=-740.6499603710173\n",
      "Episode finished after 87 timesteps with reward=-225.85156581205217\n",
      "iter=3850\tepsilon=0.070\n",
      "Current score(mean over 3) = -543.134\n"
     ]
    },
    {
     "name": "stderr",
     "output_type": "stream",
     "text": [
      " 37%|███▋      | 3898/10500 [06:49<11:34,  9.51it/s]"
     ]
    },
    {
     "name": "stdout",
     "output_type": "stream",
     "text": [
      "Episode finished after 77 timesteps with reward=-481.0140905512356\n",
      "Episode finished after 198 timesteps with reward=-311.58147532092437\n"
     ]
    },
    {
     "name": "stderr",
     "output_type": "stream",
     "text": [
      " 37%|███▋      | 3902/10500 [06:50<11:34,  9.50it/s]"
     ]
    },
    {
     "name": "stdout",
     "output_type": "stream",
     "text": [
      "Episode finished after 101 timesteps with reward=-69.2125875483678\n",
      "iter=3900\tepsilon=0.069\n",
      "Current score(mean over 3) = -287.269\n"
     ]
    },
    {
     "name": "stderr",
     "output_type": "stream",
     "text": [
      " 38%|███▊      | 3949/10500 [06:54<11:28,  9.52it/s]"
     ]
    },
    {
     "name": "stdout",
     "output_type": "stream",
     "text": [
      "Episode finished after 144 timesteps with reward=-433.21594250036674\n",
      "Episode finished after 77 timesteps with reward=-391.16296055082813\n",
      "Episode finished after 66 timesteps with reward=-349.42260259235786\n",
      "iter=3950\tepsilon=0.068\n",
      "Current score(mean over 3) = -391.267\n"
     ]
    },
    {
     "name": "stderr",
     "output_type": "stream",
     "text": [
      " 38%|███▊      | 3999/10500 [06:59<11:22,  9.53it/s]"
     ]
    },
    {
     "name": "stdout",
     "output_type": "stream",
     "text": [
      "Episode finished after 121 timesteps with reward=-236.81885212000907\n",
      "Episode finished after 82 timesteps with reward=-309.6768818919974\n",
      "Episode finished after 89 timesteps with reward=-374.4055442937997\n",
      "iter=4000\tepsilon=0.067\n",
      "Current score(mean over 3) = -306.967\n"
     ]
    },
    {
     "name": "stderr",
     "output_type": "stream",
     "text": [
      " 39%|███▊      | 4049/10500 [07:04<11:16,  9.54it/s]"
     ]
    },
    {
     "name": "stdout",
     "output_type": "stream",
     "text": [
      "Episode finished after 161 timesteps with reward=-460.7569990569969\n",
      "Episode finished after 112 timesteps with reward=-300.91837863028536\n",
      "Episode finished after 92 timesteps with reward=-202.21252406719213\n",
      "iter=4050\tepsilon=0.067\n",
      "Current score(mean over 3) = -321.296\n"
     ]
    },
    {
     "name": "stderr",
     "output_type": "stream",
     "text": [
      " 39%|███▉      | 4098/10500 [07:09<11:11,  9.54it/s]"
     ]
    },
    {
     "name": "stdout",
     "output_type": "stream",
     "text": [
      "Episode finished after 74 timesteps with reward=-229.2328479108419\n",
      "Episode finished after 84 timesteps with reward=-257.4963498679483\n"
     ]
    },
    {
     "name": "stderr",
     "output_type": "stream",
     "text": [
      " 39%|███▉      | 4101/10500 [07:10<11:11,  9.53it/s]"
     ]
    },
    {
     "name": "stdout",
     "output_type": "stream",
     "text": [
      "Episode finished after 198 timesteps with reward=-371.03094293531484\n",
      "iter=4100\tepsilon=0.066\n",
      "Current score(mean over 3) = -285.920\n"
     ]
    },
    {
     "name": "stderr",
     "output_type": "stream",
     "text": [
      " 40%|███▉      | 4148/10500 [07:14<11:05,  9.55it/s]"
     ]
    },
    {
     "name": "stdout",
     "output_type": "stream",
     "text": [
      "Episode finished after 104 timesteps with reward=-317.0477047271323\n",
      "Episode finished after 124 timesteps with reward=-156.68222954511123\n"
     ]
    },
    {
     "name": "stderr",
     "output_type": "stream",
     "text": [
      " 40%|███▉      | 4152/10500 [07:15<11:05,  9.54it/s]"
     ]
    },
    {
     "name": "stdout",
     "output_type": "stream",
     "text": [
      "Episode finished after 163 timesteps with reward=-167.76028968290728\n",
      "iter=4150\tepsilon=0.065\n",
      "Current score(mean over 3) = -213.830\n"
     ]
    },
    {
     "name": "stderr",
     "output_type": "stream",
     "text": [
      " 40%|████      | 4200/10500 [07:19<10:59,  9.56it/s]"
     ]
    },
    {
     "name": "stdout",
     "output_type": "stream",
     "text": [
      "Episode finished after 106 timesteps with reward=-335.22111709455464\n",
      "Episode finished after 68 timesteps with reward=-565.2508313486733\n",
      "Episode finished after 110 timesteps with reward=-440.4202683814498\n",
      "iter=4200\tepsilon=0.064\n",
      "Current score(mean over 3) = -446.964\n"
     ]
    },
    {
     "name": "stderr",
     "output_type": "stream",
     "text": [
      " 40%|████      | 4250/10500 [07:24<10:53,  9.57it/s]"
     ]
    },
    {
     "name": "stdout",
     "output_type": "stream",
     "text": [
      "Episode finished after 83 timesteps with reward=-505.4553629543176\n",
      "Episode finished after 99 timesteps with reward=-615.543450652437\n",
      "Episode finished after 127 timesteps with reward=-477.7171972664348\n",
      "iter=4250\tepsilon=0.064\n",
      "Current score(mean over 3) = -532.905\n"
     ]
    },
    {
     "name": "stderr",
     "output_type": "stream",
     "text": [
      " 41%|████      | 4300/10500 [07:29<10:47,  9.57it/s]"
     ]
    },
    {
     "name": "stdout",
     "output_type": "stream",
     "text": [
      "Episode finished after 111 timesteps with reward=-122.39062003251664\n",
      "Episode finished after 57 timesteps with reward=-329.70137178024856\n",
      "Episode finished after 109 timesteps with reward=-136.22996024931336\n",
      "iter=4300\tepsilon=0.063\n",
      "Current score(mean over 3) = -196.107\n"
     ]
    },
    {
     "name": "stderr",
     "output_type": "stream",
     "text": [
      " 41%|████▏     | 4348/10500 [07:33<10:41,  9.59it/s]"
     ]
    },
    {
     "name": "stdout",
     "output_type": "stream",
     "text": [
      "Episode finished after 138 timesteps with reward=-498.3697686704397\n",
      "Episode finished after 72 timesteps with reward=-162.54809082933951\n"
     ]
    },
    {
     "name": "stderr",
     "output_type": "stream",
     "text": [
      " 41%|████▏     | 4352/10500 [07:34<10:41,  9.58it/s]"
     ]
    },
    {
     "name": "stdout",
     "output_type": "stream",
     "text": [
      "Episode finished after 247 timesteps with reward=-816.8364722005374\n",
      "iter=4350\tepsilon=0.062\n",
      "Current score(mean over 3) = -492.585\n"
     ]
    },
    {
     "name": "stderr",
     "output_type": "stream",
     "text": [
      " 42%|████▏     | 4400/10500 [07:38<10:36,  9.59it/s]"
     ]
    },
    {
     "name": "stdout",
     "output_type": "stream",
     "text": [
      "Episode finished after 171 timesteps with reward=-323.3136098883955\n",
      "Episode finished after 130 timesteps with reward=-419.9972990567874\n",
      "Episode finished after 69 timesteps with reward=-362.2994401215357\n",
      "iter=4400\tepsilon=0.062\n",
      "Current score(mean over 3) = -368.537\n"
     ]
    },
    {
     "name": "stderr",
     "output_type": "stream",
     "text": [
      " 42%|████▏     | 4449/10500 [07:43<10:30,  9.60it/s]"
     ]
    },
    {
     "name": "stdout",
     "output_type": "stream",
     "text": [
      "Episode finished after 114 timesteps with reward=-138.63910386854565\n",
      "Episode finished after 161 timesteps with reward=-258.2132677234074\n",
      "Episode finished after 55 timesteps with reward=-344.804296716676\n",
      "iter=4450\tepsilon=0.061\n",
      "Current score(mean over 3) = -247.219\n"
     ]
    },
    {
     "name": "stderr",
     "output_type": "stream",
     "text": [
      " 43%|████▎     | 4499/10500 [07:48<10:24,  9.61it/s]"
     ]
    },
    {
     "name": "stdout",
     "output_type": "stream",
     "text": [
      "Episode finished after 216 timesteps with reward=-578.4524035508621\n",
      "Episode finished after 111 timesteps with reward=-328.29089454347746\n",
      "Episode finished after 63 timesteps with reward=-260.5014828714484\n",
      "iter=4500\tepsilon=0.061\n",
      "Current score(mean over 3) = -389.082\n"
     ]
    },
    {
     "name": "stderr",
     "output_type": "stream",
     "text": [
      " 43%|████▎     | 4549/10500 [07:53<10:18,  9.62it/s]"
     ]
    },
    {
     "name": "stdout",
     "output_type": "stream",
     "text": [
      "Episode finished after 239 timesteps with reward=-608.0792714884815\n",
      "Episode finished after 173 timesteps with reward=-308.76794722158013\n"
     ]
    },
    {
     "name": "stderr",
     "output_type": "stream",
     "text": [
      "\r",
      " 43%|████▎     | 4551/10500 [07:53<10:19,  9.60it/s]"
     ]
    },
    {
     "name": "stdout",
     "output_type": "stream",
     "text": [
      "Episode finished after 182 timesteps with reward=-237.63016274214877\n",
      "iter=4550\tepsilon=0.060\n",
      "Current score(mean over 3) = -384.826\n"
     ]
    },
    {
     "name": "stderr",
     "output_type": "stream",
     "text": [
      " 44%|████▍     | 4599/10500 [07:58<10:13,  9.62it/s]"
     ]
    },
    {
     "name": "stdout",
     "output_type": "stream",
     "text": [
      "Episode finished after 60 timesteps with reward=-264.5659330394849\n",
      "Episode finished after 128 timesteps with reward=-475.69618324285943\n",
      "Episode finished after 69 timesteps with reward=-220.0495451136035\n",
      "iter=4600\tepsilon=0.060\n",
      "Current score(mean over 3) = -320.104\n"
     ]
    },
    {
     "name": "stderr",
     "output_type": "stream",
     "text": [
      " 44%|████▍     | 4650/10500 [08:03<10:07,  9.62it/s]"
     ]
    },
    {
     "name": "stdout",
     "output_type": "stream",
     "text": [
      "Episode finished after 113 timesteps with reward=-164.70017014089763\n",
      "Episode finished after 65 timesteps with reward=-323.0001524449129\n",
      "Episode finished after 127 timesteps with reward=-279.91820278501507\n",
      "iter=4650\tepsilon=0.059\n",
      "Current score(mean over 3) = -255.873\n"
     ]
    },
    {
     "name": "stderr",
     "output_type": "stream",
     "text": [
      " 45%|████▍     | 4698/10500 [08:07<10:02,  9.63it/s]"
     ]
    },
    {
     "name": "stdout",
     "output_type": "stream",
     "text": [
      "Episode finished after 200 timesteps with reward=-604.9743996706588\n",
      "Episode finished after 94 timesteps with reward=-169.93299968140786\n"
     ]
    },
    {
     "name": "stderr",
     "output_type": "stream",
     "text": [
      " 45%|████▍     | 4702/10500 [08:08<10:02,  9.63it/s]"
     ]
    },
    {
     "name": "stdout",
     "output_type": "stream",
     "text": [
      "Episode finished after 164 timesteps with reward=-386.703523324256\n",
      "iter=4700\tepsilon=0.059\n",
      "Current score(mean over 3) = -387.204\n"
     ]
    },
    {
     "name": "stderr",
     "output_type": "stream",
     "text": [
      " 45%|████▌     | 4749/10500 [08:12<09:56,  9.64it/s]"
     ]
    },
    {
     "name": "stdout",
     "output_type": "stream",
     "text": [
      "Episode finished after 204 timesteps with reward=-361.59351409895675\n",
      "Episode finished after 122 timesteps with reward=-300.2109045439383\n",
      "Episode finished after 100 timesteps with reward=-162.33467212213685\n",
      "iter=4750\tepsilon=0.058\n",
      "Current score(mean over 3) = -274.713\n"
     ]
    },
    {
     "name": "stderr",
     "output_type": "stream",
     "text": [
      " 46%|████▌     | 4799/10500 [08:17<09:51,  9.64it/s]"
     ]
    },
    {
     "name": "stdout",
     "output_type": "stream",
     "text": [
      "Episode finished after 235 timesteps with reward=-729.3758802042634\n",
      "Episode finished after 170 timesteps with reward=-397.22013632467684\n"
     ]
    },
    {
     "name": "stderr",
     "output_type": "stream",
     "text": [
      "\r",
      " 46%|████▌     | 4801/10500 [08:18<09:51,  9.63it/s]"
     ]
    },
    {
     "name": "stdout",
     "output_type": "stream",
     "text": [
      "Episode finished after 251 timesteps with reward=-379.910662694263\n",
      "iter=4800\tepsilon=0.058\n",
      "Current score(mean over 3) = -502.169\n"
     ]
    },
    {
     "name": "stderr",
     "output_type": "stream",
     "text": [
      " 46%|████▌     | 4849/10500 [08:22<09:46,  9.64it/s]"
     ]
    },
    {
     "name": "stdout",
     "output_type": "stream",
     "text": [
      "Episode finished after 154 timesteps with reward=-499.5604946805315\n",
      "Episode finished after 156 timesteps with reward=-143.94310723385894\n",
      "Episode finished after 76 timesteps with reward=-101.126350063747\n",
      "iter=4850\tepsilon=0.057\n",
      "Current score(mean over 3) = -248.210\n"
     ]
    },
    {
     "name": "stderr",
     "output_type": "stream",
     "text": [
      " 47%|████▋     | 4899/10500 [08:27<09:40,  9.65it/s]"
     ]
    },
    {
     "name": "stdout",
     "output_type": "stream",
     "text": [
      "Episode finished after 150 timesteps with reward=-308.740391720508\n",
      "Episode finished after 81 timesteps with reward=-455.6228773016912\n",
      "Episode finished after 78 timesteps with reward=-306.04199027719176\n",
      "iter=4900\tepsilon=0.057\n",
      "Current score(mean over 3) = -356.802\n"
     ]
    },
    {
     "name": "stderr",
     "output_type": "stream",
     "text": [
      " 47%|████▋     | 4949/10500 [08:32<09:34,  9.66it/s]"
     ]
    },
    {
     "name": "stdout",
     "output_type": "stream",
     "text": [
      "Episode finished after 119 timesteps with reward=-335.87801976822686\n",
      "Episode finished after 94 timesteps with reward=-198.8376707424934\n",
      "Episode finished after 76 timesteps with reward=-146.00437523511482\n",
      "iter=4950\tepsilon=0.057\n",
      "Current score(mean over 3) = -226.907\n"
     ]
    },
    {
     "name": "stderr",
     "output_type": "stream",
     "text": [
      " 48%|████▊     | 4999/10500 [08:37<09:29,  9.67it/s]"
     ]
    },
    {
     "name": "stdout",
     "output_type": "stream",
     "text": [
      "Episode finished after 314 timesteps with reward=-452.2994158144447\n",
      "Episode finished after 185 timesteps with reward=-468.03422906120306\n"
     ]
    },
    {
     "name": "stderr",
     "output_type": "stream",
     "text": [
      "\r",
      " 48%|████▊     | 5001/10500 [08:37<09:29,  9.66it/s]"
     ]
    },
    {
     "name": "stdout",
     "output_type": "stream",
     "text": [
      "Episode finished after 92 timesteps with reward=-135.11329651401556\n",
      "iter=5000\tepsilon=0.056\n",
      "Current score(mean over 3) = -351.816\n"
     ]
    },
    {
     "name": "stderr",
     "output_type": "stream",
     "text": [
      " 48%|████▊     | 5049/10500 [08:42<09:23,  9.67it/s]"
     ]
    },
    {
     "name": "stdout",
     "output_type": "stream",
     "text": [
      "Episode finished after 83 timesteps with reward=-235.42356709275455\n",
      "Episode finished after 85 timesteps with reward=11.8855714716926\n",
      "Episode finished after 106 timesteps with reward=-333.98519785369353\n",
      "iter=5050\tepsilon=0.056\n",
      "Current score(mean over 3) = -185.841\n"
     ]
    },
    {
     "name": "stderr",
     "output_type": "stream",
     "text": [
      " 49%|████▊     | 5099/10500 [08:46<09:18,  9.68it/s]"
     ]
    },
    {
     "name": "stdout",
     "output_type": "stream",
     "text": [
      "Episode finished after 148 timesteps with reward=-368.0433225779762\n",
      "Episode finished after 92 timesteps with reward=-300.43983615985405\n",
      "Episode finished after 83 timesteps with reward=-126.4608095032547\n",
      "iter=5100\tepsilon=0.056\n",
      "Current score(mean over 3) = -264.981\n"
     ]
    },
    {
     "name": "stderr",
     "output_type": "stream",
     "text": [
      " 49%|████▉     | 5149/10500 [08:51<09:12,  9.68it/s]"
     ]
    },
    {
     "name": "stdout",
     "output_type": "stream",
     "text": [
      "Episode finished after 139 timesteps with reward=-353.4584387390498\n",
      "Episode finished after 133 timesteps with reward=-312.31024852705264\n"
     ]
    },
    {
     "name": "stderr",
     "output_type": "stream",
     "text": [
      "\r",
      " 49%|████▉     | 5151/10500 [08:52<09:12,  9.68it/s]"
     ]
    },
    {
     "name": "stdout",
     "output_type": "stream",
     "text": [
      "Episode finished after 131 timesteps with reward=-388.4404061750373\n",
      "iter=5150\tepsilon=0.056\n",
      "Current score(mean over 3) = -351.403\n"
     ]
    },
    {
     "name": "stderr",
     "output_type": "stream",
     "text": [
      " 50%|████▉     | 5199/10500 [08:56<09:07,  9.69it/s]"
     ]
    },
    {
     "name": "stdout",
     "output_type": "stream",
     "text": [
      "Episode finished after 82 timesteps with reward=-135.93889414053524\n",
      "Episode finished after 127 timesteps with reward=-417.3395577806504\n",
      "Episode finished after 106 timesteps with reward=-172.0265720373443\n",
      "iter=5200\tepsilon=0.055\n",
      "Current score(mean over 3) = -241.768\n"
     ]
    },
    {
     "name": "stderr",
     "output_type": "stream",
     "text": [
      " 50%|█████     | 5250/10500 [09:01<09:01,  9.69it/s]"
     ]
    },
    {
     "name": "stdout",
     "output_type": "stream",
     "text": [
      "Episode finished after 103 timesteps with reward=-294.3708797175361\n",
      "Episode finished after 141 timesteps with reward=-200.17282528596814\n",
      "Episode finished after 84 timesteps with reward=-124.16968077532171\n",
      "iter=5250\tepsilon=0.055\n",
      "Current score(mean over 3) = -206.238\n"
     ]
    },
    {
     "name": "stderr",
     "output_type": "stream",
     "text": [
      " 50%|█████     | 5299/10500 [09:06<08:56,  9.70it/s]"
     ]
    },
    {
     "name": "stdout",
     "output_type": "stream",
     "text": [
      "Episode finished after 110 timesteps with reward=-86.20072290869099\n",
      "Episode finished after 103 timesteps with reward=-256.5292856453566\n",
      "Episode finished after 113 timesteps with reward=-257.2069605894461\n",
      "iter=5300\tepsilon=0.055\n",
      "Current score(mean over 3) = -199.979\n"
     ]
    },
    {
     "name": "stderr",
     "output_type": "stream",
     "text": [
      " 51%|█████     | 5350/10500 [09:11<08:51,  9.70it/s]"
     ]
    },
    {
     "name": "stdout",
     "output_type": "stream",
     "text": [
      "Episode finished after 233 timesteps with reward=-219.54466640105653\n",
      "Episode finished after 81 timesteps with reward=-74.81033690477898\n",
      "Episode finished after 83 timesteps with reward=-92.60304154787569\n",
      "iter=5350\tepsilon=0.055\n",
      "Current score(mean over 3) = -128.986\n"
     ]
    },
    {
     "name": "stderr",
     "output_type": "stream",
     "text": [
      " 51%|█████▏    | 5399/10500 [09:16<08:45,  9.71it/s]"
     ]
    },
    {
     "name": "stdout",
     "output_type": "stream",
     "text": [
      "Episode finished after 114 timesteps with reward=-253.06581391050986\n",
      "Episode finished after 95 timesteps with reward=-237.1954871201315\n",
      "Episode finished after 69 timesteps with reward=-258.16625215195165\n",
      "iter=5400\tepsilon=0.054\n",
      "Current score(mean over 3) = -249.476\n"
     ]
    },
    {
     "name": "stderr",
     "output_type": "stream",
     "text": [
      " 52%|█████▏    | 5449/10500 [09:20<08:39,  9.72it/s]"
     ]
    },
    {
     "name": "stdout",
     "output_type": "stream",
     "text": [
      "Episode finished after 73 timesteps with reward=-252.37661027529995\n",
      "Episode finished after 72 timesteps with reward=-234.7982097510863\n",
      "Episode finished after 144 timesteps with reward=-256.7225568956411\n",
      "iter=5450\tepsilon=0.054\n",
      "Current score(mean over 3) = -247.966\n"
     ]
    },
    {
     "name": "stderr",
     "output_type": "stream",
     "text": [
      " 52%|█████▏    | 5499/10500 [09:25<08:34,  9.72it/s]"
     ]
    },
    {
     "name": "stdout",
     "output_type": "stream",
     "text": [
      "Episode finished after 128 timesteps with reward=-227.01550581824733\n",
      "Episode finished after 99 timesteps with reward=-145.04128890979052\n",
      "Episode finished after 145 timesteps with reward=-188.1802920054505\n",
      "iter=5500\tepsilon=0.054\n",
      "Current score(mean over 3) = -186.746\n"
     ]
    },
    {
     "name": "stderr",
     "output_type": "stream",
     "text": [
      " 53%|█████▎    | 5549/10500 [09:30<08:28,  9.73it/s]"
     ]
    },
    {
     "name": "stdout",
     "output_type": "stream",
     "text": [
      "Episode finished after 120 timesteps with reward=-150.4452859975167\n",
      "Episode finished after 172 timesteps with reward=-251.38814973788382\n"
     ]
    },
    {
     "name": "stderr",
     "output_type": "stream",
     "text": [
      "\r",
      " 53%|█████▎    | 5551/10500 [09:30<08:28,  9.72it/s]"
     ]
    },
    {
     "name": "stdout",
     "output_type": "stream",
     "text": [
      "Episode finished after 173 timesteps with reward=-145.3792132879727\n",
      "iter=5550\tepsilon=0.054\n",
      "Current score(mean over 3) = -182.404\n"
     ]
    },
    {
     "name": "stderr",
     "output_type": "stream",
     "text": [
      " 53%|█████▎    | 5599/10500 [09:35<08:23,  9.74it/s]"
     ]
    },
    {
     "name": "stdout",
     "output_type": "stream",
     "text": [
      "Episode finished after 107 timesteps with reward=-290.82502581707223\n",
      "Episode finished after 165 timesteps with reward=-291.18717132531606\n",
      "Episode finished after 69 timesteps with reward=-117.10953458149477\n",
      "iter=5600\tepsilon=0.054"
     ]
    },
    {
     "name": "stderr",
     "output_type": "stream",
     "text": [
      "\r",
      " 53%|█████▎    | 5601/10500 [09:35<08:23,  9.73it/s]"
     ]
    },
    {
     "name": "stdout",
     "output_type": "stream",
     "text": [
      "\n",
      "Current score(mean over 3) = -233.041\n"
     ]
    },
    {
     "name": "stderr",
     "output_type": "stream",
     "text": [
      " 54%|█████▍    | 5650/10500 [09:40<08:18,  9.73it/s]"
     ]
    },
    {
     "name": "stdout",
     "output_type": "stream",
     "text": [
      "Episode finished after 134 timesteps with reward=-196.30785354549784\n",
      "Episode finished after 113 timesteps with reward=-182.85896903854956\n",
      "Episode finished after 129 timesteps with reward=-171.7905264413105\n",
      "iter=5650\tepsilon=0.053\n",
      "Current score(mean over 3) = -183.652\n"
     ]
    },
    {
     "name": "stderr",
     "output_type": "stream",
     "text": [
      " 54%|█████▍    | 5698/10500 [09:44<08:12,  9.74it/s]"
     ]
    },
    {
     "name": "stdout",
     "output_type": "stream",
     "text": [
      "Episode finished after 133 timesteps with reward=-149.28331485497813\n",
      "Episode finished after 92 timesteps with reward=-114.94785134918179\n"
     ]
    },
    {
     "name": "stderr",
     "output_type": "stream",
     "text": [
      " 54%|█████▍    | 5702/10500 [09:45<08:12,  9.74it/s]"
     ]
    },
    {
     "name": "stdout",
     "output_type": "stream",
     "text": [
      "Episode finished after 165 timesteps with reward=-153.33651064857406\n",
      "iter=5700\tepsilon=0.053\n",
      "Current score(mean over 3) = -139.189\n"
     ]
    },
    {
     "name": "stderr",
     "output_type": "stream",
     "text": [
      " 55%|█████▍    | 5748/10500 [09:49<08:07,  9.75it/s]"
     ]
    },
    {
     "name": "stdout",
     "output_type": "stream",
     "text": [
      "Episode finished after 231 timesteps with reward=-315.56931739812114\n",
      "Episode finished after 201 timesteps with reward=-176.9396247854308\n"
     ]
    },
    {
     "name": "stderr",
     "output_type": "stream",
     "text": [
      " 55%|█████▍    | 5752/10500 [09:50<08:07,  9.74it/s]"
     ]
    },
    {
     "name": "stdout",
     "output_type": "stream",
     "text": [
      "Episode finished after 202 timesteps with reward=-268.86078504527495\n",
      "iter=5750\tepsilon=0.053\n",
      "Current score(mean over 3) = -253.790\n"
     ]
    },
    {
     "name": "stderr",
     "output_type": "stream",
     "text": [
      " 55%|█████▌    | 5798/10500 [09:55<08:02,  9.74it/s]"
     ]
    },
    {
     "name": "stdout",
     "output_type": "stream",
     "text": [
      "Episode finished after 142 timesteps with reward=-222.77628434204257\n",
      "Episode finished after 146 timesteps with reward=-97.81057639568533\n"
     ]
    },
    {
     "name": "stderr",
     "output_type": "stream",
     "text": [
      "\r",
      " 55%|█████▌    | 5800/10500 [09:55<08:02,  9.74it/s]"
     ]
    },
    {
     "name": "stdout",
     "output_type": "stream",
     "text": [
      "Episode finished after 184 timesteps with reward=-209.6377705156603\n",
      "iter=5800\tepsilon=0.053\n",
      "Current score(mean over 3) = -176.742\n"
     ]
    },
    {
     "name": "stderr",
     "output_type": "stream",
     "text": [
      " 56%|█████▌    | 5849/10500 [10:00<07:57,  9.74it/s]"
     ]
    },
    {
     "name": "stdout",
     "output_type": "stream",
     "text": [
      "Episode finished after 136 timesteps with reward=-137.25359649203406\n",
      "Episode finished after 176 timesteps with reward=-104.25075900470372\n"
     ]
    },
    {
     "name": "stderr",
     "output_type": "stream",
     "text": [
      "\r",
      " 56%|█████▌    | 5851/10500 [10:00<07:57,  9.74it/s]"
     ]
    },
    {
     "name": "stdout",
     "output_type": "stream",
     "text": [
      "Episode finished after 159 timesteps with reward=-120.57175160231131\n",
      "iter=5850\tepsilon=0.053\n",
      "Current score(mean over 3) = -120.692\n"
     ]
    },
    {
     "name": "stderr",
     "output_type": "stream",
     "text": [
      " 56%|█████▌    | 5899/10500 [10:05<07:52,  9.74it/s]"
     ]
    },
    {
     "name": "stdout",
     "output_type": "stream",
     "text": [
      "Episode finished after 262 timesteps with reward=-87.14267481524176\n",
      "Episode finished after 171 timesteps with reward=-158.3631758172506\n"
     ]
    },
    {
     "name": "stderr",
     "output_type": "stream",
     "text": [
      "\r",
      " 56%|█████▌    | 5901/10500 [10:06<07:52,  9.73it/s]"
     ]
    },
    {
     "name": "stdout",
     "output_type": "stream",
     "text": [
      "Episode finished after 293 timesteps with reward=-137.98485088377933\n",
      "iter=5900\tepsilon=0.053\n",
      "Current score(mean over 3) = -127.830\n"
     ]
    },
    {
     "name": "stderr",
     "output_type": "stream",
     "text": [
      " 57%|█████▋    | 5948/10500 [10:10<07:47,  9.74it/s]"
     ]
    },
    {
     "name": "stdout",
     "output_type": "stream",
     "text": [
      "Episode finished after 179 timesteps with reward=-6.544825332314716\n"
     ]
    },
    {
     "name": "stderr",
     "output_type": "stream",
     "text": [
      "\r",
      " 57%|█████▋    | 5950/10500 [10:11<07:47,  9.73it/s]"
     ]
    },
    {
     "name": "stdout",
     "output_type": "stream",
     "text": [
      "Episode finished after 242 timesteps with reward=-212.43678948314877\n",
      "Episode finished after 181 timesteps with reward=-91.33454947009325\n",
      "iter=5950\tepsilon=0.052\n",
      "Current score(mean over 3) = -103.439\n"
     ]
    },
    {
     "name": "stderr",
     "output_type": "stream",
     "text": [
      " 57%|█████▋    | 5999/10500 [10:16<07:42,  9.73it/s]"
     ]
    },
    {
     "name": "stdout",
     "output_type": "stream",
     "text": [
      "Episode finished after 154 timesteps with reward=-244.50164013789285\n",
      "Episode finished after 237 timesteps with reward=-244.86071201655915\n"
     ]
    },
    {
     "name": "stderr",
     "output_type": "stream",
     "text": [
      " 57%|█████▋    | 6002/10500 [10:17<07:42,  9.72it/s]"
     ]
    },
    {
     "name": "stdout",
     "output_type": "stream",
     "text": [
      "Episode finished after 341 timesteps with reward=-276.98034321232984\n",
      "iter=6000\tepsilon=0.052\n",
      "Current score(mean over 3) = -255.448\n"
     ]
    },
    {
     "name": "stderr",
     "output_type": "stream",
     "text": [
      " 58%|█████▊    | 6048/10500 [10:21<07:37,  9.73it/s]"
     ]
    },
    {
     "name": "stdout",
     "output_type": "stream",
     "text": [
      "Episode finished after 193 timesteps with reward=-302.3478846527085\n"
     ]
    },
    {
     "name": "stderr",
     "output_type": "stream",
     "text": [
      "\r",
      " 58%|█████▊    | 6050/10500 [10:22<07:38,  9.72it/s]"
     ]
    },
    {
     "name": "stdout",
     "output_type": "stream",
     "text": [
      "Episode finished after 262 timesteps with reward=-264.6796306891145\n",
      "Episode finished after 169 timesteps with reward=-290.8261125135651\n",
      "iter=6050\tepsilon=0.052\n",
      "Current score(mean over 3) = -285.951\n"
     ]
    },
    {
     "name": "stderr",
     "output_type": "stream",
     "text": [
      " 58%|█████▊    | 6099/10500 [10:27<07:32,  9.72it/s]"
     ]
    },
    {
     "name": "stdout",
     "output_type": "stream",
     "text": [
      "Episode finished after 186 timesteps with reward=-324.7142389795994\n",
      "Episode finished after 171 timesteps with reward=-278.6080984488649\n"
     ]
    },
    {
     "name": "stderr",
     "output_type": "stream",
     "text": [
      "\r",
      " 58%|█████▊    | 6101/10500 [10:27<07:32,  9.72it/s]"
     ]
    },
    {
     "name": "stdout",
     "output_type": "stream",
     "text": [
      "Episode finished after 153 timesteps with reward=-347.3542360530221\n",
      "iter=6100\tepsilon=0.052\n",
      "Current score(mean over 3) = -316.892\n"
     ]
    },
    {
     "name": "stderr",
     "output_type": "stream",
     "text": [
      " 59%|█████▊    | 6149/10500 [10:32<07:27,  9.73it/s]"
     ]
    },
    {
     "name": "stdout",
     "output_type": "stream",
     "text": [
      "Episode finished after 138 timesteps with reward=-408.448975113186\n",
      "Episode finished after 144 timesteps with reward=-406.5610368247249\n",
      "Episode finished after 97 timesteps with reward=-375.29656222451405\n",
      "iter=6150\tepsilon=0.052\n",
      "Current score(mean over 3) = -396.769\n"
     ]
    },
    {
     "name": "stderr",
     "output_type": "stream",
     "text": [
      " 59%|█████▉    | 6199/10500 [10:37<07:22,  9.73it/s]"
     ]
    },
    {
     "name": "stdout",
     "output_type": "stream",
     "text": [
      "Episode finished after 214 timesteps with reward=-358.1369582824507\n",
      "Episode finished after 98 timesteps with reward=-267.21382212156016\n",
      "Episode finished after 103 timesteps with reward=-277.1213525585729\n",
      "iter=6200\tepsilon=0.052\n",
      "Current score(mean over 3) = -300.824\n"
     ]
    },
    {
     "name": "stderr",
     "output_type": "stream",
     "text": [
      " 60%|█████▉    | 6249/10500 [10:41<07:16,  9.73it/s]"
     ]
    },
    {
     "name": "stdout",
     "output_type": "stream",
     "text": [
      "Episode finished after 102 timesteps with reward=-309.2668031719329\n",
      "Episode finished after 125 timesteps with reward=-363.6566286469449\n",
      "Episode finished after 107 timesteps with reward=-289.2665546319528\n",
      "iter=6250\tepsilon=0.052\n",
      "Current score(mean over 3) = -320.730\n"
     ]
    },
    {
     "name": "stderr",
     "output_type": "stream",
     "text": [
      " 60%|█████▉    | 6299/10500 [10:46<07:11,  9.74it/s]"
     ]
    },
    {
     "name": "stdout",
     "output_type": "stream",
     "text": [
      "Episode finished after 135 timesteps with reward=-201.42749632341554\n",
      "Episode finished after 126 timesteps with reward=-228.33216506458203\n"
     ]
    },
    {
     "name": "stderr",
     "output_type": "stream",
     "text": [
      "\r",
      " 60%|██████    | 6301/10500 [10:47<07:11,  9.73it/s]"
     ]
    },
    {
     "name": "stdout",
     "output_type": "stream",
     "text": [
      "Episode finished after 204 timesteps with reward=-384.6591855564251\n",
      "iter=6300\tepsilon=0.052\n",
      "Current score(mean over 3) = -271.473\n"
     ]
    },
    {
     "name": "stderr",
     "output_type": "stream",
     "text": [
      " 60%|██████    | 6348/10500 [10:51<07:06,  9.74it/s]"
     ]
    },
    {
     "name": "stdout",
     "output_type": "stream",
     "text": [
      "Episode finished after 133 timesteps with reward=-303.78125823353025\n",
      "Episode finished after 183 timesteps with reward=-132.39217519556755\n"
     ]
    },
    {
     "name": "stderr",
     "output_type": "stream",
     "text": [
      " 60%|██████    | 6352/10500 [10:52<07:05,  9.74it/s]"
     ]
    },
    {
     "name": "stdout",
     "output_type": "stream",
     "text": [
      "Episode finished after 110 timesteps with reward=-309.5610708680854\n",
      "iter=6350\tepsilon=0.052\n",
      "Current score(mean over 3) = -248.578\n"
     ]
    },
    {
     "name": "stderr",
     "output_type": "stream",
     "text": [
      " 61%|██████    | 6399/10500 [10:56<07:00,  9.75it/s]"
     ]
    },
    {
     "name": "stdout",
     "output_type": "stream",
     "text": [
      "Episode finished after 106 timesteps with reward=-286.94554540937474\n",
      "Episode finished after 131 timesteps with reward=-262.0945739794014\n",
      "Episode finished after 113 timesteps with reward=-334.39578790579174\n",
      "iter=6400\tepsilon=0.052\n",
      "Current score(mean over 3) = -294.479\n"
     ]
    },
    {
     "name": "stderr",
     "output_type": "stream",
     "text": [
      " 61%|██████▏   | 6450/10500 [11:01<06:55,  9.75it/s]"
     ]
    },
    {
     "name": "stdout",
     "output_type": "stream",
     "text": [
      "Episode finished after 197 timesteps with reward=-173.691110567212\n",
      "Episode finished after 112 timesteps with reward=-270.63181807705587\n",
      "Episode finished after 106 timesteps with reward=-303.86479089548095\n",
      "iter=6450\tepsilon=0.052\n",
      "Current score(mean over 3) = -249.396\n"
     ]
    },
    {
     "name": "stderr",
     "output_type": "stream",
     "text": [
      " 62%|██████▏   | 6500/10500 [11:06<06:50,  9.75it/s]"
     ]
    },
    {
     "name": "stdout",
     "output_type": "stream",
     "text": [
      "Episode finished after 112 timesteps with reward=-271.7471070254645\n",
      "Episode finished after 103 timesteps with reward=-270.53984465949094\n",
      "Episode finished after 101 timesteps with reward=-212.07742466268445\n",
      "iter=6500\tepsilon=0.051\n",
      "Current score(mean over 3) = -251.455\n"
     ]
    },
    {
     "name": "stderr",
     "output_type": "stream",
     "text": [
      " 62%|██████▏   | 6548/10500 [11:11<06:45,  9.76it/s]"
     ]
    },
    {
     "name": "stdout",
     "output_type": "stream",
     "text": [
      "Episode finished after 100 timesteps with reward=-292.42268858023976\n",
      "Episode finished after 193 timesteps with reward=-120.3364583534198\n"
     ]
    },
    {
     "name": "stderr",
     "output_type": "stream",
     "text": [
      " 62%|██████▏   | 6552/10500 [11:11<06:44,  9.75it/s]"
     ]
    },
    {
     "name": "stdout",
     "output_type": "stream",
     "text": [
      "Episode finished after 109 timesteps with reward=-294.2203407620516\n",
      "iter=6550\tepsilon=0.051\n",
      "Current score(mean over 3) = -235.660\n"
     ]
    },
    {
     "name": "stderr",
     "output_type": "stream",
     "text": [
      " 63%|██████▎   | 6600/10500 [11:16<06:39,  9.76it/s]"
     ]
    },
    {
     "name": "stdout",
     "output_type": "stream",
     "text": [
      "Episode finished after 97 timesteps with reward=-236.29549377576419\n",
      "Episode finished after 113 timesteps with reward=-290.7597698785199\n",
      "Episode finished after 108 timesteps with reward=-270.9107502813474\n",
      "iter=6600\tepsilon=0.051\n",
      "Current score(mean over 3) = -265.989\n"
     ]
    },
    {
     "name": "stderr",
     "output_type": "stream",
     "text": [
      " 63%|██████▎   | 6648/10500 [11:20<06:34,  9.77it/s]"
     ]
    },
    {
     "name": "stdout",
     "output_type": "stream",
     "text": [
      "Episode finished after 123 timesteps with reward=-276.7019209106659\n",
      "Episode finished after 101 timesteps with reward=-329.4147309767234\n",
      "Episode finished after 147 timesteps with reward=-327.1584193927499\n",
      "iter=6650\tepsilon=0.051\n",
      "Current score(mean over 3) = -311.092\n"
     ]
    },
    {
     "name": "stderr",
     "output_type": "stream",
     "text": [
      " 64%|██████▍   | 6698/10500 [11:25<06:28,  9.77it/s]"
     ]
    },
    {
     "name": "stdout",
     "output_type": "stream",
     "text": [
      "Episode finished after 142 timesteps with reward=-302.18879967957616\n",
      "Episode finished after 220 timesteps with reward=-134.8177132767758\n"
     ]
    },
    {
     "name": "stderr",
     "output_type": "stream",
     "text": [
      " 64%|██████▍   | 6702/10500 [11:26<06:28,  9.77it/s]"
     ]
    },
    {
     "name": "stdout",
     "output_type": "stream",
     "text": [
      "Episode finished after 217 timesteps with reward=-160.79333566623603\n",
      "iter=6700\tepsilon=0.051\n",
      "Current score(mean over 3) = -199.267\n"
     ]
    },
    {
     "name": "stderr",
     "output_type": "stream",
     "text": [
      " 64%|██████▍   | 6749/10500 [11:30<06:23,  9.78it/s]"
     ]
    },
    {
     "name": "stdout",
     "output_type": "stream",
     "text": [
      "Episode finished after 125 timesteps with reward=-304.8850979793539\n",
      "Episode finished after 111 timesteps with reward=-307.05813880196706\n",
      "Episode finished after 92 timesteps with reward=-142.28104491610037\n",
      "iter=6750\tepsilon=0.051\n",
      "Current score(mean over 3) = -251.408\n"
     ]
    },
    {
     "name": "stderr",
     "output_type": "stream",
     "text": [
      " 65%|██████▍   | 6799/10500 [11:35<06:18,  9.78it/s]"
     ]
    },
    {
     "name": "stdout",
     "output_type": "stream",
     "text": [
      "Episode finished after 162 timesteps with reward=-285.53271916685725\n",
      "Episode finished after 104 timesteps with reward=-352.01483071826976\n",
      "Episode finished after 132 timesteps with reward=-369.29212579315634\n",
      "iter=6800\tepsilon=0.051\n",
      "Current score(mean over 3) = -335.613\n"
     ]
    },
    {
     "name": "stderr",
     "output_type": "stream",
     "text": [
      " 65%|██████▌   | 6849/10500 [11:40<06:13,  9.78it/s]"
     ]
    },
    {
     "name": "stdout",
     "output_type": "stream",
     "text": [
      "Episode finished after 94 timesteps with reward=-172.24380721156663\n",
      "Episode finished after 100 timesteps with reward=-363.65675935197544\n",
      "Episode finished after 89 timesteps with reward=-118.19229353854617\n",
      "iter=6850\tepsilon=0.051\n",
      "Current score(mean over 3) = -218.031\n"
     ]
    },
    {
     "name": "stderr",
     "output_type": "stream",
     "text": [
      " 66%|██████▌   | 6899/10500 [11:44<06:07,  9.79it/s]"
     ]
    },
    {
     "name": "stdout",
     "output_type": "stream",
     "text": [
      "Episode finished after 123 timesteps with reward=-71.16922621014157\n",
      "Episode finished after 147 timesteps with reward=-230.0375352806887\n"
     ]
    },
    {
     "name": "stderr",
     "output_type": "stream",
     "text": [
      "\r",
      " 66%|██████▌   | 6901/10500 [11:45<06:07,  9.78it/s]"
     ]
    },
    {
     "name": "stdout",
     "output_type": "stream",
     "text": [
      "Episode finished after 124 timesteps with reward=-333.24990752366375\n",
      "iter=6900\tepsilon=0.051\n",
      "Current score(mean over 3) = -211.486\n"
     ]
    },
    {
     "name": "stderr",
     "output_type": "stream",
     "text": [
      " 66%|██████▌   | 6950/10500 [11:50<06:02,  9.79it/s]"
     ]
    },
    {
     "name": "stdout",
     "output_type": "stream",
     "text": [
      "Episode finished after 113 timesteps with reward=-313.3613512176788\n",
      "Episode finished after 102 timesteps with reward=-265.7786713301165\n",
      "Episode finished after 131 timesteps with reward=-363.8607808346924\n",
      "iter=6950\tepsilon=0.051\n",
      "Current score(mean over 3) = -314.334\n"
     ]
    },
    {
     "name": "stderr",
     "output_type": "stream",
     "text": [
      " 67%|██████▋   | 7000/10500 [11:55<05:57,  9.78it/s]"
     ]
    },
    {
     "name": "stdout",
     "output_type": "stream",
     "text": [
      "Episode finished after 231 timesteps with reward=-23.417716677272225\n",
      "Episode finished after 97 timesteps with reward=-221.1726201987594\n",
      "Episode finished after 121 timesteps with reward=-264.44364570229214\n",
      "iter=7000\tepsilon=0.051\n",
      "Current score(mean over 3) = -169.678\n"
     ]
    },
    {
     "name": "stderr",
     "output_type": "stream",
     "text": [
      " 67%|██████▋   | 7049/10500 [11:59<05:52,  9.79it/s]"
     ]
    },
    {
     "name": "stdout",
     "output_type": "stream",
     "text": [
      "Episode finished after 142 timesteps with reward=-454.5131702892624\n",
      "Episode finished after 148 timesteps with reward=-361.9658864537512\n"
     ]
    },
    {
     "name": "stderr",
     "output_type": "stream",
     "text": [
      "\r",
      " 67%|██████▋   | 7051/10500 [12:00<05:52,  9.79it/s]"
     ]
    },
    {
     "name": "stdout",
     "output_type": "stream",
     "text": [
      "Episode finished after 158 timesteps with reward=-419.24905013629296\n",
      "iter=7050\tepsilon=0.051\n",
      "Current score(mean over 3) = -411.909\n"
     ]
    },
    {
     "name": "stderr",
     "output_type": "stream",
     "text": [
      " 68%|██████▊   | 7099/10500 [12:04<05:47,  9.80it/s]"
     ]
    },
    {
     "name": "stdout",
     "output_type": "stream",
     "text": [
      "Episode finished after 150 timesteps with reward=-297.9133036668667\n",
      "Episode finished after 252 timesteps with reward=-166.12291642603276\n",
      "Episode finished after 177 timesteps with reward=-129.21682498549907\n",
      "iter=7100\tepsilon=0.051\n",
      "Current score(mean over 3) = -197.751\n"
     ]
    },
    {
     "name": "stderr",
     "output_type": "stream",
     "text": [
      " 68%|██████▊   | 7149/10500 [12:09<05:42,  9.80it/s]"
     ]
    },
    {
     "name": "stdout",
     "output_type": "stream",
     "text": [
      "Episode finished after 117 timesteps with reward=-219.520177065359\n",
      "Episode finished after 121 timesteps with reward=-272.1098180936824\n",
      "Episode finished after 116 timesteps with reward=-260.6950605947957"
     ]
    },
    {
     "name": "stderr",
     "output_type": "stream",
     "text": [
      "\r",
      " 68%|██████▊   | 7151/10500 [12:10<05:42,  9.79it/s]"
     ]
    },
    {
     "name": "stdout",
     "output_type": "stream",
     "text": [
      "\n",
      "iter=7150\tepsilon=0.051\n",
      "Current score(mean over 3) = -250.775\n"
     ]
    },
    {
     "name": "stderr",
     "output_type": "stream",
     "text": [
      " 69%|██████▊   | 7199/10500 [12:14<05:36,  9.80it/s]"
     ]
    },
    {
     "name": "stdout",
     "output_type": "stream",
     "text": [
      "Episode finished after 135 timesteps with reward=-161.28487652266222\n",
      "Episode finished after 129 timesteps with reward=-252.78249748704584\n",
      "Episode finished after 97 timesteps with reward=-92.91783720015546\n",
      "iter=7200\tepsilon=0.051\n",
      "Current score(mean over 3) = -168.995\n"
     ]
    },
    {
     "name": "stderr",
     "output_type": "stream",
     "text": [
      " 69%|██████▉   | 7248/10500 [12:19<05:31,  9.80it/s]"
     ]
    },
    {
     "name": "stdout",
     "output_type": "stream",
     "text": [
      "Episode finished after 144 timesteps with reward=-263.4404059508197\n",
      "Episode finished after 170 timesteps with reward=-243.378679631122\n"
     ]
    },
    {
     "name": "stderr",
     "output_type": "stream",
     "text": [
      " 69%|██████▉   | 7251/10500 [12:20<05:31,  9.79it/s]"
     ]
    },
    {
     "name": "stdout",
     "output_type": "stream",
     "text": [
      "Episode finished after 159 timesteps with reward=-340.4413811197081\n",
      "iter=7250\tepsilon=0.051\n",
      "Current score(mean over 3) = -282.420\n"
     ]
    },
    {
     "name": "stderr",
     "output_type": "stream",
     "text": [
      " 70%|██████▉   | 7299/10500 [12:24<05:26,  9.80it/s]"
     ]
    },
    {
     "name": "stdout",
     "output_type": "stream",
     "text": [
      "Episode finished after 153 timesteps with reward=-301.8337829043892\n",
      "Episode finished after 146 timesteps with reward=-97.86838636267547\n"
     ]
    },
    {
     "name": "stderr",
     "output_type": "stream",
     "text": [
      "\r",
      " 70%|██████▉   | 7301/10500 [12:25<05:26,  9.80it/s]"
     ]
    },
    {
     "name": "stdout",
     "output_type": "stream",
     "text": [
      "Episode finished after 136 timesteps with reward=-328.08348471929486\n",
      "iter=7300\tepsilon=0.051\n",
      "Current score(mean over 3) = -242.595\n"
     ]
    },
    {
     "name": "stderr",
     "output_type": "stream",
     "text": [
      " 70%|██████▉   | 7349/10500 [12:29<05:21,  9.80it/s]"
     ]
    },
    {
     "name": "stdout",
     "output_type": "stream",
     "text": [
      "Episode finished after 250 timesteps with reward=-277.5781478793142\n",
      "Episode finished after 166 timesteps with reward=-253.0732502391263\n"
     ]
    },
    {
     "name": "stderr",
     "output_type": "stream",
     "text": [
      "\r",
      " 70%|███████   | 7351/10500 [12:30<05:21,  9.79it/s]"
     ]
    },
    {
     "name": "stdout",
     "output_type": "stream",
     "text": [
      "Episode finished after 101 timesteps with reward=-102.7538358998715\n",
      "iter=7350\tepsilon=0.051\n",
      "Current score(mean over 3) = -211.135\n"
     ]
    },
    {
     "name": "stderr",
     "output_type": "stream",
     "text": [
      " 70%|███████   | 7398/10500 [12:34<05:16,  9.80it/s]"
     ]
    },
    {
     "name": "stdout",
     "output_type": "stream",
     "text": [
      "Episode finished after 205 timesteps with reward=-304.21201584398983\n",
      "Episode finished after 187 timesteps with reward=-312.240412263104\n"
     ]
    },
    {
     "name": "stderr",
     "output_type": "stream",
     "text": [
      " 70%|███████   | 7402/10500 [12:35<05:16,  9.79it/s]"
     ]
    },
    {
     "name": "stdout",
     "output_type": "stream",
     "text": [
      "Episode finished after 242 timesteps with reward=-397.42514284231106\n",
      "iter=7400\tepsilon=0.051\n",
      "Current score(mean over 3) = -337.959\n"
     ]
    },
    {
     "name": "stderr",
     "output_type": "stream",
     "text": [
      " 71%|███████   | 7449/10500 [12:40<05:11,  9.80it/s]"
     ]
    },
    {
     "name": "stdout",
     "output_type": "stream",
     "text": [
      "Episode finished after 165 timesteps with reward=-59.85956325668576\n",
      "Episode finished after 255 timesteps with reward=-233.46863568359817\n",
      "Episode finished after 175 timesteps with reward=-225.09249695795575\n",
      "iter=7450\tepsilon=0.051\n",
      "Current score(mean over 3) = -172.807\n"
     ]
    },
    {
     "name": "stderr",
     "output_type": "stream",
     "text": [
      " 71%|███████▏  | 7498/10500 [12:45<05:06,  9.79it/s]"
     ]
    },
    {
     "name": "stdout",
     "output_type": "stream",
     "text": [
      "Episode finished after 200 timesteps with reward=-331.8568043893364\n"
     ]
    },
    {
     "name": "stderr",
     "output_type": "stream",
     "text": [
      "\r",
      " 71%|███████▏  | 7500/10500 [12:46<05:06,  9.78it/s]"
     ]
    },
    {
     "name": "stdout",
     "output_type": "stream",
     "text": [
      "Episode finished after 364 timesteps with reward=-358.8989772335699\n",
      "Episode finished after 190 timesteps with reward=-177.41737636287024\n",
      "iter=7500\tepsilon=0.051\n",
      "Current score(mean over 3) = -289.391\n"
     ]
    },
    {
     "name": "stderr",
     "output_type": "stream",
     "text": [
      " 72%|███████▏  | 7549/10500 [12:51<05:01,  9.78it/s]"
     ]
    },
    {
     "name": "stdout",
     "output_type": "stream",
     "text": [
      "Episode finished after 178 timesteps with reward=-342.23428433513766\n",
      "Episode finished after 157 timesteps with reward=-250.92527710284912\n"
     ]
    },
    {
     "name": "stderr",
     "output_type": "stream",
     "text": [
      " 72%|███████▏  | 7552/10500 [12:52<05:01,  9.78it/s]"
     ]
    },
    {
     "name": "stdout",
     "output_type": "stream",
     "text": [
      "Episode finished after 174 timesteps with reward=-294.51114582783276\n",
      "iter=7550\tepsilon=0.050\n",
      "Current score(mean over 3) = -295.890\n"
     ]
    },
    {
     "name": "stderr",
     "output_type": "stream",
     "text": [
      " 72%|███████▏  | 7599/10500 [12:57<04:56,  9.78it/s]"
     ]
    },
    {
     "name": "stdout",
     "output_type": "stream",
     "text": [
      "Episode finished after 195 timesteps with reward=-208.23130359740736\n",
      "Episode finished after 146 timesteps with reward=-235.3706973017293\n"
     ]
    },
    {
     "name": "stderr",
     "output_type": "stream",
     "text": [
      " 72%|███████▏  | 7601/10500 [12:57<04:56,  9.77it/s]"
     ]
    },
    {
     "name": "stdout",
     "output_type": "stream",
     "text": [
      "Episode finished after 247 timesteps with reward=-275.2343315885502\n",
      "iter=7600\tepsilon=0.050\n",
      "Current score(mean over 3) = -239.612\n"
     ]
    },
    {
     "name": "stderr",
     "output_type": "stream",
     "text": [
      " 73%|███████▎  | 7649/10500 [13:02<04:51,  9.77it/s]"
     ]
    },
    {
     "name": "stdout",
     "output_type": "stream",
     "text": [
      "Episode finished after 295 timesteps with reward=-379.63737826947977\n",
      "Episode finished after 321 timesteps with reward=-370.88405780160235\n"
     ]
    },
    {
     "name": "stderr",
     "output_type": "stream",
     "text": [
      "\r",
      " 73%|███████▎  | 7651/10500 [13:03<04:51,  9.76it/s]"
     ]
    },
    {
     "name": "stdout",
     "output_type": "stream",
     "text": [
      "Episode finished after 247 timesteps with reward=-391.4304180233166\n",
      "iter=7650\tepsilon=0.050\n",
      "Current score(mean over 3) = -380.651\n"
     ]
    },
    {
     "name": "stderr",
     "output_type": "stream",
     "text": [
      " 73%|███████▎  | 7699/10500 [13:08<04:46,  9.76it/s]"
     ]
    },
    {
     "name": "stdout",
     "output_type": "stream",
     "text": [
      "Episode finished after 279 timesteps with reward=-453.7604954497121\n",
      "Episode finished after 215 timesteps with reward=-156.76430848739034\n"
     ]
    },
    {
     "name": "stderr",
     "output_type": "stream",
     "text": [
      " 73%|███████▎  | 7701/10500 [13:09<04:47,  9.75it/s]"
     ]
    },
    {
     "name": "stdout",
     "output_type": "stream",
     "text": [
      "Episode finished after 214 timesteps with reward=-151.39036364212575\n",
      "iter=7700\tepsilon=0.050\n",
      "Current score(mean over 3) = -253.972\n"
     ]
    },
    {
     "name": "stderr",
     "output_type": "stream",
     "text": [
      " 74%|███████▍  | 7749/10500 [13:14<04:42,  9.75it/s]"
     ]
    },
    {
     "name": "stdout",
     "output_type": "stream",
     "text": [
      "Episode finished after 305 timesteps with reward=-253.1411016157693\n",
      "Episode finished after 204 timesteps with reward=-323.02935977292253\n"
     ]
    },
    {
     "name": "stderr",
     "output_type": "stream",
     "text": [
      " 74%|███████▍  | 7752/10500 [13:16<04:42,  9.74it/s]"
     ]
    },
    {
     "name": "stdout",
     "output_type": "stream",
     "text": [
      "Episode finished after 268 timesteps with reward=-295.2682204295424\n",
      "iter=7750\tepsilon=0.050\n",
      "Current score(mean over 3) = -290.480\n"
     ]
    },
    {
     "name": "stderr",
     "output_type": "stream",
     "text": [
      " 74%|███████▍  | 7799/10500 [13:20<04:37,  9.74it/s]"
     ]
    },
    {
     "name": "stdout",
     "output_type": "stream",
     "text": [
      "Episode finished after 353 timesteps with reward=-238.17569241966365\n",
      "Episode finished after 255 timesteps with reward=-224.15951526523602\n",
      "Episode finished after 155 timesteps with reward=-221.42928225147915\n",
      "iter=7800\tepsilon=0.050\n",
      "Current score(mean over 3) = -227.921\n"
     ]
    },
    {
     "name": "stderr",
     "output_type": "stream",
     "text": [
      " 75%|███████▍  | 7848/10500 [13:26<04:32,  9.73it/s]"
     ]
    },
    {
     "name": "stdout",
     "output_type": "stream",
     "text": [
      "Episode finished after 252 timesteps with reward=-202.79828479404438\n",
      "Episode finished after 165 timesteps with reward=-184.91321231401494\n"
     ]
    },
    {
     "name": "stderr",
     "output_type": "stream",
     "text": [
      " 75%|███████▍  | 7852/10500 [13:27<04:32,  9.72it/s]"
     ]
    },
    {
     "name": "stdout",
     "output_type": "stream",
     "text": [
      "Episode finished after 274 timesteps with reward=-140.12380218734526\n",
      "iter=7850\tepsilon=0.050\n",
      "Current score(mean over 3) = -175.945\n"
     ]
    },
    {
     "name": "stderr",
     "output_type": "stream",
     "text": [
      " 75%|███████▌  | 7899/10500 [13:32<04:27,  9.72it/s]"
     ]
    },
    {
     "name": "stdout",
     "output_type": "stream",
     "text": [
      "Episode finished after 263 timesteps with reward=-65.3678331228866\n",
      "Episode finished after 224 timesteps with reward=-168.36148636975457\n"
     ]
    },
    {
     "name": "stderr",
     "output_type": "stream",
     "text": [
      " 75%|███████▌  | 7902/10500 [13:33<04:27,  9.71it/s]"
     ]
    },
    {
     "name": "stdout",
     "output_type": "stream",
     "text": [
      "Episode finished after 285 timesteps with reward=-140.41950380420062\n",
      "iter=7900\tepsilon=0.050\n",
      "Current score(mean over 3) = -124.716\n"
     ]
    },
    {
     "name": "stderr",
     "output_type": "stream",
     "text": [
      " 76%|███████▌  | 7949/10500 [13:38<04:22,  9.71it/s]"
     ]
    },
    {
     "name": "stdout",
     "output_type": "stream",
     "text": [
      "Episode finished after 333 timesteps with reward=-236.75994084879517\n"
     ]
    },
    {
     "name": "stderr",
     "output_type": "stream",
     "text": [
      "\r",
      " 76%|███████▌  | 7950/10500 [13:39<04:22,  9.70it/s]"
     ]
    },
    {
     "name": "stdout",
     "output_type": "stream",
     "text": [
      "Episode finished after 328 timesteps with reward=-135.58407580620315\n",
      "Episode finished after 171 timesteps with reward=-178.73930573976696\n",
      "iter=7950\tepsilon=0.050\n",
      "Current score(mean over 3) = -183.694\n"
     ]
    },
    {
     "name": "stderr",
     "output_type": "stream",
     "text": [
      " 76%|███████▌  | 7999/10500 [13:45<04:18,  9.69it/s]"
     ]
    },
    {
     "name": "stdout",
     "output_type": "stream",
     "text": [
      "Episode finished after 155 timesteps with reward=-163.81932562079547\n",
      "Episode finished after 344 timesteps with reward=-78.40853735422692\n"
     ]
    },
    {
     "name": "stderr",
     "output_type": "stream",
     "text": [
      " 76%|███████▌  | 8001/10500 [13:46<04:18,  9.68it/s]"
     ]
    },
    {
     "name": "stdout",
     "output_type": "stream",
     "text": [
      "Episode finished after 324 timesteps with reward=-238.6116410359829\n",
      "iter=8000\tepsilon=0.050\n",
      "Current score(mean over 3) = -160.280\n"
     ]
    },
    {
     "name": "stderr",
     "output_type": "stream",
     "text": [
      " 77%|███████▋  | 8048/10500 [13:51<04:13,  9.67it/s]"
     ]
    },
    {
     "name": "stdout",
     "output_type": "stream",
     "text": [
      "Episode finished after 603 timesteps with reward=-240.45947843338712\n"
     ]
    },
    {
     "name": "stderr",
     "output_type": "stream",
     "text": [
      "\r",
      " 77%|███████▋  | 8050/10500 [13:53<04:13,  9.66it/s]"
     ]
    },
    {
     "name": "stdout",
     "output_type": "stream",
     "text": [
      "Episode finished after 212 timesteps with reward=-181.38471098876823\n",
      "Episode finished after 194 timesteps with reward=-197.75585772492857\n",
      "iter=8050\tepsilon=0.050\n",
      "Current score(mean over 3) = -206.533\n"
     ]
    },
    {
     "name": "stderr",
     "output_type": "stream",
     "text": [
      " 77%|███████▋  | 8098/10500 [13:58<04:08,  9.65it/s]"
     ]
    },
    {
     "name": "stdout",
     "output_type": "stream",
     "text": [
      "Episode finished after 224 timesteps with reward=-165.74479869319273\n",
      "Episode finished after 273 timesteps with reward=-264.6613542271898\n"
     ]
    },
    {
     "name": "stderr",
     "output_type": "stream",
     "text": [
      " 77%|███████▋  | 8101/10500 [14:00<04:08,  9.64it/s]"
     ]
    },
    {
     "name": "stdout",
     "output_type": "stream",
     "text": [
      "Episode finished after 412 timesteps with reward=-271.9342004510661\n",
      "iter=8100\tepsilon=0.050\n",
      "Current score(mean over 3) = -234.113\n"
     ]
    },
    {
     "name": "stderr",
     "output_type": "stream",
     "text": [
      " 78%|███████▊  | 8149/10500 [14:05<04:04,  9.63it/s]"
     ]
    },
    {
     "name": "stdout",
     "output_type": "stream",
     "text": [
      "Episode finished after 498 timesteps with reward=-147.48886181305107\n",
      "Episode finished after 171 timesteps with reward=-223.14262021368515\n"
     ]
    },
    {
     "name": "stderr",
     "output_type": "stream",
     "text": [
      "\r",
      " 78%|███████▊  | 8150/10500 [14:07<04:04,  9.62it/s]"
     ]
    },
    {
     "name": "stdout",
     "output_type": "stream",
     "text": [
      "Episode finished after 304 timesteps with reward=-49.25689469615898\n",
      "iter=8150\tepsilon=0.050\n",
      "Current score(mean over 3) = -139.963\n"
     ]
    },
    {
     "name": "stderr",
     "output_type": "stream",
     "text": [
      " 78%|███████▊  | 8199/10500 [14:12<03:59,  9.61it/s]"
     ]
    },
    {
     "name": "stdout",
     "output_type": "stream",
     "text": [
      "Episode finished after 465 timesteps with reward=-206.19234172372182\n",
      "Episode finished after 609 timesteps with reward=-199.88484399606722\n"
     ]
    },
    {
     "name": "stderr",
     "output_type": "stream",
     "text": [
      " 78%|███████▊  | 8201/10500 [14:15<03:59,  9.58it/s]"
     ]
    },
    {
     "name": "stdout",
     "output_type": "stream",
     "text": [
      "Episode finished after 391 timesteps with reward=-219.62331274855643\n",
      "iter=8200\tepsilon=0.050\n",
      "Current score(mean over 3) = -208.567\n"
     ]
    },
    {
     "name": "stderr",
     "output_type": "stream",
     "text": [
      " 79%|███████▊  | 8249/10500 [14:21<03:55,  9.58it/s]"
     ]
    },
    {
     "name": "stdout",
     "output_type": "stream",
     "text": [
      "Episode finished after 311 timesteps with reward=-181.0850383536312\n",
      "Episode finished after 781 timesteps with reward=-370.78480599188975\n"
     ]
    },
    {
     "name": "stderr",
     "output_type": "stream",
     "text": [
      " 79%|███████▊  | 8251/10500 [14:23<03:55,  9.55it/s]"
     ]
    },
    {
     "name": "stdout",
     "output_type": "stream",
     "text": [
      "Episode finished after 236 timesteps with reward=-253.3905005961519\n",
      "iter=8250\tepsilon=0.050\n",
      "Current score(mean over 3) = -268.420\n"
     ]
    },
    {
     "name": "stderr",
     "output_type": "stream",
     "text": [
      " 79%|███████▉  | 8299/10500 [14:30<03:50,  9.54it/s]"
     ]
    },
    {
     "name": "stdout",
     "output_type": "stream",
     "text": [
      "Episode finished after 455 timesteps with reward=-359.11075407668744\n",
      "Episode finished after 250 timesteps with reward=-270.41784529481515\n"
     ]
    },
    {
     "name": "stderr",
     "output_type": "stream",
     "text": [
      "\r",
      " 79%|███████▉  | 8300/10500 [14:31<03:51,  9.52it/s]"
     ]
    },
    {
     "name": "stdout",
     "output_type": "stream",
     "text": [
      "Episode finished after 294 timesteps with reward=-277.36412329835275\n",
      "iter=8300\tepsilon=0.050\n",
      "Current score(mean over 3) = -302.298\n"
     ]
    },
    {
     "name": "stderr",
     "output_type": "stream",
     "text": [
      " 80%|███████▉  | 8349/10500 [14:38<03:46,  9.51it/s]"
     ]
    },
    {
     "name": "stdout",
     "output_type": "stream",
     "text": [
      "Episode finished after 889 timesteps with reward=-270.61374810479646\n",
      "Episode finished after 161 timesteps with reward=-172.25768841477378\n"
     ]
    },
    {
     "name": "stderr",
     "output_type": "stream",
     "text": [
      " 80%|███████▉  | 8351/10500 [14:40<03:46,  9.49it/s]"
     ]
    },
    {
     "name": "stdout",
     "output_type": "stream",
     "text": [
      "Episode finished after 284 timesteps with reward=-308.6640496154283\n",
      "iter=8350\tepsilon=0.050\n",
      "Current score(mean over 3) = -250.512\n"
     ]
    },
    {
     "name": "stderr",
     "output_type": "stream",
     "text": [
      " 80%|███████▉  | 8399/10500 [14:46<03:41,  9.48it/s]"
     ]
    },
    {
     "name": "stdout",
     "output_type": "stream",
     "text": [
      "Episode finished after 325 timesteps with reward=-298.0107066654481\n",
      "Episode finished after 284 timesteps with reward=-223.1128424299703\n"
     ]
    },
    {
     "name": "stderr",
     "output_type": "stream",
     "text": [
      " 80%|████████  | 8401/10500 [14:47<03:41,  9.46it/s]"
     ]
    },
    {
     "name": "stdout",
     "output_type": "stream",
     "text": [
      "Episode finished after 510 timesteps with reward=-351.6381920906549\n",
      "iter=8400\tepsilon=0.050\n",
      "Current score(mean over 3) = -290.921\n"
     ]
    },
    {
     "name": "stderr",
     "output_type": "stream",
     "text": [
      " 80%|████████  | 8449/10500 [14:53<03:36,  9.45it/s]"
     ]
    },
    {
     "name": "stdout",
     "output_type": "stream",
     "text": [
      "Episode finished after 658 timesteps with reward=-427.10565302638014\n",
      "Episode finished after 295 timesteps with reward=-267.0901289176617\n"
     ]
    },
    {
     "name": "stderr",
     "output_type": "stream",
     "text": [
      " 80%|████████  | 8452/10500 [14:57<03:37,  9.42it/s]"
     ]
    },
    {
     "name": "stdout",
     "output_type": "stream",
     "text": [
      "Episode finished after 787 timesteps with reward=-436.7476523397041\n",
      "iter=8450\tepsilon=0.050\n",
      "Current score(mean over 3) = -376.981\n"
     ]
    },
    {
     "name": "stderr",
     "output_type": "stream",
     "text": [
      " 81%|████████  | 8498/10500 [15:03<03:32,  9.41it/s]"
     ]
    },
    {
     "name": "stdout",
     "output_type": "stream",
     "text": [
      "Episode finished after 420 timesteps with reward=-326.76311668643825\n",
      "Episode finished after 333 timesteps with reward=-288.01761056387977\n"
     ]
    },
    {
     "name": "stderr",
     "output_type": "stream",
     "text": [
      " 81%|████████  | 8501/10500 [15:04<03:32,  9.39it/s]"
     ]
    },
    {
     "name": "stdout",
     "output_type": "stream",
     "text": [
      "Episode finished after 234 timesteps with reward=-214.40058703518363\n",
      "iter=8500\tepsilon=0.050\n",
      "Current score(mean over 3) = -276.394\n"
     ]
    },
    {
     "name": "stderr",
     "output_type": "stream",
     "text": [
      " 81%|████████▏ | 8549/10500 [15:11<03:27,  9.38it/s]"
     ]
    },
    {
     "name": "stdout",
     "output_type": "stream",
     "text": [
      "Episode finished after 415 timesteps with reward=-306.09260553860383\n",
      "Episode finished after 918 timesteps with reward=-406.78689431562947\n"
     ]
    },
    {
     "name": "stderr",
     "output_type": "stream",
     "text": [
      " 81%|████████▏ | 8551/10500 [15:14<03:28,  9.35it/s]"
     ]
    },
    {
     "name": "stdout",
     "output_type": "stream",
     "text": [
      "Episode finished after 561 timesteps with reward=-258.9620790745363\n",
      "iter=8550\tepsilon=0.050\n",
      "Current score(mean over 3) = -323.947\n"
     ]
    },
    {
     "name": "stderr",
     "output_type": "stream",
     "text": [
      " 82%|████████▏ | 8599/10500 [15:20<03:23,  9.34it/s]"
     ]
    },
    {
     "name": "stdout",
     "output_type": "stream",
     "text": [
      "Episode finished after 261 timesteps with reward=-224.0892100119124\n",
      "Episode finished after 235 timesteps with reward=-203.1846498041956\n"
     ]
    },
    {
     "name": "stderr",
     "output_type": "stream",
     "text": [
      " 82%|████████▏ | 8601/10500 [15:21<03:23,  9.33it/s]"
     ]
    },
    {
     "name": "stdout",
     "output_type": "stream",
     "text": [
      "Episode finished after 240 timesteps with reward=-261.9871610167685\n",
      "iter=8600\tepsilon=0.050\n",
      "Current score(mean over 3) = -229.754\n"
     ]
    },
    {
     "name": "stderr",
     "output_type": "stream",
     "text": [
      " 82%|████████▏ | 8649/10500 [15:27<03:18,  9.33it/s]"
     ]
    },
    {
     "name": "stdout",
     "output_type": "stream",
     "text": [
      "Episode finished after 201 timesteps with reward=-167.78667223215598\n",
      "Episode finished after 201 timesteps with reward=-175.36368663591708\n"
     ]
    },
    {
     "name": "stderr",
     "output_type": "stream",
     "text": [
      "\r",
      " 82%|████████▏ | 8651/10500 [15:28<03:18,  9.32it/s]"
     ]
    },
    {
     "name": "stdout",
     "output_type": "stream",
     "text": [
      "Episode finished after 428 timesteps with reward=-234.97864483215767\n",
      "iter=8650\tepsilon=0.050\n",
      "Current score(mean over 3) = -192.710\n"
     ]
    },
    {
     "name": "stderr",
     "output_type": "stream",
     "text": [
      " 83%|████████▎ | 8699/10500 [15:34<03:13,  9.31it/s]"
     ]
    },
    {
     "name": "stdout",
     "output_type": "stream",
     "text": [
      "Episode finished after 481 timesteps with reward=-322.63413679970176\n",
      "Episode finished after 208 timesteps with reward=-194.18702753365955\n"
     ]
    },
    {
     "name": "stderr",
     "output_type": "stream",
     "text": [
      " 83%|████████▎ | 8702/10500 [15:35<03:13,  9.30it/s]"
     ]
    },
    {
     "name": "stdout",
     "output_type": "stream",
     "text": [
      "Episode finished after 344 timesteps with reward=-219.0555682068603\n",
      "iter=8700\tepsilon=0.050\n",
      "Current score(mean over 3) = -245.292\n"
     ]
    },
    {
     "name": "stderr",
     "output_type": "stream",
     "text": [
      " 83%|████████▎ | 8748/10500 [15:41<03:08,  9.29it/s]"
     ]
    },
    {
     "name": "stdout",
     "output_type": "stream",
     "text": [
      "Episode finished after 210 timesteps with reward=-206.75411278050484\n",
      "Episode finished after 281 timesteps with reward=-261.0621724859014\n"
     ]
    },
    {
     "name": "stderr",
     "output_type": "stream",
     "text": [
      " 83%|████████▎ | 8752/10500 [15:42<03:08,  9.28it/s]"
     ]
    },
    {
     "name": "stdout",
     "output_type": "stream",
     "text": [
      "Episode finished after 272 timesteps with reward=-314.9237813321183\n",
      "iter=8750\tepsilon=0.050\n",
      "Current score(mean over 3) = -260.913\n"
     ]
    },
    {
     "name": "stderr",
     "output_type": "stream",
     "text": [
      " 84%|████████▍ | 8799/10500 [15:48<03:03,  9.28it/s]"
     ]
    },
    {
     "name": "stdout",
     "output_type": "stream",
     "text": [
      "Episode finished after 220 timesteps with reward=-221.09540949761447\n"
     ]
    },
    {
     "name": "stderr",
     "output_type": "stream",
     "text": [
      "\r",
      " 84%|████████▍ | 8800/10500 [15:49<03:03,  9.27it/s]"
     ]
    },
    {
     "name": "stdout",
     "output_type": "stream",
     "text": [
      "Episode finished after 294 timesteps with reward=-260.48954990117323\n",
      "Episode finished after 198 timesteps with reward=-165.54675034635997\n",
      "iter=8800\tepsilon=0.050\n",
      "Current score(mean over 3) = -215.711\n"
     ]
    },
    {
     "name": "stderr",
     "output_type": "stream",
     "text": [
      " 84%|████████▍ | 8849/10500 [15:55<02:58,  9.26it/s]"
     ]
    },
    {
     "name": "stdout",
     "output_type": "stream",
     "text": [
      "Episode finished after 237 timesteps with reward=-206.93779163431776\n",
      "Episode finished after 435 timesteps with reward=-217.06746771717206\n"
     ]
    },
    {
     "name": "stderr",
     "output_type": "stream",
     "text": [
      " 84%|████████▍ | 8851/10500 [15:57<02:58,  9.24it/s]"
     ]
    },
    {
     "name": "stdout",
     "output_type": "stream",
     "text": [
      "Episode finished after 479 timesteps with reward=-280.26610357704806\n",
      "iter=8850\tepsilon=0.050\n",
      "Current score(mean over 3) = -234.757\n"
     ]
    },
    {
     "name": "stderr",
     "output_type": "stream",
     "text": [
      " 85%|████████▍ | 8899/10500 [16:03<02:53,  9.23it/s]"
     ]
    },
    {
     "name": "stdout",
     "output_type": "stream",
     "text": [
      "Episode finished after 448 timesteps with reward=-267.9291142744629\n",
      "Episode finished after 172 timesteps with reward=-176.7876917882205\n"
     ]
    },
    {
     "name": "stderr",
     "output_type": "stream",
     "text": [
      "\r",
      " 85%|████████▍ | 8900/10500 [16:04<02:53,  9.22it/s]"
     ]
    },
    {
     "name": "stdout",
     "output_type": "stream",
     "text": [
      "Episode finished after 307 timesteps with reward=-289.6976530797839\n",
      "iter=8900\tepsilon=0.050\n",
      "Current score(mean over 3) = -244.805\n"
     ]
    },
    {
     "name": "stderr",
     "output_type": "stream",
     "text": [
      " 85%|████████▌ | 8948/10500 [16:10<02:48,  9.22it/s]"
     ]
    },
    {
     "name": "stdout",
     "output_type": "stream",
     "text": [
      "Episode finished after 663 timesteps with reward=-359.8328873850883\n",
      "Episode finished after 1000 timesteps with reward=-197.91794610225247\n"
     ]
    },
    {
     "name": "stderr",
     "output_type": "stream",
     "text": [
      " 85%|████████▌ | 8952/10500 [16:15<02:48,  9.18it/s]"
     ]
    },
    {
     "name": "stdout",
     "output_type": "stream",
     "text": [
      "Episode finished after 375 timesteps with reward=-225.7128520023228\n",
      "iter=8950\tepsilon=0.050\n",
      "Current score(mean over 3) = -261.155\n"
     ]
    },
    {
     "name": "stderr",
     "output_type": "stream",
     "text": [
      " 86%|████████▌ | 8999/10500 [16:20<02:43,  9.17it/s]"
     ]
    },
    {
     "name": "stdout",
     "output_type": "stream",
     "text": [
      "Episode finished after 141 timesteps with reward=-71.23070421898305\n",
      "Episode finished after 218 timesteps with reward=-220.74706546289778\n"
     ]
    },
    {
     "name": "stderr",
     "output_type": "stream",
     "text": [
      " 86%|████████▌ | 9001/10500 [16:22<02:43,  9.16it/s]"
     ]
    },
    {
     "name": "stdout",
     "output_type": "stream",
     "text": [
      "Episode finished after 374 timesteps with reward=-236.97238260630513\n",
      "iter=9000\tepsilon=0.050\n",
      "Current score(mean over 3) = -176.317\n"
     ]
    },
    {
     "name": "stderr",
     "output_type": "stream",
     "text": [
      " 86%|████████▌ | 9049/10500 [16:28<02:38,  9.16it/s]"
     ]
    },
    {
     "name": "stdout",
     "output_type": "stream",
     "text": [
      "Episode finished after 349 timesteps with reward=-238.9817084865524\n",
      "Episode finished after 187 timesteps with reward=-161.70314831183524\n"
     ]
    },
    {
     "name": "stderr",
     "output_type": "stream",
     "text": [
      " 86%|████████▌ | 9051/10500 [16:29<02:38,  9.15it/s]"
     ]
    },
    {
     "name": "stdout",
     "output_type": "stream",
     "text": [
      "Episode finished after 211 timesteps with reward=-186.67189727886046\n",
      "iter=9050\tepsilon=0.050\n",
      "Current score(mean over 3) = -195.786\n"
     ]
    },
    {
     "name": "stderr",
     "output_type": "stream",
     "text": [
      " 87%|████████▋ | 9098/10500 [16:34<02:33,  9.15it/s]"
     ]
    },
    {
     "name": "stdout",
     "output_type": "stream",
     "text": [
      "Episode finished after 1000 timesteps with reward=-139.41736823993497\n",
      "Episode finished after 202 timesteps with reward=-202.46348713055227\n"
     ]
    },
    {
     "name": "stderr",
     "output_type": "stream",
     "text": [
      " 87%|████████▋ | 9102/10500 [16:38<02:33,  9.11it/s]"
     ]
    },
    {
     "name": "stdout",
     "output_type": "stream",
     "text": [
      "Episode finished after 245 timesteps with reward=-233.5609497909821\n",
      "iter=9100\tepsilon=0.050\n",
      "Current score(mean over 3) = -191.814\n"
     ]
    },
    {
     "name": "stderr",
     "output_type": "stream",
     "text": [
      " 87%|████████▋ | 9149/10500 [16:43<02:28,  9.11it/s]"
     ]
    },
    {
     "name": "stdout",
     "output_type": "stream",
     "text": [
      "Episode finished after 404 timesteps with reward=-216.50350398746104\n",
      "Episode finished after 183 timesteps with reward=-155.81754513729726\n"
     ]
    },
    {
     "name": "stderr",
     "output_type": "stream",
     "text": [
      " 87%|████████▋ | 9151/10500 [16:46<02:28,  9.09it/s]"
     ]
    },
    {
     "name": "stdout",
     "output_type": "stream",
     "text": [
      "Episode finished after 892 timesteps with reward=-327.4234627560027\n",
      "iter=9150\tepsilon=0.050\n",
      "Current score(mean over 3) = -233.248\n"
     ]
    },
    {
     "name": "stderr",
     "output_type": "stream",
     "text": [
      " 88%|████████▊ | 9199/10500 [16:54<02:23,  9.07it/s]"
     ]
    },
    {
     "name": "stdout",
     "output_type": "stream",
     "text": [
      "Episode finished after 276 timesteps with reward=-252.53141381660623\n",
      "Episode finished after 408 timesteps with reward=-235.23931897846128\n"
     ]
    },
    {
     "name": "stderr",
     "output_type": "stream",
     "text": [
      " 88%|████████▊ | 9202/10500 [16:56<02:23,  9.05it/s]"
     ]
    },
    {
     "name": "stdout",
     "output_type": "stream",
     "text": [
      "Episode finished after 508 timesteps with reward=-231.32903820188594\n",
      "iter=9200\tepsilon=0.050\n",
      "Current score(mean over 3) = -239.700\n"
     ]
    },
    {
     "name": "stderr",
     "output_type": "stream",
     "text": [
      " 88%|████████▊ | 9249/10500 [17:01<02:18,  9.05it/s]"
     ]
    },
    {
     "name": "stdout",
     "output_type": "stream",
     "text": [
      "Episode finished after 249 timesteps with reward=-197.31808755897646\n",
      "Episode finished after 1000 timesteps with reward=-191.31506146809878\n"
     ]
    },
    {
     "name": "stderr",
     "output_type": "stream",
     "text": [
      "\r",
      " 88%|████████▊ | 9251/10500 [17:05<02:18,  9.02it/s]"
     ]
    },
    {
     "name": "stdout",
     "output_type": "stream",
     "text": [
      "Episode finished after 350 timesteps with reward=-292.8558201318599\n",
      "iter=9250\tepsilon=0.050\n",
      "Current score(mean over 3) = -227.163\n"
     ]
    },
    {
     "name": "stderr",
     "output_type": "stream",
     "text": [
      " 89%|████████▊ | 9298/10500 [17:12<02:13,  9.01it/s]"
     ]
    },
    {
     "name": "stdout",
     "output_type": "stream",
     "text": [
      "Episode finished after 209 timesteps with reward=-209.2649192130816\n"
     ]
    },
    {
     "name": "stderr",
     "output_type": "stream",
     "text": [
      "\r",
      " 89%|████████▊ | 9300/10500 [17:13<02:13,  9.00it/s]"
     ]
    },
    {
     "name": "stdout",
     "output_type": "stream",
     "text": [
      "Episode finished after 223 timesteps with reward=-226.80853385134407\n",
      "Episode finished after 175 timesteps with reward=-222.46919381090646\n",
      "iter=9300\tepsilon=0.050\n",
      "Current score(mean over 3) = -219.514\n"
     ]
    },
    {
     "name": "stderr",
     "output_type": "stream",
     "text": [
      " 89%|████████▉ | 9349/10500 [17:19<02:08,  8.99it/s]"
     ]
    },
    {
     "name": "stdout",
     "output_type": "stream",
     "text": [
      "Episode finished after 252 timesteps with reward=-240.13933221131248\n",
      "Episode finished after 451 timesteps with reward=-256.1604209229224\n"
     ]
    },
    {
     "name": "stderr",
     "output_type": "stream",
     "text": [
      " 89%|████████▉ | 9352/10500 [17:21<02:07,  8.98it/s]"
     ]
    },
    {
     "name": "stdout",
     "output_type": "stream",
     "text": [
      "Episode finished after 242 timesteps with reward=-120.95524235234915\n",
      "iter=9350\tepsilon=0.050\n",
      "Current score(mean over 3) = -205.752\n"
     ]
    },
    {
     "name": "stderr",
     "output_type": "stream",
     "text": [
      " 90%|████████▉ | 9399/10500 [17:26<02:02,  8.98it/s]"
     ]
    },
    {
     "name": "stdout",
     "output_type": "stream",
     "text": [
      "Episode finished after 527 timesteps with reward=-249.15939851275158\n"
     ]
    },
    {
     "name": "stderr",
     "output_type": "stream",
     "text": [
      "\r",
      " 90%|████████▉ | 9400/10500 [17:28<02:02,  8.97it/s]"
     ]
    },
    {
     "name": "stdout",
     "output_type": "stream",
     "text": [
      "Episode finished after 400 timesteps with reward=-220.6801065619891\n",
      "Episode finished after 179 timesteps with reward=-193.36764485889154\n",
      "iter=9400\tepsilon=0.050\n",
      "Current score(mean over 3) = -221.069\n"
     ]
    },
    {
     "name": "stderr",
     "output_type": "stream",
     "text": [
      " 90%|████████▉ | 9449/10500 [17:33<01:57,  8.97it/s]"
     ]
    },
    {
     "name": "stdout",
     "output_type": "stream",
     "text": [
      "Episode finished after 206 timesteps with reward=-207.68035707629878\n",
      "Episode finished after 204 timesteps with reward=-197.35186974350836\n"
     ]
    },
    {
     "name": "stderr",
     "output_type": "stream",
     "text": [
      " 90%|█████████ | 9451/10500 [17:34<01:57,  8.96it/s]"
     ]
    },
    {
     "name": "stdout",
     "output_type": "stream",
     "text": [
      "Episode finished after 200 timesteps with reward=-173.15662869937103\n",
      "iter=9450\tepsilon=0.050\n",
      "Current score(mean over 3) = -192.730\n"
     ]
    },
    {
     "name": "stderr",
     "output_type": "stream",
     "text": [
      " 90%|█████████ | 9498/10500 [17:40<01:51,  8.96it/s]"
     ]
    },
    {
     "name": "stdout",
     "output_type": "stream",
     "text": [
      "Episode finished after 289 timesteps with reward=-255.25298521788676\n",
      "Episode finished after 221 timesteps with reward=-139.43013474615222\n"
     ]
    },
    {
     "name": "stderr",
     "output_type": "stream",
     "text": [
      " 90%|█████████ | 9501/10500 [17:42<01:51,  8.94it/s]"
     ]
    },
    {
     "name": "stdout",
     "output_type": "stream",
     "text": [
      "Episode finished after 906 timesteps with reward=-286.7139526707573\n",
      "iter=9500\tepsilon=0.050\n",
      "Current score(mean over 3) = -227.132\n"
     ]
    },
    {
     "name": "stderr",
     "output_type": "stream",
     "text": [
      " 91%|█████████ | 9549/10500 [17:48<01:46,  8.94it/s]"
     ]
    },
    {
     "name": "stdout",
     "output_type": "stream",
     "text": [
      "Episode finished after 242 timesteps with reward=-224.29610199286313\n",
      "Episode finished after 249 timesteps with reward=-236.65516326504766\n"
     ]
    },
    {
     "name": "stderr",
     "output_type": "stream",
     "text": [
      " 91%|█████████ | 9551/10500 [17:49<01:46,  8.93it/s]"
     ]
    },
    {
     "name": "stdout",
     "output_type": "stream",
     "text": [
      "Episode finished after 291 timesteps with reward=-241.03729549745736\n",
      "iter=9550\tepsilon=0.050\n",
      "Current score(mean over 3) = -233.996\n"
     ]
    },
    {
     "name": "stderr",
     "output_type": "stream",
     "text": [
      " 91%|█████████▏| 9599/10500 [17:55<01:40,  8.93it/s]"
     ]
    },
    {
     "name": "stdout",
     "output_type": "stream",
     "text": [
      "Episode finished after 201 timesteps with reward=-188.7817804639035\n",
      "Episode finished after 426 timesteps with reward=-301.26433824718697\n"
     ]
    },
    {
     "name": "stderr",
     "output_type": "stream",
     "text": [
      " 91%|█████████▏| 9602/10500 [17:56<01:40,  8.92it/s]"
     ]
    },
    {
     "name": "stdout",
     "output_type": "stream",
     "text": [
      "Episode finished after 361 timesteps with reward=-231.11210904907134\n",
      "iter=9600\tepsilon=0.050\n",
      "Current score(mean over 3) = -240.386\n"
     ]
    },
    {
     "name": "stderr",
     "output_type": "stream",
     "text": [
      " 92%|█████████▏| 9649/10500 [18:02<01:35,  8.92it/s]"
     ]
    },
    {
     "name": "stdout",
     "output_type": "stream",
     "text": [
      "Episode finished after 369 timesteps with reward=-267.72634335256396\n",
      "Episode finished after 853 timesteps with reward=-325.3026455485723\n"
     ]
    },
    {
     "name": "stderr",
     "output_type": "stream",
     "text": [
      " 92%|█████████▏| 9651/10500 [18:04<01:35,  8.90it/s]"
     ]
    },
    {
     "name": "stdout",
     "output_type": "stream",
     "text": [
      "Episode finished after 317 timesteps with reward=-243.43474127493536\n",
      "iter=9650\tepsilon=0.050\n",
      "Current score(mean over 3) = -278.821\n"
     ]
    },
    {
     "name": "stderr",
     "output_type": "stream",
     "text": [
      " 92%|█████████▏| 9699/10500 [18:10<01:30,  8.89it/s]"
     ]
    },
    {
     "name": "stdout",
     "output_type": "stream",
     "text": [
      "Episode finished after 420 timesteps with reward=-257.1375785124547\n",
      "Episode finished after 303 timesteps with reward=-221.5944969030149\n"
     ]
    },
    {
     "name": "stderr",
     "output_type": "stream",
     "text": [
      " 92%|█████████▏| 9701/10500 [18:12<01:29,  8.88it/s]"
     ]
    },
    {
     "name": "stdout",
     "output_type": "stream",
     "text": [
      "Episode finished after 231 timesteps with reward=-201.59136283157926\n",
      "iter=9700\tepsilon=0.050\n",
      "Current score(mean over 3) = -226.774\n"
     ]
    },
    {
     "name": "stderr",
     "output_type": "stream",
     "text": [
      " 93%|█████████▎| 9748/10500 [18:17<01:24,  8.88it/s]"
     ]
    },
    {
     "name": "stdout",
     "output_type": "stream",
     "text": [
      "Episode finished after 1000 timesteps with reward=-145.47853361280056\n",
      "Episode finished after 272 timesteps with reward=-248.1097969502387\n"
     ]
    },
    {
     "name": "stderr",
     "output_type": "stream",
     "text": [
      " 93%|█████████▎| 9751/10500 [18:21<01:24,  8.85it/s]"
     ]
    },
    {
     "name": "stdout",
     "output_type": "stream",
     "text": [
      "Episode finished after 497 timesteps with reward=-285.6406026978185\n",
      "iter=9750\tepsilon=0.050\n",
      "Current score(mean over 3) = -226.410\n"
     ]
    },
    {
     "name": "stderr",
     "output_type": "stream",
     "text": [
      " 93%|█████████▎| 9799/10500 [18:26<01:19,  8.86it/s]"
     ]
    },
    {
     "name": "stdout",
     "output_type": "stream",
     "text": [
      "Episode finished after 243 timesteps with reward=-111.40171339202206\n",
      "Episode finished after 279 timesteps with reward=-160.904481874682\n",
      "Episode finished after 172 timesteps with reward=-169.08422423719338\n",
      "iter=9800\tepsilon=0.050\n",
      "Current score(mean over 3) = -147.130\n"
     ]
    },
    {
     "name": "stderr",
     "output_type": "stream",
     "text": [
      " 94%|█████████▍| 9848/10500 [18:32<01:13,  8.85it/s]"
     ]
    },
    {
     "name": "stdout",
     "output_type": "stream",
     "text": [
      "Episode finished after 718 timesteps with reward=-272.92550474767324\n",
      "Episode finished after 295 timesteps with reward=-169.95533695643417\n"
     ]
    },
    {
     "name": "stderr",
     "output_type": "stream",
     "text": [
      " 94%|█████████▍| 9852/10500 [18:36<01:13,  8.82it/s]"
     ]
    },
    {
     "name": "stdout",
     "output_type": "stream",
     "text": [
      "Episode finished after 944 timesteps with reward=-314.9408241807514\n",
      "iter=9850\tepsilon=0.050\n",
      "Current score(mean over 3) = -252.607\n"
     ]
    },
    {
     "name": "stderr",
     "output_type": "stream",
     "text": [
      " 94%|█████████▍| 9899/10500 [18:41<01:08,  8.83it/s]"
     ]
    },
    {
     "name": "stdout",
     "output_type": "stream",
     "text": [
      "Episode finished after 270 timesteps with reward=-227.44374176213458\n",
      "Episode finished after 229 timesteps with reward=-230.0650971201195\n"
     ]
    },
    {
     "name": "stderr",
     "output_type": "stream",
     "text": [
      " 94%|█████████▍| 9901/10500 [18:42<01:07,  8.82it/s]"
     ]
    },
    {
     "name": "stdout",
     "output_type": "stream",
     "text": [
      "Episode finished after 288 timesteps with reward=-227.18816336362772\n",
      "iter=9900\tepsilon=0.050\n",
      "Current score(mean over 3) = -228.232\n"
     ]
    },
    {
     "name": "stderr",
     "output_type": "stream",
     "text": [
      " 95%|█████████▍| 9949/10500 [18:48<01:02,  8.82it/s]"
     ]
    },
    {
     "name": "stdout",
     "output_type": "stream",
     "text": [
      "Episode finished after 441 timesteps with reward=-255.75615935743025\n",
      "Episode finished after 247 timesteps with reward=-196.60234598107672\n"
     ]
    },
    {
     "name": "stderr",
     "output_type": "stream",
     "text": [
      " 95%|█████████▍| 9951/10500 [18:49<01:02,  8.81it/s]"
     ]
    },
    {
     "name": "stdout",
     "output_type": "stream",
     "text": [
      "Episode finished after 229 timesteps with reward=-200.79805024639398\n",
      "iter=9950\tepsilon=0.050\n",
      "Current score(mean over 3) = -217.719\n"
     ]
    },
    {
     "name": "stderr",
     "output_type": "stream",
     "text": [
      " 95%|█████████▌| 9999/10500 [18:55<00:56,  8.81it/s]"
     ]
    },
    {
     "name": "stdout",
     "output_type": "stream",
     "text": [
      "Episode finished after 258 timesteps with reward=-134.6407125974494\n",
      "Episode finished after 322 timesteps with reward=-200.94015346478136\n"
     ]
    },
    {
     "name": "stderr",
     "output_type": "stream",
     "text": [
      " 95%|█████████▌| 10002/10500 [18:56<00:56,  8.80it/s]"
     ]
    },
    {
     "name": "stdout",
     "output_type": "stream",
     "text": [
      "Episode finished after 294 timesteps with reward=-244.82736329149475\n",
      "iter=10000\tepsilon=0.050\n",
      "Current score(mean over 3) = -193.469\n"
     ]
    },
    {
     "name": "stderr",
     "output_type": "stream",
     "text": [
      " 96%|█████████▌| 10048/10500 [19:01<00:51,  8.80it/s]"
     ]
    },
    {
     "name": "stdout",
     "output_type": "stream",
     "text": [
      "Episode finished after 687 timesteps with reward=-293.37430145856706\n",
      "Episode finished after 656 timesteps with reward=-291.92196819835897\n"
     ]
    },
    {
     "name": "stderr",
     "output_type": "stream",
     "text": [
      " 96%|█████████▌| 10052/10500 [19:06<00:51,  8.77it/s]"
     ]
    },
    {
     "name": "stdout",
     "output_type": "stream",
     "text": [
      "Episode finished after 765 timesteps with reward=-300.763489285\n",
      "iter=10050\tepsilon=0.050\n",
      "Current score(mean over 3) = -295.353\n"
     ]
    },
    {
     "name": "stderr",
     "output_type": "stream",
     "text": [
      " 96%|█████████▌| 10098/10500 [19:12<00:45,  8.76it/s]"
     ]
    },
    {
     "name": "stdout",
     "output_type": "stream",
     "text": [
      "Episode finished after 364 timesteps with reward=-270.718473554354\n",
      "Episode finished after 349 timesteps with reward=-232.8027476333894\n"
     ]
    },
    {
     "name": "stderr",
     "output_type": "stream",
     "text": [
      " 96%|█████████▌| 10101/10500 [19:14<00:45,  8.75it/s]"
     ]
    },
    {
     "name": "stdout",
     "output_type": "stream",
     "text": [
      "Episode finished after 475 timesteps with reward=-281.6264551634356\n",
      "iter=10100\tepsilon=0.050\n",
      "Current score(mean over 3) = -261.716\n"
     ]
    },
    {
     "name": "stderr",
     "output_type": "stream",
     "text": [
      " 97%|█████████▋| 10149/10500 [19:21<00:40,  8.74it/s]"
     ]
    },
    {
     "name": "stdout",
     "output_type": "stream",
     "text": [
      "Episode finished after 456 timesteps with reward=-261.1438733869768\n",
      "Episode finished after 779 timesteps with reward=-303.94039062195554\n"
     ]
    },
    {
     "name": "stderr",
     "output_type": "stream",
     "text": [
      "\r",
      " 97%|█████████▋| 10150/10500 [19:24<00:40,  8.72it/s]"
     ]
    },
    {
     "name": "stdout",
     "output_type": "stream",
     "text": [
      "Episode finished after 442 timesteps with reward=-244.3832839817826\n",
      "iter=10150\tepsilon=0.050\n",
      "Current score(mean over 3) = -269.823\n"
     ]
    },
    {
     "name": "stderr",
     "output_type": "stream",
     "text": [
      " 97%|█████████▋| 10199/10500 [19:30<00:34,  8.71it/s]"
     ]
    },
    {
     "name": "stdout",
     "output_type": "stream",
     "text": [
      "Episode finished after 520 timesteps with reward=-236.38816038873486\n",
      "Episode finished after 243 timesteps with reward=-195.86067802399964\n"
     ]
    },
    {
     "name": "stderr",
     "output_type": "stream",
     "text": [
      " 97%|█████████▋| 10201/10500 [19:33<00:34,  8.70it/s]"
     ]
    },
    {
     "name": "stdout",
     "output_type": "stream",
     "text": [
      "Episode finished after 526 timesteps with reward=-268.4823707373922\n",
      "iter=10200\tepsilon=0.050\n",
      "Current score(mean over 3) = -233.577\n"
     ]
    },
    {
     "name": "stderr",
     "output_type": "stream",
     "text": [
      " 98%|█████████▊| 10249/10500 [19:39<00:28,  8.69it/s]"
     ]
    },
    {
     "name": "stdout",
     "output_type": "stream",
     "text": [
      "Episode finished after 505 timesteps with reward=-315.5243767119666\n",
      "Episode finished after 1000 timesteps with reward=-184.6453412563946\n"
     ]
    },
    {
     "name": "stderr",
     "output_type": "stream",
     "text": [
      " 98%|█████████▊| 10251/10500 [19:44<00:28,  8.65it/s]"
     ]
    },
    {
     "name": "stdout",
     "output_type": "stream",
     "text": [
      "Episode finished after 604 timesteps with reward=-274.09800737692046\n",
      "iter=10250\tepsilon=0.050\n",
      "Current score(mean over 3) = -258.089\n"
     ]
    },
    {
     "name": "stderr",
     "output_type": "stream",
     "text": [
      " 98%|█████████▊| 10299/10500 [19:50<00:23,  8.65it/s]"
     ]
    },
    {
     "name": "stdout",
     "output_type": "stream",
     "text": [
      "Episode finished after 977 timesteps with reward=-346.4629430117999\n",
      "Episode finished after 235 timesteps with reward=-165.2613239188026\n"
     ]
    },
    {
     "name": "stderr",
     "output_type": "stream",
     "text": [
      " 98%|█████████▊| 10302/10500 [19:55<00:22,  8.62it/s]"
     ]
    },
    {
     "name": "stdout",
     "output_type": "stream",
     "text": [
      "Episode finished after 671 timesteps with reward=-292.7066907168563\n",
      "iter=10300\tepsilon=0.050\n",
      "Current score(mean over 3) = -268.144\n"
     ]
    },
    {
     "name": "stderr",
     "output_type": "stream",
     "text": [
      " 99%|█████████▊| 10349/10500 [20:02<00:17,  8.61it/s]"
     ]
    },
    {
     "name": "stdout",
     "output_type": "stream",
     "text": [
      "Episode finished after 164 timesteps with reward=-151.36739229717264\n",
      "Episode finished after 305 timesteps with reward=-188.2871158060284\n"
     ]
    },
    {
     "name": "stderr",
     "output_type": "stream",
     "text": [
      " 99%|█████████▊| 10352/10500 [20:04<00:17,  8.59it/s]"
     ]
    },
    {
     "name": "stdout",
     "output_type": "stream",
     "text": [
      "Episode finished after 921 timesteps with reward=-292.7147566346384\n",
      "iter=10350\tepsilon=0.050\n",
      "Current score(mean over 3) = -210.790\n"
     ]
    },
    {
     "name": "stderr",
     "output_type": "stream",
     "text": [
      " 99%|█████████▉| 10399/10500 [20:10<00:11,  8.59it/s]"
     ]
    },
    {
     "name": "stdout",
     "output_type": "stream",
     "text": [
      "Episode finished after 527 timesteps with reward=-244.35548682970736\n",
      "Episode finished after 975 timesteps with reward=-294.7326441161448\n"
     ]
    },
    {
     "name": "stderr",
     "output_type": "stream",
     "text": [
      " 99%|█████████▉| 10401/10500 [20:14<00:11,  8.56it/s]"
     ]
    },
    {
     "name": "stdout",
     "output_type": "stream",
     "text": [
      "Episode finished after 358 timesteps with reward=-202.24487022965857\n",
      "iter=10400\tepsilon=0.050\n",
      "Current score(mean over 3) = -247.111\n"
     ]
    },
    {
     "name": "stderr",
     "output_type": "stream",
     "text": [
      "100%|█████████▉| 10449/10500 [20:21<00:05,  8.55it/s]"
     ]
    },
    {
     "name": "stdout",
     "output_type": "stream",
     "text": [
      "Episode finished after 306 timesteps with reward=-158.7883213352794\n",
      "Episode finished after 573 timesteps with reward=-279.34108338344436\n"
     ]
    },
    {
     "name": "stderr",
     "output_type": "stream",
     "text": [
      "100%|█████████▉| 10452/10500 [20:25<00:05,  8.53it/s]"
     ]
    },
    {
     "name": "stdout",
     "output_type": "stream",
     "text": [
      "Episode finished after 976 timesteps with reward=-400.878857921913\n",
      "iter=10450\tepsilon=0.050\n",
      "Current score(mean over 3) = -279.669\n"
     ]
    },
    {
     "name": "stderr",
     "output_type": "stream",
     "text": [
      "100%|█████████▉| 10499/10500 [20:33<00:00,  8.51it/s]"
     ]
    },
    {
     "name": "stdout",
     "output_type": "stream",
     "text": [
      "Episode finished after 312 timesteps with reward=-292.5437785368547\n",
      "Episode finished after 447 timesteps with reward=-190.57506065380454\n"
     ]
    },
    {
     "name": "stderr",
     "output_type": "stream",
     "text": [
      "\r",
      "100%|██████████| 10500/10500 [20:34<00:00,  8.50it/s]"
     ]
    },
    {
     "name": "stdout",
     "output_type": "stream",
     "text": [
      "Episode finished after 392 timesteps with reward=-222.733239235747\n",
      "iter=10500\tepsilon=0.050\n",
      "Current score(mean over 3) = -235.284\n"
     ]
    },
    {
     "name": "stderr",
     "output_type": "stream",
     "text": [
      "\n"
     ]
    }
   ],
   "source": [
    "from tqdm import trange\n",
    "\n",
    "for i in trange(10500):    \n",
    "    \n",
    "    #play\n",
    "    for _ in range(5):\n",
    "        pool.update(SEQ_LENGTH,append=True)\n",
    "    \n",
    "    #train\n",
    "    train_step()\n",
    "    \n",
    "    #update epsilon\n",
    "    epsilon = 0.05 + 0.95*np.exp(-epoch_counter/1000.)\n",
    "    action_layer.epsilon.set_value(np.float32(epsilon))\n",
    "    \n",
    "    #play a few games for evaluation\n",
    "    if epoch_counter%50==0:\n",
    "        rewards[epoch_counter] = np.mean(pool.evaluate(n_games=3,record_video=False))\n",
    "        print(\"iter=%i\\tepsilon=%.3f\"%(epoch_counter,action_layer.epsilon.get_value(),))\n",
    "        print(\"Current score(mean over %i) = %.3f\"%(3,np.mean(rewards[epoch_counter])))\n",
    "    \n",
    "        if rewards[epoch_counter] >= target_score:\n",
    "            print(\"You win!\")\n",
    "            break\n",
    "\n",
    "    \n",
    "    epoch_counter  +=1\n",
    "\n",
    "    \n",
    "# Time to drink some coffee!"
   ]
  },
  {
   "cell_type": "code",
   "execution_count": null,
   "metadata": {
    "collapsed": true
   },
   "outputs": [],
   "source": [
    "from pandas import ewma\n",
    "iters,session_rewards=zip(*sorted(rewards.items(),key=lambda (k,v):k))\n",
    "plt.plot(iters,ewma(np.array(session_rewards),span=10))"
   ]
  },
  {
   "cell_type": "code",
   "execution_count": null,
   "metadata": {
    "collapsed": true
   },
   "outputs": [],
   "source": [
    "final_reward = pool.evaluate(n_games=10,save_path=\"./records\",record_video=True)\n",
    "\n",
    "print(\"average reward:\",final_reward)\n",
    "\n",
    "video_names = list(filter(lambda s:s.endswith(\".mp4\"),os.listdir(\"./records/\")))\n",
    "\n",
    "for video_name in video_names:\n",
    "    HTML(\"\"\"\n",
    "    <video width=\"640\" height=\"480\" controls>\n",
    "      <source src=\"{}\" type=\"video/mp4\">\n",
    "    </video>\n",
    "    \"\"\".format(\"./records/\"+video_name)) #this may or may not be _last_ video. Try other indices"
   ]
  },
  {
   "cell_type": "code",
   "execution_count": null,
   "metadata": {
    "collapsed": true
   },
   "outputs": [],
   "source": []
  }
 ],
 "metadata": {
  "kernelspec": {
   "display_name": "Python 3",
   "language": "python",
   "name": "python3"
  },
  "language_info": {
   "codemirror_mode": {
    "name": "ipython",
    "version": 3
   },
   "file_extension": ".py",
   "mimetype": "text/x-python",
   "name": "python",
   "nbconvert_exporter": "python",
   "pygments_lexer": "ipython3",
   "version": "3.4.5"
  }
 },
 "nbformat": 4,
 "nbformat_minor": 1
}
