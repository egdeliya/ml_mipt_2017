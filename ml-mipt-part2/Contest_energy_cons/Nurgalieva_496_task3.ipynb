{
 "cells": [
  {
   "cell_type": "markdown",
   "metadata": {},
   "source": [
    "<span style=\"font-size: 14pt\">MIPT, Advanced ML, Autumn 2017</span>\n",
    "\n",
    "<span style=\"font-size: 16pt\"> HW #3: ARIMAX, Compositions\n",
    "\n",
    "<span style=\"color:blue; font-size: 12pt\">Alexey Romanenko </span>,\n",
    "<span style=\"color:blue; font-size: 12pt; font-family: 'Verdana'\">alexromsput@gmail.com</span>"
   ]
  },
  {
   "cell_type": "markdown",
   "metadata": {},
   "source": [
    "**Дополнительный материал для выполнения дз**:\n",
    "- Магнус Я.Р., Катышев П.К., Пересецкий А.А. Эконометрика. Начальный курс., глава 11\n",
    "- Лукашин Ю.П. Адаптивные методы краткосрочного прогнозирования временных рядов. Финансы и статистика. 2003, главы 1,4,5,7.\n",
    "\n",
    "**Оформление дз**: \n",
    "- Присылайте выполненное задание на почту ``ml.course.mipt@gmail.com``\n",
    "- Укажите тему письма в следующем формате ``ML2017_Aut_fall <номер_группы> <фамилия>``, к примеру -- ``ML2017_Aut_fall 401 ivanov``\n",
    "- Выполненное дз сохраните в файл ``<фамилия>_<группа>_task<номер>.ipnb``, к примеру -- ``ivanov_401_task1.ipnb``\n",
    "\n",
    "**Вопросы**:\n",
    "- Присылайте вопросы на почту ``ml.course.mipt@gmail.com``\n",
    "- Укажите тему письма в следующем формате ``ML2017_Aut_fall Question <Содержание вопроса>``\n",
    "\n",
    "<span style=\"color:red; font-size: 14pt;\"> DEADLINE: 10 October 2017 23:59:59 </span>\n",
    "\n",
    "--------\n",
    "- **PS1**: Мы используем автоматические фильтры, и просто не найдем ваше дз, если вы не аккуратно его подпишите.\n",
    "- **PS2**: Напоминаем, что дедлайны жесткие, письма пришедшие после автоматически удаляются =( чтобы соблазна не было \n"
   ]
  },
  {
   "cell_type": "markdown",
   "metadata": {},
   "source": [
    "<h1 align=\"center\">Check Questions (20%)</h1> "
   ]
  },
  {
   "cell_type": "markdown",
   "metadata": {},
   "source": [
    "Ответе на вопросы своими словами (загугленный материал надо пересказать), ответ обоснуйте (напишите и ОБЪЯСНИТЕ формулки если потребуется), если не выходит, то вернитесь к лекции дополнительным материалам:\n",
    "\n",
    "**Вопрос 1** Опишите ситуацию (аргументированно), в котором композиция Adaptive Selection будет прогнозировать хуже, чем лучший из базовых алгоритмов.\n",
    "\n",
    "<Ответ>"
   ]
  },
  {
   "cell_type": "markdown",
   "metadata": {},
   "source": [
    "**Вопрос 2**  Опишите ситуацию (аргументированно), в котором композиция Adaptive Composition будет прогнозировать хуже, чем лучший из базовых алгоритмов.\n",
    "\n",
    "<Ответ>"
   ]
  },
  {
   "cell_type": "markdown",
   "metadata": {},
   "source": [
    "**Вопрос 3** Что значит смешиваемость (mixability) игры (в теории агрегирующего алгоритма)?\n",
    "\n",
    "<Ответ>"
   ]
  },
  {
   "cell_type": "markdown",
   "metadata": {},
   "source": [
    "**Вопрос 4**: Верно ли, что для смешиваемых игр процесс потерь любой композиции (любого алгоритма) будет расти со временем (с ростом $t$) не быстрее, чем процесс потерь лучшего из базовых алгоритмов? Если нет - приведит пример, когда это не так.\n",
    "\n",
    "### $$ \\mathrm{Loss}_{Composition}(T)\\leq \\inf\\limits_{BA} \\mathrm{Loss}_{BA}(T)+C$$\n",
    "\n",
    "<Ответ>"
   ]
  },
  {
   "cell_type": "markdown",
   "metadata": {},
   "source": [
    "<h1 align=\"center\">2. Contest: electricity comsumption contest (80%)</h1>\n",
    "Take part in <a href='https://www.kaggle.com/t/de102b28cae74e6ead7492ff12efbc63'>contest</a>.\n",
    "<span style='color:red'> You need to send the final code that is used for building forecast.</span>"
   ]
  },
  {
   "cell_type": "code",
   "execution_count": 1,
   "metadata": {
    "collapsed": true
   },
   "outputs": [],
   "source": [
    "import pandas as pd\n",
    "import numpy as np\n",
    "import matplotlib.pyplot as plt\n",
    "import matplotlib\n",
    "import math\n",
    "\n",
    "%matplotlib inline"
   ]
  },
  {
   "cell_type": "markdown",
   "metadata": {},
   "source": [
    "### Анализируем данные"
   ]
  },
  {
   "cell_type": "code",
   "execution_count": 40,
   "metadata": {
    "collapsed": true
   },
   "outputs": [],
   "source": [
    "data = pd.read_csv('train.csv', sep=',', decimal='.', parse_dates=True, dayfirst=True, index_col='Date')\n",
    "data.index.names=['Timestamp']"
   ]
  },
  {
   "cell_type": "code",
   "execution_count": 41,
   "metadata": {
    "scrolled": false
   },
   "outputs": [
    {
     "data": {
      "text/html": [
       "<div>\n",
       "<style>\n",
       "    .dataframe thead tr:only-child th {\n",
       "        text-align: right;\n",
       "    }\n",
       "\n",
       "    .dataframe thead th {\n",
       "        text-align: left;\n",
       "    }\n",
       "\n",
       "    .dataframe tbody tr th {\n",
       "        vertical-align: top;\n",
       "    }\n",
       "</style>\n",
       "<table border=\"1\" class=\"dataframe\">\n",
       "  <thead>\n",
       "    <tr style=\"text-align: right;\">\n",
       "      <th></th>\n",
       "      <th>ID</th>\n",
       "      <th>tsID</th>\n",
       "      <th>ACTUAL</th>\n",
       "      <th>Temp</th>\n",
       "      <th>Saturday</th>\n",
       "      <th>Sunday</th>\n",
       "    </tr>\n",
       "    <tr>\n",
       "      <th>Timestamp</th>\n",
       "      <th></th>\n",
       "      <th></th>\n",
       "      <th></th>\n",
       "      <th></th>\n",
       "      <th></th>\n",
       "      <th></th>\n",
       "    </tr>\n",
       "  </thead>\n",
       "  <tbody>\n",
       "    <tr>\n",
       "      <th>2010-01-01</th>\n",
       "      <td>1</td>\n",
       "      <td>4</td>\n",
       "      <td>35489.95</td>\n",
       "      <td>-0.9</td>\n",
       "      <td>0.0</td>\n",
       "      <td>1</td>\n",
       "    </tr>\n",
       "    <tr>\n",
       "      <th>2010-01-02</th>\n",
       "      <td>2</td>\n",
       "      <td>4</td>\n",
       "      <td>35413.59</td>\n",
       "      <td>-0.1</td>\n",
       "      <td>1.0</td>\n",
       "      <td>0</td>\n",
       "    </tr>\n",
       "    <tr>\n",
       "      <th>2010-01-03</th>\n",
       "      <td>3</td>\n",
       "      <td>4</td>\n",
       "      <td>34802.67</td>\n",
       "      <td>-3.9</td>\n",
       "      <td>0.0</td>\n",
       "      <td>1</td>\n",
       "    </tr>\n",
       "    <tr>\n",
       "      <th>2010-01-04</th>\n",
       "      <td>4</td>\n",
       "      <td>4</td>\n",
       "      <td>36003.84</td>\n",
       "      <td>-13.7</td>\n",
       "      <td>0.0</td>\n",
       "      <td>1</td>\n",
       "    </tr>\n",
       "    <tr>\n",
       "      <th>2010-01-05</th>\n",
       "      <td>5</td>\n",
       "      <td>4</td>\n",
       "      <td>37622.96</td>\n",
       "      <td>-16.9</td>\n",
       "      <td>0.0</td>\n",
       "      <td>1</td>\n",
       "    </tr>\n",
       "  </tbody>\n",
       "</table>\n",
       "</div>"
      ],
      "text/plain": [
       "            ID  tsID    ACTUAL  Temp  Saturday  Sunday\n",
       "Timestamp                                             \n",
       "2010-01-01   1     4  35489.95  -0.9       0.0       1\n",
       "2010-01-02   2     4  35413.59  -0.1       1.0       0\n",
       "2010-01-03   3     4  34802.67  -3.9       0.0       1\n",
       "2010-01-04   4     4  36003.84 -13.7       0.0       1\n",
       "2010-01-05   5     4  37622.96 -16.9       0.0       1"
      ]
     },
     "execution_count": 41,
     "metadata": {},
     "output_type": "execute_result"
    }
   ],
   "source": [
    "data.head()"
   ]
  },
  {
   "cell_type": "code",
   "execution_count": 42,
   "metadata": {},
   "outputs": [
    {
     "data": {
      "text/plain": [
       "ID            int64\n",
       "tsID          int64\n",
       "ACTUAL      float64\n",
       "Temp        float64\n",
       "Saturday    float64\n",
       "Sunday        int64\n",
       "dtype: object"
      ]
     },
     "execution_count": 42,
     "metadata": {},
     "output_type": "execute_result"
    }
   ],
   "source": [
    "data.dtypes"
   ]
  },
  {
   "cell_type": "code",
   "execution_count": 886,
   "metadata": {
    "scrolled": false
   },
   "outputs": [
    {
     "data": {
      "text/plain": [
       "<matplotlib.axes._subplots.AxesSubplot at 0x1a0e9947be0>"
      ]
     },
     "execution_count": 886,
     "metadata": {},
     "output_type": "execute_result"
    },
    {
     "data": {
      "image/png": "[encoded data removed]",
      "text/plain": [
       "<matplotlib.figure.Figure at 0x1a0ea5051d0>"
      ]
     },
     "metadata": {},
     "output_type": "display_data"
    }
   ],
   "source": [
    "data.loc[data.tsID == 4, 'ACTUAL'].plot()\n",
    "# data.loc[data.tsID == 4, 'ACTUAL'].plot()\n"
   ]
  },
  {
   "cell_type": "code",
   "execution_count": 887,
   "metadata": {
    "scrolled": false
   },
   "outputs": [
    {
     "data": {
      "text/plain": [
       "array([ 1,  2,  3,  4,  5,  6,  7,  8,  9, 10, 11, 12, 13, 14, 15, 16, 17,\n",
       "       18, 19, 20, 21, 22], dtype=int64)"
      ]
     },
     "execution_count": 887,
     "metadata": {},
     "output_type": "execute_result"
    }
   ],
   "source": [
    "np.unique(data.tsID)"
   ]
  },
  {
   "cell_type": "markdown",
   "metadata": {},
   "source": [
    "### Данные конкретного временного ряда c $id=4$"
   ]
  },
  {
   "cell_type": "code",
   "execution_count": 938,
   "metadata": {
    "collapsed": true
   },
   "outputs": [],
   "source": [
    "forecast_hor = 30"
   ]
  },
  {
   "cell_type": "code",
   "execution_count": 939,
   "metadata": {
    "collapsed": true
   },
   "outputs": [],
   "source": [
    "ts_id = 4"
   ]
  },
  {
   "cell_type": "code",
   "execution_count": 1303,
   "metadata": {
    "collapsed": true
   },
   "outputs": [],
   "source": [
    "cur_ts = data.loc[data.tsID == ts_id]"
   ]
  },
  {
   "cell_type": "markdown",
   "metadata": {},
   "source": [
    "#### Сколько наблюдений за конкретный год"
   ]
  },
  {
   "cell_type": "code",
   "execution_count": 1304,
   "metadata": {
    "scrolled": true
   },
   "outputs": [
    {
     "name": "stdout",
     "output_type": "stream",
     "text": [
      "Количество наблюдений за 2010 год 365\n",
      "Количество наблюдений за 2011 год 365\n",
      "Количество наблюдений за 2012 год 335\n"
     ]
    }
   ],
   "source": [
    "print(\"Количество наблюдений за 2010 год {}\".format(len(cur_ts[cur_ts.year == 2010])))\n",
    "print(\"Количество наблюдений за 2011 год {}\".format(len(cur_ts[cur_ts.year == 2011])))\n",
    "print(\"Количество наблюдений за 2012 год {}\".format(len(cur_ts[cur_ts.year == 2012])))"
   ]
  },
  {
   "cell_type": "code",
   "execution_count": 1305,
   "metadata": {},
   "outputs": [
    {
     "data": {
      "text/html": [
       "<div>\n",
       "<style>\n",
       "    .dataframe thead tr:only-child th {\n",
       "        text-align: right;\n",
       "    }\n",
       "\n",
       "    .dataframe thead th {\n",
       "        text-align: left;\n",
       "    }\n",
       "\n",
       "    .dataframe tbody tr th {\n",
       "        vertical-align: top;\n",
       "    }\n",
       "</style>\n",
       "<table border=\"1\" class=\"dataframe\">\n",
       "  <thead>\n",
       "    <tr style=\"text-align: right;\">\n",
       "      <th></th>\n",
       "      <th>ID</th>\n",
       "      <th>tsID</th>\n",
       "      <th>ACTUAL</th>\n",
       "      <th>Temp</th>\n",
       "      <th>Saturday</th>\n",
       "      <th>Sunday</th>\n",
       "      <th>month</th>\n",
       "      <th>year</th>\n",
       "    </tr>\n",
       "    <tr>\n",
       "      <th>Timestamp</th>\n",
       "      <th></th>\n",
       "      <th></th>\n",
       "      <th></th>\n",
       "      <th></th>\n",
       "      <th></th>\n",
       "      <th></th>\n",
       "      <th></th>\n",
       "      <th></th>\n",
       "    </tr>\n",
       "  </thead>\n",
       "  <tbody>\n",
       "    <tr>\n",
       "      <th>2010-01-01</th>\n",
       "      <td>1</td>\n",
       "      <td>4</td>\n",
       "      <td>35489.95</td>\n",
       "      <td>-0.9</td>\n",
       "      <td>0.0</td>\n",
       "      <td>1</td>\n",
       "      <td>1</td>\n",
       "      <td>2010</td>\n",
       "    </tr>\n",
       "    <tr>\n",
       "      <th>2010-01-02</th>\n",
       "      <td>2</td>\n",
       "      <td>4</td>\n",
       "      <td>35413.59</td>\n",
       "      <td>-0.1</td>\n",
       "      <td>1.0</td>\n",
       "      <td>0</td>\n",
       "      <td>1</td>\n",
       "      <td>2010</td>\n",
       "    </tr>\n",
       "    <tr>\n",
       "      <th>2010-01-03</th>\n",
       "      <td>3</td>\n",
       "      <td>4</td>\n",
       "      <td>34802.67</td>\n",
       "      <td>-3.9</td>\n",
       "      <td>0.0</td>\n",
       "      <td>1</td>\n",
       "      <td>1</td>\n",
       "      <td>2010</td>\n",
       "    </tr>\n",
       "    <tr>\n",
       "      <th>2010-01-04</th>\n",
       "      <td>4</td>\n",
       "      <td>4</td>\n",
       "      <td>36003.84</td>\n",
       "      <td>-13.7</td>\n",
       "      <td>0.0</td>\n",
       "      <td>1</td>\n",
       "      <td>1</td>\n",
       "      <td>2010</td>\n",
       "    </tr>\n",
       "    <tr>\n",
       "      <th>2010-01-05</th>\n",
       "      <td>5</td>\n",
       "      <td>4</td>\n",
       "      <td>37622.96</td>\n",
       "      <td>-16.9</td>\n",
       "      <td>0.0</td>\n",
       "      <td>1</td>\n",
       "      <td>1</td>\n",
       "      <td>2010</td>\n",
       "    </tr>\n",
       "  </tbody>\n",
       "</table>\n",
       "</div>"
      ],
      "text/plain": [
       "            ID  tsID    ACTUAL  Temp  Saturday  Sunday  month  year\n",
       "Timestamp                                                          \n",
       "2010-01-01   1     4  35489.95  -0.9       0.0       1      1  2010\n",
       "2010-01-02   2     4  35413.59  -0.1       1.0       0      1  2010\n",
       "2010-01-03   3     4  34802.67  -3.9       0.0       1      1  2010\n",
       "2010-01-04   4     4  36003.84 -13.7       0.0       1      1  2010\n",
       "2010-01-05   5     4  37622.96 -16.9       0.0       1      1  2010"
      ]
     },
     "execution_count": 1305,
     "metadata": {},
     "output_type": "execute_result"
    }
   ],
   "source": [
    "cur_ts.head()"
   ]
  },
  {
   "cell_type": "code",
   "execution_count": 1306,
   "metadata": {
    "collapsed": true
   },
   "outputs": [],
   "source": [
    "cur_ts_forecast_id = cur_ts['ID'][-forecast_hor:]\n",
    "cur_ts = cur_ts[['ACTUAL', 'Temp']]"
   ]
  },
  {
   "cell_type": "code",
   "execution_count": 1307,
   "metadata": {
    "collapsed": true
   },
   "outputs": [],
   "source": [
    "import statsmodels.api as sm"
   ]
  },
  {
   "cell_type": "code",
   "execution_count": 1308,
   "metadata": {},
   "outputs": [
    {
     "data": {
      "text/html": [
       "<div>\n",
       "<style>\n",
       "    .dataframe thead tr:only-child th {\n",
       "        text-align: right;\n",
       "    }\n",
       "\n",
       "    .dataframe thead th {\n",
       "        text-align: left;\n",
       "    }\n",
       "\n",
       "    .dataframe tbody tr th {\n",
       "        vertical-align: top;\n",
       "    }\n",
       "</style>\n",
       "<table border=\"1\" class=\"dataframe\">\n",
       "  <thead>\n",
       "    <tr style=\"text-align: right;\">\n",
       "      <th></th>\n",
       "      <th>ACTUAL</th>\n",
       "      <th>Temp</th>\n",
       "    </tr>\n",
       "    <tr>\n",
       "      <th>Timestamp</th>\n",
       "      <th></th>\n",
       "      <th></th>\n",
       "    </tr>\n",
       "  </thead>\n",
       "  <tbody>\n",
       "    <tr>\n",
       "      <th>2012-11-26</th>\n",
       "      <td>NaN</td>\n",
       "      <td>-1.8</td>\n",
       "    </tr>\n",
       "    <tr>\n",
       "      <th>2012-11-27</th>\n",
       "      <td>NaN</td>\n",
       "      <td>-1.5</td>\n",
       "    </tr>\n",
       "    <tr>\n",
       "      <th>2012-11-28</th>\n",
       "      <td>NaN</td>\n",
       "      <td>-1.5</td>\n",
       "    </tr>\n",
       "    <tr>\n",
       "      <th>2012-11-29</th>\n",
       "      <td>NaN</td>\n",
       "      <td>-1.0</td>\n",
       "    </tr>\n",
       "    <tr>\n",
       "      <th>2012-11-30</th>\n",
       "      <td>NaN</td>\n",
       "      <td>4.0</td>\n",
       "    </tr>\n",
       "  </tbody>\n",
       "</table>\n",
       "</div>"
      ],
      "text/plain": [
       "            ACTUAL  Temp\n",
       "Timestamp               \n",
       "2012-11-26     NaN  -1.8\n",
       "2012-11-27     NaN  -1.5\n",
       "2012-11-28     NaN  -1.5\n",
       "2012-11-29     NaN  -1.0\n",
       "2012-11-30     NaN   4.0"
      ]
     },
     "execution_count": 1308,
     "metadata": {},
     "output_type": "execute_result"
    }
   ],
   "source": [
    "cur_ts.tail()"
   ]
  },
  {
   "cell_type": "code",
   "execution_count": 1309,
   "metadata": {
    "scrolled": false
   },
   "outputs": [
    {
     "data": {
      "text/plain": [
       "<matplotlib.collections.PathCollection at 0x1a0eed93e80>"
      ]
     },
     "execution_count": 1309,
     "metadata": {},
     "output_type": "execute_result"
    },
    {
     "data": {
      "image/png": "[encoded data removed]",
      "text/plain": [
       "<matplotlib.figure.Figure at 0x1a0eed7e898>"
      ]
     },
     "metadata": {},
     "output_type": "display_data"
    }
   ],
   "source": [
    "plt.scatter(cur_ts['Temp'], cur_ts['ACTUAL'])"
   ]
  },
  {
   "cell_type": "code",
   "execution_count": 1310,
   "metadata": {
    "collapsed": true
   },
   "outputs": [],
   "source": [
    "cur_ts_test = cur_ts.tail(30)\n",
    "cur_ts = cur_ts[:-30]"
   ]
  },
  {
   "cell_type": "code",
   "execution_count": 1311,
   "metadata": {
    "scrolled": true
   },
   "outputs": [
    {
     "data": {
      "image/png": "[encoded data removed]",
      "text/plain": [
       "<matplotlib.figure.Figure at 0x1a0e9797748>"
      ]
     },
     "metadata": {},
     "output_type": "display_data"
    }
   ],
   "source": [
    "res = sm.tsa.seasonal_decompose(cur_ts['ACTUAL'].resample(\"W\").sum())\n",
    "resplot = res.plot()"
   ]
  },
  {
   "cell_type": "code",
   "execution_count": 1312,
   "metadata": {},
   "outputs": [
    {
     "data": {
      "text/html": [
       "<div>\n",
       "<style>\n",
       "    .dataframe thead tr:only-child th {\n",
       "        text-align: right;\n",
       "    }\n",
       "\n",
       "    .dataframe thead th {\n",
       "        text-align: left;\n",
       "    }\n",
       "\n",
       "    .dataframe tbody tr th {\n",
       "        vertical-align: top;\n",
       "    }\n",
       "</style>\n",
       "<table border=\"1\" class=\"dataframe\">\n",
       "  <thead>\n",
       "    <tr style=\"text-align: right;\">\n",
       "      <th></th>\n",
       "      <th>ACTUAL</th>\n",
       "      <th>Temp</th>\n",
       "    </tr>\n",
       "    <tr>\n",
       "      <th>Timestamp</th>\n",
       "      <th></th>\n",
       "      <th></th>\n",
       "    </tr>\n",
       "  </thead>\n",
       "  <tbody>\n",
       "    <tr>\n",
       "      <th>2012-11-01</th>\n",
       "      <td>0.0</td>\n",
       "      <td>3.0</td>\n",
       "    </tr>\n",
       "    <tr>\n",
       "      <th>2012-11-02</th>\n",
       "      <td>0.0</td>\n",
       "      <td>1.8</td>\n",
       "    </tr>\n",
       "    <tr>\n",
       "      <th>2012-11-03</th>\n",
       "      <td>0.0</td>\n",
       "      <td>0.0</td>\n",
       "    </tr>\n",
       "    <tr>\n",
       "      <th>2012-11-04</th>\n",
       "      <td>0.0</td>\n",
       "      <td>2.0</td>\n",
       "    </tr>\n",
       "    <tr>\n",
       "      <th>2012-11-05</th>\n",
       "      <td>0.0</td>\n",
       "      <td>7.8</td>\n",
       "    </tr>\n",
       "  </tbody>\n",
       "</table>\n",
       "</div>"
      ],
      "text/plain": [
       "            ACTUAL  Temp\n",
       "Timestamp               \n",
       "2012-11-01     0.0   3.0\n",
       "2012-11-02     0.0   1.8\n",
       "2012-11-03     0.0   0.0\n",
       "2012-11-04     0.0   2.0\n",
       "2012-11-05     0.0   7.8"
      ]
     },
     "execution_count": 1312,
     "metadata": {},
     "output_type": "execute_result"
    }
   ],
   "source": [
    "cur_ts_test.fillna(0, inplace=True)\n",
    "cur_ts_test.head()"
   ]
  },
  {
   "cell_type": "code",
   "execution_count": 1313,
   "metadata": {},
   "outputs": [
    {
     "data": {
      "text/html": [
       "<div>\n",
       "<style>\n",
       "    .dataframe thead tr:only-child th {\n",
       "        text-align: right;\n",
       "    }\n",
       "\n",
       "    .dataframe thead th {\n",
       "        text-align: left;\n",
       "    }\n",
       "\n",
       "    .dataframe tbody tr th {\n",
       "        vertical-align: top;\n",
       "    }\n",
       "</style>\n",
       "<table border=\"1\" class=\"dataframe\">\n",
       "  <thead>\n",
       "    <tr style=\"text-align: right;\">\n",
       "      <th></th>\n",
       "      <th>ACTUAL</th>\n",
       "      <th>Temp</th>\n",
       "    </tr>\n",
       "    <tr>\n",
       "      <th>Timestamp</th>\n",
       "      <th></th>\n",
       "      <th></th>\n",
       "    </tr>\n",
       "  </thead>\n",
       "  <tbody>\n",
       "    <tr>\n",
       "      <th>2012-10-27</th>\n",
       "      <td>32194.01</td>\n",
       "      <td>4.0</td>\n",
       "    </tr>\n",
       "    <tr>\n",
       "      <th>2012-10-28</th>\n",
       "      <td>31246.77</td>\n",
       "      <td>5.0</td>\n",
       "    </tr>\n",
       "    <tr>\n",
       "      <th>2012-10-29</th>\n",
       "      <td>33454.83</td>\n",
       "      <td>10.5</td>\n",
       "    </tr>\n",
       "    <tr>\n",
       "      <th>2012-10-30</th>\n",
       "      <td>33894.82</td>\n",
       "      <td>8.8</td>\n",
       "    </tr>\n",
       "    <tr>\n",
       "      <th>2012-10-31</th>\n",
       "      <td>33838.25</td>\n",
       "      <td>10.5</td>\n",
       "    </tr>\n",
       "  </tbody>\n",
       "</table>\n",
       "</div>"
      ],
      "text/plain": [
       "              ACTUAL  Temp\n",
       "Timestamp                 \n",
       "2012-10-27  32194.01   4.0\n",
       "2012-10-28  31246.77   5.0\n",
       "2012-10-29  33454.83  10.5\n",
       "2012-10-30  33894.82   8.8\n",
       "2012-10-31  33838.25  10.5"
      ]
     },
     "execution_count": 1313,
     "metadata": {},
     "output_type": "execute_result"
    }
   ],
   "source": [
    "cur_ts.tail()"
   ]
  },
  {
   "cell_type": "code",
   "execution_count": 1314,
   "metadata": {
    "collapsed": true
   },
   "outputs": [],
   "source": [
    "from sklearn.preprocessing import MinMaxScaler"
   ]
  },
  {
   "cell_type": "code",
   "execution_count": 1315,
   "metadata": {},
   "outputs": [],
   "source": [
    "scaler = MinMaxScaler()\n",
    "cur_ts_scaled = scaler.fit_transform(cur_ts.values)\n",
    "# cur_ts_test_scaled = scaler.fit_transform(cur_ts_test)"
   ]
  },
  {
   "cell_type": "code",
   "execution_count": 1316,
   "metadata": {},
   "outputs": [],
   "source": [
    "# cur_ts_test_scaled"
   ]
  },
  {
   "cell_type": "code",
   "execution_count": 1317,
   "metadata": {
    "scrolled": true
   },
   "outputs": [
    {
     "data": {
      "text/plain": [
       "array([[ 0.53775112,  0.4278438 ],\n",
       "       [ 0.53369675,  0.44142615],\n",
       "       [ 0.50125969,  0.37691002],\n",
       "       ..., \n",
       "       [ 0.42969553,  0.62139219],\n",
       "       [ 0.453057  ,  0.59252971],\n",
       "       [ 0.45005339,  0.62139219]])"
      ]
     },
     "execution_count": 1317,
     "metadata": {},
     "output_type": "execute_result"
    }
   ],
   "source": [
    "cur_ts_scaled"
   ]
  },
  {
   "cell_type": "code",
   "execution_count": 1318,
   "metadata": {
    "collapsed": true
   },
   "outputs": [],
   "source": [
    "\"\"\"создаёт матрицу - объекты-признаки, \n",
    "    признаки - наблюдения на предыдущих n_in шагах\n",
    "    объекты - наблюдение на текущем шаге\"\"\"\n",
    "def series_to_supervised(data, n_in=1, n_out=1, dropnan=True):\n",
    "\tn_vars = 1 if type(data) is list else data.shape[1]\n",
    "\tdf = pd.DataFrame(data)\n",
    "\tcols, names = list(), list()\n",
    "\t# input sequence (t-n, ... t-1)\n",
    "\tfor i in range(n_in, 0, -1):\n",
    "\t\tcols.append(df.shift(i))\n",
    "\t\tnames += [('var%d(t-%d)' % (j+1, i)) for j in range(n_vars)]\n",
    "\t# forecast sequence (t, t+1, ... t+n)\n",
    "\tfor i in range(0, n_out):\n",
    "\t\tcols.append(df.shift(-i))\n",
    "\t\tif i == 0:\n",
    "\t\t\tnames += [('var%d(t)' % (j+1)) for j in range(n_vars)]\n",
    "\t\telse:\n",
    "\t\t\tnames += [('var%d(t+%d)' % (j+1, i)) for j in range(n_vars)]\n",
    "\t# put it all together\n",
    "\tagg = pd.concat(cols, axis=1)\n",
    "\tagg.columns = names\n",
    "\t# drop rows with NaN values\n",
    "\tif dropnan:\n",
    "\t\tagg.dropna(inplace=True)\n",
    "\treturn agg"
   ]
  },
  {
   "cell_type": "code",
   "execution_count": 1319,
   "metadata": {
    "scrolled": true
   },
   "outputs": [
    {
     "data": {
      "text/html": [
       "<div>\n",
       "<style>\n",
       "    .dataframe thead tr:only-child th {\n",
       "        text-align: right;\n",
       "    }\n",
       "\n",
       "    .dataframe thead th {\n",
       "        text-align: left;\n",
       "    }\n",
       "\n",
       "    .dataframe tbody tr th {\n",
       "        vertical-align: top;\n",
       "    }\n",
       "</style>\n",
       "<table border=\"1\" class=\"dataframe\">\n",
       "  <thead>\n",
       "    <tr style=\"text-align: right;\">\n",
       "      <th></th>\n",
       "      <th>var1(t-7)</th>\n",
       "      <th>var2(t-7)</th>\n",
       "      <th>var1(t-6)</th>\n",
       "      <th>var2(t-6)</th>\n",
       "      <th>var1(t-5)</th>\n",
       "      <th>var2(t-5)</th>\n",
       "      <th>var1(t-4)</th>\n",
       "      <th>var2(t-4)</th>\n",
       "      <th>var1(t-3)</th>\n",
       "      <th>var2(t-3)</th>\n",
       "      <th>var1(t-2)</th>\n",
       "      <th>var2(t-2)</th>\n",
       "      <th>var1(t-1)</th>\n",
       "      <th>var2(t-1)</th>\n",
       "      <th>var1(t)</th>\n",
       "      <th>var2(t)</th>\n",
       "    </tr>\n",
       "  </thead>\n",
       "  <tbody>\n",
       "    <tr>\n",
       "      <th>7</th>\n",
       "      <td>0.537751</td>\n",
       "      <td>0.427844</td>\n",
       "      <td>0.533697</td>\n",
       "      <td>0.441426</td>\n",
       "      <td>0.501260</td>\n",
       "      <td>0.376910</td>\n",
       "      <td>0.565036</td>\n",
       "      <td>0.210526</td>\n",
       "      <td>0.651004</td>\n",
       "      <td>0.156197</td>\n",
       "      <td>0.684206</td>\n",
       "      <td>0.166384</td>\n",
       "      <td>0.690582</td>\n",
       "      <td>0.146010</td>\n",
       "      <td>0.729313</td>\n",
       "      <td>0.219015</td>\n",
       "    </tr>\n",
       "    <tr>\n",
       "      <th>8</th>\n",
       "      <td>0.533697</td>\n",
       "      <td>0.441426</td>\n",
       "      <td>0.501260</td>\n",
       "      <td>0.376910</td>\n",
       "      <td>0.565036</td>\n",
       "      <td>0.210526</td>\n",
       "      <td>0.651004</td>\n",
       "      <td>0.156197</td>\n",
       "      <td>0.684206</td>\n",
       "      <td>0.166384</td>\n",
       "      <td>0.690582</td>\n",
       "      <td>0.146010</td>\n",
       "      <td>0.729313</td>\n",
       "      <td>0.219015</td>\n",
       "      <td>0.658221</td>\n",
       "      <td>0.341256</td>\n",
       "    </tr>\n",
       "    <tr>\n",
       "      <th>9</th>\n",
       "      <td>0.501260</td>\n",
       "      <td>0.376910</td>\n",
       "      <td>0.565036</td>\n",
       "      <td>0.210526</td>\n",
       "      <td>0.651004</td>\n",
       "      <td>0.156197</td>\n",
       "      <td>0.684206</td>\n",
       "      <td>0.166384</td>\n",
       "      <td>0.690582</td>\n",
       "      <td>0.146010</td>\n",
       "      <td>0.729313</td>\n",
       "      <td>0.219015</td>\n",
       "      <td>0.658221</td>\n",
       "      <td>0.341256</td>\n",
       "      <td>0.682865</td>\n",
       "      <td>0.310696</td>\n",
       "    </tr>\n",
       "    <tr>\n",
       "      <th>10</th>\n",
       "      <td>0.565036</td>\n",
       "      <td>0.210526</td>\n",
       "      <td>0.651004</td>\n",
       "      <td>0.156197</td>\n",
       "      <td>0.684206</td>\n",
       "      <td>0.166384</td>\n",
       "      <td>0.690582</td>\n",
       "      <td>0.146010</td>\n",
       "      <td>0.729313</td>\n",
       "      <td>0.219015</td>\n",
       "      <td>0.658221</td>\n",
       "      <td>0.341256</td>\n",
       "      <td>0.682865</td>\n",
       "      <td>0.310696</td>\n",
       "      <td>0.837918</td>\n",
       "      <td>0.196944</td>\n",
       "    </tr>\n",
       "    <tr>\n",
       "      <th>11</th>\n",
       "      <td>0.651004</td>\n",
       "      <td>0.156197</td>\n",
       "      <td>0.684206</td>\n",
       "      <td>0.166384</td>\n",
       "      <td>0.690582</td>\n",
       "      <td>0.146010</td>\n",
       "      <td>0.729313</td>\n",
       "      <td>0.219015</td>\n",
       "      <td>0.658221</td>\n",
       "      <td>0.341256</td>\n",
       "      <td>0.682865</td>\n",
       "      <td>0.310696</td>\n",
       "      <td>0.837918</td>\n",
       "      <td>0.196944</td>\n",
       "      <td>0.869546</td>\n",
       "      <td>0.235993</td>\n",
       "    </tr>\n",
       "  </tbody>\n",
       "</table>\n",
       "</div>"
      ],
      "text/plain": [
       "    var1(t-7)  var2(t-7)  var1(t-6)  var2(t-6)  var1(t-5)  var2(t-5)  \\\n",
       "7    0.537751   0.427844   0.533697   0.441426   0.501260   0.376910   \n",
       "8    0.533697   0.441426   0.501260   0.376910   0.565036   0.210526   \n",
       "9    0.501260   0.376910   0.565036   0.210526   0.651004   0.156197   \n",
       "10   0.565036   0.210526   0.651004   0.156197   0.684206   0.166384   \n",
       "11   0.651004   0.156197   0.684206   0.166384   0.690582   0.146010   \n",
       "\n",
       "    var1(t-4)  var2(t-4)  var1(t-3)  var2(t-3)  var1(t-2)  var2(t-2)  \\\n",
       "7    0.565036   0.210526   0.651004   0.156197   0.684206   0.166384   \n",
       "8    0.651004   0.156197   0.684206   0.166384   0.690582   0.146010   \n",
       "9    0.684206   0.166384   0.690582   0.146010   0.729313   0.219015   \n",
       "10   0.690582   0.146010   0.729313   0.219015   0.658221   0.341256   \n",
       "11   0.729313   0.219015   0.658221   0.341256   0.682865   0.310696   \n",
       "\n",
       "    var1(t-1)  var2(t-1)   var1(t)   var2(t)  \n",
       "7    0.690582   0.146010  0.729313  0.219015  \n",
       "8    0.729313   0.219015  0.658221  0.341256  \n",
       "9    0.658221   0.341256  0.682865  0.310696  \n",
       "10   0.682865   0.310696  0.837918  0.196944  \n",
       "11   0.837918   0.196944  0.869546  0.235993  "
      ]
     },
     "execution_count": 1319,
     "metadata": {},
     "output_type": "execute_result"
    }
   ],
   "source": [
    "reframed = series_to_supervised(cur_ts_scaled, n_in=7, n_out=1)\n",
    "reframed.head()"
   ]
  },
  {
   "cell_type": "code",
   "execution_count": 1320,
   "metadata": {},
   "outputs": [
    {
     "data": {
      "text/html": [
       "<div>\n",
       "<style>\n",
       "    .dataframe thead tr:only-child th {\n",
       "        text-align: right;\n",
       "    }\n",
       "\n",
       "    .dataframe thead th {\n",
       "        text-align: left;\n",
       "    }\n",
       "\n",
       "    .dataframe tbody tr th {\n",
       "        vertical-align: top;\n",
       "    }\n",
       "</style>\n",
       "<table border=\"1\" class=\"dataframe\">\n",
       "  <thead>\n",
       "    <tr style=\"text-align: right;\">\n",
       "      <th></th>\n",
       "      <th>var1(t-7)</th>\n",
       "      <th>var2(t-7)</th>\n",
       "      <th>var1(t-6)</th>\n",
       "      <th>var2(t-6)</th>\n",
       "      <th>var1(t-5)</th>\n",
       "      <th>var2(t-5)</th>\n",
       "      <th>var1(t-4)</th>\n",
       "      <th>var2(t-4)</th>\n",
       "      <th>var1(t-3)</th>\n",
       "      <th>var2(t-3)</th>\n",
       "      <th>var1(t-2)</th>\n",
       "      <th>var2(t-2)</th>\n",
       "      <th>var1(t-1)</th>\n",
       "      <th>var2(t-1)</th>\n",
       "      <th>var1(t)</th>\n",
       "    </tr>\n",
       "  </thead>\n",
       "  <tbody>\n",
       "    <tr>\n",
       "      <th>7</th>\n",
       "      <td>0.537751</td>\n",
       "      <td>0.427844</td>\n",
       "      <td>0.533697</td>\n",
       "      <td>0.441426</td>\n",
       "      <td>0.501260</td>\n",
       "      <td>0.376910</td>\n",
       "      <td>0.565036</td>\n",
       "      <td>0.210526</td>\n",
       "      <td>0.651004</td>\n",
       "      <td>0.156197</td>\n",
       "      <td>0.684206</td>\n",
       "      <td>0.166384</td>\n",
       "      <td>0.690582</td>\n",
       "      <td>0.146010</td>\n",
       "      <td>0.729313</td>\n",
       "    </tr>\n",
       "    <tr>\n",
       "      <th>8</th>\n",
       "      <td>0.533697</td>\n",
       "      <td>0.441426</td>\n",
       "      <td>0.501260</td>\n",
       "      <td>0.376910</td>\n",
       "      <td>0.565036</td>\n",
       "      <td>0.210526</td>\n",
       "      <td>0.651004</td>\n",
       "      <td>0.156197</td>\n",
       "      <td>0.684206</td>\n",
       "      <td>0.166384</td>\n",
       "      <td>0.690582</td>\n",
       "      <td>0.146010</td>\n",
       "      <td>0.729313</td>\n",
       "      <td>0.219015</td>\n",
       "      <td>0.658221</td>\n",
       "    </tr>\n",
       "    <tr>\n",
       "      <th>9</th>\n",
       "      <td>0.501260</td>\n",
       "      <td>0.376910</td>\n",
       "      <td>0.565036</td>\n",
       "      <td>0.210526</td>\n",
       "      <td>0.651004</td>\n",
       "      <td>0.156197</td>\n",
       "      <td>0.684206</td>\n",
       "      <td>0.166384</td>\n",
       "      <td>0.690582</td>\n",
       "      <td>0.146010</td>\n",
       "      <td>0.729313</td>\n",
       "      <td>0.219015</td>\n",
       "      <td>0.658221</td>\n",
       "      <td>0.341256</td>\n",
       "      <td>0.682865</td>\n",
       "    </tr>\n",
       "    <tr>\n",
       "      <th>10</th>\n",
       "      <td>0.565036</td>\n",
       "      <td>0.210526</td>\n",
       "      <td>0.651004</td>\n",
       "      <td>0.156197</td>\n",
       "      <td>0.684206</td>\n",
       "      <td>0.166384</td>\n",
       "      <td>0.690582</td>\n",
       "      <td>0.146010</td>\n",
       "      <td>0.729313</td>\n",
       "      <td>0.219015</td>\n",
       "      <td>0.658221</td>\n",
       "      <td>0.341256</td>\n",
       "      <td>0.682865</td>\n",
       "      <td>0.310696</td>\n",
       "      <td>0.837918</td>\n",
       "    </tr>\n",
       "    <tr>\n",
       "      <th>11</th>\n",
       "      <td>0.651004</td>\n",
       "      <td>0.156197</td>\n",
       "      <td>0.684206</td>\n",
       "      <td>0.166384</td>\n",
       "      <td>0.690582</td>\n",
       "      <td>0.146010</td>\n",
       "      <td>0.729313</td>\n",
       "      <td>0.219015</td>\n",
       "      <td>0.658221</td>\n",
       "      <td>0.341256</td>\n",
       "      <td>0.682865</td>\n",
       "      <td>0.310696</td>\n",
       "      <td>0.837918</td>\n",
       "      <td>0.196944</td>\n",
       "      <td>0.869546</td>\n",
       "    </tr>\n",
       "  </tbody>\n",
       "</table>\n",
       "</div>"
      ],
      "text/plain": [
       "    var1(t-7)  var2(t-7)  var1(t-6)  var2(t-6)  var1(t-5)  var2(t-5)  \\\n",
       "7    0.537751   0.427844   0.533697   0.441426   0.501260   0.376910   \n",
       "8    0.533697   0.441426   0.501260   0.376910   0.565036   0.210526   \n",
       "9    0.501260   0.376910   0.565036   0.210526   0.651004   0.156197   \n",
       "10   0.565036   0.210526   0.651004   0.156197   0.684206   0.166384   \n",
       "11   0.651004   0.156197   0.684206   0.166384   0.690582   0.146010   \n",
       "\n",
       "    var1(t-4)  var2(t-4)  var1(t-3)  var2(t-3)  var1(t-2)  var2(t-2)  \\\n",
       "7    0.565036   0.210526   0.651004   0.156197   0.684206   0.166384   \n",
       "8    0.651004   0.156197   0.684206   0.166384   0.690582   0.146010   \n",
       "9    0.684206   0.166384   0.690582   0.146010   0.729313   0.219015   \n",
       "10   0.690582   0.146010   0.729313   0.219015   0.658221   0.341256   \n",
       "11   0.729313   0.219015   0.658221   0.341256   0.682865   0.310696   \n",
       "\n",
       "    var1(t-1)  var2(t-1)   var1(t)  \n",
       "7    0.690582   0.146010  0.729313  \n",
       "8    0.729313   0.219015  0.658221  \n",
       "9    0.658221   0.341256  0.682865  \n",
       "10   0.682865   0.310696  0.837918  \n",
       "11   0.837918   0.196944  0.869546  "
      ]
     },
     "execution_count": 1320,
     "metadata": {},
     "output_type": "execute_result"
    }
   ],
   "source": [
    "reframed.drop(reframed.columns[[-1]], axis=1, inplace=True)\n",
    "reframed.head()"
   ]
  },
  {
   "cell_type": "code",
   "execution_count": 1321,
   "metadata": {},
   "outputs": [
    {
     "data": {
      "text/plain": [
       "(1028, 15)"
      ]
     },
     "execution_count": 1321,
     "metadata": {},
     "output_type": "execute_result"
    }
   ],
   "source": [
    "reframed.shape\n",
    "# reframed.columns[]"
   ]
  },
  {
   "cell_type": "code",
   "execution_count": 1322,
   "metadata": {},
   "outputs": [
    {
     "name": "stdout",
     "output_type": "stream",
     "text": [
      "823\n"
     ]
    }
   ],
   "source": [
    "# split into train and test sets\n",
    "values = reframed.values\n",
    "n_train_days = math.ceil(len(reframed)*0.8)\n",
    "train = values[:n_train_days, :]\n",
    "test = values[n_train_days:, :]\n",
    "print(n_train_days)"
   ]
  },
  {
   "cell_type": "code",
   "execution_count": 1323,
   "metadata": {
    "collapsed": true
   },
   "outputs": [],
   "source": [
    "# split into input and outputs\n",
    "train_X, train_y = train[:, :-1], train[:, -1:]\n",
    "test_X = test[:, :-1]\n",
    "# reshape input to be 3D [samples, timesteps, features]\n",
    "train_X = train_X.reshape((train_X.shape[0], 1, train_X.shape[1]))\n",
    "test_X = test_X.reshape((test_X.shape[0], 1, test_X.shape[1]))"
   ]
  },
  {
   "cell_type": "code",
   "execution_count": 1324,
   "metadata": {},
   "outputs": [
    {
     "name": "stdout",
     "output_type": "stream",
     "text": [
      "(823, 1, 14) (823, 1) (205, 1, 14)\n"
     ]
    }
   ],
   "source": [
    "# print(train_y)\n",
    "# train_y = np.transpose(train_y)\n",
    "# test_y = np.transpose(test_y)\n",
    "# print(train_y)\n",
    "print(train_X.shape, train_y.shape, test_X.shape)\n"
   ]
  },
  {
   "cell_type": "code",
   "execution_count": 1325,
   "metadata": {
    "collapsed": true
   },
   "outputs": [],
   "source": [
    "from utils import qualityMAPE\n",
    "from sklearn.linear_model import LinearRegression, LogisticRegression"
   ]
  },
  {
   "cell_type": "code",
   "execution_count": 1326,
   "metadata": {},
   "outputs": [
    {
     "data": {
      "text/plain": [
       "LinearRegression(copy_X=True, fit_intercept=True, n_jobs=1, normalize=False)"
      ]
     },
     "execution_count": 1326,
     "metadata": {},
     "output_type": "execute_result"
    }
   ],
   "source": [
    "lr = LinearRegression()\n",
    "lr.fit(train_X.squeeze(), train_y)"
   ]
  },
  {
   "cell_type": "code",
   "execution_count": 1327,
   "metadata": {},
   "outputs": [
    {
     "data": {
      "text/plain": [
       "(205, 1)"
      ]
     },
     "execution_count": 1327,
     "metadata": {},
     "output_type": "execute_result"
    }
   ],
   "source": [
    "# make a prediction\n",
    "# lr_yhat = lr.predict(test_X)\n",
    "# print(lr_yhat.shape)\n",
    "# lr_yhat\n",
    "# make a prediction\n",
    "lr_yhat = lr.predict(test_X.squeeze())\n",
    "# print(lr.predict(test_X.squeeze()))\n",
    "lr_yhat.shape"
   ]
  },
  {
   "cell_type": "code",
   "execution_count": 1328,
   "metadata": {},
   "outputs": [],
   "source": [
    "# invert scaling for forecast\n",
    "# lr_inv_yhat = np.concatenate((lr_yhat, \n",
    "#                               np.zeros((len(lr_yhat), 1))), axis=1)\n",
    "# print(lr_inv_yhat.shape)\n",
    "# print(scaler.min_)\n",
    "lr_inv_yhat = np.concatenate((lr_yhat, \n",
    "                              np.zeros((len(lr_yhat), 1))), axis=1)\n",
    "lr_inv_yhat = scaler.inverse_transform(lr_inv_yhat)\n",
    "lr_inv_yhat = lr_inv_yhat[:,0]"
   ]
  },
  {
   "cell_type": "code",
   "execution_count": 1329,
   "metadata": {},
   "outputs": [],
   "source": [
    "# lr_inv_yhat = scaler.inverse_transform(lr_inv_yhat)\n",
    "# lr_inv_yhat = scaler.inverse_transform(lr_yhat)"
   ]
  },
  {
   "cell_type": "code",
   "execution_count": 1330,
   "metadata": {},
   "outputs": [],
   "source": [
    "# print(lr_inv_yhat)"
   ]
  },
  {
   "cell_type": "code",
   "execution_count": 1331,
   "metadata": {},
   "outputs": [],
   "source": [
    "# lr_inv_yhat = lr_inv_yhat[:,0]"
   ]
  },
  {
   "cell_type": "code",
   "execution_count": 1332,
   "metadata": {},
   "outputs": [],
   "source": [
    "# invert scaling for actual\n",
    "# test_y = test_y.reshape((len(test_y), 1))\n",
    "# inv_y = np.concatenate((test_y, np.zeros((len(test_y), 1))), axis=1)\n",
    "# inv_y = scaler.inverse_transform(inv_y)\n",
    "# inv_y = inv_y[:,0]\n",
    "test_y = cur_ts['ACTUAL'][n_train_days+7:]\n",
    "# test_y\n",
    "# np.array(test_y)"
   ]
  },
  {
   "cell_type": "code",
   "execution_count": 1333,
   "metadata": {
    "collapsed": true
   },
   "outputs": [],
   "source": [
    "def MAPE(x, y):\n",
    "    # Mean absolute percentage error\n",
    "    qlt = (abs(x-y)/x)\n",
    "#     print(qlt.shape)\n",
    "    return qlt.mean()"
   ]
  },
  {
   "cell_type": "code",
   "execution_count": 1334,
   "metadata": {},
   "outputs": [
    {
     "name": "stdout",
     "output_type": "stream",
     "text": [
      "Test MAPE: 0.030\n"
     ]
    }
   ],
   "source": [
    "mape = MAPE(np.array(test_y), lr_inv_yhat)\n",
    "\n",
    "# print('Test RMSE: %.3f, %.3f' % (rmse, rmse2))\n",
    "print('Test MAPE: %.3f' % (mape))"
   ]
  },
  {
   "cell_type": "code",
   "execution_count": 1335,
   "metadata": {
    "scrolled": false
   },
   "outputs": [
    {
     "data": {
      "text/plain": [
       "<matplotlib.legend.Legend at 0x1a0ec0b2c18>"
      ]
     },
     "execution_count": 1335,
     "metadata": {},
     "output_type": "execute_result"
    },
    {
     "data": {
      "image/png": "[encoded data removed]",
      "text/plain": [
       "<matplotlib.figure.Figure at 0x1a0ef36e550>"
      ]
     },
     "metadata": {},
     "output_type": "display_data"
    }
   ],
   "source": [
    "plt.figure(figsize=(15,10))\n",
    "plt.plot(np.array(test_y), label='Real')\n",
    "# plt.plot(inv_yhat, '-.', linewidth=2, label='Predicted')\n",
    "plt.plot(lr_inv_yhat, ':', label='LR')\n",
    "plt.grid()\n",
    "plt.legend()"
   ]
  },
  {
   "cell_type": "markdown",
   "metadata": {},
   "source": [
    "## Как будет предсказывать модель на 30 дней вперёд"
   ]
  },
  {
   "cell_type": "code",
   "execution_count": 1350,
   "metadata": {
    "collapsed": true
   },
   "outputs": [],
   "source": [
    "scaler = MinMaxScaler()\n",
    "cur_ts_scaled = scaler.fit_transform(cur_ts.values)"
   ]
  },
  {
   "cell_type": "code",
   "execution_count": 1446,
   "metadata": {
    "collapsed": true
   },
   "outputs": [],
   "source": [
    "reframed = series_to_supervised(cur_ts_scaled, n_in=7, n_out=1)\n",
    "# reframed.drop(reframed.columns[[-1]], axis=1, inplace=True)"
   ]
  },
  {
   "cell_type": "code",
   "execution_count": 1447,
   "metadata": {
    "scrolled": true
   },
   "outputs": [
    {
     "data": {
      "text/html": [
       "<div>\n",
       "<style>\n",
       "    .dataframe thead tr:only-child th {\n",
       "        text-align: right;\n",
       "    }\n",
       "\n",
       "    .dataframe thead th {\n",
       "        text-align: left;\n",
       "    }\n",
       "\n",
       "    .dataframe tbody tr th {\n",
       "        vertical-align: top;\n",
       "    }\n",
       "</style>\n",
       "<table border=\"1\" class=\"dataframe\">\n",
       "  <thead>\n",
       "    <tr style=\"text-align: right;\">\n",
       "      <th></th>\n",
       "      <th>var1(t-7)</th>\n",
       "      <th>var2(t-7)</th>\n",
       "      <th>var1(t-6)</th>\n",
       "      <th>var2(t-6)</th>\n",
       "      <th>var1(t-5)</th>\n",
       "      <th>var2(t-5)</th>\n",
       "      <th>var1(t-4)</th>\n",
       "      <th>var2(t-4)</th>\n",
       "      <th>var1(t-3)</th>\n",
       "      <th>var2(t-3)</th>\n",
       "      <th>var1(t-2)</th>\n",
       "      <th>var2(t-2)</th>\n",
       "      <th>var1(t-1)</th>\n",
       "      <th>var2(t-1)</th>\n",
       "      <th>var1(t)</th>\n",
       "      <th>var2(t)</th>\n",
       "    </tr>\n",
       "  </thead>\n",
       "  <tbody>\n",
       "    <tr>\n",
       "      <th>7</th>\n",
       "      <td>0.537751</td>\n",
       "      <td>0.427844</td>\n",
       "      <td>0.533697</td>\n",
       "      <td>0.441426</td>\n",
       "      <td>0.501260</td>\n",
       "      <td>0.376910</td>\n",
       "      <td>0.565036</td>\n",
       "      <td>0.210526</td>\n",
       "      <td>0.651004</td>\n",
       "      <td>0.156197</td>\n",
       "      <td>0.684206</td>\n",
       "      <td>0.166384</td>\n",
       "      <td>0.690582</td>\n",
       "      <td>0.146010</td>\n",
       "      <td>0.729313</td>\n",
       "      <td>0.219015</td>\n",
       "    </tr>\n",
       "    <tr>\n",
       "      <th>8</th>\n",
       "      <td>0.533697</td>\n",
       "      <td>0.441426</td>\n",
       "      <td>0.501260</td>\n",
       "      <td>0.376910</td>\n",
       "      <td>0.565036</td>\n",
       "      <td>0.210526</td>\n",
       "      <td>0.651004</td>\n",
       "      <td>0.156197</td>\n",
       "      <td>0.684206</td>\n",
       "      <td>0.166384</td>\n",
       "      <td>0.690582</td>\n",
       "      <td>0.146010</td>\n",
       "      <td>0.729313</td>\n",
       "      <td>0.219015</td>\n",
       "      <td>0.658221</td>\n",
       "      <td>0.341256</td>\n",
       "    </tr>\n",
       "    <tr>\n",
       "      <th>9</th>\n",
       "      <td>0.501260</td>\n",
       "      <td>0.376910</td>\n",
       "      <td>0.565036</td>\n",
       "      <td>0.210526</td>\n",
       "      <td>0.651004</td>\n",
       "      <td>0.156197</td>\n",
       "      <td>0.684206</td>\n",
       "      <td>0.166384</td>\n",
       "      <td>0.690582</td>\n",
       "      <td>0.146010</td>\n",
       "      <td>0.729313</td>\n",
       "      <td>0.219015</td>\n",
       "      <td>0.658221</td>\n",
       "      <td>0.341256</td>\n",
       "      <td>0.682865</td>\n",
       "      <td>0.310696</td>\n",
       "    </tr>\n",
       "    <tr>\n",
       "      <th>10</th>\n",
       "      <td>0.565036</td>\n",
       "      <td>0.210526</td>\n",
       "      <td>0.651004</td>\n",
       "      <td>0.156197</td>\n",
       "      <td>0.684206</td>\n",
       "      <td>0.166384</td>\n",
       "      <td>0.690582</td>\n",
       "      <td>0.146010</td>\n",
       "      <td>0.729313</td>\n",
       "      <td>0.219015</td>\n",
       "      <td>0.658221</td>\n",
       "      <td>0.341256</td>\n",
       "      <td>0.682865</td>\n",
       "      <td>0.310696</td>\n",
       "      <td>0.837918</td>\n",
       "      <td>0.196944</td>\n",
       "    </tr>\n",
       "    <tr>\n",
       "      <th>11</th>\n",
       "      <td>0.651004</td>\n",
       "      <td>0.156197</td>\n",
       "      <td>0.684206</td>\n",
       "      <td>0.166384</td>\n",
       "      <td>0.690582</td>\n",
       "      <td>0.146010</td>\n",
       "      <td>0.729313</td>\n",
       "      <td>0.219015</td>\n",
       "      <td>0.658221</td>\n",
       "      <td>0.341256</td>\n",
       "      <td>0.682865</td>\n",
       "      <td>0.310696</td>\n",
       "      <td>0.837918</td>\n",
       "      <td>0.196944</td>\n",
       "      <td>0.869546</td>\n",
       "      <td>0.235993</td>\n",
       "    </tr>\n",
       "  </tbody>\n",
       "</table>\n",
       "</div>"
      ],
      "text/plain": [
       "    var1(t-7)  var2(t-7)  var1(t-6)  var2(t-6)  var1(t-5)  var2(t-5)  \\\n",
       "7    0.537751   0.427844   0.533697   0.441426   0.501260   0.376910   \n",
       "8    0.533697   0.441426   0.501260   0.376910   0.565036   0.210526   \n",
       "9    0.501260   0.376910   0.565036   0.210526   0.651004   0.156197   \n",
       "10   0.565036   0.210526   0.651004   0.156197   0.684206   0.166384   \n",
       "11   0.651004   0.156197   0.684206   0.166384   0.690582   0.146010   \n",
       "\n",
       "    var1(t-4)  var2(t-4)  var1(t-3)  var2(t-3)  var1(t-2)  var2(t-2)  \\\n",
       "7    0.565036   0.210526   0.651004   0.156197   0.684206   0.166384   \n",
       "8    0.651004   0.156197   0.684206   0.166384   0.690582   0.146010   \n",
       "9    0.684206   0.166384   0.690582   0.146010   0.729313   0.219015   \n",
       "10   0.690582   0.146010   0.729313   0.219015   0.658221   0.341256   \n",
       "11   0.729313   0.219015   0.658221   0.341256   0.682865   0.310696   \n",
       "\n",
       "    var1(t-1)  var2(t-1)   var1(t)   var2(t)  \n",
       "7    0.690582   0.146010  0.729313  0.219015  \n",
       "8    0.729313   0.219015  0.658221  0.341256  \n",
       "9    0.658221   0.341256  0.682865  0.310696  \n",
       "10   0.682865   0.310696  0.837918  0.196944  \n",
       "11   0.837918   0.196944  0.869546  0.235993  "
      ]
     },
     "execution_count": 1447,
     "metadata": {},
     "output_type": "execute_result"
    }
   ],
   "source": [
    "reframed.head()"
   ]
  },
  {
   "cell_type": "code",
   "execution_count": 1448,
   "metadata": {
    "collapsed": true
   },
   "outputs": [],
   "source": [
    "values = reframed.values\n",
    "n_test_days = 30"
   ]
  },
  {
   "cell_type": "code",
   "execution_count": 1449,
   "metadata": {},
   "outputs": [
    {
     "data": {
      "text/plain": [
       "(30, 16)"
      ]
     },
     "execution_count": 1449,
     "metadata": {},
     "output_type": "execute_result"
    }
   ],
   "source": [
    "train = values[:-n_test_days, :]\n",
    "test = values[-n_test_days:, :]\n",
    "test.shape"
   ]
  },
  {
   "cell_type": "code",
   "execution_count": 1450,
   "metadata": {
    "collapsed": true
   },
   "outputs": [],
   "source": [
    "# split into input and outputs\n",
    "train_X, train_y = train[:, :-2], train[:, -2:]\n",
    "test_X, test_y = test[:, :-2], test[:, -2:]"
   ]
  },
  {
   "cell_type": "code",
   "execution_count": 1451,
   "metadata": {},
   "outputs": [],
   "source": [
    "# print(train_y[:10])\n",
    "# # tr_y = np.transpose(train_y)\n",
    "# # tr_y = tr_y[0][:, None]\n",
    "# print(tr_y[:10])"
   ]
  },
  {
   "cell_type": "code",
   "execution_count": 1452,
   "metadata": {},
   "outputs": [
    {
     "data": {
      "text/plain": [
       "(998, 14)"
      ]
     },
     "execution_count": 1452,
     "metadata": {},
     "output_type": "execute_result"
    }
   ],
   "source": [
    "train_X.shape"
   ]
  },
  {
   "cell_type": "code",
   "execution_count": 1453,
   "metadata": {
    "collapsed": true
   },
   "outputs": [],
   "source": [
    "import warnings"
   ]
  },
  {
   "cell_type": "code",
   "execution_count": 1454,
   "metadata": {},
   "outputs": [
    {
     "name": "stdout",
     "output_type": "stream",
     "text": [
      "Wall time: 38.1 ms\n"
     ]
    }
   ],
   "source": [
    "%%time\n",
    "n_days = 30\n",
    "y_pred = []\n",
    "\n",
    "warnings.filterwarnings('ignore')\n",
    "\n",
    "for day in range(n_days):\n",
    "#     print(\"day \", day)\n",
    "#     print(\"train_x[-1] \", train_X[-1])\n",
    "#     print(\"train_y[-1] \", train_y[-1])\n",
    "    lr = LinearRegression()\n",
    "    tr_y = np.transpose(train_y)\n",
    "    tr_y = tr_y[0][:, None]\n",
    "    lr.fit(train_X, tr_y)\n",
    "    # make a prediction\n",
    "    shift_row = np.roll(train_X[-1], -2)\n",
    "    shift_row[-2] = train_y[-1][0]\n",
    "    shift_row[-1] = train_y[-1][1]\n",
    "#     print(\"shift_row \", shift_row)\n",
    "    lr_yhat = lr.predict(shift_row)\n",
    "#     print(\"lr_yhat \", lr_yhat)\n",
    "    # invert scaling for forecast\n",
    "    lr_inv_yhat = np.concatenate((lr_yhat, \n",
    "                                  np.zeros((len(lr_yhat), 1))), axis=1)\n",
    "    lr_inv_yhat = scaler.inverse_transform(lr_inv_yhat)\n",
    "    lr_inv_yhat = lr_inv_yhat[:,0]\n",
    "    \n",
    "#     print(\"train_X\", train_X)\n",
    "    train_X = np.vstack((train_X, shift_row))\n",
    "#     print(\"test y \", test_y[day][1])\n",
    "#     print(\"yhat \", lr_inv_yhat)\n",
    "    train_y = np.vstack((train_y, [lr_yhat[0][0], test_y[day][1]]))\n",
    "    \n",
    "    y_pred.append(lr_inv_yhat)\n",
    "#     print('----------------------------------------------------------------------------------------------------')"
   ]
  },
  {
   "cell_type": "code",
   "execution_count": 1455,
   "metadata": {},
   "outputs": [],
   "source": [
    "# y_pred"
   ]
  },
  {
   "cell_type": "code",
   "execution_count": 1456,
   "metadata": {},
   "outputs": [],
   "source": [
    "# invert scaling for actual\n",
    "# test_y = test[:, -2:-1]\n",
    "inv_y = np.concatenate((tr_y, \n",
    "                        np.zeros((len(tr_y), 1))), axis=1)\n",
    "inv_y = scaler.inverse_transform(inv_y)\n",
    "inv_y = inv_y[:,0]"
   ]
  },
  {
   "cell_type": "code",
   "execution_count": 1457,
   "metadata": {},
   "outputs": [],
   "source": [
    "test_y2 = cur_ts['ACTUAL'][-30:]"
   ]
  },
  {
   "cell_type": "code",
   "execution_count": 1458,
   "metadata": {},
   "outputs": [
    {
     "name": "stdout",
     "output_type": "stream",
     "text": [
      "Test MAPE: 0.04897\n"
     ]
    }
   ],
   "source": [
    "mape = MAPE(np.array(test_y2), y_pred)\n",
    "\n",
    "print('Test MAPE: %.5f' % (mape))"
   ]
  },
  {
   "cell_type": "code",
   "execution_count": 1459,
   "metadata": {},
   "outputs": [
    {
     "data": {
      "text/plain": [
       "<matplotlib.legend.Legend at 0x1a0e94d07b8>"
      ]
     },
     "execution_count": 1459,
     "metadata": {},
     "output_type": "execute_result"
    },
    {
     "data": {
      "image/png": "[encoded data removed]",
      "text/plain": [
       "<matplotlib.figure.Figure at 0x1a0ec0cffd0>"
      ]
     },
     "metadata": {},
     "output_type": "display_data"
    }
   ],
   "source": [
    "plt.figure(figsize=(15,10))\n",
    "plt.plot(np.array(test_y2), label='Real')\n",
    "plt.plot(y_pred, ':', label='LR')\n",
    "plt.grid()\n",
    "plt.legend()"
   ]
  },
  {
   "cell_type": "markdown",
   "metadata": {},
   "source": [
    "## Делаем то же самое для всех временных рядов"
   ]
  },
  {
   "cell_type": "code",
   "execution_count": 1460,
   "metadata": {
    "collapsed": true
   },
   "outputs": [],
   "source": [
    "forecast_hor = 30\n",
    "tsID = np.unique(data.tsID)\n",
    "tsID = [4]"
   ]
  },
  {
   "cell_type": "code",
   "execution_count": 1461,
   "metadata": {
    "collapsed": true
   },
   "outputs": [],
   "source": [
    "def get_prediction(train_X, train_y, test_X, n_days=30):\n",
    "    y_pred = []\n",
    "\n",
    "    warnings.filterwarnings('ignore')\n",
    "\n",
    "    for day in range(n_days):\n",
    "    #     print(\"day \", day)\n",
    "    #     print(\"train_x[-1] \", train_X[-1])\n",
    "    #     print(\"train_y[-1] \", train_y[-1])\n",
    "        lr = LinearRegression()\n",
    "        tr_y = np.transpose(train_y)\n",
    "        tr_y = tr_y[0][:, None]\n",
    "        lr.fit(train_X, tr_y)\n",
    "        # make a prediction\n",
    "        shift_row = np.roll(train_X[-1], -2)\n",
    "        shift_row[-2] = train_y[-1][0]\n",
    "        shift_row[-1] = train_y[-1][1]\n",
    "    #     print(\"shift_row \", shift_row)\n",
    "        lr_yhat = lr.predict(shift_row)\n",
    "    #     print(\"lr_yhat \", lr_yhat)\n",
    "        # invert scaling for forecast\n",
    "        lr_inv_yhat = np.concatenate((lr_yhat, \n",
    "                                      np.zeros((len(lr_yhat), 1))), axis=1)\n",
    "        lr_inv_yhat = scaler.inverse_transform(lr_inv_yhat)\n",
    "        lr_inv_yhat = lr_inv_yhat[:,0]\n",
    "\n",
    "    #     print(\"train_X\", train_X)\n",
    "        train_X = np.vstack((train_X, shift_row))\n",
    "    #     print(\"test y \", test_y[day][1])\n",
    "    #     print(\"yhat \", lr_inv_yhat)\n",
    "        train_y = np.vstack((train_y, [lr_yhat[0][0], test_y[day][1]]))\n",
    "\n",
    "        y_pred.append(lr_inv_yhat)\n",
    "    return y_pred"
   ]
  },
  {
   "cell_type": "code",
   "execution_count": 1472,
   "metadata": {
    "collapsed": true
   },
   "outputs": [],
   "source": [
    "scaler_train, scaler_test = MinMaxScaler(), MinMaxScaler()"
   ]
  },
  {
   "cell_type": "code",
   "execution_count": 1473,
   "metadata": {},
   "outputs": [],
   "source": [
    "for ts_id in tsID:\n",
    "    # вытаскиваем ряд с конкретным id\n",
    "    cur_ts = data.loc[data.tsID == ts_id]\n",
    "# cur_ts.head()"
   ]
  },
  {
   "cell_type": "code",
   "execution_count": 1474,
   "metadata": {
    "collapsed": true
   },
   "outputs": [],
   "source": [
    "    # вытаскиваем индексы\n",
    "    cur_ts_forecast_id = cur_ts['ID'][-forecast_hor:]\n",
    "    cur_ts = cur_ts[['ACTUAL', 'Temp']]\n",
    "    "
   ]
  },
  {
   "cell_type": "code",
   "execution_count": 1475,
   "metadata": {},
   "outputs": [],
   "source": [
    "#     cur_ts.head()\n",
    "#     cur_ts_forecast_id"
   ]
  },
  {
   "cell_type": "code",
   "execution_count": 1476,
   "metadata": {},
   "outputs": [],
   "source": [
    "    \n",
    "    # разделяем на данные, которые не предсказаны\n",
    "    cur_ts_test = cur_ts.tail(30)\n",
    "    cur_ts = cur_ts[:-30]\n",
    "#     cur_ts_test.head()"
   ]
  },
  {
   "cell_type": "code",
   "execution_count": 1477,
   "metadata": {},
   "outputs": [],
   "source": [
    "cur_ts_test.fillna(0, inplace=True)"
   ]
  },
  {
   "cell_type": "code",
   "execution_count": 1478,
   "metadata": {},
   "outputs": [],
   "source": [
    "    \n",
    "    # масштабируем данные в отрезок (0; 1)\n",
    "    cur_ts_scaled = scaler_train.fit_transform(cur_ts.values)\n",
    "    cur_ts_test_scaled = scaler_test.fit_transform(cur_ts_test.values)\n",
    "    \n",
    "#     cur_ts_test_scaled"
   ]
  },
  {
   "cell_type": "code",
   "execution_count": 1479,
   "metadata": {},
   "outputs": [
    {
     "data": {
      "text/html": [
       "<div>\n",
       "<style>\n",
       "    .dataframe thead tr:only-child th {\n",
       "        text-align: right;\n",
       "    }\n",
       "\n",
       "    .dataframe thead th {\n",
       "        text-align: left;\n",
       "    }\n",
       "\n",
       "    .dataframe tbody tr th {\n",
       "        vertical-align: top;\n",
       "    }\n",
       "</style>\n",
       "<table border=\"1\" class=\"dataframe\">\n",
       "  <thead>\n",
       "    <tr style=\"text-align: right;\">\n",
       "      <th></th>\n",
       "      <th>var1(t-7)</th>\n",
       "      <th>var2(t-7)</th>\n",
       "      <th>var1(t-6)</th>\n",
       "      <th>var2(t-6)</th>\n",
       "      <th>var1(t-5)</th>\n",
       "      <th>var2(t-5)</th>\n",
       "      <th>var1(t-4)</th>\n",
       "      <th>var2(t-4)</th>\n",
       "      <th>var1(t-3)</th>\n",
       "      <th>var2(t-3)</th>\n",
       "      <th>var1(t-2)</th>\n",
       "      <th>var2(t-2)</th>\n",
       "      <th>var1(t-1)</th>\n",
       "      <th>var2(t-1)</th>\n",
       "      <th>var1(t)</th>\n",
       "      <th>var2(t)</th>\n",
       "    </tr>\n",
       "  </thead>\n",
       "  <tbody>\n",
       "    <tr>\n",
       "      <th>7</th>\n",
       "      <td>0.537751</td>\n",
       "      <td>0.427844</td>\n",
       "      <td>0.533697</td>\n",
       "      <td>0.441426</td>\n",
       "      <td>0.501260</td>\n",
       "      <td>0.376910</td>\n",
       "      <td>0.565036</td>\n",
       "      <td>0.210526</td>\n",
       "      <td>0.651004</td>\n",
       "      <td>0.156197</td>\n",
       "      <td>0.684206</td>\n",
       "      <td>0.166384</td>\n",
       "      <td>0.690582</td>\n",
       "      <td>0.146010</td>\n",
       "      <td>0.729313</td>\n",
       "      <td>0.219015</td>\n",
       "    </tr>\n",
       "    <tr>\n",
       "      <th>8</th>\n",
       "      <td>0.533697</td>\n",
       "      <td>0.441426</td>\n",
       "      <td>0.501260</td>\n",
       "      <td>0.376910</td>\n",
       "      <td>0.565036</td>\n",
       "      <td>0.210526</td>\n",
       "      <td>0.651004</td>\n",
       "      <td>0.156197</td>\n",
       "      <td>0.684206</td>\n",
       "      <td>0.166384</td>\n",
       "      <td>0.690582</td>\n",
       "      <td>0.146010</td>\n",
       "      <td>0.729313</td>\n",
       "      <td>0.219015</td>\n",
       "      <td>0.658221</td>\n",
       "      <td>0.341256</td>\n",
       "    </tr>\n",
       "    <tr>\n",
       "      <th>9</th>\n",
       "      <td>0.501260</td>\n",
       "      <td>0.376910</td>\n",
       "      <td>0.565036</td>\n",
       "      <td>0.210526</td>\n",
       "      <td>0.651004</td>\n",
       "      <td>0.156197</td>\n",
       "      <td>0.684206</td>\n",
       "      <td>0.166384</td>\n",
       "      <td>0.690582</td>\n",
       "      <td>0.146010</td>\n",
       "      <td>0.729313</td>\n",
       "      <td>0.219015</td>\n",
       "      <td>0.658221</td>\n",
       "      <td>0.341256</td>\n",
       "      <td>0.682865</td>\n",
       "      <td>0.310696</td>\n",
       "    </tr>\n",
       "    <tr>\n",
       "      <th>10</th>\n",
       "      <td>0.565036</td>\n",
       "      <td>0.210526</td>\n",
       "      <td>0.651004</td>\n",
       "      <td>0.156197</td>\n",
       "      <td>0.684206</td>\n",
       "      <td>0.166384</td>\n",
       "      <td>0.690582</td>\n",
       "      <td>0.146010</td>\n",
       "      <td>0.729313</td>\n",
       "      <td>0.219015</td>\n",
       "      <td>0.658221</td>\n",
       "      <td>0.341256</td>\n",
       "      <td>0.682865</td>\n",
       "      <td>0.310696</td>\n",
       "      <td>0.837918</td>\n",
       "      <td>0.196944</td>\n",
       "    </tr>\n",
       "    <tr>\n",
       "      <th>11</th>\n",
       "      <td>0.651004</td>\n",
       "      <td>0.156197</td>\n",
       "      <td>0.684206</td>\n",
       "      <td>0.166384</td>\n",
       "      <td>0.690582</td>\n",
       "      <td>0.146010</td>\n",
       "      <td>0.729313</td>\n",
       "      <td>0.219015</td>\n",
       "      <td>0.658221</td>\n",
       "      <td>0.341256</td>\n",
       "      <td>0.682865</td>\n",
       "      <td>0.310696</td>\n",
       "      <td>0.837918</td>\n",
       "      <td>0.196944</td>\n",
       "      <td>0.869546</td>\n",
       "      <td>0.235993</td>\n",
       "    </tr>\n",
       "  </tbody>\n",
       "</table>\n",
       "</div>"
      ],
      "text/plain": [
       "    var1(t-7)  var2(t-7)  var1(t-6)  var2(t-6)  var1(t-5)  var2(t-5)  \\\n",
       "7    0.537751   0.427844   0.533697   0.441426   0.501260   0.376910   \n",
       "8    0.533697   0.441426   0.501260   0.376910   0.565036   0.210526   \n",
       "9    0.501260   0.376910   0.565036   0.210526   0.651004   0.156197   \n",
       "10   0.565036   0.210526   0.651004   0.156197   0.684206   0.166384   \n",
       "11   0.651004   0.156197   0.684206   0.166384   0.690582   0.146010   \n",
       "\n",
       "    var1(t-4)  var2(t-4)  var1(t-3)  var2(t-3)  var1(t-2)  var2(t-2)  \\\n",
       "7    0.565036   0.210526   0.651004   0.156197   0.684206   0.166384   \n",
       "8    0.651004   0.156197   0.684206   0.166384   0.690582   0.146010   \n",
       "9    0.684206   0.166384   0.690582   0.146010   0.729313   0.219015   \n",
       "10   0.690582   0.146010   0.729313   0.219015   0.658221   0.341256   \n",
       "11   0.729313   0.219015   0.658221   0.341256   0.682865   0.310696   \n",
       "\n",
       "    var1(t-1)  var2(t-1)   var1(t)   var2(t)  \n",
       "7    0.690582   0.146010  0.729313  0.219015  \n",
       "8    0.729313   0.219015  0.658221  0.341256  \n",
       "9    0.658221   0.341256  0.682865  0.310696  \n",
       "10   0.682865   0.310696  0.837918  0.196944  \n",
       "11   0.837918   0.196944  0.869546  0.235993  "
      ]
     },
     "execution_count": 1479,
     "metadata": {},
     "output_type": "execute_result"
    }
   ],
   "source": [
    "    \n",
    "    # создаём матрицу объекты - признаки для тренировочной выборки\n",
    "    train_reframed = series_to_supervised(cur_ts_scaled, n_in=7, n_out=1)\n",
    "#     train_reframed.drop(train_reframed.columns[[-1]], axis=1, inplace=True)\n",
    "    train_reframed.head()"
   ]
  },
  {
   "cell_type": "code",
   "execution_count": 1480,
   "metadata": {},
   "outputs": [
    {
     "data": {
      "text/plain": [
       "array([[ 0.53775112,  0.4278438 ,  0.53369675, ...,  0.1663837 ,\n",
       "         0.69058156,  0.14601019],\n",
       "       [ 0.53369675,  0.44142615,  0.50125969, ...,  0.14601019,\n",
       "         0.72931309,  0.21901528],\n",
       "       [ 0.50125969,  0.37691002,  0.56503634, ...,  0.21901528,\n",
       "         0.65822095,  0.34125637],\n",
       "       ..., \n",
       "       [ 0.37497856,  0.63327674,  0.39524987, ...,  0.51103565,\n",
       "         0.31245762,  0.52801358],\n",
       "       [ 0.39524987,  0.49405772,  0.43658042, ...,  0.52801358,\n",
       "         0.42969553,  0.62139219],\n",
       "       [ 0.43658042,  0.44651952,  0.46279098, ...,  0.62139219,\n",
       "         0.453057  ,  0.59252971]])"
      ]
     },
     "execution_count": 1480,
     "metadata": {},
     "output_type": "execute_result"
    }
   ],
   "source": [
    "    \n",
    "    train_values = train_reframed.values\n",
    "    \n",
    "    train_X, train_y = train_values[:, :-2], train_values[:, -2:]\n",
    "    train_X"
   ]
  },
  {
   "cell_type": "code",
   "execution_count": 1481,
   "metadata": {},
   "outputs": [],
   "source": [
    "     \n",
    "    # создаём матрицу объекты - признаки для тестовой выборки\n",
    "#     test_reframed = series_to_supervised(cur_ts_test_scaled, n_in=7, n_out=1)\n",
    "#     test_reframed.drop(test_reframed.columns[[-1]], axis=1, inplace=True)\n",
    "    \n",
    "y_pred = get_prediction(train_X, train_y, cur_ts_test_scaled)"
   ]
  },
  {
   "cell_type": "code",
   "execution_count": 1482,
   "metadata": {},
   "outputs": [
    {
     "name": "stdout",
     "output_type": "stream",
     "text": [
      "[array([ 33697.20048358]), array([ 33380.10316609]), array([ 32400.90192728]), array([ 31750.04900535]), array([ 32350.546194]), array([ 32844.83079874]), array([ 32927.55411704]), array([ 33065.07037008]), array([ 32896.28176245]), array([ 32481.93763089]), array([ 32257.12713284]), array([ 32369.65155424]), array([ 32808.29504547]), array([ 33131.43222736]), array([ 33474.03774665]), array([ 33303.13649983]), array([ 32851.00951885]), array([ 32461.99628801]), array([ 32218.88292353]), array([ 32271.18758141]), array([ 32426.39059145]), array([ 32774.31288893]), array([ 33286.98542118]), array([ 33496.76548604]), array([ 33465.45477617]), array([ 33346.05018095]), array([ 33304.52884255]), array([ 33335.1307519]), array([ 33036.87062642]), array([ 32886.79805116])]\n"
     ]
    }
   ],
   "source": []
  },
  {
   "cell_type": "code",
   "execution_count": null,
   "metadata": {
    "collapsed": true
   },
   "outputs": [],
   "source": [
    "# Put your code for \n",
    "final_forecast = ???"
   ]
  },
  {
   "cell_type": "code",
   "execution_count": 80,
   "metadata": {
    "collapsed": true
   },
   "outputs": [],
   "source": [
    "# save forecast to disk for further submission\n",
    "final_forecast.save('result.csv', format='csv')"
   ]
  }
 ],
 "metadata": {
  "anaconda-cloud": {},
  "kernelspec": {
   "display_name": "Python 3",
   "language": "python",
   "name": "python3"
  },
  "language_info": {
   "codemirror_mode": {
    "name": "ipython",
    "version": 3
   },
   "file_extension": ".py",
   "mimetype": "text/x-python",
   "name": "python",
   "nbconvert_exporter": "python",
   "pygments_lexer": "ipython3",
   "version": "3.6.1"
  }
 },
 "nbformat": 4,
 "nbformat_minor": 1
}
