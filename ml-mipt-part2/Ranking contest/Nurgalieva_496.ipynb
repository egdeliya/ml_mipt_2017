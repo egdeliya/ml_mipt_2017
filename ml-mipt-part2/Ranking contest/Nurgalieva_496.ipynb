{
 "cells": [
  {
   "cell_type": "code",
   "execution_count": 375,
   "metadata": {
    "collapsed": true
   },
   "outputs": [],
   "source": [
    "import pandas as pd"
   ]
  },
  {
   "cell_type": "code",
   "execution_count": 487,
   "metadata": {},
   "outputs": [
    {
     "data": {
      "text/html": [
       "<div>\n",
       "<style>\n",
       "    .dataframe thead tr:only-child th {\n",
       "        text-align: right;\n",
       "    }\n",
       "\n",
       "    .dataframe thead th {\n",
       "        text-align: left;\n",
       "    }\n",
       "\n",
       "    .dataframe tbody tr th {\n",
       "        vertical-align: top;\n",
       "    }\n",
       "</style>\n",
       "<table border=\"1\" class=\"dataframe\">\n",
       "  <thead>\n",
       "    <tr style=\"text-align: right;\">\n",
       "      <th></th>\n",
       "      <th>query_id</th>\n",
       "      <th>document_id</th>\n",
       "      <th>relevance</th>\n",
       "    </tr>\n",
       "  </thead>\n",
       "  <tbody>\n",
       "    <tr>\n",
       "      <th>1</th>\n",
       "      <td>1</td>\n",
       "      <td>184</td>\n",
       "      <td>2</td>\n",
       "    </tr>\n",
       "    <tr>\n",
       "      <th>2</th>\n",
       "      <td>1</td>\n",
       "      <td>29</td>\n",
       "      <td>2</td>\n",
       "    </tr>\n",
       "    <tr>\n",
       "      <th>3</th>\n",
       "      <td>1</td>\n",
       "      <td>31</td>\n",
       "      <td>2</td>\n",
       "    </tr>\n",
       "    <tr>\n",
       "      <th>4</th>\n",
       "      <td>1</td>\n",
       "      <td>12</td>\n",
       "      <td>3</td>\n",
       "    </tr>\n",
       "    <tr>\n",
       "      <th>5</th>\n",
       "      <td>1</td>\n",
       "      <td>51</td>\n",
       "      <td>3</td>\n",
       "    </tr>\n",
       "  </tbody>\n",
       "</table>\n",
       "</div>"
      ],
      "text/plain": [
       "  query_id document_id relevance\n",
       "1        1         184         2\n",
       "2        1          29         2\n",
       "3        1          31         2\n",
       "4        1          12         3\n",
       "5        1          51         3"
      ]
     },
     "execution_count": 487,
     "metadata": {},
     "output_type": "execute_result"
    }
   ],
   "source": [
    "train_set = pd.read_csv('relevance_train.csv', sep='\\t', names=['query_id', 'document_id', 'relevance'])\n",
    "train_set = train_set[1:]\n",
    "train_set.head()"
   ]
  },
  {
   "cell_type": "code",
   "execution_count": 488,
   "metadata": {},
   "outputs": [
    {
     "data": {
      "text/html": [
       "<div>\n",
       "<style>\n",
       "    .dataframe thead tr:only-child th {\n",
       "        text-align: right;\n",
       "    }\n",
       "\n",
       "    .dataframe thead th {\n",
       "        text-align: left;\n",
       "    }\n",
       "\n",
       "    .dataframe tbody tr th {\n",
       "        vertical-align: top;\n",
       "    }\n",
       "</style>\n",
       "<table border=\"1\" class=\"dataframe\">\n",
       "  <thead>\n",
       "    <tr style=\"text-align: right;\">\n",
       "      <th></th>\n",
       "      <th>query_id</th>\n",
       "      <th>document_id</th>\n",
       "    </tr>\n",
       "  </thead>\n",
       "  <tbody>\n",
       "    <tr>\n",
       "      <th>1</th>\n",
       "      <td>126</td>\n",
       "      <td>974</td>\n",
       "    </tr>\n",
       "    <tr>\n",
       "      <th>2</th>\n",
       "      <td>126</td>\n",
       "      <td>1326</td>\n",
       "    </tr>\n",
       "    <tr>\n",
       "      <th>3</th>\n",
       "      <td>126</td>\n",
       "      <td>187</td>\n",
       "    </tr>\n",
       "    <tr>\n",
       "      <th>4</th>\n",
       "      <td>126</td>\n",
       "      <td>969</td>\n",
       "    </tr>\n",
       "    <tr>\n",
       "      <th>5</th>\n",
       "      <td>126</td>\n",
       "      <td>970</td>\n",
       "    </tr>\n",
       "  </tbody>\n",
       "</table>\n",
       "</div>"
      ],
      "text/plain": [
       "  query_id document_id\n",
       "1      126         974\n",
       "2      126        1326\n",
       "3      126         187\n",
       "4      126         969\n",
       "5      126         970"
      ]
     },
     "execution_count": 488,
     "metadata": {},
     "output_type": "execute_result"
    }
   ],
   "source": [
    "test_set = pd.read_csv('relevance_test.csv', sep=',', names=['query_id', 'document_id'])\n",
    "test_set = test_set[1:]\n",
    "test_set.head()"
   ]
  },
  {
   "cell_type": "code",
   "execution_count": 489,
   "metadata": {
    "scrolled": false
   },
   "outputs": [
    {
     "data": {
      "text/html": [
       "<div>\n",
       "<style>\n",
       "    .dataframe thead tr:only-child th {\n",
       "        text-align: right;\n",
       "    }\n",
       "\n",
       "    .dataframe thead th {\n",
       "        text-align: left;\n",
       "    }\n",
       "\n",
       "    .dataframe tbody tr th {\n",
       "        vertical-align: top;\n",
       "    }\n",
       "</style>\n",
       "<table border=\"1\" class=\"dataframe\">\n",
       "  <thead>\n",
       "    <tr style=\"text-align: right;\">\n",
       "      <th></th>\n",
       "      <th>query</th>\n",
       "    </tr>\n",
       "    <tr>\n",
       "      <th>query_id</th>\n",
       "      <th></th>\n",
       "    </tr>\n",
       "  </thead>\n",
       "  <tbody>\n",
       "    <tr>\n",
       "      <th>1</th>\n",
       "      <td>what similarity laws must be obeyed when const...</td>\n",
       "    </tr>\n",
       "    <tr>\n",
       "      <th>2</th>\n",
       "      <td>what are the structural and aeroelastic proble...</td>\n",
       "    </tr>\n",
       "    <tr>\n",
       "      <th>4</th>\n",
       "      <td>what problems of heat conduction in composite ...</td>\n",
       "    </tr>\n",
       "    <tr>\n",
       "      <th>8</th>\n",
       "      <td>can a criterion be developed to show empirical...</td>\n",
       "    </tr>\n",
       "    <tr>\n",
       "      <th>9</th>\n",
       "      <td>what chemical kinetic system is applicable to ...</td>\n",
       "    </tr>\n",
       "  </tbody>\n",
       "</table>\n",
       "</div>"
      ],
      "text/plain": [
       "                                                      query\n",
       "query_id                                                   \n",
       "1         what similarity laws must be obeyed when const...\n",
       "2         what are the structural and aeroelastic proble...\n",
       "4         what problems of heat conduction in composite ...\n",
       "8         can a criterion be developed to show empirical...\n",
       "9         what chemical kinetic system is applicable to ..."
      ]
     },
     "execution_count": 489,
     "metadata": {},
     "output_type": "execute_result"
    }
   ],
   "source": [
    "queries_set = pd.read_csv('queries.csv', sep='\\t', names=['query_id', 'query'], header=None, index_col=['query_id'])\n",
    "queries_set = queries_set[1:]\n",
    "queries_set.head()"
   ]
  },
  {
   "cell_type": "code",
   "execution_count": 490,
   "metadata": {
    "collapsed": true
   },
   "outputs": [],
   "source": [
    "# documents_set = pd.DataFrame(columns=['.Id', '.A', '.T', '.B','.W'])\n",
    "documents_set = pd.DataFrame(columns=['document_id', 'content'])\n",
    "id_pattern = '.Id'\n",
    "author_pattern = '.A'\n",
    "theme_pattern = '.T'\n",
    "date_pattern = '.B'\n",
    "cont_pattern = '.W'\n",
    "patterns = ['.Id', '.A', '.T', '.B','.W']"
   ]
  },
  {
   "cell_type": "code",
   "execution_count": 491,
   "metadata": {},
   "outputs": [
    {
     "data": {
      "text/html": [
       "<div>\n",
       "<style>\n",
       "    .dataframe thead tr:only-child th {\n",
       "        text-align: right;\n",
       "    }\n",
       "\n",
       "    .dataframe thead th {\n",
       "        text-align: left;\n",
       "    }\n",
       "\n",
       "    .dataframe tbody tr th {\n",
       "        vertical-align: top;\n",
       "    }\n",
       "</style>\n",
       "<table border=\"1\" class=\"dataframe\">\n",
       "  <thead>\n",
       "    <tr style=\"text-align: right;\">\n",
       "      <th></th>\n",
       "      <th>document_id</th>\n",
       "      <th>content</th>\n",
       "    </tr>\n",
       "  </thead>\n",
       "  <tbody>\n",
       "  </tbody>\n",
       "</table>\n",
       "</div>"
      ],
      "text/plain": [
       "Empty DataFrame\n",
       "Columns: [document_id, content]\n",
       "Index: []"
      ]
     },
     "execution_count": 491,
     "metadata": {},
     "output_type": "execute_result"
    }
   ],
   "source": [
    "# documents_set.add(0)\n",
    "documents_set.head()"
   ]
  },
  {
   "cell_type": "code",
   "execution_count": 492,
   "metadata": {
    "collapsed": true
   },
   "outputs": [],
   "source": [
    "with open('Documents.csv') as data_file:\n",
    "    doc_content = \"\"\n",
    "    for line in data_file:\n",
    "        is_pattern = False\n",
    "        if (line.startswith(id_pattern)):\n",
    "            if (doc_content != \"\"):\n",
    "                documents_set = documents_set.append({'document_id':doc_id, 'content':Counter(doc_content.split(' '))}, ignore_index=True)\n",
    "            doc_content = \"\"  \n",
    "            doc_id = int(line[3:])\n",
    "            continue\n",
    "\n",
    "        for pattern in patterns:\n",
    "            if (line.startswith(pattern)):\n",
    "                is_pattern = True\n",
    "                break\n",
    "                \n",
    "        if (not is_pattern):\n",
    "            doc_content += \" \".join(line.split('\\n'))"
   ]
  },
  {
   "cell_type": "code",
   "execution_count": 493,
   "metadata": {
    "scrolled": true
   },
   "outputs": [
    {
     "data": {
      "text/html": [
       "<div>\n",
       "<style>\n",
       "    .dataframe thead tr:only-child th {\n",
       "        text-align: right;\n",
       "    }\n",
       "\n",
       "    .dataframe thead th {\n",
       "        text-align: left;\n",
       "    }\n",
       "\n",
       "    .dataframe tbody tr th {\n",
       "        vertical-align: top;\n",
       "    }\n",
       "</style>\n",
       "<table border=\"1\" class=\"dataframe\">\n",
       "  <thead>\n",
       "    <tr style=\"text-align: right;\">\n",
       "      <th></th>\n",
       "      <th>content</th>\n",
       "    </tr>\n",
       "    <tr>\n",
       "      <th>document_id</th>\n",
       "      <th></th>\n",
       "    </tr>\n",
       "  </thead>\n",
       "  <tbody>\n",
       "    <tr>\n",
       "      <th>1</th>\n",
       "      <td>{'experimental': 3, 'investigation': 2, 'of': ...</td>\n",
       "    </tr>\n",
       "    <tr>\n",
       "      <th>2</th>\n",
       "      <td>{'simple': 3, 'shear': 3, 'flow': 7, 'past': 5...</td>\n",
       "    </tr>\n",
       "    <tr>\n",
       "      <th>3</th>\n",
       "      <td>{'the': 3, 'boundary': 2, 'layer': 2, 'in': 2,...</td>\n",
       "    </tr>\n",
       "    <tr>\n",
       "      <th>4</th>\n",
       "      <td>{'approximate': 2, 'solutions': 3, 'of': 5, 't...</td>\n",
       "    </tr>\n",
       "    <tr>\n",
       "      <th>5</th>\n",
       "      <td>{'one-dimensional': 2, 'transient': 3, 'heat':...</td>\n",
       "    </tr>\n",
       "  </tbody>\n",
       "</table>\n",
       "</div>"
      ],
      "text/plain": [
       "                                                       content\n",
       "document_id                                                   \n",
       "1            {'experimental': 3, 'investigation': 2, 'of': ...\n",
       "2            {'simple': 3, 'shear': 3, 'flow': 7, 'past': 5...\n",
       "3            {'the': 3, 'boundary': 2, 'layer': 2, 'in': 2,...\n",
       "4            {'approximate': 2, 'solutions': 3, 'of': 5, 't...\n",
       "5            {'one-dimensional': 2, 'transient': 3, 'heat':..."
      ]
     },
     "execution_count": 493,
     "metadata": {},
     "output_type": "execute_result"
    }
   ],
   "source": [
    "documents_set = documents_set.set_index('document_id')\n",
    "documents_set = pd.DataFrame(documents_set)\n",
    "documents_set.head()"
   ]
  },
  {
   "cell_type": "code",
   "execution_count": 494,
   "metadata": {},
   "outputs": [],
   "source": [
    "# documents_set.iloc[5, :][0]"
   ]
  },
  {
   "cell_type": "code",
   "execution_count": 495,
   "metadata": {
    "collapsed": true
   },
   "outputs": [],
   "source": [
    "from functools import reduce\n",
    "import numpy as np"
   ]
  },
  {
   "cell_type": "code",
   "execution_count": 496,
   "metadata": {
    "scrolled": true
   },
   "outputs": [
    {
     "name": "stdout",
     "output_type": "stream",
     "text": [
      "226\n"
     ]
    }
   ],
   "source": [
    "print(len(queries_set['query']))\n",
    "# print(\"\".join(list(filter(lambda x : type(x)==str, np.array(queries_set['query'])))))"
   ]
  },
  {
   "cell_type": "code",
   "execution_count": 497,
   "metadata": {
    "collapsed": true
   },
   "outputs": [],
   "source": [
    "unique_query_words = []\n",
    "unique_query_words = \"\".join(list(filter(lambda x : type(x)==str, np.array(queries_set['query']))))\n",
    "unique_query_words = np.unique(unique_query_words.split(\" \"))\n",
    "# for query in queries_set['query']:\n",
    "#     unique_query_words.append[]"
   ]
  },
  {
   "cell_type": "code",
   "execution_count": 498,
   "metadata": {},
   "outputs": [],
   "source": [
    "meta_charact = ['.', '^', '$', '*', '+', '?', '{', '}', '[', ']', '\\\\', '|', '(' ,')']"
   ]
  },
  {
   "cell_type": "code",
   "execution_count": null,
   "metadata": {
    "collapsed": true
   },
   "outputs": [],
   "source": []
  },
  {
   "cell_type": "code",
   "execution_count": 499,
   "metadata": {},
   "outputs": [],
   "source": [
    "# unique_query_words[:50]"
   ]
  },
  {
   "cell_type": "code",
   "execution_count": 500,
   "metadata": {
    "scrolled": true
   },
   "outputs": [
    {
     "name": "stdout",
     "output_type": "stream",
     "text": [
      "query_id        1\n",
      "document_id    29\n",
      "relevance       2\n",
      "Name: 2, dtype: object\n"
     ]
    }
   ],
   "source": [
    "print(train_set.iloc[1, :])"
   ]
  },
  {
   "cell_type": "code",
   "execution_count": 501,
   "metadata": {},
   "outputs": [
    {
     "name": "stdout",
     "output_type": "stream",
     "text": [
      "<class 'pandas.core.frame.DataFrame'>\n"
     ]
    }
   ],
   "source": [
    "queries_set.head()\n",
    "print(type(queries_set))"
   ]
  },
  {
   "cell_type": "code",
   "execution_count": 502,
   "metadata": {},
   "outputs": [
    {
     "data": {
      "text/html": [
       "<div>\n",
       "<style>\n",
       "    .dataframe thead tr:only-child th {\n",
       "        text-align: right;\n",
       "    }\n",
       "\n",
       "    .dataframe thead th {\n",
       "        text-align: left;\n",
       "    }\n",
       "\n",
       "    .dataframe tbody tr th {\n",
       "        vertical-align: top;\n",
       "    }\n",
       "</style>\n",
       "<table border=\"1\" class=\"dataframe\">\n",
       "  <thead>\n",
       "    <tr style=\"text-align: right;\">\n",
       "      <th></th>\n",
       "      <th>query_id</th>\n",
       "      <th>document_id</th>\n",
       "      <th>relevance</th>\n",
       "      <th>query</th>\n",
       "    </tr>\n",
       "  </thead>\n",
       "  <tbody>\n",
       "    <tr>\n",
       "      <th>1</th>\n",
       "      <td>1</td>\n",
       "      <td>184</td>\n",
       "      <td>2</td>\n",
       "      <td>what similarity laws must be obeyed when const...</td>\n",
       "    </tr>\n",
       "    <tr>\n",
       "      <th>2</th>\n",
       "      <td>1</td>\n",
       "      <td>29</td>\n",
       "      <td>2</td>\n",
       "      <td>what similarity laws must be obeyed when const...</td>\n",
       "    </tr>\n",
       "    <tr>\n",
       "      <th>3</th>\n",
       "      <td>1</td>\n",
       "      <td>31</td>\n",
       "      <td>2</td>\n",
       "      <td>what similarity laws must be obeyed when const...</td>\n",
       "    </tr>\n",
       "    <tr>\n",
       "      <th>4</th>\n",
       "      <td>1</td>\n",
       "      <td>12</td>\n",
       "      <td>3</td>\n",
       "      <td>what similarity laws must be obeyed when const...</td>\n",
       "    </tr>\n",
       "    <tr>\n",
       "      <th>5</th>\n",
       "      <td>1</td>\n",
       "      <td>51</td>\n",
       "      <td>3</td>\n",
       "      <td>what similarity laws must be obeyed when const...</td>\n",
       "    </tr>\n",
       "  </tbody>\n",
       "</table>\n",
       "</div>"
      ],
      "text/plain": [
       "  query_id document_id relevance  \\\n",
       "1        1         184         2   \n",
       "2        1          29         2   \n",
       "3        1          31         2   \n",
       "4        1          12         3   \n",
       "5        1          51         3   \n",
       "\n",
       "                                               query  \n",
       "1  what similarity laws must be obeyed when const...  \n",
       "2  what similarity laws must be obeyed when const...  \n",
       "3  what similarity laws must be obeyed when const...  \n",
       "4  what similarity laws must be obeyed when const...  \n",
       "5  what similarity laws must be obeyed when const...  "
      ]
     },
     "execution_count": 502,
     "metadata": {},
     "output_type": "execute_result"
    }
   ],
   "source": [
    "train_set_res = train_set.join(queries_set, on='query_id', lsuffix=\"_train\", rsuffix=\"_queries\")\n",
    "train_set_res.head()"
   ]
  },
  {
   "cell_type": "code",
   "execution_count": 503,
   "metadata": {
    "collapsed": true
   },
   "outputs": [],
   "source": [
    "from collections import Counter"
   ]
  },
  {
   "cell_type": "code",
   "execution_count": 504,
   "metadata": {},
   "outputs": [
    {
     "name": "stdout",
     "output_type": "stream",
     "text": [
      "0\n",
      "1\n"
     ]
    }
   ],
   "source": [
    "t = Counter('sdfsd sdfdf'.split(' '))\n",
    "t['sds']\n",
    "for i, s in enumerate([1, 2]):\n",
    "    print(i)"
   ]
  },
  {
   "cell_type": "code",
   "execution_count": 505,
   "metadata": {},
   "outputs": [],
   "source": [
    "s = 'dfd dsfsd, sdf'\n",
    "# s.split(sep=[' ', ','])"
   ]
  },
  {
   "cell_type": "code",
   "execution_count": 506,
   "metadata": {},
   "outputs": [],
   "source": [
    "with open('train.txt', 'w') as features_matrix_train:\n",
    "    with open('validation.txt', 'w') as features_matrix_valid:\n",
    "        for row_ind in range(len(train_set_res)):\n",
    "            line = \"\"\n",
    "            query_id = train_set_res.iloc[row_ind, :][0]\n",
    "            document_id = train_set_res.iloc[row_ind, :][1]\n",
    "            relevance = train_set_res.iloc[row_ind, :][2]\n",
    "            query_content = train_set_res.iloc[row_ind, :][3]\n",
    "            query_content = str(query_content).split(' ')\n",
    "#             print(row_ind, relevance, query_id)\n",
    "            document_content_counter = documents_set.iloc[int(document_id), :][0]\n",
    "\n",
    "            line += str(relevance) + ' ' + 'qid:' + str(query_id) + ' '\n",
    "\n",
    "            for ind, word in enumerate(unique_query_words):\n",
    "                if (not word in query_content):\n",
    "                    line += str(ind) + ':' + '0' + ' '\n",
    "                    continue\n",
    "                line += str(ind) + ':' + str(document_content_counter[word]) + ' '\n",
    "\n",
    "            line += '\\n'\n",
    "            \n",
    "            if (row_ind < round(len(train_set_res)*0.7)):\n",
    "                features_matrix_train.write(line)\n",
    "            else:\n",
    "                features_matrix_valid.write(line)"
   ]
  },
  {
   "cell_type": "code",
   "execution_count": null,
   "metadata": {},
   "outputs": [],
   "source": []
  },
  {
   "cell_type": "code",
   "execution_count": 507,
   "metadata": {},
   "outputs": [
    {
     "data": {
      "text/html": [
       "<div>\n",
       "<style>\n",
       "    .dataframe thead tr:only-child th {\n",
       "        text-align: right;\n",
       "    }\n",
       "\n",
       "    .dataframe thead th {\n",
       "        text-align: left;\n",
       "    }\n",
       "\n",
       "    .dataframe tbody tr th {\n",
       "        vertical-align: top;\n",
       "    }\n",
       "</style>\n",
       "<table border=\"1\" class=\"dataframe\">\n",
       "  <thead>\n",
       "    <tr style=\"text-align: right;\">\n",
       "      <th></th>\n",
       "      <th>query_id</th>\n",
       "      <th>document_id</th>\n",
       "      <th>query</th>\n",
       "    </tr>\n",
       "  </thead>\n",
       "  <tbody>\n",
       "    <tr>\n",
       "      <th>1</th>\n",
       "      <td>126</td>\n",
       "      <td>974</td>\n",
       "      <td>what are wind-tunnel corrections for a two-dim...</td>\n",
       "    </tr>\n",
       "    <tr>\n",
       "      <th>2</th>\n",
       "      <td>126</td>\n",
       "      <td>1326</td>\n",
       "      <td>what are wind-tunnel corrections for a two-dim...</td>\n",
       "    </tr>\n",
       "    <tr>\n",
       "      <th>3</th>\n",
       "      <td>126</td>\n",
       "      <td>187</td>\n",
       "      <td>what are wind-tunnel corrections for a two-dim...</td>\n",
       "    </tr>\n",
       "    <tr>\n",
       "      <th>4</th>\n",
       "      <td>126</td>\n",
       "      <td>969</td>\n",
       "      <td>what are wind-tunnel corrections for a two-dim...</td>\n",
       "    </tr>\n",
       "    <tr>\n",
       "      <th>5</th>\n",
       "      <td>126</td>\n",
       "      <td>970</td>\n",
       "      <td>what are wind-tunnel corrections for a two-dim...</td>\n",
       "    </tr>\n",
       "  </tbody>\n",
       "</table>\n",
       "</div>"
      ],
      "text/plain": [
       "  query_id document_id                                              query\n",
       "1      126         974  what are wind-tunnel corrections for a two-dim...\n",
       "2      126        1326  what are wind-tunnel corrections for a two-dim...\n",
       "3      126         187  what are wind-tunnel corrections for a two-dim...\n",
       "4      126         969  what are wind-tunnel corrections for a two-dim...\n",
       "5      126         970  what are wind-tunnel corrections for a two-dim..."
      ]
     },
     "execution_count": 507,
     "metadata": {},
     "output_type": "execute_result"
    }
   ],
   "source": [
    "test_set_res = test_set.join(queries_set, on='query_id', lsuffix=\"_train\", rsuffix=\"_queries\")\n",
    "test_set_res.head()"
   ]
  },
  {
   "cell_type": "code",
   "execution_count": 508,
   "metadata": {
    "scrolled": false
   },
   "outputs": [
    {
     "data": {
      "text/html": [
       "<div>\n",
       "<style>\n",
       "    .dataframe thead tr:only-child th {\n",
       "        text-align: right;\n",
       "    }\n",
       "\n",
       "    .dataframe thead th {\n",
       "        text-align: left;\n",
       "    }\n",
       "\n",
       "    .dataframe tbody tr th {\n",
       "        vertical-align: top;\n",
       "    }\n",
       "</style>\n",
       "<table border=\"1\" class=\"dataframe\">\n",
       "  <thead>\n",
       "    <tr style=\"text-align: right;\">\n",
       "      <th></th>\n",
       "      <th>query_id</th>\n",
       "      <th>document_id</th>\n",
       "      <th>query</th>\n",
       "    </tr>\n",
       "  </thead>\n",
       "  <tbody>\n",
       "    <tr>\n",
       "      <th>1</th>\n",
       "      <td>126</td>\n",
       "      <td>974</td>\n",
       "      <td>what are wind-tunnel corrections for a two-dim...</td>\n",
       "    </tr>\n",
       "    <tr>\n",
       "      <th>2</th>\n",
       "      <td>126</td>\n",
       "      <td>1326</td>\n",
       "      <td>what are wind-tunnel corrections for a two-dim...</td>\n",
       "    </tr>\n",
       "    <tr>\n",
       "      <th>3</th>\n",
       "      <td>126</td>\n",
       "      <td>187</td>\n",
       "      <td>what are wind-tunnel corrections for a two-dim...</td>\n",
       "    </tr>\n",
       "    <tr>\n",
       "      <th>4</th>\n",
       "      <td>126</td>\n",
       "      <td>969</td>\n",
       "      <td>what are wind-tunnel corrections for a two-dim...</td>\n",
       "    </tr>\n",
       "  </tbody>\n",
       "</table>\n",
       "</div>"
      ],
      "text/plain": [
       "  query_id document_id                                              query\n",
       "1      126         974  what are wind-tunnel corrections for a two-dim...\n",
       "2      126        1326  what are wind-tunnel corrections for a two-dim...\n",
       "3      126         187  what are wind-tunnel corrections for a two-dim...\n",
       "4      126         969  what are wind-tunnel corrections for a two-dim..."
      ]
     },
     "execution_count": 508,
     "metadata": {},
     "output_type": "execute_result"
    }
   ],
   "source": [
    "test_set_res = test_set.join(queries_set, on='query_id', lsuffix=\"_train\", rsuffix=\"_queries\")\n",
    "test_set_res.head(4)"
   ]
  },
  {
   "cell_type": "code",
   "execution_count": 509,
   "metadata": {},
   "outputs": [
    {
     "data": {
      "text/plain": [
       "'974'"
      ]
     },
     "execution_count": 509,
     "metadata": {},
     "output_type": "execute_result"
    }
   ],
   "source": [
    "test_set_res.iloc[0, :][1]"
   ]
  },
  {
   "cell_type": "code",
   "execution_count": 510,
   "metadata": {},
   "outputs": [
    {
     "name": "stdout",
     "output_type": "stream",
     "text": [
      "804 222 1398\n",
      "805 222 1397\n",
      "806 222 1400\n",
      "807 222 1399\n",
      "812 223 1398\n"
     ]
    }
   ],
   "source": [
    "with open('test.txt', 'w') as features_matrix:\n",
    "    i = 0\n",
    "    for row_ind in range(len(test_set_res)):\n",
    "        line = \"\"\n",
    "        query_id = test_set_res.iloc[row_ind, :][0]\n",
    "        document_id = test_set_res.iloc[row_ind, :][1]\n",
    "        query_content = test_set_res.iloc[row_ind, :][2]\n",
    "        query_content = str(query_content).split(' ')\n",
    "        line += '-1' + ' ' + 'qid:'+str(query_id) + ' '\n",
    "        i += 1\n",
    "    \n",
    "        try:\n",
    "            document_content_counter = documents_set.iloc[int(document_id), :][0]\n",
    "        except IndexError:\n",
    "            print(i, query_id, document_id)\n",
    "            for ind in range(len(unique_query_words)):\n",
    "                line += str(ind) + ':' + '0' + ' '\n",
    "            line += '\\n'\n",
    "            features_matrix.write(line)\n",
    "            continue\n",
    "\n",
    "        for ind, word in enumerate(unique_query_words):\n",
    "            if (not word in query_content):\n",
    "                line += str(ind) + ':' + '0' + ' '\n",
    "                continue\n",
    "            line += str(ind) + ':' + str(document_content_counter[word]) + ' '\n",
    "\n",
    "        line += '\\n'\n",
    "        features_matrix.write(line)"
   ]
  },
  {
   "cell_type": "code",
   "execution_count": 511,
   "metadata": {},
   "outputs": [
    {
     "name": "stdout",
     "output_type": "stream",
     "text": [
      "Wall time: 7.04 s\n"
     ]
    }
   ],
   "source": [
    "%%time\n",
    "! java -jar RankLib-2.1-patched.jar -train train.txt -rank test.txt -validate validation.txt -ranker 6 -tree 300 -metric2t NDCG@5 -save log_LambdaMART > log_LambdaMART.txt"
   ]
  },
  {
   "cell_type": "code",
   "execution_count": 512,
   "metadata": {},
   "outputs": [
    {
     "name": "stdout",
     "output_type": "stream",
     "text": [
      "\n",
      "[+] General Parameters:\n",
      "Model file:\tlog_LambdaMART\n",
      "Feature normalization: No\n",
      "Model:\t\tLambdaMART\n",
      "\n",
      "Reading feature file [test.txt]: 0... \n",
      "Reading feature file [test.txt]... [Done.]            \n",
      "(100 ranked lists, 847 entries read)\n"
     ]
    }
   ],
   "source": [
    "!java -jar RankLib-2.1-patched.jar -load log_LambdaMART -rank test.txt -score myscorefile.txt"
   ]
  },
  {
   "cell_type": "code",
   "execution_count": 542,
   "metadata": {},
   "outputs": [
    {
     "data": {
      "text/html": [
       "<div>\n",
       "<style>\n",
       "    .dataframe thead tr:only-child th {\n",
       "        text-align: right;\n",
       "    }\n",
       "\n",
       "    .dataframe thead th {\n",
       "        text-align: left;\n",
       "    }\n",
       "\n",
       "    .dataframe tbody tr th {\n",
       "        vertical-align: top;\n",
       "    }\n",
       "</style>\n",
       "<table border=\"1\" class=\"dataframe\">\n",
       "  <thead>\n",
       "    <tr style=\"text-align: right;\">\n",
       "      <th></th>\n",
       "      <th>0</th>\n",
       "      <th>2</th>\n",
       "    </tr>\n",
       "  </thead>\n",
       "  <tbody>\n",
       "    <tr>\n",
       "      <th>0</th>\n",
       "      <td>126</td>\n",
       "      <td>0.464898</td>\n",
       "    </tr>\n",
       "    <tr>\n",
       "      <th>1</th>\n",
       "      <td>126</td>\n",
       "      <td>-0.038361</td>\n",
       "    </tr>\n",
       "    <tr>\n",
       "      <th>2</th>\n",
       "      <td>126</td>\n",
       "      <td>0.464898</td>\n",
       "    </tr>\n",
       "    <tr>\n",
       "      <th>3</th>\n",
       "      <td>126</td>\n",
       "      <td>-0.038361</td>\n",
       "    </tr>\n",
       "    <tr>\n",
       "      <th>4</th>\n",
       "      <td>126</td>\n",
       "      <td>0.464898</td>\n",
       "    </tr>\n",
       "  </tbody>\n",
       "</table>\n",
       "</div>"
      ],
      "text/plain": [
       "     0         2\n",
       "0  126  0.464898\n",
       "1  126 -0.038361\n",
       "2  126  0.464898\n",
       "3  126 -0.038361\n",
       "4  126  0.464898"
      ]
     },
     "execution_count": 542,
     "metadata": {},
     "output_type": "execute_result"
    }
   ],
   "source": [
    "score = pd.read_csv('myscorefile.txt', sep='\\t', header=None)\n",
    "score = score.drop(1, axis=1)\n",
    "score.head()"
   ]
  },
  {
   "cell_type": "code",
   "execution_count": 543,
   "metadata": {},
   "outputs": [
    {
     "data": {
      "text/plain": [
       "True"
      ]
     },
     "execution_count": 543,
     "metadata": {},
     "output_type": "execute_result"
    }
   ],
   "source": [
    "test_rel = pd.read_csv('relevance_test.csv', sep=',', names=['query_id', 'document_id'])\n",
    "test_rel = test_rel[1:]\n",
    "test_rel.head()\n",
    "len(test_rel) == len(score)"
   ]
  },
  {
   "cell_type": "code",
   "execution_count": 544,
   "metadata": {},
   "outputs": [
    {
     "data": {
      "text/html": [
       "<div>\n",
       "<style>\n",
       "    .dataframe thead tr:only-child th {\n",
       "        text-align: right;\n",
       "    }\n",
       "\n",
       "    .dataframe thead th {\n",
       "        text-align: left;\n",
       "    }\n",
       "\n",
       "    .dataframe tbody tr th {\n",
       "        vertical-align: top;\n",
       "    }\n",
       "</style>\n",
       "<table border=\"1\" class=\"dataframe\">\n",
       "  <thead>\n",
       "    <tr style=\"text-align: right;\">\n",
       "      <th></th>\n",
       "      <th>query_id</th>\n",
       "      <th>document_id</th>\n",
       "    </tr>\n",
       "  </thead>\n",
       "  <tbody>\n",
       "    <tr>\n",
       "      <th>0</th>\n",
       "      <td>126</td>\n",
       "      <td>974</td>\n",
       "    </tr>\n",
       "    <tr>\n",
       "      <th>1</th>\n",
       "      <td>126</td>\n",
       "      <td>1326</td>\n",
       "    </tr>\n",
       "    <tr>\n",
       "      <th>2</th>\n",
       "      <td>126</td>\n",
       "      <td>187</td>\n",
       "    </tr>\n",
       "    <tr>\n",
       "      <th>3</th>\n",
       "      <td>126</td>\n",
       "      <td>969</td>\n",
       "    </tr>\n",
       "    <tr>\n",
       "      <th>4</th>\n",
       "      <td>126</td>\n",
       "      <td>970</td>\n",
       "    </tr>\n",
       "  </tbody>\n",
       "</table>\n",
       "</div>"
      ],
      "text/plain": [
       "  query_id document_id\n",
       "0      126         974\n",
       "1      126        1326\n",
       "2      126         187\n",
       "3      126         969\n",
       "4      126         970"
      ]
     },
     "execution_count": 544,
     "metadata": {},
     "output_type": "execute_result"
    }
   ],
   "source": [
    "test_rel.index = range(len(test_rel))\n",
    "test_rel['document_id']\n",
    "test_rel.head()"
   ]
  },
  {
   "cell_type": "code",
   "execution_count": 545,
   "metadata": {},
   "outputs": [
    {
     "data": {
      "text/html": [
       "<div>\n",
       "<style>\n",
       "    .dataframe thead tr:only-child th {\n",
       "        text-align: right;\n",
       "    }\n",
       "\n",
       "    .dataframe thead th {\n",
       "        text-align: left;\n",
       "    }\n",
       "\n",
       "    .dataframe tbody tr th {\n",
       "        vertical-align: top;\n",
       "    }\n",
       "</style>\n",
       "<table border=\"1\" class=\"dataframe\">\n",
       "  <thead>\n",
       "    <tr style=\"text-align: right;\">\n",
       "      <th></th>\n",
       "      <th>0</th>\n",
       "      <th>2</th>\n",
       "      <th>3</th>\n",
       "    </tr>\n",
       "  </thead>\n",
       "  <tbody>\n",
       "    <tr>\n",
       "      <th>0</th>\n",
       "      <td>126</td>\n",
       "      <td>0.464898</td>\n",
       "      <td>974</td>\n",
       "    </tr>\n",
       "    <tr>\n",
       "      <th>1</th>\n",
       "      <td>126</td>\n",
       "      <td>-0.038361</td>\n",
       "      <td>1326</td>\n",
       "    </tr>\n",
       "    <tr>\n",
       "      <th>2</th>\n",
       "      <td>126</td>\n",
       "      <td>0.464898</td>\n",
       "      <td>187</td>\n",
       "    </tr>\n",
       "    <tr>\n",
       "      <th>3</th>\n",
       "      <td>126</td>\n",
       "      <td>-0.038361</td>\n",
       "      <td>969</td>\n",
       "    </tr>\n",
       "    <tr>\n",
       "      <th>4</th>\n",
       "      <td>126</td>\n",
       "      <td>0.464898</td>\n",
       "      <td>970</td>\n",
       "    </tr>\n",
       "  </tbody>\n",
       "</table>\n",
       "</div>"
      ],
      "text/plain": [
       "     0         2     3\n",
       "0  126  0.464898   974\n",
       "1  126 -0.038361  1326\n",
       "2  126  0.464898   187\n",
       "3  126 -0.038361   969\n",
       "4  126  0.464898   970"
      ]
     },
     "execution_count": 545,
     "metadata": {},
     "output_type": "execute_result"
    }
   ],
   "source": [
    "score['3'] = test_rel['document_id'][0:]\n",
    "score.head()"
   ]
  },
  {
   "cell_type": "code",
   "execution_count": 546,
   "metadata": {},
   "outputs": [
    {
     "data": {
      "text/html": [
       "<div>\n",
       "<style>\n",
       "    .dataframe thead tr:only-child th {\n",
       "        text-align: right;\n",
       "    }\n",
       "\n",
       "    .dataframe thead th {\n",
       "        text-align: left;\n",
       "    }\n",
       "\n",
       "    .dataframe tbody tr th {\n",
       "        vertical-align: top;\n",
       "    }\n",
       "</style>\n",
       "<table border=\"1\" class=\"dataframe\">\n",
       "  <thead>\n",
       "    <tr style=\"text-align: right;\">\n",
       "      <th></th>\n",
       "      <th>QueryId</th>\n",
       "      <th>DocumentId</th>\n",
       "    </tr>\n",
       "  </thead>\n",
       "  <tbody>\n",
       "    <tr>\n",
       "      <th>0</th>\n",
       "      <td>126</td>\n",
       "      <td>974</td>\n",
       "    </tr>\n",
       "    <tr>\n",
       "      <th>1</th>\n",
       "      <td>126</td>\n",
       "      <td>187</td>\n",
       "    </tr>\n",
       "    <tr>\n",
       "      <th>2</th>\n",
       "      <td>126</td>\n",
       "      <td>970</td>\n",
       "    </tr>\n",
       "    <tr>\n",
       "      <th>3</th>\n",
       "      <td>126</td>\n",
       "      <td>942</td>\n",
       "    </tr>\n",
       "    <tr>\n",
       "      <th>4</th>\n",
       "      <td>126</td>\n",
       "      <td>971</td>\n",
       "    </tr>\n",
       "    <tr>\n",
       "      <th>5</th>\n",
       "      <td>126</td>\n",
       "      <td>1326</td>\n",
       "    </tr>\n",
       "    <tr>\n",
       "      <th>6</th>\n",
       "      <td>126</td>\n",
       "      <td>969</td>\n",
       "    </tr>\n",
       "    <tr>\n",
       "      <th>7</th>\n",
       "      <td>126</td>\n",
       "      <td>973</td>\n",
       "    </tr>\n",
       "    <tr>\n",
       "      <th>8</th>\n",
       "      <td>126</td>\n",
       "      <td>972</td>\n",
       "    </tr>\n",
       "  </tbody>\n",
       "</table>\n",
       "</div>"
      ],
      "text/plain": [
       "   QueryId DocumentId\n",
       "0      126        974\n",
       "1      126        187\n",
       "2      126        970\n",
       "3      126        942\n",
       "4      126        971\n",
       "5      126       1326\n",
       "6      126        969\n",
       "7      126        973\n",
       "8      126        972"
      ]
     },
     "execution_count": 546,
     "metadata": {},
     "output_type": "execute_result"
    }
   ],
   "source": [
    "output = score.groupby(0).apply(lambda x: x.sort_values([2],ascending=False).head(len(score)))\n",
    "output.index = range(len(output))\n",
    "output = pd.DataFrame(output)\n",
    "output = output.drop(2, axis=1)\n",
    "output.columns = ['QueryId','DocumentId']\n",
    "output.head(9)\n",
    "# 126,974\n",
    "# 126,1326\n",
    "# 126,187\n",
    "# 126,969\n",
    "# 126,970\n",
    "# 126,971\n",
    "# 126,972\n",
    "# 126,973\n",
    "# 126,942\n"
   ]
  },
  {
   "cell_type": "code",
   "execution_count": 548,
   "metadata": {
    "collapsed": true
   },
   "outputs": [],
   "source": [
    "output.to_csv('out.csv', index=None)"
   ]
  },
  {
   "cell_type": "code",
   "execution_count": null,
   "metadata": {
    "collapsed": true
   },
   "outputs": [],
   "source": []
  }
 ],
 "metadata": {
  "kernelspec": {
   "display_name": "Python 3",
   "language": "python",
   "name": "python3"
  },
  "language_info": {
   "codemirror_mode": {
    "name": "ipython",
    "version": 3
   },
   "file_extension": ".py",
   "mimetype": "text/x-python",
   "name": "python",
   "nbconvert_exporter": "python",
   "pygments_lexer": "ipython3",
   "version": "3.6.1"
  }
 },
 "nbformat": 4,
 "nbformat_minor": 2
}
