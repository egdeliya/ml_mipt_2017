{
 "cells": [
  {
   "cell_type": "code",
   "execution_count": 2,
   "metadata": {
    "collapsed": true
   },
   "outputs": [],
   "source": [
    "import numpy as np\n",
    "from random import choice\n",
    "from sklearn.externals import joblib\n",
    "import gym\n",
    "from gym import wrappers\n",
    "from taxi import TaxiEnv\n",
    "from tqdm import tqdm_notebook, tnrange, trange"
   ]
  },
  {
   "cell_type": "code",
   "execution_count": 3,
   "metadata": {},
   "outputs": [],
   "source": [
    "env = TaxiEnv()"
   ]
  },
  {
   "cell_type": "code",
   "execution_count": 4,
   "metadata": {
    "collapsed": true
   },
   "outputs": [],
   "source": [
    "n_states = env.observation_space.n\n",
    "n_actions = env.action_space.n\n",
    "def get_random_policy():\n",
    "    \"\"\"\n",
    "    Build a numpy array representing agent policy.\n",
    "    This array must have one element per each of 16 environment states.\n",
    "    Element must be an integer from 0 to 3, representing action\n",
    "    to take from that state.\n",
    "    \"\"\"\n",
    "    return np.random.randint(0, n_actions, n_states)\n"
   ]
  },
  {
   "cell_type": "code",
   "execution_count": 5,
   "metadata": {
    "collapsed": true
   },
   "outputs": [],
   "source": [
    "def sample_reward(env, policy, t_max=1000):\n",
    "    \"\"\"\n",
    "    Interact with an environment, return sum of all rewards.\n",
    "    If game doesn't end on t_max (e.g. agent walks into a wall), \n",
    "    force end the game and return whatever reward you got so far.\n",
    "    Tip: see signature of env.step(...) method above.\n",
    "    \"\"\"\n",
    "    s = env.reset()\n",
    "    total_reward = 0\n",
    "    \n",
    "    for iteration in range(t_max):\n",
    "        action = policy[s]\n",
    "        s,r,done,_= env.step(action)\n",
    "        print(r)\n",
    "        total_reward+= r\n",
    "        if (done):\n",
    "            break\n",
    "    return total_reward"
   ]
  },
  {
   "cell_type": "code",
   "execution_count": 6,
   "metadata": {
    "collapsed": true
   },
   "outputs": [],
   "source": [
    "def evaluate(policy, n_times=100):\n",
    "    \"\"\"Run several evaluations and average the score the policy gets.\"\"\"\n",
    "    rewards = [sample_reward(env, policy) for _ in range(n_times)]\n",
    "    return float(np.mean(rewards))\n",
    "        "
   ]
  },
  {
   "cell_type": "code",
   "execution_count": 7,
   "metadata": {
    "collapsed": true
   },
   "outputs": [],
   "source": [
    "\n",
    "n_epochs = 100 #how many cycles to make\n",
    "pool_size = 100 #how many policies to maintain\n",
    "n_crossovers = 50 #how many crossovers to make on each step\n",
    "n_mutations = 50 #how many mutations to make on each tick\n",
    "\n"
   ]
  },
  {
   "cell_type": "code",
   "execution_count": 8,
   "metadata": {
    "collapsed": true
   },
   "outputs": [],
   "source": [
    "def crossover(policy1, policy2, p=0.5):\n",
    "    \"\"\"\n",
    "    for each state, with probability p take action from policy1, else policy2\n",
    "    \"\"\"\n",
    "    crossover_result = np.choose(np.random.choice(np.array([0,1]), \n",
    "                                              size=policy1.shape, p=[p, 1-p]), \n",
    "                                                  choices=[policy1, policy2])\n",
    "    \n",
    "    return crossover_result"
   ]
  },
  {
   "cell_type": "code",
   "execution_count": 9,
   "metadata": {},
   "outputs": [
    {
     "data": {
      "text/plain": [
       "array([0, 1])"
      ]
     },
     "execution_count": 9,
     "metadata": {},
     "output_type": "execute_result"
    }
   ],
   "source": [
    "np.arange(3)[np.arange(3)<2]"
   ]
  },
  {
   "cell_type": "code",
   "execution_count": 10,
   "metadata": {
    "collapsed": true
   },
   "outputs": [],
   "source": [
    "def mutation(policy, p=0.1):\n",
    "    \"\"\"\n",
    "    for each state, with probability p replace action with random action\n",
    "    Tip: mutation can be written as crossover with random policy\n",
    "    \"\"\"\n",
    "    return crossover(get_random_policy(), policy, p)\n",
    "    "
   ]
  },
  {
   "cell_type": "code",
   "execution_count": 11,
   "metadata": {
    "collapsed": true
   },
   "outputs": [],
   "source": [
    "def check_last_n_scores(scores_list, tail_length, min_score):\n",
    "    return np.all(np.array(scores_list[-tail_length:]) > min_score)"
   ]
  },
  {
   "cell_type": "code",
   "execution_count": 12,
   "metadata": {
    "collapsed": true
   },
   "outputs": [],
   "source": [
    "def get_scores(pool):\n",
    "    return joblib.Parallel(n_jobs=25)(map(joblib.delayed(evaluate), pool))"
   ]
  },
  {
   "cell_type": "code",
   "execution_count": null,
   "metadata": {
    "scrolled": true
   },
   "outputs": [
    {
     "data": {
      "application/vnd.jupyter.widget-view+json": {
       "model_id": "690b8a29f0d24e9e871bf577faba7874"
      }
     },
     "metadata": {},
     "output_type": "display_data"
    }
   ],
   "source": [
    "#main loop\n",
    "max_n_epochs = 10\n",
    "min_score = 0.7\n",
    "tail_length = 2\n",
    "\n",
    "best_scores_dict = {}\n",
    "# for i in trange(10, desc='1st loop'):\n",
    "#     for j in trange(5, desc='2nd loop', leave=False):\n",
    "#         for k in trange(100, desc='3nd loop'):\n",
    "#             sleep(0.01)\n",
    "for run_idx in tnrange(10, desc='Mutlistart', leave='false'):\n",
    "    pool = [get_random_policy() for _ in range(pool_size)]\n",
    "    pool_scores = get_scores(pool)\n",
    "    epoch_scores = []\n",
    "    inner_tnrange = tnrange(max_n_epochs, desc=str(run_idx)+' run', leave='true')\n",
    "    for epoch in inner_tnrange:\n",
    "        crossovered = [crossover(choice(pool), choice(pool)) for _ in range(n_crossovers)]\n",
    "        mutated = [mutation(choice(pool)) for _ in range(n_mutations)]\n",
    "\n",
    "        #add new policies to the pool\n",
    "        pool = pool + crossovered + mutated\n",
    "    #     <add up old population with crossovers/mutations>\n",
    "        pool_scores = get_scores(pool)\n",
    "    #     <evaluate all policies again>\n",
    "\n",
    "        #select pool_size best policies\n",
    "        selected_indices = np.argsort(pool_scores)[-pool_size:]\n",
    "        pool = [pool[i] for i in selected_indices]\n",
    "        pool_scores = [pool_scores[i] for i in selected_indices]\n",
    "\n",
    "        epoch_scores.append(pool_scores[-1])\n",
    "        inner_tnrange.set_postfix(best_score=pool_scores[-1])\n",
    "        if np.all(np.array(epoch_scores[-tail_length:]) > min_score):\n",
    "#             tqmp.write(\"Stabilized above score {} in {} iterations\".format(min_score, epoch))\n",
    "            break\n",
    "    if epoch == max_n_epochs:\n",
    "        tqdm.write('Failed to beat score {} in {} epochs'.format(min_score, max_n_epochs))\n",
    "    best_scores_dict[epoch] = pool_scores\n",
    "    \n",
    "# print best_scores_dict\n",
    "        #print the best policy so far (last in ascending score order)\n",
    "#         print(\"best score:\", pool_scores[-1])\n",
    "    #     print_policy(pool[-1])"
   ]
  },
  {
   "cell_type": "code",
   "execution_count": 1,
   "metadata": {},
   "outputs": [
    {
     "name": "stdout",
     "output_type": "stream",
     "text": [
      "hello\n"
     ]
    }
   ],
   "source": [
    "print(\"hello\")"
   ]
  },
  {
   "cell_type": "code",
   "execution_count": null,
   "metadata": {
    "collapsed": true
   },
   "outputs": [],
   "source": []
  },
  {
   "cell_type": "markdown",
   "metadata": {},
   "source": [
    "It shows, that 45 iterations should be enough to converge to good strategy. So 200 iterations will work out."
   ]
  },
  {
   "cell_type": "code",
   "execution_count": 13,
   "metadata": {
    "scrolled": false
   },
   "outputs": [
    {
     "name": "stdout",
     "output_type": "stream",
     "text": [
      "\n",
      "\n",
      "\n",
      "\n",
      "\n",
      "\n",
      "\n",
      "\n",
      "\n",
      "\n",
      "\n",
      "\n",
      "\n",
      "\n",
      "\n",
      "\n",
      "\n",
      "\n",
      "\n",
      "\n",
      "\n",
      "\n",
      "\n",
      "\n",
      "\n",
      "\n",
      "\n",
      "\n",
      "\n",
      "\n",
      "\n",
      "\n",
      "\n",
      "\n",
      "\n",
      "\n",
      "\n",
      "\n",
      "\n",
      "\n",
      "\n",
      "\n",
      "\n",
      "\n",
      "\n",
      "\n",
      "\n",
      "\n",
      "\n",
      "\n",
      "\n",
      "\n"
     ]
    }
   ],
   "source": [
    "\n",
    "pool = [get_random_policy() for _ in range(pool_size)]\n",
    "pool_scores = get_scores(pool)\n",
    "n_epochs = 100\n",
    "inner_tnrange = tnrange(n_epochs, desc=str(run_idx)+' run', leave='true')\n",
    "epoch_scores = []\n",
    "\n",
    "for epoch in inner_tnrange:\n",
    "    crossovered = [crossover(choice(pool), choice(pool)) for _ in range(n_crossovers)]\n",
    "    mutated = [mutation(choice(pool)) for _ in range(n_mutations)]\n",
    "    pool = pool + crossovered + mutated\n",
    "    pool_scores = get_scores(pool)\n",
    "    selected_indices = np.argsort(pool_scores)[-pool_size:]\n",
    "    pool = [pool[i] for i in selected_indices]\n",
    "    pool_scores = [pool_scores[i] for i in selected_indices]\n",
    "    epoch_scores.append(pool_scores[-1])\n",
    "    inner_tnrange.set_postfix(best_score=pool_scores[-1])\n"
   ]
  },
  {
   "cell_type": "code",
   "execution_count": null,
   "metadata": {
    "collapsed": true
   },
   "outputs": [],
   "source": [
    "print(\"Converged to strategy with best score {}, average score after {} epochs is {}\".format(pool_scores[-1], \n",
    "      n_epochs, np.mean(pool_scores)))"
   ]
  },
  {
   "cell_type": "code",
   "execution_count": 18,
   "metadata": {
    "collapsed": true
   },
   "outputs": [],
   "source": [
    "import matplotlib.pyplot as plt\n",
    "%matplotlib inline\n",
    "import matplotlib\n",
    "matplotlib.rcParams.update({'font.size': 22})"
   ]
  },
  {
   "cell_type": "code",
   "execution_count": 19,
   "metadata": {},
   "outputs": [
    {
     "data": {
      "image/png": "[encoded data removed]",
      "text/plain": [
       "<matplotlib.figure.Figure at 0x7f204ce4bb00>"
      ]
     },
     "metadata": {},
     "output_type": "display_data"
    }
   ],
   "source": [
    "plt.figure(figsize=(15,8))\n",
    "\n",
    "plt.plot(np.arange(100), epoch_scores)\n",
    "plt.xlabel('Epoch number')\n",
    "plt.ylabel('Best score over pool')\n",
    "plt.grid()"
   ]
  },
  {
   "cell_type": "markdown",
   "metadata": {},
   "source": [
    "As we can see from the plot, 40 epochs are enough."
   ]
  }
 ],
 "metadata": {
  "anaconda-cloud": {},
  "kernelspec": {
   "display_name": "Python 3",
   "language": "python",
   "name": "python3"
  },
  "language_info": {
   "codemirror_mode": {
    "name": "ipython",
    "version": 3
   },
   "file_extension": ".py",
   "mimetype": "text/x-python",
   "name": "python",
   "nbconvert_exporter": "python",
   "pygments_lexer": "ipython3",
   "version": "3.6.1"
  },
  "widgets": {
   "state": {
    "049db9452f264abb9edd99136232728f": {
     "views": [
      {
       "cell_index": 10
      }
     ]
    },
    "075ad63cf1d744c38c5992546930c3e1": {
     "views": [
      {
       "cell_index": 10
      }
     ]
    },
    "260fcba611174708bcdf01b9e60d0d33": {
     "views": [
      {
       "cell_index": 10
      }
     ]
    },
    "31f36dccb4e04261af487c20e90d3a2f": {
     "views": [
      {
       "cell_index": 10
      }
     ]
    },
    "586cd3696b334476a97921a747cfc991": {
     "views": [
      {
       "cell_index": 10
      }
     ]
    },
    "6448b31676404016a60145bcd0f0a678": {
     "views": [
      {
       "cell_index": 10
      }
     ]
    },
    "6d69ce076aba40c58c84cfd2f12297a7": {
     "views": [
      {
       "cell_index": 10
      }
     ]
    },
    "7ef11a9fbc03458383a86a0e91c2965a": {
     "views": [
      {
       "cell_index": 10
      }
     ]
    },
    "89c6203c202749818c440fedebc40cfa": {
     "views": [
      {
       "cell_index": 12
      }
     ]
    },
    "9cf950fa82ad4bdbbc060ec946adfdef": {
     "views": [
      {
       "cell_index": 10
      }
     ]
    },
    "a35c1b8802614283b480676fb860ce4d": {
     "views": [
      {
       "cell_index": 10
      }
     ]
    },
    "e70cf7489ced45e78289bcc46b987090": {
     "views": [
      {
       "cell_index": 10
      }
     ]
    }
   },
   "version": "1.2.0"
  }
 },
 "nbformat": 4,
 "nbformat_minor": 1
}
