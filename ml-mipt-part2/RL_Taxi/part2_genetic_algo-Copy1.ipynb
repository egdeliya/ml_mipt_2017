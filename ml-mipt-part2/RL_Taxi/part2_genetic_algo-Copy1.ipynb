{
 "cells": [
  {
   "cell_type": "code",
   "execution_count": 1,
   "metadata": {
    "collapsed": true
   },
   "outputs": [],
   "source": [
    "from taxi import TaxiEnv\n",
    "import numpy as np\n",
    "#create a single game instance\n",
    "env = TaxiEnv()\n",
    "\n",
    "#start new game\n",
    "env.reset();"
   ]
  },
  {
   "cell_type": "markdown",
   "metadata": {},
   "source": [
    "#### Видно, что такси понимает, что если ему стоять на месте или просто ходить, не подбирая пассажира, то оно получит наибольшую награду, так что придётся поменять систему, по которой такси плучает награду"
   ]
  },
  {
   "cell_type": "code",
   "execution_count": 2,
   "metadata": {
    "collapsed": true,
    "scrolled": true
   },
   "outputs": [],
   "source": [
    "from taxi_upgraded import TaxiEnvUpgr"
   ]
  },
  {
   "cell_type": "code",
   "execution_count": 3,
   "metadata": {
    "collapsed": true
   },
   "outputs": [],
   "source": [
    "env = TaxiEnvUpgr()"
   ]
  },
  {
   "cell_type": "code",
   "execution_count": 4,
   "metadata": {
    "scrolled": true
   },
   "outputs": [
    {
     "name": "stdout",
     "output_type": "stream",
     "text": [
      "+---------+\n",
      "|\u001b[35mR\u001b[0m: | : :G|\n",
      "| : : : : |\n",
      "| : : : : |\n",
      "| | : | : |\n",
      "|\u001b[34;1mY\u001b[0m| : |\u001b[43mB\u001b[0m: |\n",
      "+---------+\n",
      "\n",
      "None\n"
     ]
    }
   ],
   "source": [
    "env.reset()\n",
    "print(env.render())"
   ]
  },
  {
   "cell_type": "code",
   "execution_count": 5,
   "metadata": {
    "collapsed": true
   },
   "outputs": [],
   "source": [
    "import numpy as np\n",
    "n_states = env.observation_space.n\n",
    "n_actions = env.action_space.n\n",
    "def get_random_policy():\n",
    "    \"\"\"\n",
    "    Build a numpy array representing agent policy.\n",
    "    This array must have one element per each of 16 environment states.\n",
    "    Element must be an integer from 0 to 3, representing action\n",
    "    to take from that state.\n",
    "    \"\"\"\n",
    "    return np.random.randint(0, n_actions, n_states)"
   ]
  },
  {
   "cell_type": "code",
   "execution_count": 6,
   "metadata": {
    "collapsed": true
   },
   "outputs": [],
   "source": [
    "def sample_reward(env, policy, t_max=100):\n",
    "    \"\"\"\n",
    "    Interact with an environment, return sum of all rewards.\n",
    "    If game doesn't end on t_max (e.g. agent walks into a wall), \n",
    "    force end the game and return whatever reward you got so far.\n",
    "    Tip: see signature of env.step(...) method above.\n",
    "    \"\"\"\n",
    "    s = env.reset()\n",
    "    total_reward = 0\n",
    "\n",
    "    for ind in range(t_max):\n",
    "        action = policy[s]\n",
    "        s, reward, is_done, _ = env.step(action)\n",
    "        total_reward += reward\n",
    "        if (is_done):\n",
    "            break\n",
    "    return total_reward"
   ]
  },
  {
   "cell_type": "code",
   "execution_count": 7,
   "metadata": {
    "collapsed": true
   },
   "outputs": [],
   "source": [
    "def evaluate(env, policy, n_times=100, t_max=100):\n",
    "    \"\"\"Run several evaluations and average the score the policy gets.\"\"\"\n",
    "    rewards = []\n",
    "    for _ in range(n_times):\n",
    "        rewards.append(sample_reward(env, policy, t_max))\n",
    "    return float(np.mean(np.array(rewards)))      "
   ]
  },
  {
   "cell_type": "code",
   "execution_count": 8,
   "metadata": {
    "collapsed": true
   },
   "outputs": [],
   "source": [
    "def crossover(policy1, policy2, p=0.5):\n",
    "    \"\"\"\n",
    "    for each state, with probability p take action from policy1, else policy2\n",
    "    \"\"\"\n",
    "    cross_policy = []\n",
    "    \n",
    "    return np.choose(np.random.choice(np.array([0, 1]), \n",
    "                     size = policy1.shape, \n",
    "                     p = [p, 1-p]),\n",
    "                     choices=[policy1, policy2])"
   ]
  },
  {
   "cell_type": "code",
   "execution_count": 9,
   "metadata": {
    "collapsed": true
   },
   "outputs": [],
   "source": [
    "def mutation(policy, p=0.1):\n",
    "    \"\"\"\n",
    "    for each state, with probability p replace action with random action\n",
    "    Tip: mutation can be written as crossover with random policy\n",
    "    \"\"\"\n",
    "#     <your code>\n",
    "    return crossover(get_random_policy(), policy, p)\n",
    "    "
   ]
  },
  {
   "cell_type": "code",
   "execution_count": 10,
   "metadata": {
    "collapsed": true
   },
   "outputs": [],
   "source": [
    "n_epochs = 100 #how many cycles to make\n",
    "pool_size = 100 #how many policies to maintain\n",
    "n_crossovers = 50 #howuuu many crossovers to make on each step\n",
    "n_mutations = 50 #how many mutations to make on each tick"
   ]
  },
  {
   "cell_type": "code",
   "execution_count": 11,
   "metadata": {},
   "outputs": [
    {
     "name": "stdout",
     "output_type": "stream",
     "text": [
      "initializing...\n"
     ]
    }
   ],
   "source": [
    "print(\"initializing...\")\n",
    "pool = [get_random_policy() for _ in range(pool_size)]\n",
    "pool_scores = [sample_reward(env, policy) for policy in pool]\n"
   ]
  },
  {
   "cell_type": "code",
   "execution_count": 12,
   "metadata": {
    "collapsed": true
   },
   "outputs": [],
   "source": [
    "from tqdm import tqdm\n",
    "from random import choice\n",
    "epoch_scores = []"
   ]
  },
  {
   "cell_type": "code",
   "execution_count": 14,
   "metadata": {
    "collapsed": true
   },
   "outputs": [],
   "source": [
    "import matplotlib.pylab as plt\n",
    "import pandas as pd\n",
    "%matplotlib inline"
   ]
  },
  {
   "cell_type": "code",
   "execution_count": 15,
   "metadata": {
    "collapsed": true
   },
   "outputs": [],
   "source": [
    "file = pd.DataFrame(columns=[\"epochs\", \"pool_size\", \"cross\", \"mut\", \"score\", \"isdone\", \"steps_num\", \"policy\"])    "
   ]
  },
  {
   "cell_type": "code",
   "execution_count": null,
   "metadata": {},
   "outputs": [
    {
     "name": "stdout",
     "output_type": "stream",
     "text": [
      "it works!!!\n"
     ]
    },
    {
     "name": "stderr",
     "output_type": "stream",
     "text": [
      "\n",
      "  0%|                                                                                          | 0/100 [00:00<?, ?it/s]"
     ]
    },
    {
     "name": "stdout",
     "output_type": "stream",
     "text": [
      "Epoch 0:\n",
      "it works!!!\n",
      "best score: -762.2533333333333\n"
     ]
    }
   ],
   "source": [
    "for step_num in [75]:\n",
    "    print(\"it works!!!\")\n",
    "    for epoch in tqdm(range(n_epochs)):\n",
    "        print(\"Epoch %s:\"%epoch)\n",
    "        print(\"it works!!!\")\n",
    "\n",
    "        crossovered = [crossover(choice(pool), choice(pool)) \n",
    "                       for _ in range(n_crossovers)]\n",
    "        mutated = [mutation(crossovered[choice(range(len(crossovered)))]) for _ in range(n_mutations)]\n",
    "        assert type(crossovered) == type(mutated) == list\n",
    "\n",
    "        pool = pool + crossovered + mutated\n",
    "        pool_scores = [evaluate(env, policy, step_num) for policy in pool]\n",
    "        selected_indices = np.argsort(pool_scores)[-pool_size:]\n",
    "        pool = [pool[i] for i in selected_indices]\n",
    "        pool_scores = [pool_scores[i] for i in selected_indices]\n",
    "\n",
    "        print(\"best score:\", pool_scores[-1])\n",
    "        epoch_scores.append(pool_scores[-1])\n",
    "        \n",
    "    plt.plot(range(len(epoch_scores)), epoch_scores)\n",
    "    plt.show()\n",
    "    first_best_policy = pool[-1]\n",
    "    s = env.reset()\n",
    "    total_reward = 0\n",
    "    step_num = 0\n",
    "    for ind in range(100):\n",
    "        action = first_best_policy[s]\n",
    "        s, reward, is_done, _ = env.step(action)\n",
    "        total_reward += reward\n",
    "        if (is_done):\n",
    "            break\n",
    "        step_num += 1 \n",
    "    file = file.append(pd.Series({\"epochs\":n_epochs, \"pool_size\":pool_size, \"cross\":n_crossovers, \"mut\":n_mutations, \n",
    "                                  \"score\":pool_scores[-1], \"isdone\":is_done, \"steps_num\":step_num, \"policy\":pool[-1]}), \n",
    "                               ignore_index=True )\n",
    "    file.head()\n",
    "    file.to_csv(\"results_other.csv\")"
   ]
  },
  {
   "cell_type": "code",
   "execution_count": null,
   "metadata": {
    "collapsed": true
   },
   "outputs": [],
   "source": [
    "print(\"hello\")"
   ]
  },
  {
   "cell_type": "code",
   "execution_count": 25,
   "metadata": {
    "collapsed": true
   },
   "outputs": [],
   "source": [
    "import matplotlib.pylab as plt\n",
    "import pandas as pd\n",
    "%matplotlib inline"
   ]
  },
  {
   "cell_type": "code",
   "execution_count": 26,
   "metadata": {
    "collapsed": true
   },
   "outputs": [],
   "source": [
    "file = pd.DataFrame(columns=[\"epochs\", \"pool_size\", \"cross\", \"mut\", \"score\", \"isdone\", \"steps_num\", \"policy\"])    "
   ]
  },
  {
   "cell_type": "code",
   "execution_count": 28,
   "metadata": {
    "scrolled": false
   },
   "outputs": [
    {
     "data": {
      "image/png": "[encoded data removed]",
      "text/plain": [
       "<matplotlib.figure.Figure at 0x26bbba22b00>"
      ]
     },
     "metadata": {},
     "output_type": "display_data"
    }
   ],
   "source": [
    "plt.plot(range(len(epoch_scores)), epoch_scores)\n",
    "plt.show()\n",
    "first_best_policy = pool[-1]\n",
    "s = env.reset()\n",
    "total_reward = 0\n",
    "step_num = 0\n",
    "for ind in range(100):\n",
    "    action = first_best_policy[s]\n",
    "    s, reward, is_done, _ = env.step(action)\n",
    "    total_reward += reward\n",
    "    if (is_done):\n",
    "        break\n",
    "    step_num += 1 \n",
    "file = file.append(pd.Series({\"epochs\":n_epochs, \"pool_size\":pool_size, \"cross\":n_crossovers, \"mut\":n_mutations, \n",
    "                              \"score\":pool_scores[-1], \"isdone\":is_done, \"steps_num\":step_num, \"policy\":pool[-1]}), \n",
    "                           ignore_index=True )\n",
    "file.head()\n",
    "file.to_csv(\"results.csv\")"
   ]
  },
  {
   "cell_type": "code",
   "execution_count": null,
   "metadata": {
    "collapsed": true
   },
   "outputs": [],
   "source": [
    "print(\"hello\")"
   ]
  },
  {
   "cell_type": "markdown",
   "metadata": {},
   "source": [
    "Ссылка на фидбек по семинару: [link](https://docs.google.com/forms/d/e/1FAIpQLSf-08wFrEke6zKlysETYiqAjH5CRXtOKut5Q77Tr5rdVId7zA/)"
   ]
  },
  {
   "cell_type": "code",
   "execution_count": 25,
   "metadata": {
    "scrolled": false
   },
   "outputs": [
    {
     "data": {
      "image/png": "[encoded data removed]",
      "text/plain": [
       "<matplotlib.figure.Figure at 0x1807314cb70>"
      ]
     },
     "metadata": {},
     "output_type": "display_data"
    }
   ],
   "source": [
    "plt.plot(range(len(epoch_scores)), epoch_scores)\n",
    "first_best_policy = pool[-1]"
   ]
  },
  {
   "cell_type": "code",
   "execution_count": null,
   "metadata": {
    "collapsed": true
   },
   "outputs": [],
   "source": []
  },
  {
   "cell_type": "code",
   "execution_count": 40,
   "metadata": {
    "collapsed": true
   },
   "outputs": [],
   "source": [
    "s = env.reset()\n",
    "total_reward = 0\n",
    "step_num = 0"
   ]
  },
  {
   "cell_type": "code",
   "execution_count": 41,
   "metadata": {
    "collapsed": true
   },
   "outputs": [],
   "source": [
    "for ind in range(100):\n",
    "    action = first_best_policy[s]\n",
    "    s, reward, is_done, _ = env.step(action)\n",
    "    total_reward += reward\n",
    "    if (is_done):\n",
    "        break\n",
    "    step_num += 1"
   ]
  },
  {
   "cell_type": "code",
   "execution_count": 42,
   "metadata": {},
   "outputs": [
    {
     "name": "stdout",
     "output_type": "stream",
     "text": [
      "False\n"
     ]
    }
   ],
   "source": [
    "print(is_done)"
   ]
  },
  {
   "cell_type": "code",
   "execution_count": null,
   "metadata": {
    "collapsed": true
   },
   "outputs": [],
   "source": []
  }
 ],
 "metadata": {
  "anaconda-cloud": {},
  "kernelspec": {
   "display_name": "Python 3",
   "language": "python",
   "name": "python3"
  },
  "language_info": {
   "codemirror_mode": {
    "name": "ipython",
    "version": 3
   },
   "file_extension": ".py",
   "mimetype": "text/x-python",
   "name": "python",
   "nbconvert_exporter": "python",
   "pygments_lexer": "ipython3",
   "version": "3.6.1"
  }
 },
 "nbformat": 4,
 "nbformat_minor": 1
}
